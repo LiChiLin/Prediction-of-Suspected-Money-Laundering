{
 "cells": [
  {
   "cell_type": "markdown",
   "id": "_0nfiQe3dBbH",
   "metadata": {
    "id": "_0nfiQe3dBbH"
   },
   "source": [
    "## 問題統整\n",
    "\n",
    "1. SAR (Suspicious Activity Report) 的比例不均\n",
    "    * 洗錢 (sar = 1) 有 234 筆資料\n",
    "    * 正常 (sar = 0) 有 23672 筆資料\n",
    "\n",
    "2. ccba 中為月資料，其他為日資料，如何轉換?"
   ]
  },
  {
   "cell_type": "markdown",
   "id": "BOsciqgrdBbS",
   "metadata": {
    "id": "BOsciqgrdBbS"
   },
   "source": [
    "### Load Data & Explanation"
   ]
  },
  {
   "cell_type": "code",
   "execution_count": 7,
   "id": "qy07BhFbdBbU",
   "metadata": {
    "id": "qy07BhFbdBbU"
   },
   "outputs": [],
   "source": [
    "import numpy as np\n",
    "import pandas as pd\n",
    "\n",
    "ccba_df = pd.read_csv(\"./public_train_x_ccba_full_hashed.csv\")\n",
    "cdtx_df = pd.read_csv(\"./public_train_x_cdtx0001_full_hashed.csv\")\n",
    "custinfo_df = pd.read_csv(\"./public_train_x_custinfo_full_hashed.csv\")\n",
    "dp_df = pd.read_csv(\"./public_train_x_dp_full_hashed.csv\")\n",
    "remit_df = pd.read_csv(\"./public_train_x_remit1_full_hashed.csv\")\n",
    "alert_time_0_364_df = pd.read_csv(\"./train_x_alert_date.csv\")\n",
    "alert_time_365_393_df = pd.read_csv(\"./public_x_alert_date.csv\")\n",
    "alert_time_df = pd.concat([alert_time_0_364_df, alert_time_365_393_df], axis=0)\n",
    "alert_sar_df = pd.read_csv(\"./train_y_answer.csv\")"
   ]
  },
  {
   "cell_type": "markdown",
   "id": "49b6b7f6",
   "metadata": {},
   "source": [
    "### Load new data"
   ]
  },
  {
   "cell_type": "code",
   "execution_count": 8,
   "id": "ca963505",
   "metadata": {},
   "outputs": [],
   "source": [
    "import numpy as np\n",
    "import pandas as pd\n",
    "\n",
    "private_ccba_df = pd.read_csv(\"./private_x_ccba_full_hashed.csv\")\n",
    "private_cdtx_df = pd.read_csv(\"./private_x_cdtx0001_full_hashed.csv\")\n",
    "private_custinfo_df = pd.read_csv(\"./private_x_custinfo_full_hashed.csv\")\n",
    "private_dp_df = pd.read_csv(\"./private_x_dp_full_hashed.csv\")\n",
    "private_remit_df = pd.read_csv(\"./private_x_remit1_full_hashed.csv\")\n",
    "alert_time_0_364_df = pd.read_csv(\"./train_x_alert_date.csv\")\n",
    "private_alert_time_365_393_df = pd.read_csv(\"./private_x_alert_date.csv\")\n",
    "alert_time_df = pd.concat([alert_time_0_364_df, alert_time_365_393_df], axis=0)\n",
    "alert_sar_df = pd.read_csv(\"./train_y_answer.csv\")\n",
    "private_y_answer = pd.read_csv(\"./24_ESun_public_y_answer.csv\")"
   ]
  },
  {
   "cell_type": "code",
   "execution_count": 9,
   "id": "ywmMyHUAf6rv",
   "metadata": {
    "colab": {
     "base_uri": "https://localhost:8080/"
    },
    "id": "ywmMyHUAf6rv",
    "outputId": "a37cff02-bc4c-4244-fb18-47d533956a8f"
   },
   "outputs": [
    {
     "name": "stdout",
     "output_type": "stream",
     "text": [
      "ccba: 4745\n",
      "cdtx: 3945\n",
      "custinfo: 7708\n",
      "dp: 6196\n",
      "remit: 1144\n"
     ]
    }
   ],
   "source": [
    "ccba_cust = set(ccba_df.cust_id.unique())\n",
    "cdtx_cust = set(cdtx_df.cust_id.unique())\n",
    "custinfo_cust = set(custinfo_df.cust_id.unique())\n",
    "dp_cust = set(dp_df.cust_id.unique())\n",
    "remit_cust = set(remit_df.cust_id.unique())\n",
    "print (f\"ccba: {len(ccba_cust)}\")\n",
    "print (f\"cdtx: {len(cdtx_cust)}\")\n",
    "print (f\"custinfo: {len(custinfo_cust)}\")\n",
    "print (f\"dp: {len(dp_cust)}\")\n",
    "print (f\"remit: {len(remit_cust)}\")"
   ]
  },
  {
   "cell_type": "code",
   "execution_count": 10,
   "id": "kFdaMmiVhqVu",
   "metadata": {
    "colab": {
     "base_uri": "https://localhost:8080/"
    },
    "id": "kFdaMmiVhqVu",
    "outputId": "20eb5401-6d65-4a25-a33b-0a1e8c1f4db4"
   },
   "outputs": [
    {
     "name": "stdout",
     "output_type": "stream",
     "text": [
      "intersection of custinfo & ccba: 4745\n",
      "intersection of custinfo & cdtx: 3945\n",
      "intersection of custinfo & dp: 6196\n",
      "intersection of custinfo & remit: 1144\n",
      "intersection of custinfo & dp & cdtx: 3718\n",
      "intersection of custinfo & dp & cdtx & remit: 734\n"
     ]
    }
   ],
   "source": [
    "# doc of set intersection: https://www.w3schools.com/python/ref_set_intersection.asp\n",
    "print(f\"intersection of custinfo & ccba: {len(custinfo_cust.intersection(ccba_cust))}\")\n",
    "print(f\"intersection of custinfo & cdtx: {len(custinfo_cust.intersection(cdtx_cust))}\")\n",
    "print(f\"intersection of custinfo & dp: {len(custinfo_cust.intersection(dp_cust))}\")\n",
    "print(f\"intersection of custinfo & remit: {len(custinfo_cust.intersection(remit_cust))}\")\n",
    "print(f\"intersection of custinfo & dp & cdtx: {len(custinfo_cust.intersection(cdtx_cust,dp_cust))}\")\n",
    "print(f\"intersection of custinfo & dp & cdtx & remit: {len(custinfo_cust.intersection(cdtx_cust,dp_cust,remit_cust))}\")"
   ]
  },
  {
   "cell_type": "code",
   "execution_count": 11,
   "id": "ScxaaZ3JgfAH",
   "metadata": {
    "colab": {
     "base_uri": "https://localhost:8080/"
    },
    "id": "ScxaaZ3JgfAH",
    "outputId": "401ac4ba-ece8-4e58-b0a6-8b79ec162d76"
   },
   "outputs": [
    {
     "name": "stdout",
     "output_type": "stream",
     "text": [
      "y: 7264\n"
     ]
    }
   ],
   "source": [
    "y_cust = set(custinfo_df[custinfo_df.alert_key.isin(alert_sar_df.alert_key)].cust_id.unique())\n",
    "print (f\"y: {len(y_cust)}\")"
   ]
  },
  {
   "cell_type": "code",
   "execution_count": 12,
   "id": "EKRrBldVmxoA",
   "metadata": {
    "colab": {
     "base_uri": "https://localhost:8080/"
    },
    "id": "EKRrBldVmxoA",
    "outputId": "ef2f4de3-9c39-4be1-bae0-faafdadffcb4"
   },
   "outputs": [
    {
     "data": {
      "text/plain": [
       "23906"
      ]
     },
     "execution_count": 12,
     "metadata": {},
     "output_type": "execute_result"
    }
   ],
   "source": [
    "len(alert_sar_df.alert_key.unique())"
   ]
  },
  {
   "cell_type": "code",
   "execution_count": 13,
   "id": "OJ_V1hcEjbHL",
   "metadata": {
    "colab": {
     "base_uri": "https://localhost:8080/"
    },
    "id": "OJ_V1hcEjbHL",
    "outputId": "8c5c8cb1-e572-4aa2-8fdf-ad042d2477b6"
   },
   "outputs": [
    {
     "name": "stdout",
     "output_type": "stream",
     "text": [
      "intersection of custinfo & y: 7264\n",
      "intersection of custinfo & y & dp: 5762 *\n",
      "intersection of custinfo & y & dp & cdtx: 3466\n",
      "intersection of custinfo & y & dp & cdtx & ccba : 3466\n",
      "intersection of custinfo & y & dp & cdtx & ccba & remit : 687\n"
     ]
    }
   ],
   "source": [
    "print(f\"intersection of custinfo & y: {len(custinfo_cust.intersection(y_cust))}\")\n",
    "print(f\"intersection of custinfo & y & dp: {len(custinfo_cust.intersection(y_cust,dp_cust))} *\")\n",
    "print(f\"intersection of custinfo & y & dp & cdtx: {len(custinfo_cust.intersection(y_cust,dp_cust,cdtx_cust))}\")\n",
    "print(f\"intersection of custinfo & y & dp & cdtx & ccba : {len(custinfo_cust.intersection(y_cust,dp_cust,cdtx_cust,cdtx_cust,ccba_cust))}\")\n",
    "print(f\"intersection of custinfo & y & dp & cdtx & ccba & remit : {len(custinfo_cust.intersection(y_cust,dp_cust,cdtx_cust,ccba_cust,remit_cust))}\")"
   ]
  },
  {
   "cell_type": "code",
   "execution_count": 14,
   "id": "UWEAtFp5sXQm",
   "metadata": {
    "colab": {
     "base_uri": "https://localhost:8080/"
    },
    "id": "UWEAtFp5sXQm",
    "outputId": "9d953354-05d7-476c-d965-fc790b7bc926"
   },
   "outputs": [
    {
     "name": "stdout",
     "output_type": "stream",
     "text": [
      "y: 735\n"
     ]
    }
   ],
   "source": [
    "public = pd.read_csv('./public_alert.csv')\n",
    "custinfo_df = pd.read_csv(\"./public_train_x_custinfo_full_hashed.csv\")\n",
    "public_key = list(public.alert_key)\n",
    "public_cust = set(custinfo_df[custinfo_df.alert_key.isin(public_key)].cust_id.unique())\n",
    "print (f\"y: {len(public_cust)}\")"
   ]
  },
  {
   "cell_type": "code",
   "execution_count": 15,
   "id": "zF2sGqlgvrao",
   "metadata": {
    "colab": {
     "base_uri": "https://localhost:8080/"
    },
    "id": "zF2sGqlgvrao",
    "outputId": "8ea85d38-3d72-4413-cd1c-a6f3c04746e3"
   },
   "outputs": [
    {
     "name": "stdout",
     "output_type": "stream",
     "text": [
      "intersection of custinfo & y: 735\n",
      "intersection of custinfo & y & dp: 706 *\n",
      "intersection of custinfo & y & dp & cdtx: 409\n",
      "intersection of custinfo & y & dp & cdtx & ccba : 409\n",
      "intersection of custinfo & y & dp & cdtx & ccba & remit : 104\n"
     ]
    }
   ],
   "source": [
    "print(f\"intersection of custinfo & y: {len(custinfo_cust.intersection(public_cust))}\")\n",
    "print(f\"intersection of custinfo & y & dp: {len(custinfo_cust.intersection(public_cust,dp_cust))} *\")\n",
    "print(f\"intersection of custinfo & y & dp & cdtx: {len(custinfo_cust.intersection(public_cust,dp_cust,cdtx_cust))}\")\n",
    "print(f\"intersection of custinfo & y & dp & cdtx & ccba : {len(custinfo_cust.intersection(public_cust,dp_cust,cdtx_cust,cdtx_cust,ccba_cust))}\")\n",
    "print(f\"intersection of custinfo & y & dp & cdtx & ccba & remit : {len(custinfo_cust.intersection(public_cust,dp_cust,cdtx_cust,ccba_cust,remit_cust))}\")"
   ]
  },
  {
   "cell_type": "code",
   "execution_count": 16,
   "id": "FIMBb98ftdA0",
   "metadata": {
    "colab": {
     "base_uri": "https://localhost:8080/"
    },
    "id": "FIMBb98ftdA0",
    "outputId": "cc9ac4c9-af85-435e-fa6b-7ff7e17527ab",
    "scrolled": true
   },
   "outputs": [
    {
     "data": {
      "text/plain": [
       "(1845, 5)"
      ]
     },
     "execution_count": 16,
     "metadata": {},
     "output_type": "execute_result"
    }
   ],
   "source": [
    "dt_df_public = custinfo_df.set_index('cust_id')\n",
    "X_public = dt_df_public[dt_df_public.alert_key.isin(public_key)]\n",
    "X_public.shape"
   ]
  },
  {
   "cell_type": "markdown",
   "id": "R169Cbjcpxsw",
   "metadata": {
    "id": "R169Cbjcpxsw"
   },
   "source": []
  },
  {
   "cell_type": "markdown",
   "id": "e5699393",
   "metadata": {},
   "source": [
    "### Team 11 Progress"
   ]
  },
  {
   "cell_type": "markdown",
   "id": "86baf027",
   "metadata": {},
   "source": [
    "#### Dataset Preprocessing\n",
    "Merge custinfo,\n",
    "ccba_cusm,\n",
    "cdtx_amt,\n",
    "dp_tx_amt,\n",
    "remit_trade_amount_usd."
   ]
  },
  {
   "cell_type": "code",
   "execution_count": 17,
   "id": "389fa053",
   "metadata": {},
   "outputs": [],
   "source": [
    "### 待續\n",
    "custinfo_df_ver2 = custinfo_df.copy()\n",
    "private_custinfo_df_ver2 = private_custinfo_df.copy()"
   ]
  },
  {
   "cell_type": "markdown",
   "id": "5e76af47",
   "metadata": {},
   "source": [
    "#### Data Clean"
   ]
  },
  {
   "cell_type": "code",
   "execution_count": 18,
   "id": "418afc5a",
   "metadata": {
    "scrolled": false
   },
   "outputs": [
    {
     "name": "stdout",
     "output_type": "stream",
     "text": [
      "True\n",
      "False\n",
      "       alert_key                                            cust_id  \\\n",
      "0         352249  82595ac69158ae08d34156784bdec0d9e2ca5b242b6d2a...   \n",
      "1         352253  b212d14cb35676926682b2cf849e295d948888f556c07e...   \n",
      "2         352254  e5b0002791c7852644a2730abeaa893cdf14a072ef7812...   \n",
      "3         352280  74214c478dc6519fbefe4bc31693865bdcd698ab974b64...   \n",
      "4         352282  0340e7611f0d82c3cb87e6194fa14bb2ccf8afbf1b3418...   \n",
      "...          ...                                                ...   \n",
      "25746     352123  b600c0720096c241f5aec16b096c6a353492eee8a5855a...   \n",
      "25747     352124  06c5ea5ccda4dfd8839c0dec8646fb3071d2c02883ef8a...   \n",
      "25748     352125  0c2dc5fedc3689abf5ff4be14fe8fea8d23d22068297c2...   \n",
      "25749     352128  ffe5f2bd86ecfd7d0a0f4c4b76dd5c312649be95eb8b42...   \n",
      "25750     352132  c49b33d1fde790ec03584672903f296e486615adfdc989...   \n",
      "\n",
      "       risk_rank  occupation_code  total_asset  AGE  \n",
      "0              1             0.95    1465816.0    7  \n",
      "1              1             0.10      98177.0    2  \n",
      "2              1             0.95    2052922.0    7  \n",
      "3              3             0.75     201906.0    5  \n",
      "4              1             0.60       7450.0    5  \n",
      "...          ...              ...          ...  ...  \n",
      "25746          1             0.85      12207.0    2  \n",
      "25747          1             0.85     259985.0    4  \n",
      "25748          3             0.95     928963.0    3  \n",
      "25749          3             0.95      21647.0    4  \n",
      "25750          1             0.95    3218731.0    3  \n",
      "\n",
      "[25751 rows x 6 columns]\n",
      "False\n",
      "False\n",
      "      alert_key                                            cust_id  risk_rank  \\\n",
      "0        365126  95a6c0fd787a7f03473b58897e0d696d4ba27c61003f92...          3   \n",
      "1        365163  7ad6b2889c6d0b906d73a5012f429a831f2d6f996bba26...          1   \n",
      "2        365166  252117094a387944f2d8aea76ca95fd927064bdaf72e1c...          1   \n",
      "3        365167  0585831d57313ede3fa11841dc488df3d5080e7b03c49a...          1   \n",
      "4        365168  9b91812ca1771f5c7ead09f8be19c6a373f03be9a1fceb...          1   \n",
      "...         ...                                                ...        ...   \n",
      "2000     378414  8219a35b62898b6da983fb2a15c8b714614c6bbb69efd6...          3   \n",
      "2001     378419  4270ec5f17593a85ed237cb562788bcac84bae26bb2654...          1   \n",
      "2002     378426  4e61df8213c8d5614703c97f909dedaeb3214a3e8eb8f7...          1   \n",
      "2003     378427  937525790c682522a07fe0ad1067826c1ef0c21cf76ed8...          1   \n",
      "2004     378428  33e5c111ee0e4e8a73181c2738402bc465222ff02b8ed4...          1   \n",
      "\n",
      "      occupation_code  total_asset  AGE  \n",
      "0            0.578947     342570.0    3  \n",
      "1            0.947368          0.0    4  \n",
      "2            0.947368     789841.0    6  \n",
      "3            0.842105    2944611.0    6  \n",
      "4            0.157895       9419.0    4  \n",
      "...               ...          ...  ...  \n",
      "2000         0.631579        304.0    2  \n",
      "2001         0.421053      61516.0    3  \n",
      "2002         0.736842    2942898.0    3  \n",
      "2003         0.947368      46482.0    2  \n",
      "2004         0.947368       9138.0    2  \n",
      "\n",
      "[2005 rows x 6 columns]\n"
     ]
    }
   ],
   "source": [
    "import statistics\n",
    "from sklearn import preprocessing\n",
    "from sklearn.preprocessing import OneHotEncoder\n",
    "\n",
    "def categorical_fillna(df):\n",
    "    mode = statistics.mode(df)\n",
    "    df = df.fillna(mode)\n",
    "    return df\n",
    "\n",
    "def numerical_fillna(df):\n",
    "    median = statistics.median(df)\n",
    "    df = df.fillna(median)\n",
    "    return df\n",
    "\n",
    "def numerical_normalize(df):\n",
    "    x = df.values \n",
    "    x = x.reshape(-1,1)\n",
    "    min_max_scaler = preprocessing.MinMaxScaler()\n",
    "    x_scaled = min_max_scaler.fit_transform(x)\n",
    "    normalized_df = pd.DataFrame(x_scaled)\n",
    "    return normalized_df\n",
    "\n",
    "def numerical_outlier(df):\n",
    "    Q1 = df.quantile(0.25)\n",
    "    Q3 = df.quantile(0.75)\n",
    "    IQR = Q3 - Q1    #IQR is interquartile range. \n",
    "    filter = (df >= Q1 - 1.5 * IQR) & (df <= Q3 + 1.5 *IQR)  \n",
    "    wtoutlier_df = df.loc[filter]\n",
    "    return wtoutlier_df\n",
    "\n",
    "\n",
    "print(custinfo_df_ver2[\"occupation_code\"].isnull().values.any())\n",
    "custinfo_df_ver2[\"occupation_code\"] = numerical_fillna(custinfo_df_ver2[\"occupation_code\"])\n",
    "custinfo_df_ver2[\"occupation_code\"] = numerical_normalize(custinfo_df_ver2[\"occupation_code\"])\n",
    "print(custinfo_df_ver2[\"occupation_code\"].isnull().values.any())\n",
    "print(custinfo_df_ver2)\n",
    "\n",
    "print(private_custinfo_df_ver2[\"occupation_code\"].isnull().values.any())\n",
    "private_custinfo_df_ver2[\"occupation_code\"] = numerical_fillna(private_custinfo_df_ver2[\"occupation_code\"])\n",
    "private_custinfo_df_ver2[\"occupation_code\"] = numerical_normalize(private_custinfo_df_ver2[\"occupation_code\"])\n",
    "print(private_custinfo_df_ver2[\"occupation_code\"].isnull().values.any())\n",
    "print(private_custinfo_df_ver2)\n",
    "\n",
    "# custinfo_df_ver2[\"occupation_code\"] = categorical_fillna(custinfo_df_ver2[\"occupation_code\"])\n",
    "# onehotencoder = OneHotEncoder()\n",
    "# data_str_ohe=onehotencoder.fit_transform(np.array(custinfo_df_ver2[\"occupation_code\"]).reshape(-1,1)).toarray()\n",
    "# custinfo_df_ver2[\"occupation_code\"] = data_str_ohe"
   ]
  },
  {
   "cell_type": "code",
   "execution_count": 19,
   "id": "56bd5b83",
   "metadata": {},
   "outputs": [],
   "source": [
    "## public y and private y concat\n",
    "#\n",
    "alert_sar_df = pd.concat([alert_sar_df, private_y_answer], ignore_index=True, sort=False)\n",
    "custinfo_df_ver2 = pd.concat([custinfo_df_ver2, private_custinfo_df_ver2], ignore_index=True, sort=False)"
   ]
  },
  {
   "cell_type": "code",
   "execution_count": 20,
   "id": "c73e9d24",
   "metadata": {},
   "outputs": [
    {
     "data": {
      "text/html": [
       "<div>\n",
       "<style scoped>\n",
       "    .dataframe tbody tr th:only-of-type {\n",
       "        vertical-align: middle;\n",
       "    }\n",
       "\n",
       "    .dataframe tbody tr th {\n",
       "        vertical-align: top;\n",
       "    }\n",
       "\n",
       "    .dataframe thead th {\n",
       "        text-align: right;\n",
       "    }\n",
       "</style>\n",
       "<table border=\"1\" class=\"dataframe\">\n",
       "  <thead>\n",
       "    <tr style=\"text-align: right;\">\n",
       "      <th></th>\n",
       "      <th>cust_id</th>\n",
       "      <th>risk_rank</th>\n",
       "      <th>occupation_code</th>\n",
       "      <th>total_asset</th>\n",
       "      <th>AGE</th>\n",
       "      <th>alert_key</th>\n",
       "      <th>sar_flag</th>\n",
       "    </tr>\n",
       "  </thead>\n",
       "  <tbody>\n",
       "    <tr>\n",
       "      <th>0</th>\n",
       "      <td>82595ac69158ae08d34156784bdec0d9e2ca5b242b6d2a...</td>\n",
       "      <td>1</td>\n",
       "      <td>0.95</td>\n",
       "      <td>1465816.0</td>\n",
       "      <td>7</td>\n",
       "      <td>352249</td>\n",
       "      <td>0</td>\n",
       "    </tr>\n",
       "    <tr>\n",
       "      <th>1</th>\n",
       "      <td>b212d14cb35676926682b2cf849e295d948888f556c07e...</td>\n",
       "      <td>1</td>\n",
       "      <td>0.10</td>\n",
       "      <td>98177.0</td>\n",
       "      <td>2</td>\n",
       "      <td>352253</td>\n",
       "      <td>0</td>\n",
       "    </tr>\n",
       "    <tr>\n",
       "      <th>2</th>\n",
       "      <td>e5b0002791c7852644a2730abeaa893cdf14a072ef7812...</td>\n",
       "      <td>1</td>\n",
       "      <td>0.95</td>\n",
       "      <td>2052922.0</td>\n",
       "      <td>7</td>\n",
       "      <td>352254</td>\n",
       "      <td>0</td>\n",
       "    </tr>\n",
       "    <tr>\n",
       "      <th>3</th>\n",
       "      <td>74214c478dc6519fbefe4bc31693865bdcd698ab974b64...</td>\n",
       "      <td>3</td>\n",
       "      <td>0.75</td>\n",
       "      <td>201906.0</td>\n",
       "      <td>5</td>\n",
       "      <td>352280</td>\n",
       "      <td>0</td>\n",
       "    </tr>\n",
       "    <tr>\n",
       "      <th>4</th>\n",
       "      <td>0340e7611f0d82c3cb87e6194fa14bb2ccf8afbf1b3418...</td>\n",
       "      <td>1</td>\n",
       "      <td>0.60</td>\n",
       "      <td>7450.0</td>\n",
       "      <td>5</td>\n",
       "      <td>352282</td>\n",
       "      <td>0</td>\n",
       "    </tr>\n",
       "    <tr>\n",
       "      <th>...</th>\n",
       "      <td>...</td>\n",
       "      <td>...</td>\n",
       "      <td>...</td>\n",
       "      <td>...</td>\n",
       "      <td>...</td>\n",
       "      <td>...</td>\n",
       "      <td>...</td>\n",
       "    </tr>\n",
       "    <tr>\n",
       "      <th>25746</th>\n",
       "      <td>b600c0720096c241f5aec16b096c6a353492eee8a5855a...</td>\n",
       "      <td>1</td>\n",
       "      <td>0.85</td>\n",
       "      <td>12207.0</td>\n",
       "      <td>2</td>\n",
       "      <td>352123</td>\n",
       "      <td>0</td>\n",
       "    </tr>\n",
       "    <tr>\n",
       "      <th>25747</th>\n",
       "      <td>06c5ea5ccda4dfd8839c0dec8646fb3071d2c02883ef8a...</td>\n",
       "      <td>1</td>\n",
       "      <td>0.85</td>\n",
       "      <td>259985.0</td>\n",
       "      <td>4</td>\n",
       "      <td>352124</td>\n",
       "      <td>0</td>\n",
       "    </tr>\n",
       "    <tr>\n",
       "      <th>25748</th>\n",
       "      <td>0c2dc5fedc3689abf5ff4be14fe8fea8d23d22068297c2...</td>\n",
       "      <td>3</td>\n",
       "      <td>0.95</td>\n",
       "      <td>928963.0</td>\n",
       "      <td>3</td>\n",
       "      <td>352125</td>\n",
       "      <td>0</td>\n",
       "    </tr>\n",
       "    <tr>\n",
       "      <th>25749</th>\n",
       "      <td>ffe5f2bd86ecfd7d0a0f4c4b76dd5c312649be95eb8b42...</td>\n",
       "      <td>3</td>\n",
       "      <td>0.95</td>\n",
       "      <td>21647.0</td>\n",
       "      <td>4</td>\n",
       "      <td>352128</td>\n",
       "      <td>0</td>\n",
       "    </tr>\n",
       "    <tr>\n",
       "      <th>25750</th>\n",
       "      <td>c49b33d1fde790ec03584672903f296e486615adfdc989...</td>\n",
       "      <td>1</td>\n",
       "      <td>0.95</td>\n",
       "      <td>3218731.0</td>\n",
       "      <td>3</td>\n",
       "      <td>352132</td>\n",
       "      <td>0</td>\n",
       "    </tr>\n",
       "  </tbody>\n",
       "</table>\n",
       "<p>25529 rows × 7 columns</p>\n",
       "</div>"
      ],
      "text/plain": [
       "                                                 cust_id  risk_rank  \\\n",
       "0      82595ac69158ae08d34156784bdec0d9e2ca5b242b6d2a...          1   \n",
       "1      b212d14cb35676926682b2cf849e295d948888f556c07e...          1   \n",
       "2      e5b0002791c7852644a2730abeaa893cdf14a072ef7812...          1   \n",
       "3      74214c478dc6519fbefe4bc31693865bdcd698ab974b64...          3   \n",
       "4      0340e7611f0d82c3cb87e6194fa14bb2ccf8afbf1b3418...          1   \n",
       "...                                                  ...        ...   \n",
       "25746  b600c0720096c241f5aec16b096c6a353492eee8a5855a...          1   \n",
       "25747  06c5ea5ccda4dfd8839c0dec8646fb3071d2c02883ef8a...          1   \n",
       "25748  0c2dc5fedc3689abf5ff4be14fe8fea8d23d22068297c2...          3   \n",
       "25749  ffe5f2bd86ecfd7d0a0f4c4b76dd5c312649be95eb8b42...          3   \n",
       "25750  c49b33d1fde790ec03584672903f296e486615adfdc989...          1   \n",
       "\n",
       "       occupation_code  total_asset  AGE  alert_key  sar_flag  \n",
       "0                 0.95    1465816.0    7     352249         0  \n",
       "1                 0.10      98177.0    2     352253         0  \n",
       "2                 0.95    2052922.0    7     352254         0  \n",
       "3                 0.75     201906.0    5     352280         0  \n",
       "4                 0.60       7450.0    5     352282         0  \n",
       "...                ...          ...  ...        ...       ...  \n",
       "25746             0.85      12207.0    2     352123         0  \n",
       "25747             0.85     259985.0    4     352124         0  \n",
       "25748             0.95     928963.0    3     352125         0  \n",
       "25749             0.95      21647.0    4     352128         0  \n",
       "25750             0.95    3218731.0    3     352132         0  \n",
       "\n",
       "[25529 rows x 7 columns]"
      ]
     },
     "execution_count": 20,
     "metadata": {},
     "output_type": "execute_result"
    }
   ],
   "source": [
    "customer_df = custinfo_df_ver2.merge(alert_sar_df, how='inner',on='alert_key')\n",
    "customer_df = customer_df[[\"cust_id\", \"risk_rank\", \"occupation_code\", \"total_asset\", \"AGE\", \"alert_key\", \"sar_flag\"]]\n",
    "#drop outlier\n",
    "customer_df[\"occupation_code\"] = numerical_outlier(customer_df[\"occupation_code\"])\n",
    "\n",
    "customer_df = customer_df.dropna()\n",
    "customer_df"
   ]
  },
  {
   "cell_type": "code",
   "execution_count": 21,
   "id": "75c36d19",
   "metadata": {
    "scrolled": true
   },
   "outputs": [],
   "source": [
    "# customer_df = custinfo_df_ver2.merge(alert_sar_df, how='inner',on='alert_key')\n",
    "# customer_df = customer_df[[\"cust_id\", \"risk_rank\", \"occupation_code\", \"total_asset\", \"AGE\", \"alert_key\", \"sar_flag\"]]\n",
    "# #drop outlier\n",
    "# customer_df[\"occupation_code\"] = numerical_outlier(customer_df[\"occupation_code\"])\n",
    "\n",
    "# customer_df = customer_df.dropna()\n",
    "# customer_df"
   ]
  },
  {
   "cell_type": "code",
   "execution_count": 22,
   "id": "f43ada41",
   "metadata": {},
   "outputs": [
    {
     "data": {
      "text/html": [
       "<div>\n",
       "<style scoped>\n",
       "    .dataframe tbody tr th:only-of-type {\n",
       "        vertical-align: middle;\n",
       "    }\n",
       "\n",
       "    .dataframe tbody tr th {\n",
       "        vertical-align: top;\n",
       "    }\n",
       "\n",
       "    .dataframe thead th {\n",
       "        text-align: right;\n",
       "    }\n",
       "</style>\n",
       "<table border=\"1\" class=\"dataframe\">\n",
       "  <thead>\n",
       "    <tr style=\"text-align: right;\">\n",
       "      <th></th>\n",
       "      <th>cust_id</th>\n",
       "      <th>risk_rank</th>\n",
       "      <th>occupation_code</th>\n",
       "      <th>total_asset</th>\n",
       "      <th>AGE</th>\n",
       "      <th>alert_key</th>\n",
       "      <th>sar_flag</th>\n",
       "    </tr>\n",
       "  </thead>\n",
       "  <tbody>\n",
       "    <tr>\n",
       "      <th>0</th>\n",
       "      <td>82595ac69158ae08d34156784bdec0d9e2ca5b242b6d2a...</td>\n",
       "      <td>1</td>\n",
       "      <td>0.95</td>\n",
       "      <td>1465816.0</td>\n",
       "      <td>7</td>\n",
       "      <td>352249</td>\n",
       "      <td>0</td>\n",
       "    </tr>\n",
       "    <tr>\n",
       "      <th>1</th>\n",
       "      <td>b212d14cb35676926682b2cf849e295d948888f556c07e...</td>\n",
       "      <td>1</td>\n",
       "      <td>0.10</td>\n",
       "      <td>98177.0</td>\n",
       "      <td>2</td>\n",
       "      <td>352253</td>\n",
       "      <td>0</td>\n",
       "    </tr>\n",
       "    <tr>\n",
       "      <th>2</th>\n",
       "      <td>e5b0002791c7852644a2730abeaa893cdf14a072ef7812...</td>\n",
       "      <td>1</td>\n",
       "      <td>0.95</td>\n",
       "      <td>2052922.0</td>\n",
       "      <td>7</td>\n",
       "      <td>352254</td>\n",
       "      <td>0</td>\n",
       "    </tr>\n",
       "    <tr>\n",
       "      <th>3</th>\n",
       "      <td>74214c478dc6519fbefe4bc31693865bdcd698ab974b64...</td>\n",
       "      <td>3</td>\n",
       "      <td>0.75</td>\n",
       "      <td>201906.0</td>\n",
       "      <td>5</td>\n",
       "      <td>352280</td>\n",
       "      <td>0</td>\n",
       "    </tr>\n",
       "    <tr>\n",
       "      <th>4</th>\n",
       "      <td>0340e7611f0d82c3cb87e6194fa14bb2ccf8afbf1b3418...</td>\n",
       "      <td>1</td>\n",
       "      <td>0.60</td>\n",
       "      <td>7450.0</td>\n",
       "      <td>5</td>\n",
       "      <td>352282</td>\n",
       "      <td>0</td>\n",
       "    </tr>\n",
       "    <tr>\n",
       "      <th>...</th>\n",
       "      <td>...</td>\n",
       "      <td>...</td>\n",
       "      <td>...</td>\n",
       "      <td>...</td>\n",
       "      <td>...</td>\n",
       "      <td>...</td>\n",
       "      <td>...</td>\n",
       "    </tr>\n",
       "    <tr>\n",
       "      <th>25016</th>\n",
       "      <td>9efb72c106f786e5a99a8c2b245864c831cf008dd2e9ee...</td>\n",
       "      <td>1</td>\n",
       "      <td>0.65</td>\n",
       "      <td>310.0</td>\n",
       "      <td>3</td>\n",
       "      <td>346021</td>\n",
       "      <td>1</td>\n",
       "    </tr>\n",
       "    <tr>\n",
       "      <th>25162</th>\n",
       "      <td>a21eeb4acc2c9c128403c88c3f3e248bcf20067059d33b...</td>\n",
       "      <td>2</td>\n",
       "      <td>0.55</td>\n",
       "      <td>258763.0</td>\n",
       "      <td>3</td>\n",
       "      <td>347051</td>\n",
       "      <td>1</td>\n",
       "    </tr>\n",
       "    <tr>\n",
       "      <th>25259</th>\n",
       "      <td>9a1d940986fce29cd6b54d5a5fe076a5aa8026161f5627...</td>\n",
       "      <td>1</td>\n",
       "      <td>0.85</td>\n",
       "      <td>337845.0</td>\n",
       "      <td>5</td>\n",
       "      <td>347894</td>\n",
       "      <td>1</td>\n",
       "    </tr>\n",
       "    <tr>\n",
       "      <th>25364</th>\n",
       "      <td>2f4011af820fb0a91313221c6cc2b649495a5cb05aed82...</td>\n",
       "      <td>1</td>\n",
       "      <td>0.95</td>\n",
       "      <td>2439013.0</td>\n",
       "      <td>2</td>\n",
       "      <td>348724</td>\n",
       "      <td>1</td>\n",
       "    </tr>\n",
       "    <tr>\n",
       "      <th>25673</th>\n",
       "      <td>3e2ddbf33f8b830778b39661a2ff547bee79a635b219e6...</td>\n",
       "      <td>1</td>\n",
       "      <td>0.85</td>\n",
       "      <td>141155.0</td>\n",
       "      <td>2</td>\n",
       "      <td>351367</td>\n",
       "      <td>1</td>\n",
       "    </tr>\n",
       "  </tbody>\n",
       "</table>\n",
       "<p>48729 rows × 7 columns</p>\n",
       "</div>"
      ],
      "text/plain": [
       "                                                 cust_id  risk_rank  \\\n",
       "0      82595ac69158ae08d34156784bdec0d9e2ca5b242b6d2a...          1   \n",
       "1      b212d14cb35676926682b2cf849e295d948888f556c07e...          1   \n",
       "2      e5b0002791c7852644a2730abeaa893cdf14a072ef7812...          1   \n",
       "3      74214c478dc6519fbefe4bc31693865bdcd698ab974b64...          3   \n",
       "4      0340e7611f0d82c3cb87e6194fa14bb2ccf8afbf1b3418...          1   \n",
       "...                                                  ...        ...   \n",
       "25016  9efb72c106f786e5a99a8c2b245864c831cf008dd2e9ee...          1   \n",
       "25162  a21eeb4acc2c9c128403c88c3f3e248bcf20067059d33b...          2   \n",
       "25259  9a1d940986fce29cd6b54d5a5fe076a5aa8026161f5627...          1   \n",
       "25364  2f4011af820fb0a91313221c6cc2b649495a5cb05aed82...          1   \n",
       "25673  3e2ddbf33f8b830778b39661a2ff547bee79a635b219e6...          1   \n",
       "\n",
       "       occupation_code  total_asset  AGE  alert_key  sar_flag  \n",
       "0                 0.95    1465816.0    7     352249         0  \n",
       "1                 0.10      98177.0    2     352253         0  \n",
       "2                 0.95    2052922.0    7     352254         0  \n",
       "3                 0.75     201906.0    5     352280         0  \n",
       "4                 0.60       7450.0    5     352282         0  \n",
       "...                ...          ...  ...        ...       ...  \n",
       "25016             0.65        310.0    3     346021         1  \n",
       "25162             0.55     258763.0    3     347051         1  \n",
       "25259             0.85     337845.0    5     347894         1  \n",
       "25364             0.95    2439013.0    2     348724         1  \n",
       "25673             0.85     141155.0    2     351367         1  \n",
       "\n",
       "[48729 rows x 7 columns]"
      ]
     },
     "execution_count": 22,
     "metadata": {},
     "output_type": "execute_result"
    }
   ],
   "source": [
    "## address the imbalance problem\n",
    "sar = customer_df[customer_df[\"sar_flag\"]==1]\n",
    "for i in range(100):\n",
    "    customer_df = customer_df.append(sar)\n",
    "customer_df"
   ]
  },
  {
   "cell_type": "markdown",
   "id": "d810abe4",
   "metadata": {},
   "source": [
    "#### XGBoost"
   ]
  },
  {
   "cell_type": "code",
   "execution_count": 23,
   "id": "b177b3c1",
   "metadata": {
    "scrolled": true
   },
   "outputs": [
    {
     "name": "stdout",
     "output_type": "stream",
     "text": [
      "precision:  0.7638389031705227\n",
      "recall:  0.9383157894736842\n",
      "f1 score:  0.8421350968351441\n"
     ]
    },
    {
     "data": {
      "text/plain": [
       "<sklearn.metrics._plot.confusion_matrix.ConfusionMatrixDisplay at 0x122007eea00>"
      ]
     },
     "execution_count": 23,
     "metadata": {},
     "output_type": "execute_result"
    },
    {
     "data": {
      "image/png": "[encoded data removed]",
      "text/plain": [
       "<Figure size 432x288 with 2 Axes>"
      ]
     },
     "metadata": {
      "needs_background": "light"
     },
     "output_type": "display_data"
    }
   ],
   "source": [
    "\n",
    "from xgboost import XGBClassifier\n",
    "from sklearn.model_selection import train_test_split\n",
    "from sklearn.metrics import accuracy_score, precision_score, recall_score, f1_score, confusion_matrix \n",
    "from sklearn.metrics import ConfusionMatrixDisplay\n",
    "\n",
    "dt_df = customer_df.copy()\n",
    "X = dt_df[[\"risk_rank\", \"occupation_code\", \"total_asset\", \"AGE\"]]\n",
    "y = dt_df[\"sar_flag\"]\n",
    "# y = y.astype(int)\n",
    "\n",
    "X_train, X_test, y_train, y_test = train_test_split(X, y, test_size = 0.2)\n",
    "\n",
    "#Xgboost\n",
    "xgb = XGBClassifier(n_estimators=500, learning_rate= 0.01,\n",
    "                        objective='binary:logistic',\n",
    "                          booster='gbtree',\n",
    "                          eval_metric='auc',\n",
    "                          tree_method='hist',\n",
    "                          grow_policy='lossguide',\n",
    "                          use_label_encoder=False)\n",
    "\n",
    "xgb.fit(X_train, y_train)\n",
    "\n",
    "y_predict = xgb.predict(X_test)\n",
    "\n",
    "print(\"precision: \", precision_score(y_test, y_predict))\n",
    "print(\"recall: \", recall_score(y_test, y_predict))\n",
    "print(\"f1 score: \", f1_score(y_test, y_predict))\n",
    "\n",
    "cm = confusion_matrix(y_test, y_predict)\n",
    "display = ConfusionMatrixDisplay(confusion_matrix = cm)\n",
    "display.plot()\n"
   ]
  },
  {
   "cell_type": "code",
   "execution_count": 28,
   "id": "1ec38560",
   "metadata": {},
   "outputs": [
    {
     "name": "stdout",
     "output_type": "stream",
     "text": [
      "[LightGBM] [Warning] feature_fraction is set=0.8, colsample_bytree=1.0 will be ignored. Current value: feature_fraction=0.8\n",
      "[LightGBM] [Warning] bagging_fraction is set=0.8, subsample=1.0 will be ignored. Current value: bagging_fraction=0.8\n",
      "precision:  0.800105392587388\n",
      "recall:  0.9589473684210527\n",
      "f1 score:  0.8723546873503782\n"
     ]
    },
    {
     "data": {
      "text/plain": [
       "<sklearn.metrics._plot.confusion_matrix.ConfusionMatrixDisplay at 0x1220819cee0>"
      ]
     },
     "execution_count": 28,
     "metadata": {},
     "output_type": "execute_result"
    },
    {
     "data": {
      "image/png": "[encoded data removed]",
      "text/plain": [
       "<Figure size 432x288 with 2 Axes>"
      ]
     },
     "metadata": {
      "needs_background": "light"
     },
     "output_type": "display_data"
    }
   ],
   "source": [
    "import lightgbm as lgb\n",
    "from lightgbm import LGBMClassifier\n",
    "\n",
    "# def LGBM():\n",
    "#     param_grid={\n",
    "#     'num_leaves':[15, 20, 25, 30, 35, 40, 45],\n",
    "#     'lambda_l1': [0.00001, 0.0001, 0.001, 0.1],\n",
    "#     'lambda_l2': [0.00001, 0.0001, 0.001, 0.1],\n",
    "#     }\n",
    "#     gbm = LGBMClassifier(boosting_type='gbdt', objective='binary', num_leaves=30, n_estimators =50,\n",
    "#                             learning_rate=0.01, max_depth= 5,\n",
    "#                              bagging_fraction=0.8, feature_fraction=0.8, reg_lambda=0.9, n_jobs =1)\n",
    "#     tscv = TimeSeriesSplit(n_splits= 5)    \n",
    "#     gsearch  =GridSearchCV(estimator = gbm, param_grid= param_grid, cv=tscv,verbose=20)\n",
    "#     return gsearch\n",
    "\n",
    "\n",
    "gbm = LGBMClassifier(boosting_type='gbdt', objective='binary', num_leaves=30, n_estimators =50,\n",
    "                                learning_rate=0.1, max_depth= 15, reg_alpha=0.001, reg_lambda=0.001,\n",
    "                                metric='rmse', bagging_fraction=0.8, feature_fraction=0.8, n_jobs =1)\n",
    "gbm.fit(X_train, y_train)\n",
    "\n",
    "y_predict = gbm.predict(X_test)\n",
    "\n",
    "print(\"precision: \", precision_score(y_test, y_predict))\n",
    "print(\"recall: \", recall_score(y_test, y_predict))\n",
    "print(\"f1 score: \", f1_score(y_test, y_predict))\n",
    "\n",
    "cm = confusion_matrix(y_test, y_predict)\n",
    "display = ConfusionMatrixDisplay(confusion_matrix = cm)\n",
    "display.plot()"
   ]
  },
  {
   "cell_type": "code",
   "execution_count": 40,
   "id": "fe54d86a",
   "metadata": {},
   "outputs": [
    {
     "name": "stdout",
     "output_type": "stream",
     "text": [
      "precision:  0.7931702165111776\n",
      "recall:  0.9486315789473684\n",
      "f1 score:  0.8639631866551626\n"
     ]
    },
    {
     "data": {
      "text/plain": [
       "<sklearn.metrics._plot.confusion_matrix.ConfusionMatrixDisplay at 0x122085bf1c0>"
      ]
     },
     "execution_count": 40,
     "metadata": {},
     "output_type": "execute_result"
    },
    {
     "data": {
      "image/png": "[encoded data removed]",
      "text/plain": [
       "<Figure size 432x288 with 2 Axes>"
      ]
     },
     "metadata": {
      "needs_background": "light"
     },
     "output_type": "display_data"
    }
   ],
   "source": [
    "from sklearn.ensemble import RandomForestClassifier\n",
    "\n",
    "rdm = RandomForestClassifier(max_depth=10, random_state=0)\n",
    "\n",
    "rdm.fit(X_train, y_train)\n",
    "\n",
    "y_predict = rdm.predict(X_test)\n",
    "\n",
    "print(\"precision: \", precision_score(y_test, y_predict))\n",
    "print(\"recall: \", recall_score(y_test, y_predict))\n",
    "print(\"f1 score: \", f1_score(y_test, y_predict))\n",
    "\n",
    "cm = confusion_matrix(y_test, y_predict)\n",
    "display = ConfusionMatrixDisplay(confusion_matrix = cm)\n",
    "display.plot()\n",
    "\n",
    "# X, y = make_classification(n_samples=1000, n_features=4,\n",
    "#                            n_informative=2, n_redundant=0,\n",
    "#                             random_state=0, shuffle=False)\n",
    "\n",
    "\n"
   ]
  },
  {
   "cell_type": "markdown",
   "id": "d42e0ad6",
   "metadata": {
    "id": "scLwkv4_g3V0"
   },
   "source": [
    "#### make public prediction in Team 11 Test"
   ]
  },
  {
   "cell_type": "code",
   "execution_count": 29,
   "id": "f3fc2edd",
   "metadata": {},
   "outputs": [
    {
     "data": {
      "text/plain": [
       "(1845, 5)"
      ]
     },
     "execution_count": 29,
     "metadata": {},
     "output_type": "execute_result"
    }
   ],
   "source": [
    "dt_df_public = custinfo_df.set_index('cust_id')\n",
    "X_public = dt_df_public[dt_df_public.alert_key.isin(public_key)]\n",
    "X_public.shape"
   ]
  },
  {
   "cell_type": "code",
   "execution_count": 30,
   "id": "d8c9862e",
   "metadata": {
    "colab": {
     "base_uri": "https://localhost:8080/",
     "height": 206
    },
    "id": "HWWx5HDWg5BE",
    "outputId": "f2b61a75-4e38-4748-c9a7-9fb9bf74e190"
   },
   "outputs": [
    {
     "data": {
      "text/html": [
       "<div>\n",
       "<style scoped>\n",
       "    .dataframe tbody tr th:only-of-type {\n",
       "        vertical-align: middle;\n",
       "    }\n",
       "\n",
       "    .dataframe tbody tr th {\n",
       "        vertical-align: top;\n",
       "    }\n",
       "\n",
       "    .dataframe thead th {\n",
       "        text-align: right;\n",
       "    }\n",
       "</style>\n",
       "<table border=\"1\" class=\"dataframe\">\n",
       "  <thead>\n",
       "    <tr style=\"text-align: right;\">\n",
       "      <th></th>\n",
       "      <th>alert_key</th>\n",
       "      <th>probability</th>\n",
       "    </tr>\n",
       "  </thead>\n",
       "  <tbody>\n",
       "    <tr>\n",
       "      <th>0</th>\n",
       "      <td>357307</td>\n",
       "      <td>0.000017</td>\n",
       "    </tr>\n",
       "    <tr>\n",
       "      <th>1</th>\n",
       "      <td>376329</td>\n",
       "      <td>0.000324</td>\n",
       "    </tr>\n",
       "    <tr>\n",
       "      <th>2</th>\n",
       "      <td>373644</td>\n",
       "      <td>0.000372</td>\n",
       "    </tr>\n",
       "    <tr>\n",
       "      <th>3</th>\n",
       "      <td>357668</td>\n",
       "      <td>0.000489</td>\n",
       "    </tr>\n",
       "    <tr>\n",
       "      <th>4</th>\n",
       "      <td>354443</td>\n",
       "      <td>0.000526</td>\n",
       "    </tr>\n",
       "  </tbody>\n",
       "</table>\n",
       "</div>"
      ],
      "text/plain": [
       "   alert_key  probability\n",
       "0     357307     0.000017\n",
       "1     376329     0.000324\n",
       "2     373644     0.000372\n",
       "3     357668     0.000489\n",
       "4     354443     0.000526"
      ]
     },
     "execution_count": 30,
     "metadata": {},
     "output_type": "execute_result"
    }
   ],
   "source": [
    "public = pd.read_csv('./public_alert.csv')\n",
    "custinfo_df_raw = pd.read_csv(\"./public_train_x_custinfo_full_hashed.csv\")\n",
    "public_key = list(public.alert_key)\n",
    "cust_alert_dict = (custinfo_df_raw[['cust_id','alert_key']].set_index('alert_key')).to_dict()\n",
    "public.head()"
   ]
  },
  {
   "cell_type": "code",
   "execution_count": 31,
   "id": "3e760f41",
   "metadata": {
    "colab": {
     "base_uri": "https://localhost:8080/"
    },
    "id": "syIt8gakvp2E",
    "outputId": "4bcdab2d-283a-460c-e42f-c9ceca305448"
   },
   "outputs": [
    {
     "name": "stdout",
     "output_type": "stream",
     "text": [
      "X_shape: (1845, 5)\n"
     ]
    }
   ],
   "source": [
    "print('X_shape:',X_public.shape)"
   ]
  },
  {
   "cell_type": "code",
   "execution_count": 32,
   "id": "c5c33ef2",
   "metadata": {
    "id": "eaNEGIIoijxl"
   },
   "outputs": [],
   "source": [
    "dt_df_public = custinfo_df_raw.set_index('cust_id')\n",
    "\n",
    "alert_key_save = X_public.alert_key\n",
    "X_public = X_public[X.columns]"
   ]
  },
  {
   "cell_type": "code",
   "execution_count": 33,
   "id": "39c72fe6",
   "metadata": {
    "colab": {
     "base_uri": "https://localhost:8080/",
     "height": 331
    },
    "id": "IwmRm7soH6w_",
    "outputId": "109515cb-bcb7-4747-bcae-3e422f88218b",
    "scrolled": true
   },
   "outputs": [
    {
     "data": {
      "text/html": [
       "<div>\n",
       "<style scoped>\n",
       "    .dataframe tbody tr th:only-of-type {\n",
       "        vertical-align: middle;\n",
       "    }\n",
       "\n",
       "    .dataframe tbody tr th {\n",
       "        vertical-align: top;\n",
       "    }\n",
       "\n",
       "    .dataframe thead th {\n",
       "        text-align: right;\n",
       "    }\n",
       "</style>\n",
       "<table border=\"1\" class=\"dataframe\">\n",
       "  <thead>\n",
       "    <tr style=\"text-align: right;\">\n",
       "      <th></th>\n",
       "      <th>risk_rank</th>\n",
       "      <th>occupation_code</th>\n",
       "      <th>total_asset</th>\n",
       "      <th>AGE</th>\n",
       "    </tr>\n",
       "    <tr>\n",
       "      <th>cust_id</th>\n",
       "      <th></th>\n",
       "      <th></th>\n",
       "      <th></th>\n",
       "      <th></th>\n",
       "    </tr>\n",
       "  </thead>\n",
       "  <tbody>\n",
       "    <tr>\n",
       "      <th>82595ac69158ae08d34156784bdec0d9e2ca5b242b6d2a8542c040b98feb8bd1</th>\n",
       "      <td>1</td>\n",
       "      <td>19.0</td>\n",
       "      <td>1465816.0</td>\n",
       "      <td>7</td>\n",
       "    </tr>\n",
       "    <tr>\n",
       "      <th>b212d14cb35676926682b2cf849e295d948888f556c07e854c4cdad9f32f5084</th>\n",
       "      <td>1</td>\n",
       "      <td>2.0</td>\n",
       "      <td>98177.0</td>\n",
       "      <td>2</td>\n",
       "    </tr>\n",
       "    <tr>\n",
       "      <th>e5b0002791c7852644a2730abeaa893cdf14a072ef78120275815edbd596cec0</th>\n",
       "      <td>1</td>\n",
       "      <td>19.0</td>\n",
       "      <td>2052922.0</td>\n",
       "      <td>7</td>\n",
       "    </tr>\n",
       "    <tr>\n",
       "      <th>74214c478dc6519fbefe4bc31693865bdcd698ab974b6435bb8fa842a3ed4fd8</th>\n",
       "      <td>3</td>\n",
       "      <td>15.0</td>\n",
       "      <td>201906.0</td>\n",
       "      <td>5</td>\n",
       "    </tr>\n",
       "    <tr>\n",
       "      <th>0340e7611f0d82c3cb87e6194fa14bb2ccf8afbf1b341860b7e09990369f6466</th>\n",
       "      <td>1</td>\n",
       "      <td>12.0</td>\n",
       "      <td>7450.0</td>\n",
       "      <td>5</td>\n",
       "    </tr>\n",
       "  </tbody>\n",
       "</table>\n",
       "</div>"
      ],
      "text/plain": [
       "                                                    risk_rank  \\\n",
       "cust_id                                                         \n",
       "82595ac69158ae08d34156784bdec0d9e2ca5b242b6d2a8...          1   \n",
       "b212d14cb35676926682b2cf849e295d948888f556c07e8...          1   \n",
       "e5b0002791c7852644a2730abeaa893cdf14a072ef78120...          1   \n",
       "74214c478dc6519fbefe4bc31693865bdcd698ab974b643...          3   \n",
       "0340e7611f0d82c3cb87e6194fa14bb2ccf8afbf1b34186...          1   \n",
       "\n",
       "                                                    occupation_code  \\\n",
       "cust_id                                                               \n",
       "82595ac69158ae08d34156784bdec0d9e2ca5b242b6d2a8...             19.0   \n",
       "b212d14cb35676926682b2cf849e295d948888f556c07e8...              2.0   \n",
       "e5b0002791c7852644a2730abeaa893cdf14a072ef78120...             19.0   \n",
       "74214c478dc6519fbefe4bc31693865bdcd698ab974b643...             15.0   \n",
       "0340e7611f0d82c3cb87e6194fa14bb2ccf8afbf1b34186...             12.0   \n",
       "\n",
       "                                                    total_asset  AGE  \n",
       "cust_id                                                               \n",
       "82595ac69158ae08d34156784bdec0d9e2ca5b242b6d2a8...    1465816.0    7  \n",
       "b212d14cb35676926682b2cf849e295d948888f556c07e8...      98177.0    2  \n",
       "e5b0002791c7852644a2730abeaa893cdf14a072ef78120...    2052922.0    7  \n",
       "74214c478dc6519fbefe4bc31693865bdcd698ab974b643...     201906.0    5  \n",
       "0340e7611f0d82c3cb87e6194fa14bb2ccf8afbf1b34186...       7450.0    5  "
      ]
     },
     "execution_count": 33,
     "metadata": {},
     "output_type": "execute_result"
    }
   ],
   "source": [
    "X_public.head()"
   ]
  },
  {
   "cell_type": "code",
   "execution_count": 34,
   "id": "3a8639de",
   "metadata": {
    "scrolled": true
   },
   "outputs": [
    {
     "data": {
      "text/html": [
       "<div>\n",
       "<style scoped>\n",
       "    .dataframe tbody tr th:only-of-type {\n",
       "        vertical-align: middle;\n",
       "    }\n",
       "\n",
       "    .dataframe tbody tr th {\n",
       "        vertical-align: top;\n",
       "    }\n",
       "\n",
       "    .dataframe thead th {\n",
       "        text-align: right;\n",
       "    }\n",
       "</style>\n",
       "<table border=\"1\" class=\"dataframe\">\n",
       "  <thead>\n",
       "    <tr style=\"text-align: right;\">\n",
       "      <th></th>\n",
       "      <th>risk_rank</th>\n",
       "      <th>occupation_code</th>\n",
       "      <th>total_asset</th>\n",
       "      <th>AGE</th>\n",
       "    </tr>\n",
       "    <tr>\n",
       "      <th>cust_id</th>\n",
       "      <th></th>\n",
       "      <th></th>\n",
       "      <th></th>\n",
       "      <th></th>\n",
       "    </tr>\n",
       "  </thead>\n",
       "  <tbody>\n",
       "    <tr>\n",
       "      <th>82595ac69158ae08d34156784bdec0d9e2ca5b242b6d2a8542c040b98feb8bd1</th>\n",
       "      <td>1</td>\n",
       "      <td>0.947368</td>\n",
       "      <td>1465816.0</td>\n",
       "      <td>7</td>\n",
       "    </tr>\n",
       "    <tr>\n",
       "      <th>b212d14cb35676926682b2cf849e295d948888f556c07e854c4cdad9f32f5084</th>\n",
       "      <td>1</td>\n",
       "      <td>0.052632</td>\n",
       "      <td>98177.0</td>\n",
       "      <td>2</td>\n",
       "    </tr>\n",
       "    <tr>\n",
       "      <th>e5b0002791c7852644a2730abeaa893cdf14a072ef78120275815edbd596cec0</th>\n",
       "      <td>1</td>\n",
       "      <td>0.947368</td>\n",
       "      <td>2052922.0</td>\n",
       "      <td>7</td>\n",
       "    </tr>\n",
       "    <tr>\n",
       "      <th>74214c478dc6519fbefe4bc31693865bdcd698ab974b6435bb8fa842a3ed4fd8</th>\n",
       "      <td>3</td>\n",
       "      <td>0.736842</td>\n",
       "      <td>201906.0</td>\n",
       "      <td>5</td>\n",
       "    </tr>\n",
       "    <tr>\n",
       "      <th>0340e7611f0d82c3cb87e6194fa14bb2ccf8afbf1b341860b7e09990369f6466</th>\n",
       "      <td>1</td>\n",
       "      <td>0.578947</td>\n",
       "      <td>7450.0</td>\n",
       "      <td>5</td>\n",
       "    </tr>\n",
       "    <tr>\n",
       "      <th>...</th>\n",
       "      <td>...</td>\n",
       "      <td>...</td>\n",
       "      <td>...</td>\n",
       "      <td>...</td>\n",
       "    </tr>\n",
       "    <tr>\n",
       "      <th>18ee644a371548e9780d701aaa7e0c8c42a7794cdee755604435bb59b1d81304</th>\n",
       "      <td>1</td>\n",
       "      <td>0.842105</td>\n",
       "      <td>135072.0</td>\n",
       "      <td>3</td>\n",
       "    </tr>\n",
       "    <tr>\n",
       "      <th>7f69fa9eab8f397d367e2bb61ee1fa008999a0aab91e061e8f4bfe25fb35807d</th>\n",
       "      <td>3</td>\n",
       "      <td>0.578947</td>\n",
       "      <td>2285386.0</td>\n",
       "      <td>3</td>\n",
       "    </tr>\n",
       "    <tr>\n",
       "      <th>12c9e6d35500d2a96fc2b22a9da8e3deb6048de515a16e9187a67cdcf485350f</th>\n",
       "      <td>3</td>\n",
       "      <td>0.947368</td>\n",
       "      <td>1230244.0</td>\n",
       "      <td>2</td>\n",
       "    </tr>\n",
       "    <tr>\n",
       "      <th>d24d46c19002ab1f9a02801af5e4be6a154b3c5adc04172e372c16ca446d736b</th>\n",
       "      <td>1</td>\n",
       "      <td>0.842105</td>\n",
       "      <td>162418.0</td>\n",
       "      <td>2</td>\n",
       "    </tr>\n",
       "    <tr>\n",
       "      <th>7224e3a067b5e90c9b2a5bdbcfe81884505ab44f0566aecd3940244d1b99d817</th>\n",
       "      <td>3</td>\n",
       "      <td>0.947368</td>\n",
       "      <td>83133.0</td>\n",
       "      <td>3</td>\n",
       "    </tr>\n",
       "  </tbody>\n",
       "</table>\n",
       "<p>1845 rows × 4 columns</p>\n",
       "</div>"
      ],
      "text/plain": [
       "                                                    risk_rank  \\\n",
       "cust_id                                                         \n",
       "82595ac69158ae08d34156784bdec0d9e2ca5b242b6d2a8...          1   \n",
       "b212d14cb35676926682b2cf849e295d948888f556c07e8...          1   \n",
       "e5b0002791c7852644a2730abeaa893cdf14a072ef78120...          1   \n",
       "74214c478dc6519fbefe4bc31693865bdcd698ab974b643...          3   \n",
       "0340e7611f0d82c3cb87e6194fa14bb2ccf8afbf1b34186...          1   \n",
       "...                                                       ...   \n",
       "18ee644a371548e9780d701aaa7e0c8c42a7794cdee7556...          1   \n",
       "7f69fa9eab8f397d367e2bb61ee1fa008999a0aab91e061...          3   \n",
       "12c9e6d35500d2a96fc2b22a9da8e3deb6048de515a16e9...          3   \n",
       "d24d46c19002ab1f9a02801af5e4be6a154b3c5adc04172...          1   \n",
       "7224e3a067b5e90c9b2a5bdbcfe81884505ab44f0566aec...          3   \n",
       "\n",
       "                                                    occupation_code  \\\n",
       "cust_id                                                               \n",
       "82595ac69158ae08d34156784bdec0d9e2ca5b242b6d2a8...         0.947368   \n",
       "b212d14cb35676926682b2cf849e295d948888f556c07e8...         0.052632   \n",
       "e5b0002791c7852644a2730abeaa893cdf14a072ef78120...         0.947368   \n",
       "74214c478dc6519fbefe4bc31693865bdcd698ab974b643...         0.736842   \n",
       "0340e7611f0d82c3cb87e6194fa14bb2ccf8afbf1b34186...         0.578947   \n",
       "...                                                             ...   \n",
       "18ee644a371548e9780d701aaa7e0c8c42a7794cdee7556...         0.842105   \n",
       "7f69fa9eab8f397d367e2bb61ee1fa008999a0aab91e061...         0.578947   \n",
       "12c9e6d35500d2a96fc2b22a9da8e3deb6048de515a16e9...         0.947368   \n",
       "d24d46c19002ab1f9a02801af5e4be6a154b3c5adc04172...         0.842105   \n",
       "7224e3a067b5e90c9b2a5bdbcfe81884505ab44f0566aec...         0.947368   \n",
       "\n",
       "                                                    total_asset  AGE  \n",
       "cust_id                                                               \n",
       "82595ac69158ae08d34156784bdec0d9e2ca5b242b6d2a8...    1465816.0    7  \n",
       "b212d14cb35676926682b2cf849e295d948888f556c07e8...      98177.0    2  \n",
       "e5b0002791c7852644a2730abeaa893cdf14a072ef78120...    2052922.0    7  \n",
       "74214c478dc6519fbefe4bc31693865bdcd698ab974b643...     201906.0    5  \n",
       "0340e7611f0d82c3cb87e6194fa14bb2ccf8afbf1b34186...       7450.0    5  \n",
       "...                                                         ...  ...  \n",
       "18ee644a371548e9780d701aaa7e0c8c42a7794cdee7556...     135072.0    3  \n",
       "7f69fa9eab8f397d367e2bb61ee1fa008999a0aab91e061...    2285386.0    3  \n",
       "12c9e6d35500d2a96fc2b22a9da8e3deb6048de515a16e9...    1230244.0    2  \n",
       "d24d46c19002ab1f9a02801af5e4be6a154b3c5adc04172...     162418.0    2  \n",
       "7224e3a067b5e90c9b2a5bdbcfe81884505ab44f0566aec...      83133.0    3  \n",
       "\n",
       "[1845 rows x 4 columns]"
      ]
     },
     "execution_count": 34,
     "metadata": {},
     "output_type": "execute_result"
    }
   ],
   "source": [
    "## normalize predict code\n",
    "X_public[\"occupation_code\"] = numerical_normalize(X_public[\"occupation_code\"]).values\n",
    "X_public"
   ]
  },
  {
   "cell_type": "code",
   "execution_count": 35,
   "id": "0df3921f",
   "metadata": {
    "colab": {
     "base_uri": "https://localhost:8080/",
     "height": 424
    },
    "id": "M-w8oGWEnyb5",
    "outputId": "a252f0ec-c839-4b0c-e17e-1ebb895683a7"
   },
   "outputs": [
    {
     "data": {
      "text/html": [
       "<div>\n",
       "<style scoped>\n",
       "    .dataframe tbody tr th:only-of-type {\n",
       "        vertical-align: middle;\n",
       "    }\n",
       "\n",
       "    .dataframe tbody tr th {\n",
       "        vertical-align: top;\n",
       "    }\n",
       "\n",
       "    .dataframe thead th {\n",
       "        text-align: right;\n",
       "    }\n",
       "</style>\n",
       "<table border=\"1\" class=\"dataframe\">\n",
       "  <thead>\n",
       "    <tr style=\"text-align: right;\">\n",
       "      <th></th>\n",
       "      <th>nosar</th>\n",
       "      <th>sar</th>\n",
       "      <th>alert_key</th>\n",
       "    </tr>\n",
       "  </thead>\n",
       "  <tbody>\n",
       "    <tr>\n",
       "      <th>327</th>\n",
       "      <td>0.097558</td>\n",
       "      <td>0.902442</td>\n",
       "      <td>354939</td>\n",
       "    </tr>\n",
       "    <tr>\n",
       "      <th>719</th>\n",
       "      <td>0.178632</td>\n",
       "      <td>0.821368</td>\n",
       "      <td>357304</td>\n",
       "    </tr>\n",
       "    <tr>\n",
       "      <th>91</th>\n",
       "      <td>0.178632</td>\n",
       "      <td>0.821368</td>\n",
       "      <td>353065</td>\n",
       "    </tr>\n",
       "    <tr>\n",
       "      <th>1833</th>\n",
       "      <td>0.181086</td>\n",
       "      <td>0.818914</td>\n",
       "      <td>364983</td>\n",
       "    </tr>\n",
       "    <tr>\n",
       "      <th>1457</th>\n",
       "      <td>0.182221</td>\n",
       "      <td>0.817779</td>\n",
       "      <td>362203</td>\n",
       "    </tr>\n",
       "    <tr>\n",
       "      <th>...</th>\n",
       "      <td>...</td>\n",
       "      <td>...</td>\n",
       "      <td>...</td>\n",
       "    </tr>\n",
       "    <tr>\n",
       "      <th>425</th>\n",
       "      <td>0.993923</td>\n",
       "      <td>0.006077</td>\n",
       "      <td>355555</td>\n",
       "    </tr>\n",
       "    <tr>\n",
       "      <th>31</th>\n",
       "      <td>0.993923</td>\n",
       "      <td>0.006077</td>\n",
       "      <td>352492</td>\n",
       "    </tr>\n",
       "    <tr>\n",
       "      <th>493</th>\n",
       "      <td>0.994865</td>\n",
       "      <td>0.005135</td>\n",
       "      <td>355900</td>\n",
       "    </tr>\n",
       "    <tr>\n",
       "      <th>550</th>\n",
       "      <td>0.994865</td>\n",
       "      <td>0.005135</td>\n",
       "      <td>356304</td>\n",
       "    </tr>\n",
       "    <tr>\n",
       "      <th>1121</th>\n",
       "      <td>0.994865</td>\n",
       "      <td>0.005135</td>\n",
       "      <td>359946</td>\n",
       "    </tr>\n",
       "  </tbody>\n",
       "</table>\n",
       "<p>1845 rows × 3 columns</p>\n",
       "</div>"
      ],
      "text/plain": [
       "         nosar       sar  alert_key\n",
       "327   0.097558  0.902442     354939\n",
       "719   0.178632  0.821368     357304\n",
       "91    0.178632  0.821368     353065\n",
       "1833  0.181086  0.818914     364983\n",
       "1457  0.182221  0.817779     362203\n",
       "...        ...       ...        ...\n",
       "425   0.993923  0.006077     355555\n",
       "31    0.993923  0.006077     352492\n",
       "493   0.994865  0.005135     355900\n",
       "550   0.994865  0.005135     356304\n",
       "1121  0.994865  0.005135     359946\n",
       "\n",
       "[1845 rows x 3 columns]"
      ]
     },
     "execution_count": 35,
     "metadata": {},
     "output_type": "execute_result"
    }
   ],
   "source": [
    "score_public = pd.DataFrame(xgb.predict_proba(X_public),columns=['nosar','sar'])\n",
    "score_public['alert_key'] = alert_key_save.values\n",
    "score_public = score_public.drop_duplicates()\n",
    "score_public.sort_values('sar',ascending=False)"
   ]
  },
  {
   "cell_type": "code",
   "execution_count": 36,
   "id": "32ae1cbb",
   "metadata": {
    "id": "rNfLuXQWqElW"
   },
   "outputs": [],
   "source": [
    "score_public.sort_values('sar',ascending=False).to_csv('./preiction_result.csv')"
   ]
  },
  {
   "cell_type": "code",
   "execution_count": 37,
   "id": "c2da55df",
   "metadata": {},
   "outputs": [
    {
     "data": {
      "text/html": [
       "<div>\n",
       "<style scoped>\n",
       "    .dataframe tbody tr th:only-of-type {\n",
       "        vertical-align: middle;\n",
       "    }\n",
       "\n",
       "    .dataframe tbody tr th {\n",
       "        vertical-align: top;\n",
       "    }\n",
       "\n",
       "    .dataframe thead th {\n",
       "        text-align: right;\n",
       "    }\n",
       "</style>\n",
       "<table border=\"1\" class=\"dataframe\">\n",
       "  <thead>\n",
       "    <tr style=\"text-align: right;\">\n",
       "      <th></th>\n",
       "      <th>sar</th>\n",
       "      <th>alert_key</th>\n",
       "    </tr>\n",
       "  </thead>\n",
       "  <tbody>\n",
       "    <tr>\n",
       "      <th>0</th>\n",
       "      <td>0.0</td>\n",
       "      <td>352249</td>\n",
       "    </tr>\n",
       "    <tr>\n",
       "      <th>1</th>\n",
       "      <td>0.0</td>\n",
       "      <td>352253</td>\n",
       "    </tr>\n",
       "    <tr>\n",
       "      <th>2</th>\n",
       "      <td>0.0</td>\n",
       "      <td>352254</td>\n",
       "    </tr>\n",
       "    <tr>\n",
       "      <th>3</th>\n",
       "      <td>0.0</td>\n",
       "      <td>352280</td>\n",
       "    </tr>\n",
       "    <tr>\n",
       "      <th>4</th>\n",
       "      <td>1.0</td>\n",
       "      <td>352282</td>\n",
       "    </tr>\n",
       "    <tr>\n",
       "      <th>...</th>\n",
       "      <td>...</td>\n",
       "      <td>...</td>\n",
       "    </tr>\n",
       "    <tr>\n",
       "      <th>1840</th>\n",
       "      <td>1.0</td>\n",
       "      <td>365001</td>\n",
       "    </tr>\n",
       "    <tr>\n",
       "      <th>1841</th>\n",
       "      <td>0.0</td>\n",
       "      <td>365004</td>\n",
       "    </tr>\n",
       "    <tr>\n",
       "      <th>1842</th>\n",
       "      <td>0.0</td>\n",
       "      <td>365008</td>\n",
       "    </tr>\n",
       "    <tr>\n",
       "      <th>1843</th>\n",
       "      <td>0.0</td>\n",
       "      <td>365009</td>\n",
       "    </tr>\n",
       "    <tr>\n",
       "      <th>1844</th>\n",
       "      <td>0.0</td>\n",
       "      <td>365073</td>\n",
       "    </tr>\n",
       "  </tbody>\n",
       "</table>\n",
       "<p>1845 rows × 2 columns</p>\n",
       "</div>"
      ],
      "text/plain": [
       "      sar  alert_key\n",
       "0     0.0     352249\n",
       "1     0.0     352253\n",
       "2     0.0     352254\n",
       "3     0.0     352280\n",
       "4     1.0     352282\n",
       "...   ...        ...\n",
       "1840  1.0     365001\n",
       "1841  0.0     365004\n",
       "1842  0.0     365008\n",
       "1843  0.0     365009\n",
       "1844  0.0     365073\n",
       "\n",
       "[1845 rows x 2 columns]"
      ]
     },
     "execution_count": 37,
     "metadata": {},
     "output_type": "execute_result"
    }
   ],
   "source": [
    "tmp = score_public.iloc[:,1:3]\n",
    "tmp.loc[tmp.sar <= 0.5, 'sar'] = 0\n",
    "tmp.loc[tmp.sar > 0.5, 'sar'] = 1\n",
    "tmp"
   ]
  },
  {
   "cell_type": "code",
   "execution_count": 38,
   "id": "bb664492",
   "metadata": {},
   "outputs": [
    {
     "data": {
      "text/html": [
       "<div>\n",
       "<style scoped>\n",
       "    .dataframe tbody tr th:only-of-type {\n",
       "        vertical-align: middle;\n",
       "    }\n",
       "\n",
       "    .dataframe tbody tr th {\n",
       "        vertical-align: top;\n",
       "    }\n",
       "\n",
       "    .dataframe thead th {\n",
       "        text-align: right;\n",
       "    }\n",
       "</style>\n",
       "<table border=\"1\" class=\"dataframe\">\n",
       "  <thead>\n",
       "    <tr style=\"text-align: right;\">\n",
       "      <th></th>\n",
       "      <th>sar</th>\n",
       "      <th>alert_key</th>\n",
       "      <th>sar_flag</th>\n",
       "    </tr>\n",
       "  </thead>\n",
       "  <tbody>\n",
       "    <tr>\n",
       "      <th>0</th>\n",
       "      <td>0.0</td>\n",
       "      <td>352249</td>\n",
       "      <td>0</td>\n",
       "    </tr>\n",
       "    <tr>\n",
       "      <th>1</th>\n",
       "      <td>0.0</td>\n",
       "      <td>352253</td>\n",
       "      <td>0</td>\n",
       "    </tr>\n",
       "    <tr>\n",
       "      <th>2</th>\n",
       "      <td>0.0</td>\n",
       "      <td>352254</td>\n",
       "      <td>0</td>\n",
       "    </tr>\n",
       "    <tr>\n",
       "      <th>3</th>\n",
       "      <td>0.0</td>\n",
       "      <td>352280</td>\n",
       "      <td>0</td>\n",
       "    </tr>\n",
       "    <tr>\n",
       "      <th>4</th>\n",
       "      <td>1.0</td>\n",
       "      <td>352282</td>\n",
       "      <td>0</td>\n",
       "    </tr>\n",
       "    <tr>\n",
       "      <th>...</th>\n",
       "      <td>...</td>\n",
       "      <td>...</td>\n",
       "      <td>...</td>\n",
       "    </tr>\n",
       "    <tr>\n",
       "      <th>1840</th>\n",
       "      <td>1.0</td>\n",
       "      <td>365001</td>\n",
       "      <td>0</td>\n",
       "    </tr>\n",
       "    <tr>\n",
       "      <th>1841</th>\n",
       "      <td>0.0</td>\n",
       "      <td>365004</td>\n",
       "      <td>0</td>\n",
       "    </tr>\n",
       "    <tr>\n",
       "      <th>1842</th>\n",
       "      <td>0.0</td>\n",
       "      <td>365008</td>\n",
       "      <td>0</td>\n",
       "    </tr>\n",
       "    <tr>\n",
       "      <th>1843</th>\n",
       "      <td>0.0</td>\n",
       "      <td>365009</td>\n",
       "      <td>0</td>\n",
       "    </tr>\n",
       "    <tr>\n",
       "      <th>1844</th>\n",
       "      <td>0.0</td>\n",
       "      <td>365073</td>\n",
       "      <td>0</td>\n",
       "    </tr>\n",
       "  </tbody>\n",
       "</table>\n",
       "<p>1845 rows × 3 columns</p>\n",
       "</div>"
      ],
      "text/plain": [
       "      sar  alert_key  sar_flag\n",
       "0     0.0     352249         0\n",
       "1     0.0     352253         0\n",
       "2     0.0     352254         0\n",
       "3     0.0     352280         0\n",
       "4     1.0     352282         0\n",
       "...   ...        ...       ...\n",
       "1840  1.0     365001         0\n",
       "1841  0.0     365004         0\n",
       "1842  0.0     365008         0\n",
       "1843  0.0     365009         0\n",
       "1844  0.0     365073         0\n",
       "\n",
       "[1845 rows x 3 columns]"
      ]
     },
     "execution_count": 38,
     "metadata": {},
     "output_type": "execute_result"
    }
   ],
   "source": [
    "tmp2 = tmp.merge(private_y_answer, how='inner',on='alert_key')\n",
    "tmp2"
   ]
  },
  {
   "cell_type": "code",
   "execution_count": 39,
   "id": "b4a2290c",
   "metadata": {},
   "outputs": [
    {
     "name": "stdout",
     "output_type": "stream",
     "text": [
      "precision:  0.9090909090909091\n",
      "recall:  0.014534883720930232\n",
      "f1 score:  0.028612303290414875\n"
     ]
    }
   ],
   "source": [
    "print(\"precision: \", precision_score(tmp2[\"sar\"], tmp2[\"sar_flag\"]))\n",
    "print(\"recall: \", recall_score(tmp2[\"sar\"], tmp2[\"sar_flag\"]))\n",
    "print(\"f1 score: \", f1_score(tmp2[\"sar\"], tmp2[\"sar_flag\"]))"
   ]
  },
  {
   "cell_type": "markdown",
   "id": "8tXBndjIdBbc",
   "metadata": {
    "id": "8tXBndjIdBbc"
   },
   "source": [
    "### Data Cleaning"
   ]
  },
  {
   "cell_type": "code",
   "execution_count": 86,
   "id": "UGGZmG7qdBbd",
   "metadata": {
    "id": "UGGZmG7qdBbd"
   },
   "outputs": [],
   "source": [
    "def columns_with_null(df):\n",
    "    cwn = []\n",
    "    for column in df.columns:\n",
    "        if df[column].isnull().values.any():\n",
    "            cwn.append(column)\n",
    "    return cwn\n",
    "\n",
    "def rows_with_null(df):\n",
    "    return df[df.isna().any(axis=1)]\n"
   ]
  },
  {
   "cell_type": "markdown",
   "id": "xMZbnwJndBbe",
   "metadata": {
    "id": "xMZbnwJndBbe"
   },
   "source": [
    "### Null values\n",
    "\n",
    "* dp_df\n",
    "    1. tx_amt(交易金額) contains 22015 null values\n",
    "    2. fiscTxId(交易代碼) contains 1043090 null values\n",
    "    3. txbranch(分行代碼) contains 1003150 null values\n",
    "    * Due to the large amount of null values, dropping them is not wise\n",
    "* custinfo_df\n",
    "    1. occupation contains 116 null values\n",
    "    * Can directly drop na values"
   ]
  },
  {
   "cell_type": "code",
   "execution_count": 87,
   "id": "0rqPVpVAdBbg",
   "metadata": {
    "colab": {
     "base_uri": "https://localhost:8080/"
    },
    "id": "0rqPVpVAdBbg",
    "outputId": "793afa73-7cb7-46bc-f3e0-25a8686a06aa"
   },
   "outputs": [
    {
     "name": "stdout",
     "output_type": "stream",
     "text": [
      "[]\n",
      "[]\n",
      "[]\n",
      "[]\n",
      "[]\n"
     ]
    }
   ],
   "source": [
    "# Check null values in ccba_df\n",
    "print(columns_with_null(ccba_df))\n",
    "\n",
    "# Check null values in cdtx_df\n",
    "print(columns_with_null(cdtx_df))\n",
    "\n",
    "# Check null values in remit_df\n",
    "print(columns_with_null(remit_df))\n",
    "\n",
    "# Check null values in alert_time_0_364_df & alert_time_365_393_df\n",
    "print(columns_with_null(alert_time_df))\n",
    "\n",
    "# Check null values in alert_sar_df\n",
    "print(columns_with_null(alert_sar_df))"
   ]
  },
  {
   "cell_type": "code",
   "execution_count": 88,
   "id": "KoQ5If3odBbh",
   "metadata": {
    "colab": {
     "base_uri": "https://localhost:8080/"
    },
    "id": "KoQ5If3odBbh",
    "outputId": "40068883-0e72-42af-e253-1a07393c1e2f"
   },
   "outputs": [
    {
     "name": "stdout",
     "output_type": "stream",
     "text": [
      "['tx_amt', 'fiscTxId', 'txbranch']\n",
      "total: 1969818\n",
      "rows containing nulls: 1053245\n",
      "rows without nulls: 916573\n",
      "is correct: True\n"
     ]
    }
   ],
   "source": [
    "# Check null values in dp_df\n",
    "print(columns_with_null(dp_df))\n",
    "total = len(dp_df)\n",
    "dp_w_null = rows_with_null(dp_df)\n",
    "dp_wt_null = dp_df.dropna()\n",
    "print(f\"total: {total}\")\n",
    "print(f\"rows containing nulls: {len(dp_w_null)}\")\n",
    "print(f\"rows without nulls: {len(dp_wt_null)}\")\n",
    "print(f\"is correct: {total == len(dp_w_null) + len(dp_wt_null)}\")"
   ]
  },
  {
   "cell_type": "code",
   "execution_count": 89,
   "id": "-U4WHMqRdBbj",
   "metadata": {
    "colab": {
     "base_uri": "https://localhost:8080/"
    },
    "id": "-U4WHMqRdBbj",
    "outputId": "16f80b49-2b2c-4c88-8cf3-16626d7a0840"
   },
   "outputs": [
    {
     "name": "stdout",
     "output_type": "stream",
     "text": [
      "['occupation_code']\n",
      "total: 25751\n",
      "rows containing nulls: 116\n",
      "rows without nulls: 25635\n",
      "is correct: True\n"
     ]
    }
   ],
   "source": [
    "# Check null values in custinfo_df\n",
    "\n",
    "print(columns_with_null(custinfo_df))\n",
    "total = len(custinfo_df)\n",
    "custinfo_w_null = rows_with_null(custinfo_df)\n",
    "custinfo_wt_null = custinfo_df.dropna()\n",
    "print(f\"total: {total}\")\n",
    "print(f\"rows containing nulls: {len(custinfo_w_null)}\")\n",
    "print(f\"rows without nulls: {len(custinfo_wt_null)}\")\n",
    "print(f\"is correct: {total == len(custinfo_w_null) + len(custinfo_wt_null)}\")"
   ]
  },
  {
   "cell_type": "markdown",
   "id": "n9jUc0mqdBbk",
   "metadata": {
    "id": "n9jUc0mqdBbk"
   },
   "source": [
    "### Duplicate Values\n",
    "* cdtx_df contains 259965 duplicates\n",
    "    * Reasonable, cust can do many transactions on the same day with the same country, cur_type and amt\n",
    "* dp_df contains 89047 duplicates\n",
    "    * What is fscTxId ?\n",
    "* remit_df contains 990 duplicates\n",
    "    * Reasonable, cust can do many transactions on the same day with the same trans_no, trade_amount_usd"
   ]
  },
  {
   "cell_type": "code",
   "execution_count": 90,
   "id": "SWrhv4Q0dBbl",
   "metadata": {
    "colab": {
     "base_uri": "https://localhost:8080/"
    },
    "id": "SWrhv4Q0dBbl",
    "outputId": "ba3ae573-6cef-4cc6-cc3c-c719458d3849"
   },
   "outputs": [
    {
     "name": "stdout",
     "output_type": "stream",
     "text": [
      "0\n",
      "0\n",
      "0\n",
      "0\n"
     ]
    }
   ],
   "source": [
    "# Check duplicated values in ccba_df\n",
    "print(sum(ccba_df.duplicated()))\n",
    "print(sum(custinfo_df.duplicated()))\n",
    "print(sum(alert_time_df.duplicated()))\n",
    "print(sum(alert_sar_df.duplicated()))"
   ]
  },
  {
   "cell_type": "code",
   "execution_count": 91,
   "id": "1lgXsqvXdBbm",
   "metadata": {
    "colab": {
     "base_uri": "https://localhost:8080/",
     "height": 441
    },
    "id": "1lgXsqvXdBbm",
    "outputId": "8ef70b1e-e022-4565-be36-5b616696d5b0"
   },
   "outputs": [
    {
     "name": "stdout",
     "output_type": "stream",
     "text": [
      "259965\n"
     ]
    },
    {
     "data": {
      "text/html": [
       "<div>\n",
       "<style scoped>\n",
       "    .dataframe tbody tr th:only-of-type {\n",
       "        vertical-align: middle;\n",
       "    }\n",
       "\n",
       "    .dataframe tbody tr th {\n",
       "        vertical-align: top;\n",
       "    }\n",
       "\n",
       "    .dataframe thead th {\n",
       "        text-align: right;\n",
       "    }\n",
       "</style>\n",
       "<table border=\"1\" class=\"dataframe\">\n",
       "  <thead>\n",
       "    <tr style=\"text-align: right;\">\n",
       "      <th></th>\n",
       "      <th>cust_id</th>\n",
       "      <th>date</th>\n",
       "      <th>country</th>\n",
       "      <th>cur_type</th>\n",
       "      <th>amt</th>\n",
       "    </tr>\n",
       "  </thead>\n",
       "  <tbody>\n",
       "    <tr>\n",
       "      <th>37</th>\n",
       "      <td>0174dff6a8a2038f9966d61d8450e19e3bd751e4051c2a...</td>\n",
       "      <td>78</td>\n",
       "      <td>130</td>\n",
       "      <td>47</td>\n",
       "      <td>84.0</td>\n",
       "    </tr>\n",
       "    <tr>\n",
       "      <th>42</th>\n",
       "      <td>0174dff6a8a2038f9966d61d8450e19e3bd751e4051c2a...</td>\n",
       "      <td>84</td>\n",
       "      <td>130</td>\n",
       "      <td>47</td>\n",
       "      <td>84.0</td>\n",
       "    </tr>\n",
       "    <tr>\n",
       "      <th>45</th>\n",
       "      <td>0174dff6a8a2038f9966d61d8450e19e3bd751e4051c2a...</td>\n",
       "      <td>86</td>\n",
       "      <td>130</td>\n",
       "      <td>47</td>\n",
       "      <td>84.0</td>\n",
       "    </tr>\n",
       "    <tr>\n",
       "      <th>48</th>\n",
       "      <td>0174dff6a8a2038f9966d61d8450e19e3bd751e4051c2a...</td>\n",
       "      <td>88</td>\n",
       "      <td>130</td>\n",
       "      <td>47</td>\n",
       "      <td>84.0</td>\n",
       "    </tr>\n",
       "    <tr>\n",
       "      <th>222</th>\n",
       "      <td>01c705b457297805c1c08137cb3adb164b8f393c265db2...</td>\n",
       "      <td>95</td>\n",
       "      <td>130</td>\n",
       "      <td>47</td>\n",
       "      <td>510.0</td>\n",
       "    </tr>\n",
       "    <tr>\n",
       "      <th>...</th>\n",
       "      <td>...</td>\n",
       "      <td>...</td>\n",
       "      <td>...</td>\n",
       "      <td>...</td>\n",
       "      <td>...</td>\n",
       "    </tr>\n",
       "    <tr>\n",
       "      <th>1042869</th>\n",
       "      <td>ffdd3f98b841d4d0ef58ad0d63abddac83ffb5babf973c...</td>\n",
       "      <td>323</td>\n",
       "      <td>130</td>\n",
       "      <td>47</td>\n",
       "      <td>20878.0</td>\n",
       "    </tr>\n",
       "    <tr>\n",
       "      <th>1042940</th>\n",
       "      <td>ffdd3f98b841d4d0ef58ad0d63abddac83ffb5babf973c...</td>\n",
       "      <td>382</td>\n",
       "      <td>130</td>\n",
       "      <td>47</td>\n",
       "      <td>522.0</td>\n",
       "    </tr>\n",
       "    <tr>\n",
       "      <th>1042943</th>\n",
       "      <td>ffdd3f98b841d4d0ef58ad0d63abddac83ffb5babf973c...</td>\n",
       "      <td>385</td>\n",
       "      <td>130</td>\n",
       "      <td>47</td>\n",
       "      <td>522.0</td>\n",
       "    </tr>\n",
       "    <tr>\n",
       "      <th>1042957</th>\n",
       "      <td>ffdd3f98b841d4d0ef58ad0d63abddac83ffb5babf973c...</td>\n",
       "      <td>387</td>\n",
       "      <td>130</td>\n",
       "      <td>47</td>\n",
       "      <td>1513.0</td>\n",
       "    </tr>\n",
       "    <tr>\n",
       "      <th>1042958</th>\n",
       "      <td>ffdd3f98b841d4d0ef58ad0d63abddac83ffb5babf973c...</td>\n",
       "      <td>387</td>\n",
       "      <td>130</td>\n",
       "      <td>47</td>\n",
       "      <td>1513.0</td>\n",
       "    </tr>\n",
       "  </tbody>\n",
       "</table>\n",
       "<p>259965 rows × 5 columns</p>\n",
       "</div>"
      ],
      "text/plain": [
       "                                                   cust_id  date  country  \\\n",
       "37       0174dff6a8a2038f9966d61d8450e19e3bd751e4051c2a...    78      130   \n",
       "42       0174dff6a8a2038f9966d61d8450e19e3bd751e4051c2a...    84      130   \n",
       "45       0174dff6a8a2038f9966d61d8450e19e3bd751e4051c2a...    86      130   \n",
       "48       0174dff6a8a2038f9966d61d8450e19e3bd751e4051c2a...    88      130   \n",
       "222      01c705b457297805c1c08137cb3adb164b8f393c265db2...    95      130   \n",
       "...                                                    ...   ...      ...   \n",
       "1042869  ffdd3f98b841d4d0ef58ad0d63abddac83ffb5babf973c...   323      130   \n",
       "1042940  ffdd3f98b841d4d0ef58ad0d63abddac83ffb5babf973c...   382      130   \n",
       "1042943  ffdd3f98b841d4d0ef58ad0d63abddac83ffb5babf973c...   385      130   \n",
       "1042957  ffdd3f98b841d4d0ef58ad0d63abddac83ffb5babf973c...   387      130   \n",
       "1042958  ffdd3f98b841d4d0ef58ad0d63abddac83ffb5babf973c...   387      130   \n",
       "\n",
       "         cur_type      amt  \n",
       "37             47     84.0  \n",
       "42             47     84.0  \n",
       "45             47     84.0  \n",
       "48             47     84.0  \n",
       "222            47    510.0  \n",
       "...           ...      ...  \n",
       "1042869        47  20878.0  \n",
       "1042940        47    522.0  \n",
       "1042943        47    522.0  \n",
       "1042957        47   1513.0  \n",
       "1042958        47   1513.0  \n",
       "\n",
       "[259965 rows x 5 columns]"
      ]
     },
     "execution_count": 91,
     "metadata": {},
     "output_type": "execute_result"
    }
   ],
   "source": [
    "print(sum(cdtx_df.duplicated()))\n",
    "cdtx_df.loc[cdtx_df.duplicated()]"
   ]
  },
  {
   "cell_type": "code",
   "execution_count": 92,
   "id": "EHLwr0r8dBbn",
   "metadata": {
    "colab": {
     "base_uri": "https://localhost:8080/",
     "height": 441
    },
    "id": "EHLwr0r8dBbn",
    "outputId": "af7a3ee8-9ee9-4b36-c7a6-7919bc23b6bb"
   },
   "outputs": [
    {
     "name": "stdout",
     "output_type": "stream",
     "text": [
      "89047\n"
     ]
    },
    {
     "data": {
      "text/html": [
       "<div>\n",
       "<style scoped>\n",
       "    .dataframe tbody tr th:only-of-type {\n",
       "        vertical-align: middle;\n",
       "    }\n",
       "\n",
       "    .dataframe tbody tr th {\n",
       "        vertical-align: top;\n",
       "    }\n",
       "\n",
       "    .dataframe thead th {\n",
       "        text-align: right;\n",
       "    }\n",
       "</style>\n",
       "<table border=\"1\" class=\"dataframe\">\n",
       "  <thead>\n",
       "    <tr style=\"text-align: right;\">\n",
       "      <th></th>\n",
       "      <th>cust_id</th>\n",
       "      <th>debit_credit</th>\n",
       "      <th>tx_date</th>\n",
       "      <th>tx_time</th>\n",
       "      <th>tx_type</th>\n",
       "      <th>tx_amt</th>\n",
       "      <th>exchg_rate</th>\n",
       "      <th>info_asset_code</th>\n",
       "      <th>fiscTxId</th>\n",
       "      <th>txbranch</th>\n",
       "      <th>cross_bank</th>\n",
       "      <th>ATM</th>\n",
       "    </tr>\n",
       "  </thead>\n",
       "  <tbody>\n",
       "    <tr>\n",
       "      <th>51</th>\n",
       "      <td>0172056578071e83399216fcd640bdc4de4583149d0fd9...</td>\n",
       "      <td>CR</td>\n",
       "      <td>218</td>\n",
       "      <td>16</td>\n",
       "      <td>2</td>\n",
       "      <td>51781.0</td>\n",
       "      <td>1.0</td>\n",
       "      <td>16</td>\n",
       "      <td>NaN</td>\n",
       "      <td>NaN</td>\n",
       "      <td>0</td>\n",
       "      <td>0</td>\n",
       "    </tr>\n",
       "    <tr>\n",
       "      <th>58</th>\n",
       "      <td>0172056578071e83399216fcd640bdc4de4583149d0fd9...</td>\n",
       "      <td>CR</td>\n",
       "      <td>249</td>\n",
       "      <td>16</td>\n",
       "      <td>2</td>\n",
       "      <td>8935.0</td>\n",
       "      <td>1.0</td>\n",
       "      <td>16</td>\n",
       "      <td>NaN</td>\n",
       "      <td>NaN</td>\n",
       "      <td>0</td>\n",
       "      <td>0</td>\n",
       "    </tr>\n",
       "    <tr>\n",
       "      <th>294</th>\n",
       "      <td>01c705b457297805c1c08137cb3adb164b8f393c265db2...</td>\n",
       "      <td>CR</td>\n",
       "      <td>120</td>\n",
       "      <td>1</td>\n",
       "      <td>2</td>\n",
       "      <td>408.0</td>\n",
       "      <td>1.0</td>\n",
       "      <td>13</td>\n",
       "      <td>4.0</td>\n",
       "      <td>279.0</td>\n",
       "      <td>1</td>\n",
       "      <td>1</td>\n",
       "    </tr>\n",
       "    <tr>\n",
       "      <th>973</th>\n",
       "      <td>01c705b457297805c1c08137cb3adb164b8f393c265db2...</td>\n",
       "      <td>CR</td>\n",
       "      <td>133</td>\n",
       "      <td>6</td>\n",
       "      <td>2</td>\n",
       "      <td>1021.0</td>\n",
       "      <td>1.0</td>\n",
       "      <td>13</td>\n",
       "      <td>4.0</td>\n",
       "      <td>279.0</td>\n",
       "      <td>1</td>\n",
       "      <td>1</td>\n",
       "    </tr>\n",
       "    <tr>\n",
       "      <th>983</th>\n",
       "      <td>01c705b457297805c1c08137cb3adb164b8f393c265db2...</td>\n",
       "      <td>CR</td>\n",
       "      <td>123</td>\n",
       "      <td>16</td>\n",
       "      <td>2</td>\n",
       "      <td>2042.0</td>\n",
       "      <td>1.0</td>\n",
       "      <td>13</td>\n",
       "      <td>4.0</td>\n",
       "      <td>279.0</td>\n",
       "      <td>1</td>\n",
       "      <td>1</td>\n",
       "    </tr>\n",
       "    <tr>\n",
       "      <th>...</th>\n",
       "      <td>...</td>\n",
       "      <td>...</td>\n",
       "      <td>...</td>\n",
       "      <td>...</td>\n",
       "      <td>...</td>\n",
       "      <td>...</td>\n",
       "      <td>...</td>\n",
       "      <td>...</td>\n",
       "      <td>...</td>\n",
       "      <td>...</td>\n",
       "      <td>...</td>\n",
       "      <td>...</td>\n",
       "    </tr>\n",
       "    <tr>\n",
       "      <th>1969786</th>\n",
       "      <td>fff94defcc33daab190e702926d583f6d805294354addb...</td>\n",
       "      <td>DB</td>\n",
       "      <td>62</td>\n",
       "      <td>17</td>\n",
       "      <td>2</td>\n",
       "      <td>1030.0</td>\n",
       "      <td>1.0</td>\n",
       "      <td>13</td>\n",
       "      <td>3.0</td>\n",
       "      <td>313.0</td>\n",
       "      <td>1</td>\n",
       "      <td>1</td>\n",
       "    </tr>\n",
       "    <tr>\n",
       "      <th>1969791</th>\n",
       "      <td>fff94defcc33daab190e702926d583f6d805294354addb...</td>\n",
       "      <td>DB</td>\n",
       "      <td>61</td>\n",
       "      <td>20</td>\n",
       "      <td>2</td>\n",
       "      <td>1030.0</td>\n",
       "      <td>1.0</td>\n",
       "      <td>13</td>\n",
       "      <td>3.0</td>\n",
       "      <td>313.0</td>\n",
       "      <td>1</td>\n",
       "      <td>1</td>\n",
       "    </tr>\n",
       "    <tr>\n",
       "      <th>1969799</th>\n",
       "      <td>fff94defcc33daab190e702926d583f6d805294354addb...</td>\n",
       "      <td>DB</td>\n",
       "      <td>73</td>\n",
       "      <td>19</td>\n",
       "      <td>2</td>\n",
       "      <td>1030.0</td>\n",
       "      <td>1.0</td>\n",
       "      <td>13</td>\n",
       "      <td>3.0</td>\n",
       "      <td>313.0</td>\n",
       "      <td>1</td>\n",
       "      <td>1</td>\n",
       "    </tr>\n",
       "    <tr>\n",
       "      <th>1969802</th>\n",
       "      <td>fff94defcc33daab190e702926d583f6d805294354addb...</td>\n",
       "      <td>DB</td>\n",
       "      <td>62</td>\n",
       "      <td>17</td>\n",
       "      <td>2</td>\n",
       "      <td>1030.0</td>\n",
       "      <td>1.0</td>\n",
       "      <td>13</td>\n",
       "      <td>3.0</td>\n",
       "      <td>313.0</td>\n",
       "      <td>1</td>\n",
       "      <td>1</td>\n",
       "    </tr>\n",
       "    <tr>\n",
       "      <th>1969816</th>\n",
       "      <td>fff94defcc33daab190e702926d583f6d805294354addb...</td>\n",
       "      <td>DB</td>\n",
       "      <td>40</td>\n",
       "      <td>18</td>\n",
       "      <td>2</td>\n",
       "      <td>1030.0</td>\n",
       "      <td>1.0</td>\n",
       "      <td>13</td>\n",
       "      <td>3.0</td>\n",
       "      <td>310.0</td>\n",
       "      <td>1</td>\n",
       "      <td>1</td>\n",
       "    </tr>\n",
       "  </tbody>\n",
       "</table>\n",
       "<p>89047 rows × 12 columns</p>\n",
       "</div>"
      ],
      "text/plain": [
       "                                                   cust_id debit_credit  \\\n",
       "51       0172056578071e83399216fcd640bdc4de4583149d0fd9...           CR   \n",
       "58       0172056578071e83399216fcd640bdc4de4583149d0fd9...           CR   \n",
       "294      01c705b457297805c1c08137cb3adb164b8f393c265db2...           CR   \n",
       "973      01c705b457297805c1c08137cb3adb164b8f393c265db2...           CR   \n",
       "983      01c705b457297805c1c08137cb3adb164b8f393c265db2...           CR   \n",
       "...                                                    ...          ...   \n",
       "1969786  fff94defcc33daab190e702926d583f6d805294354addb...           DB   \n",
       "1969791  fff94defcc33daab190e702926d583f6d805294354addb...           DB   \n",
       "1969799  fff94defcc33daab190e702926d583f6d805294354addb...           DB   \n",
       "1969802  fff94defcc33daab190e702926d583f6d805294354addb...           DB   \n",
       "1969816  fff94defcc33daab190e702926d583f6d805294354addb...           DB   \n",
       "\n",
       "         tx_date  tx_time  tx_type   tx_amt  exchg_rate  info_asset_code  \\\n",
       "51           218       16        2  51781.0         1.0               16   \n",
       "58           249       16        2   8935.0         1.0               16   \n",
       "294          120        1        2    408.0         1.0               13   \n",
       "973          133        6        2   1021.0         1.0               13   \n",
       "983          123       16        2   2042.0         1.0               13   \n",
       "...          ...      ...      ...      ...         ...              ...   \n",
       "1969786       62       17        2   1030.0         1.0               13   \n",
       "1969791       61       20        2   1030.0         1.0               13   \n",
       "1969799       73       19        2   1030.0         1.0               13   \n",
       "1969802       62       17        2   1030.0         1.0               13   \n",
       "1969816       40       18        2   1030.0         1.0               13   \n",
       "\n",
       "         fiscTxId  txbranch  cross_bank  ATM  \n",
       "51            NaN       NaN           0    0  \n",
       "58            NaN       NaN           0    0  \n",
       "294           4.0     279.0           1    1  \n",
       "973           4.0     279.0           1    1  \n",
       "983           4.0     279.0           1    1  \n",
       "...           ...       ...         ...  ...  \n",
       "1969786       3.0     313.0           1    1  \n",
       "1969791       3.0     313.0           1    1  \n",
       "1969799       3.0     313.0           1    1  \n",
       "1969802       3.0     313.0           1    1  \n",
       "1969816       3.0     310.0           1    1  \n",
       "\n",
       "[89047 rows x 12 columns]"
      ]
     },
     "execution_count": 92,
     "metadata": {},
     "output_type": "execute_result"
    }
   ],
   "source": [
    "print(sum(dp_df.duplicated()))\n",
    "dp_df.loc[dp_df.duplicated()]"
   ]
  },
  {
   "cell_type": "code",
   "execution_count": 93,
   "id": "G0ehEvGhdBbp",
   "metadata": {
    "colab": {
     "base_uri": "https://localhost:8080/",
     "height": 441
    },
    "id": "G0ehEvGhdBbp",
    "outputId": "62e77582-9735-454b-edef-dd8f94006066"
   },
   "outputs": [
    {
     "name": "stdout",
     "output_type": "stream",
     "text": [
      "990\n"
     ]
    },
    {
     "data": {
      "text/html": [
       "<div>\n",
       "<style scoped>\n",
       "    .dataframe tbody tr th:only-of-type {\n",
       "        vertical-align: middle;\n",
       "    }\n",
       "\n",
       "    .dataframe tbody tr th {\n",
       "        vertical-align: top;\n",
       "    }\n",
       "\n",
       "    .dataframe thead th {\n",
       "        text-align: right;\n",
       "    }\n",
       "</style>\n",
       "<table border=\"1\" class=\"dataframe\">\n",
       "  <thead>\n",
       "    <tr style=\"text-align: right;\">\n",
       "      <th></th>\n",
       "      <th>cust_id</th>\n",
       "      <th>trans_date</th>\n",
       "      <th>trans_no</th>\n",
       "      <th>trade_amount_usd</th>\n",
       "    </tr>\n",
       "  </thead>\n",
       "  <tbody>\n",
       "    <tr>\n",
       "      <th>299</th>\n",
       "      <td>12c9e6d35500d2a96fc2b22a9da8e3deb6048de515a16e...</td>\n",
       "      <td>22</td>\n",
       "      <td>0</td>\n",
       "      <td>50009.0</td>\n",
       "    </tr>\n",
       "    <tr>\n",
       "      <th>2464</th>\n",
       "      <td>7b11104618d8caa65909eaac749c1a42594f3c891fe062...</td>\n",
       "      <td>256</td>\n",
       "      <td>0</td>\n",
       "      <td>27173.0</td>\n",
       "    </tr>\n",
       "    <tr>\n",
       "      <th>3146</th>\n",
       "      <td>987fa9033f6d7d6750dac714e178516755e75bd87dceda...</td>\n",
       "      <td>362</td>\n",
       "      <td>0</td>\n",
       "      <td>30547.0</td>\n",
       "    </tr>\n",
       "    <tr>\n",
       "      <th>3636</th>\n",
       "      <td>b6f594909afde36b182e825a982b1c3095c2ea2e3d3c3f...</td>\n",
       "      <td>376</td>\n",
       "      <td>0</td>\n",
       "      <td>69014.0</td>\n",
       "    </tr>\n",
       "    <tr>\n",
       "      <th>4418</th>\n",
       "      <td>e2d9fc5c344f186a981b205df0279d934abbedf2e7387c...</td>\n",
       "      <td>69</td>\n",
       "      <td>4</td>\n",
       "      <td>7941.0</td>\n",
       "    </tr>\n",
       "    <tr>\n",
       "      <th>...</th>\n",
       "      <td>...</td>\n",
       "      <td>...</td>\n",
       "      <td>...</td>\n",
       "      <td>...</td>\n",
       "    </tr>\n",
       "    <tr>\n",
       "      <th>17065</th>\n",
       "      <td>fd510d1ced78b69593ba2f863419dacb5f81b49a45fa0c...</td>\n",
       "      <td>334</td>\n",
       "      <td>4</td>\n",
       "      <td>3629.0</td>\n",
       "    </tr>\n",
       "    <tr>\n",
       "      <th>17067</th>\n",
       "      <td>fd510d1ced78b69593ba2f863419dacb5f81b49a45fa0c...</td>\n",
       "      <td>334</td>\n",
       "      <td>4</td>\n",
       "      <td>4073.0</td>\n",
       "    </tr>\n",
       "    <tr>\n",
       "      <th>17070</th>\n",
       "      <td>fd510d1ced78b69593ba2f863419dacb5f81b49a45fa0c...</td>\n",
       "      <td>334</td>\n",
       "      <td>4</td>\n",
       "      <td>4073.0</td>\n",
       "    </tr>\n",
       "    <tr>\n",
       "      <th>17071</th>\n",
       "      <td>fd510d1ced78b69593ba2f863419dacb5f81b49a45fa0c...</td>\n",
       "      <td>334</td>\n",
       "      <td>4</td>\n",
       "      <td>3629.0</td>\n",
       "    </tr>\n",
       "    <tr>\n",
       "      <th>17072</th>\n",
       "      <td>fd510d1ced78b69593ba2f863419dacb5f81b49a45fa0c...</td>\n",
       "      <td>334</td>\n",
       "      <td>4</td>\n",
       "      <td>3629.0</td>\n",
       "    </tr>\n",
       "  </tbody>\n",
       "</table>\n",
       "<p>990 rows × 4 columns</p>\n",
       "</div>"
      ],
      "text/plain": [
       "                                                 cust_id  trans_date  \\\n",
       "299    12c9e6d35500d2a96fc2b22a9da8e3deb6048de515a16e...          22   \n",
       "2464   7b11104618d8caa65909eaac749c1a42594f3c891fe062...         256   \n",
       "3146   987fa9033f6d7d6750dac714e178516755e75bd87dceda...         362   \n",
       "3636   b6f594909afde36b182e825a982b1c3095c2ea2e3d3c3f...         376   \n",
       "4418   e2d9fc5c344f186a981b205df0279d934abbedf2e7387c...          69   \n",
       "...                                                  ...         ...   \n",
       "17065  fd510d1ced78b69593ba2f863419dacb5f81b49a45fa0c...         334   \n",
       "17067  fd510d1ced78b69593ba2f863419dacb5f81b49a45fa0c...         334   \n",
       "17070  fd510d1ced78b69593ba2f863419dacb5f81b49a45fa0c...         334   \n",
       "17071  fd510d1ced78b69593ba2f863419dacb5f81b49a45fa0c...         334   \n",
       "17072  fd510d1ced78b69593ba2f863419dacb5f81b49a45fa0c...         334   \n",
       "\n",
       "       trans_no  trade_amount_usd  \n",
       "299           0           50009.0  \n",
       "2464          0           27173.0  \n",
       "3146          0           30547.0  \n",
       "3636          0           69014.0  \n",
       "4418          4            7941.0  \n",
       "...         ...               ...  \n",
       "17065         4            3629.0  \n",
       "17067         4            4073.0  \n",
       "17070         4            4073.0  \n",
       "17071         4            3629.0  \n",
       "17072         4            3629.0  \n",
       "\n",
       "[990 rows x 4 columns]"
      ]
     },
     "execution_count": 93,
     "metadata": {},
     "output_type": "execute_result"
    }
   ],
   "source": [
    "print(sum(remit_df.duplicated()))\n",
    "remit_df.loc[remit_df.duplicated()]"
   ]
  },
  {
   "cell_type": "markdown",
   "id": "5xP4LVqCdBbp",
   "metadata": {
    "id": "5xP4LVqCdBbp"
   },
   "source": [
    "# Data Exploration\n",
    "* Info of Data\n",
    "    * risk_rank: Ordinal\n",
    "    * occupation_code: Nominal\n",
    "    * total_asset: Ratio\n",
    "    * Age: Interval\n",
    "* Insights"
   ]
  },
  {
   "cell_type": "code",
   "execution_count": 94,
   "id": "BDJDxx1YdBbr",
   "metadata": {
    "colab": {
     "base_uri": "https://localhost:8080/",
     "height": 424
    },
    "id": "BDJDxx1YdBbr",
    "outputId": "9609fcd9-5e1e-43cf-918f-018f47f0fb8c"
   },
   "outputs": [
    {
     "data": {
      "text/html": [
       "<div>\n",
       "<style scoped>\n",
       "    .dataframe tbody tr th:only-of-type {\n",
       "        vertical-align: middle;\n",
       "    }\n",
       "\n",
       "    .dataframe tbody tr th {\n",
       "        vertical-align: top;\n",
       "    }\n",
       "\n",
       "    .dataframe thead th {\n",
       "        text-align: right;\n",
       "    }\n",
       "</style>\n",
       "<table border=\"1\" class=\"dataframe\">\n",
       "  <thead>\n",
       "    <tr style=\"text-align: right;\">\n",
       "      <th></th>\n",
       "      <th>cust_id</th>\n",
       "      <th>risk_rank</th>\n",
       "      <th>occupation_code</th>\n",
       "      <th>total_asset</th>\n",
       "      <th>AGE</th>\n",
       "      <th>alert_key</th>\n",
       "      <th>sar_flag</th>\n",
       "    </tr>\n",
       "  </thead>\n",
       "  <tbody>\n",
       "    <tr>\n",
       "      <th>0</th>\n",
       "      <td>a39fea9aec90969fe66a2b2b4d1b86368a2d38e8b8d4bf...</td>\n",
       "      <td>3</td>\n",
       "      <td>12.0</td>\n",
       "      <td>241719.0</td>\n",
       "      <td>3</td>\n",
       "      <td>171142</td>\n",
       "      <td>0</td>\n",
       "    </tr>\n",
       "    <tr>\n",
       "      <th>1</th>\n",
       "      <td>7e42b5dca9b28ee8e5545beb834361e90e6197d176b389...</td>\n",
       "      <td>3</td>\n",
       "      <td>13.0</td>\n",
       "      <td>599497.0</td>\n",
       "      <td>6</td>\n",
       "      <td>171152</td>\n",
       "      <td>0</td>\n",
       "    </tr>\n",
       "    <tr>\n",
       "      <th>2</th>\n",
       "      <td>a6cdf6302aead77112013168c6d546d2df3bcb551956d2...</td>\n",
       "      <td>1</td>\n",
       "      <td>19.0</td>\n",
       "      <td>51160.0</td>\n",
       "      <td>4</td>\n",
       "      <td>171177</td>\n",
       "      <td>0</td>\n",
       "    </tr>\n",
       "    <tr>\n",
       "      <th>3</th>\n",
       "      <td>1a3efa69705f611c7ef2384a715c8142e2ee801cfec9df...</td>\n",
       "      <td>3</td>\n",
       "      <td>9.0</td>\n",
       "      <td>3634343.0</td>\n",
       "      <td>6</td>\n",
       "      <td>171178</td>\n",
       "      <td>0</td>\n",
       "    </tr>\n",
       "    <tr>\n",
       "      <th>4</th>\n",
       "      <td>67f8cbb64dd3d447e992b1b299e0ceed3372188e47c88e...</td>\n",
       "      <td>1</td>\n",
       "      <td>17.0</td>\n",
       "      <td>4076287.0</td>\n",
       "      <td>4</td>\n",
       "      <td>171180</td>\n",
       "      <td>0</td>\n",
       "    </tr>\n",
       "    <tr>\n",
       "      <th>...</th>\n",
       "      <td>...</td>\n",
       "      <td>...</td>\n",
       "      <td>...</td>\n",
       "      <td>...</td>\n",
       "      <td>...</td>\n",
       "      <td>...</td>\n",
       "      <td>...</td>\n",
       "    </tr>\n",
       "    <tr>\n",
       "      <th>23901</th>\n",
       "      <td>b600c0720096c241f5aec16b096c6a353492eee8a5855a...</td>\n",
       "      <td>1</td>\n",
       "      <td>17.0</td>\n",
       "      <td>12207.0</td>\n",
       "      <td>2</td>\n",
       "      <td>352123</td>\n",
       "      <td>0</td>\n",
       "    </tr>\n",
       "    <tr>\n",
       "      <th>23902</th>\n",
       "      <td>06c5ea5ccda4dfd8839c0dec8646fb3071d2c02883ef8a...</td>\n",
       "      <td>1</td>\n",
       "      <td>17.0</td>\n",
       "      <td>259985.0</td>\n",
       "      <td>4</td>\n",
       "      <td>352124</td>\n",
       "      <td>0</td>\n",
       "    </tr>\n",
       "    <tr>\n",
       "      <th>23903</th>\n",
       "      <td>0c2dc5fedc3689abf5ff4be14fe8fea8d23d22068297c2...</td>\n",
       "      <td>3</td>\n",
       "      <td>19.0</td>\n",
       "      <td>928963.0</td>\n",
       "      <td>3</td>\n",
       "      <td>352125</td>\n",
       "      <td>0</td>\n",
       "    </tr>\n",
       "    <tr>\n",
       "      <th>23904</th>\n",
       "      <td>ffe5f2bd86ecfd7d0a0f4c4b76dd5c312649be95eb8b42...</td>\n",
       "      <td>3</td>\n",
       "      <td>19.0</td>\n",
       "      <td>21647.0</td>\n",
       "      <td>4</td>\n",
       "      <td>352128</td>\n",
       "      <td>0</td>\n",
       "    </tr>\n",
       "    <tr>\n",
       "      <th>23905</th>\n",
       "      <td>c49b33d1fde790ec03584672903f296e486615adfdc989...</td>\n",
       "      <td>1</td>\n",
       "      <td>19.0</td>\n",
       "      <td>3218731.0</td>\n",
       "      <td>3</td>\n",
       "      <td>352132</td>\n",
       "      <td>0</td>\n",
       "    </tr>\n",
       "  </tbody>\n",
       "</table>\n",
       "<p>23906 rows × 7 columns</p>\n",
       "</div>"
      ],
      "text/plain": [
       "                                                 cust_id  risk_rank  \\\n",
       "0      a39fea9aec90969fe66a2b2b4d1b86368a2d38e8b8d4bf...          3   \n",
       "1      7e42b5dca9b28ee8e5545beb834361e90e6197d176b389...          3   \n",
       "2      a6cdf6302aead77112013168c6d546d2df3bcb551956d2...          1   \n",
       "3      1a3efa69705f611c7ef2384a715c8142e2ee801cfec9df...          3   \n",
       "4      67f8cbb64dd3d447e992b1b299e0ceed3372188e47c88e...          1   \n",
       "...                                                  ...        ...   \n",
       "23901  b600c0720096c241f5aec16b096c6a353492eee8a5855a...          1   \n",
       "23902  06c5ea5ccda4dfd8839c0dec8646fb3071d2c02883ef8a...          1   \n",
       "23903  0c2dc5fedc3689abf5ff4be14fe8fea8d23d22068297c2...          3   \n",
       "23904  ffe5f2bd86ecfd7d0a0f4c4b76dd5c312649be95eb8b42...          3   \n",
       "23905  c49b33d1fde790ec03584672903f296e486615adfdc989...          1   \n",
       "\n",
       "       occupation_code  total_asset  AGE  alert_key  sar_flag  \n",
       "0                 12.0     241719.0    3     171142         0  \n",
       "1                 13.0     599497.0    6     171152         0  \n",
       "2                 19.0      51160.0    4     171177         0  \n",
       "3                  9.0    3634343.0    6     171178         0  \n",
       "4                 17.0    4076287.0    4     171180         0  \n",
       "...                ...          ...  ...        ...       ...  \n",
       "23901             17.0      12207.0    2     352123         0  \n",
       "23902             17.0     259985.0    4     352124         0  \n",
       "23903             19.0     928963.0    3     352125         0  \n",
       "23904             19.0      21647.0    4     352128         0  \n",
       "23905             19.0    3218731.0    3     352132         0  \n",
       "\n",
       "[23906 rows x 7 columns]"
      ]
     },
     "execution_count": 94,
     "metadata": {},
     "output_type": "execute_result"
    }
   ],
   "source": [
    "customer_df = custinfo_df.merge(alert_sar_df, how='inner',on='alert_key')\n",
    "sar_df = customer_df.loc[customer_df.loc[:, \"sar_flag\"] == 1]\n",
    "nsar_df = customer_df.loc[customer_df.loc[:, \"sar_flag\"] == 0]\n",
    "customer_df = customer_df[[\"cust_id\", \"risk_rank\", \"occupation_code\", \"total_asset\", \"AGE\", \"alert_key\", \"sar_flag\"]]\n",
    "customer_df"
   ]
  },
  {
   "cell_type": "code",
   "execution_count": 95,
   "id": "B-y8kRFWdBbt",
   "metadata": {
    "id": "B-y8kRFWdBbt"
   },
   "outputs": [],
   "source": [
    "import matplotlib.pyplot as plt\n",
    "import pandas as pd\n",
    "from pandas import Series\n",
    "\n",
    "def fill_missing_group(series, categories):\n",
    "    dict_obj = series.to_dict()\n",
    "    for c in categories:\n",
    "        if c not in dict_obj:\n",
    "            dict_obj[c] = 0\n",
    "    return Series(dict_obj)"
   ]
  },
  {
   "cell_type": "markdown",
   "id": "oSjhI2_IdBbt",
   "metadata": {
    "id": "oSjhI2_IdBbt"
   },
   "source": [
    "## Risk Rank"
   ]
  },
  {
   "cell_type": "code",
   "execution_count": 96,
   "id": "Ye7YkclcdBbt",
   "metadata": {
    "colab": {
     "base_uri": "https://localhost:8080/",
     "height": 265
    },
    "id": "Ye7YkclcdBbt",
    "outputId": "98e7bd0c-2142-4ca0-c158-e51aaffea39c"
   },
   "outputs": [
    {
     "data": {
      "image/png": "[encoded data removed]",
      "text/plain": [
       "<Figure size 432x288 with 1 Axes>"
      ]
     },
     "metadata": {
      "needs_background": "light"
     },
     "output_type": "display_data"
    }
   ],
   "source": [
    "categories = customer_df.groupby(\"risk_rank\").size().index\n",
    "            \n",
    "risk_rank_df = customer_df[[\"risk_rank\", \"sar_flag\"]]\n",
    "\n",
    "rrs_df = risk_rank_df.loc[risk_rank_df[\"sar_flag\"] == 1]\n",
    "rrs_series = fill_missing_group(rrs_df.groupby(\"risk_rank\").size(), categories)\n",
    "\n",
    "plt.bar(categories, rrs_series, color=\"red\")\n",
    "plt.show()"
   ]
  },
  {
   "cell_type": "code",
   "execution_count": 97,
   "id": "RfQA2THPdBbu",
   "metadata": {
    "colab": {
     "base_uri": "https://localhost:8080/",
     "height": 265
    },
    "id": "RfQA2THPdBbu",
    "outputId": "56ed7802-e775-4500-c337-0ec88e741c90"
   },
   "outputs": [
    {
     "data": {
      "image/png": "[encoded data removed]",
      "text/plain": [
       "<Figure size 432x288 with 1 Axes>"
      ]
     },
     "metadata": {
      "needs_background": "light"
     },
     "output_type": "display_data"
    }
   ],
   "source": [
    "rrns_df = risk_rank_df.loc[risk_rank_df[\"sar_flag\"] == 0]\n",
    "rrns_series = fill_missing_group(rrns_df.groupby(\"risk_rank\").size(), categories)\n",
    "\n",
    "plt.bar(categories, rrns_series, color=\"gray\")\n",
    "plt.show()"
   ]
  },
  {
   "cell_type": "code",
   "execution_count": 98,
   "id": "2KbnWQpTdBbu",
   "metadata": {
    "colab": {
     "base_uri": "https://localhost:8080/",
     "height": 281
    },
    "id": "2KbnWQpTdBbu",
    "outputId": "55b04e67-01f3-4686-c866-df8d8da408e7"
   },
   "outputs": [
    {
     "data": {
      "image/png": "[encoded data removed]",
      "text/plain": [
       "<Figure size 432x288 with 1 Axes>"
      ]
     },
     "metadata": {
      "needs_background": "light"
     },
     "output_type": "display_data"
    }
   ],
   "source": [
    "rrns_normalize_series = rrns_series * (len(rrs_df) / len(rrns_df))\n",
    "\n",
    "plt.title(\"risk rank\")\n",
    "plt.bar(categories, rrns_normalize_series, color=\"gray\", label=\"non_sar\")\n",
    "plt.bar(categories, rrs_series, bottom=rrns_normalize_series, color=\"red\", label=\"sar\")\n",
    "plt.legend()\n",
    "plt.show()"
   ]
  },
  {
   "cell_type": "markdown",
   "id": "6kXzv11SdBbu",
   "metadata": {
    "id": "6kXzv11SdBbu"
   },
   "source": [
    "## Occupation Code"
   ]
  },
  {
   "cell_type": "code",
   "execution_count": 99,
   "id": "r5GX3DmvdBbv",
   "metadata": {
    "colab": {
     "base_uri": "https://localhost:8080/",
     "height": 265
    },
    "id": "r5GX3DmvdBbv",
    "outputId": "7cb30a8a-6c78-4ee8-c77a-b40dbec8d98f"
   },
   "outputs": [
    {
     "data": {
      "image/png": "[encoded data removed]",
      "text/plain": [
       "<Figure size 432x288 with 1 Axes>"
      ]
     },
     "metadata": {
      "needs_background": "light"
     },
     "output_type": "display_data"
    }
   ],
   "source": [
    "occupation_df = customer_df[[\"occupation_code\", \"sar_flag\"]]\n",
    "occ_categories = occupation_df.groupby(\"occupation_code\").size().index\n",
    "\n",
    "occs_df = occupation_df.loc[occupation_df.loc[:, \"sar_flag\"] == 1]\n",
    "occs_series = fill_missing_group(occs_df.groupby(\"occupation_code\").size(), occ_categories)\n",
    "\n",
    "plt.bar(occ_categories, occs_series, color=\"red\")\n",
    "plt.show()"
   ]
  },
  {
   "cell_type": "code",
   "execution_count": 100,
   "id": "P7blcgeVdBbv",
   "metadata": {
    "colab": {
     "base_uri": "https://localhost:8080/",
     "height": 265
    },
    "id": "P7blcgeVdBbv",
    "outputId": "80c89fb7-72ea-48c9-b5d3-1bfa14a19130"
   },
   "outputs": [
    {
     "data": {
      "image/png": "[encoded data removed]",
      "text/plain": [
       "<Figure size 432x288 with 1 Axes>"
      ]
     },
     "metadata": {
      "needs_background": "light"
     },
     "output_type": "display_data"
    }
   ],
   "source": [
    "occns_df = occupation_df.loc[occupation_df.loc[:, \"sar_flag\"] == 0]\n",
    "occns_series = fill_missing_group(occns_df.groupby(\"occupation_code\").size(), occ_categories)\n",
    "\n",
    "plt.bar(occ_categories, occns_series, color=\"grey\")\n",
    "plt.show()"
   ]
  },
  {
   "cell_type": "code",
   "execution_count": 101,
   "id": "4ItSTKoXdBbw",
   "metadata": {
    "colab": {
     "base_uri": "https://localhost:8080/",
     "height": 281
    },
    "id": "4ItSTKoXdBbw",
    "outputId": "c12f8d3c-3654-4e66-b571-d2fcdb83dec6",
    "scrolled": false
   },
   "outputs": [
    {
     "data": {
      "image/png": "[encoded data removed]",
      "text/plain": [
       "<Figure size 432x288 with 1 Axes>"
      ]
     },
     "metadata": {
      "needs_background": "light"
     },
     "output_type": "display_data"
    }
   ],
   "source": [
    "occns_normalize_series = occns_series * (len(occs_df) / len(occns_df))\n",
    "\n",
    "plt.title(\"occupation\")\n",
    "plt.bar(occ_categories, occns_normalize_series, color=\"gray\", label=\"non_sar\")\n",
    "plt.bar(occ_categories, occs_series, bottom=occns_normalize_series, color=\"red\", label=\"sar\")\n",
    "plt.legend()\n",
    "plt.show()"
   ]
  },
  {
   "cell_type": "markdown",
   "id": "go8WxjRidBbw",
   "metadata": {
    "id": "go8WxjRidBbw"
   },
   "source": [
    "## Total Asset \n",
    "\n"
   ]
  },
  {
   "cell_type": "code",
   "execution_count": 102,
   "id": "UqiBE6BRdBbx",
   "metadata": {
    "colab": {
     "base_uri": "https://localhost:8080/",
     "height": 294
    },
    "id": "UqiBE6BRdBbx",
    "outputId": "9131fb28-2208-4952-f694-a6a1bc3549f8"
   },
   "outputs": [
    {
     "data": {
      "image/png": "[encoded data removed]",
      "text/plain": [
       "<Figure size 432x288 with 1 Axes>"
      ]
     },
     "metadata": {
      "needs_background": "light"
     },
     "output_type": "display_data"
    }
   ],
   "source": [
    "ta_df = customer_df[[\"total_asset\", \"sar_flag\"]]\n",
    "tas_df = ta_df.loc[ta_df.loc[:, \"sar_flag\"] == 1]\n",
    "tans_df = ta_df.loc[ta_df.loc[:, \"sar_flag\"] == 0]\n",
    "\n",
    "tans_df = tans_df.sample(n = 240)\n",
    "\n",
    "kwargs = dict(alpha=0.5)\n",
    "plt.title(\"total asset (log)\")\n",
    "plt.hist(tas_df[\"total_asset\"], **kwargs, color = \"red\", label=\"sar\", log = True)\n",
    "plt.hist(tans_df[\"total_asset\"], **kwargs, color = \"grey\", label=\"non_sar\", log = True)\n",
    "plt.legend()\n",
    "plt.show()"
   ]
  },
  {
   "cell_type": "markdown",
   "id": "DCfsQZyqdBby",
   "metadata": {
    "id": "DCfsQZyqdBby"
   },
   "source": [
    "## AGE"
   ]
  },
  {
   "cell_type": "code",
   "execution_count": 103,
   "id": "mwZ76RANdBbz",
   "metadata": {
    "colab": {
     "base_uri": "https://localhost:8080/",
     "height": 281
    },
    "id": "mwZ76RANdBbz",
    "outputId": "78995b22-c336-44cf-80d7-4b0db2369809",
    "scrolled": true
   },
   "outputs": [
    {
     "data": {
      "image/png": "[encoded data removed]",
      "text/plain": [
       "<Figure size 432x288 with 1 Axes>"
      ]
     },
     "metadata": {
      "needs_background": "light"
     },
     "output_type": "display_data"
    }
   ],
   "source": [
    "a_df = customer_df[[\"AGE\", \"sar_flag\"]]\n",
    "as_df = a_df.loc[a_df.loc[:, \"sar_flag\"] == 1]\n",
    "ans_df = a_df.loc[a_df.loc[:, \"sar_flag\"] == 0]\n",
    "\n",
    "ans_df = ans_df.sample(n = 240)\n",
    "\n",
    "kwargs = dict(alpha=0.5)\n",
    "plt.title(\"AGE (log)\")\n",
    "plt.hist(as_df[\"AGE\"], **kwargs, color = \"red\", label=\"sar\", log = True)\n",
    "plt.hist(ans_df[\"AGE\"], **kwargs, color = \"grey\", label=\"non_sar\", log = True)\n",
    "plt.legend()\n",
    "plt.show()"
   ]
  },
  {
   "cell_type": "code",
   "execution_count": null,
   "id": "7df25326",
   "metadata": {},
   "outputs": [],
   "source": []
  },
  {
   "cell_type": "markdown",
   "id": "rgh6xIngdBb0",
   "metadata": {
    "id": "rgh6xIngdBb0"
   },
   "source": [
    "# BaseLine "
   ]
  },
  {
   "cell_type": "code",
   "execution_count": 104,
   "id": "idzOrcwpdBb0",
   "metadata": {
    "colab": {
     "base_uri": "https://localhost:8080/",
     "height": 348
    },
    "id": "idzOrcwpdBb0",
    "outputId": "97b932e6-5cd2-4e64-b3e2-ab2ee89e1132"
   },
   "outputs": [
    {
     "name": "stdout",
     "output_type": "stream",
     "text": [
      "precision:  0.03571428571428571\n",
      "recall:  0.01818181818181818\n",
      "f1 score:  0.024096385542168672\n"
     ]
    },
    {
     "data": {
      "text/plain": [
       "<sklearn.metrics._plot.confusion_matrix.ConfusionMatrixDisplay at 0x1cfaaf106d0>"
      ]
     },
     "execution_count": 104,
     "metadata": {},
     "output_type": "execute_result"
    },
    {
     "data": {
      "image/png": "[encoded data removed]",
      "text/plain": [
       "<Figure size 432x288 with 2 Axes>"
      ]
     },
     "metadata": {
      "needs_background": "light"
     },
     "output_type": "display_data"
    }
   ],
   "source": [
    "\n",
    "from sklearn.tree import DecisionTreeClassifier\n",
    "from sklearn.model_selection import train_test_split\n",
    "from sklearn.metrics import accuracy_score, precision_score, recall_score, f1_score, confusion_matrix \n",
    "from sklearn.metrics import ConfusionMatrixDisplay\n",
    "\n",
    "dt_df = customer_df.copy()\n",
    "X = dt_df[[\"risk_rank\", \"occupation_code\", \"total_asset\", \"AGE\"]]\n",
    "y = dt_df[\"sar_flag\"]\n",
    "X = X.fillna(99)\n",
    "\n",
    "X_train, X_test, y_train, y_test = train_test_split(X, y, test_size = 0.2)\n",
    "\n",
    "dtc = DecisionTreeClassifier()\n",
    "model = dtc.fit(X_train, y_train)\n",
    "\n",
    "y_predict = model.predict(X_test)\n",
    "\n",
    "print(\"precision: \", precision_score(y_test, y_predict))\n",
    "print(\"recall: \", recall_score(y_test, y_predict))\n",
    "print(\"f1 score: \", f1_score(y_test, y_predict))\n",
    "\n",
    "cm = confusion_matrix(y_test, y_predict)\n",
    "display = ConfusionMatrixDisplay(confusion_matrix = cm)\n",
    "display.plot()\n"
   ]
  },
  {
   "cell_type": "markdown",
   "id": "fGMox5-rdBb1",
   "metadata": {
    "id": "fGMox5-rdBb1"
   },
   "source": [
    "## Initial Thoughts\n",
    "1. Many transactions on the same day seams suspicious\n",
    "\n"
   ]
  },
  {
   "cell_type": "markdown",
   "id": "LVWcdhWUywrQ",
   "metadata": {
    "id": "LVWcdhWUywrQ"
   },
   "source": [
    "----"
   ]
  },
  {
   "cell_type": "markdown",
   "id": "u933fQnXy3G5",
   "metadata": {
    "id": "u933fQnXy3G5"
   },
   "source": [
    "# Time Series"
   ]
  },
  {
   "cell_type": "code",
   "execution_count": 105,
   "id": "AMs4cem5uXMe",
   "metadata": {
    "id": "AMs4cem5uXMe"
   },
   "outputs": [],
   "source": [
    "y_df = customer_df[['cust_id','sar_flag']].set_index('cust_id')"
   ]
  },
  {
   "cell_type": "code",
   "execution_count": 106,
   "id": "OLXjck98sJwr",
   "metadata": {
    "colab": {
     "base_uri": "https://localhost:8080/",
     "height": 519
    },
    "id": "OLXjck98sJwr",
    "outputId": "cbb6e7c5-1cb9-48cc-bbad-66bd6ad943d5"
   },
   "outputs": [
    {
     "data": {
      "text/html": [
       "<div>\n",
       "<style scoped>\n",
       "    .dataframe tbody tr th:only-of-type {\n",
       "        vertical-align: middle;\n",
       "    }\n",
       "\n",
       "    .dataframe tbody tr th {\n",
       "        vertical-align: top;\n",
       "    }\n",
       "\n",
       "    .dataframe thead th {\n",
       "        text-align: right;\n",
       "    }\n",
       "</style>\n",
       "<table border=\"1\" class=\"dataframe\">\n",
       "  <thead>\n",
       "    <tr style=\"text-align: right;\">\n",
       "      <th>cust_id</th>\n",
       "      <th>3e91bc7d6a3c2a72b56445dbe8aed03a68dea3a2f53c0918084d95965ab1e723</th>\n",
       "      <th>e73cf871caf6e472164b0f265392094cacd6a6139961f3b6f918389483c90823</th>\n",
       "      <th>dc1593c6a77feaa5bc62b4c4a4b9ffd0577ab46ed35dd2136db19834f8630184</th>\n",
       "      <th>f191575777ee3fec216414f04677ceee4b1c94f9654e6d1d018da0e00cc15bb9</th>\n",
       "      <th>5e33b1703b1983340e6537bd5170cf469da569364d1f37bb326ef0ff25eb1b98</th>\n",
       "      <th>540956f7910f96e94ec002ac882a75be2a7212287be0ce5930dccc12d0abafa1</th>\n",
       "      <th>c3f4fc7e760644754257a60e4f849c79ce62dfb6dd4ab9d54aa20f1b665069b9</th>\n",
       "      <th>9a3ffc47eb5a957ab15a507d641afb556c9cd7b7159b4090745bebd745203a41</th>\n",
       "      <th>36243317cbcbe67c89433d99d583be51083d2210de5745e72c440998e4efcd49</th>\n",
       "      <th>03ce53f74b4ae2d6860bba171942cc6de335ea1eeb22a175d5cfe82fdf264e81</th>\n",
       "      <th>...</th>\n",
       "      <th>c9a141457cfb59b3ac1d437fa608c9504aa4f6ac9a9cdf5ebaaebdd5b314a311</th>\n",
       "      <th>369ade5c61774366f6cc0118b501433d5b522a99079c2f9e3dd99d7bb8ec7ee6</th>\n",
       "      <th>ab5a302db4251c1e6769aca004bba20d63f50b1614245a900e45da89d2ac08c6</th>\n",
       "      <th>dbcd2468cad9caaa6990ce9cd61b1f13d428835e18f2786cabab6479914d8086</th>\n",
       "      <th>1c23013102e1abd95105fe8b81636fbf37e707bf469c4743d570cad43c22fa6b</th>\n",
       "      <th>701cc14702a42f197624ef26a56711acd08e6c8e885d969e02d911f762986737</th>\n",
       "      <th>840066039c99ba5225bb895ab417e77c0a2ffe853aa6b706872aac4c896f7620</th>\n",
       "      <th>61c021be7eaf3e34bb024a5d77715804bd161918ff3ac3dee85af7eb0dec8053</th>\n",
       "      <th>0d8fad045fd9208f7c8efaaf2b0ad32972c4167bfc4a16e9a0597abe4e22d39f</th>\n",
       "      <th>8a89be5b38f76afa6deeb419c9efd97fca86463faba234f3d798db28be3a91f6</th>\n",
       "    </tr>\n",
       "    <tr>\n",
       "      <th>date</th>\n",
       "      <th></th>\n",
       "      <th></th>\n",
       "      <th></th>\n",
       "      <th></th>\n",
       "      <th></th>\n",
       "      <th></th>\n",
       "      <th></th>\n",
       "      <th></th>\n",
       "      <th></th>\n",
       "      <th></th>\n",
       "      <th></th>\n",
       "      <th></th>\n",
       "      <th></th>\n",
       "      <th></th>\n",
       "      <th></th>\n",
       "      <th></th>\n",
       "      <th></th>\n",
       "      <th></th>\n",
       "      <th></th>\n",
       "      <th></th>\n",
       "      <th></th>\n",
       "    </tr>\n",
       "  </thead>\n",
       "  <tbody>\n",
       "    <tr>\n",
       "      <th>0</th>\n",
       "      <td>0.0</td>\n",
       "      <td>0.0</td>\n",
       "      <td>0.0</td>\n",
       "      <td>0.0</td>\n",
       "      <td>410.0</td>\n",
       "      <td>0.0</td>\n",
       "      <td>161.0</td>\n",
       "      <td>55309.0</td>\n",
       "      <td>330.0</td>\n",
       "      <td>0.0</td>\n",
       "      <td>...</td>\n",
       "      <td>0.0</td>\n",
       "      <td>0.0</td>\n",
       "      <td>0.0</td>\n",
       "      <td>0.0</td>\n",
       "      <td>0.0</td>\n",
       "      <td>0.0</td>\n",
       "      <td>0.0</td>\n",
       "      <td>0.0</td>\n",
       "      <td>0.0</td>\n",
       "      <td>0.0</td>\n",
       "    </tr>\n",
       "    <tr>\n",
       "      <th>1</th>\n",
       "      <td>4845.0</td>\n",
       "      <td>0.0</td>\n",
       "      <td>0.0</td>\n",
       "      <td>0.0</td>\n",
       "      <td>0.0</td>\n",
       "      <td>0.0</td>\n",
       "      <td>0.0</td>\n",
       "      <td>0.0</td>\n",
       "      <td>14926.0</td>\n",
       "      <td>0.0</td>\n",
       "      <td>...</td>\n",
       "      <td>0.0</td>\n",
       "      <td>0.0</td>\n",
       "      <td>0.0</td>\n",
       "      <td>0.0</td>\n",
       "      <td>0.0</td>\n",
       "      <td>3130.0</td>\n",
       "      <td>0.0</td>\n",
       "      <td>0.0</td>\n",
       "      <td>0.0</td>\n",
       "      <td>0.0</td>\n",
       "    </tr>\n",
       "    <tr>\n",
       "      <th>2</th>\n",
       "      <td>0.0</td>\n",
       "      <td>0.0</td>\n",
       "      <td>0.0</td>\n",
       "      <td>0.0</td>\n",
       "      <td>0.0</td>\n",
       "      <td>0.0</td>\n",
       "      <td>0.0</td>\n",
       "      <td>0.0</td>\n",
       "      <td>39338.0</td>\n",
       "      <td>0.0</td>\n",
       "      <td>...</td>\n",
       "      <td>0.0</td>\n",
       "      <td>0.0</td>\n",
       "      <td>3446.0</td>\n",
       "      <td>0.0</td>\n",
       "      <td>0.0</td>\n",
       "      <td>39425.0</td>\n",
       "      <td>0.0</td>\n",
       "      <td>0.0</td>\n",
       "      <td>0.0</td>\n",
       "      <td>0.0</td>\n",
       "    </tr>\n",
       "    <tr>\n",
       "      <th>3</th>\n",
       "      <td>0.0</td>\n",
       "      <td>0.0</td>\n",
       "      <td>0.0</td>\n",
       "      <td>0.0</td>\n",
       "      <td>0.0</td>\n",
       "      <td>0.0</td>\n",
       "      <td>319.0</td>\n",
       "      <td>0.0</td>\n",
       "      <td>2714.0</td>\n",
       "      <td>0.0</td>\n",
       "      <td>...</td>\n",
       "      <td>0.0</td>\n",
       "      <td>0.0</td>\n",
       "      <td>4951.0</td>\n",
       "      <td>0.0</td>\n",
       "      <td>0.0</td>\n",
       "      <td>8515.0</td>\n",
       "      <td>0.0</td>\n",
       "      <td>0.0</td>\n",
       "      <td>0.0</td>\n",
       "      <td>0.0</td>\n",
       "    </tr>\n",
       "    <tr>\n",
       "      <th>4</th>\n",
       "      <td>0.0</td>\n",
       "      <td>0.0</td>\n",
       "      <td>0.0</td>\n",
       "      <td>0.0</td>\n",
       "      <td>0.0</td>\n",
       "      <td>0.0</td>\n",
       "      <td>0.0</td>\n",
       "      <td>956.0</td>\n",
       "      <td>12222.0</td>\n",
       "      <td>0.0</td>\n",
       "      <td>...</td>\n",
       "      <td>0.0</td>\n",
       "      <td>0.0</td>\n",
       "      <td>0.0</td>\n",
       "      <td>0.0</td>\n",
       "      <td>0.0</td>\n",
       "      <td>7263.0</td>\n",
       "      <td>0.0</td>\n",
       "      <td>0.0</td>\n",
       "      <td>0.0</td>\n",
       "      <td>0.0</td>\n",
       "    </tr>\n",
       "    <tr>\n",
       "      <th>...</th>\n",
       "      <td>...</td>\n",
       "      <td>...</td>\n",
       "      <td>...</td>\n",
       "      <td>...</td>\n",
       "      <td>...</td>\n",
       "      <td>...</td>\n",
       "      <td>...</td>\n",
       "      <td>...</td>\n",
       "      <td>...</td>\n",
       "      <td>...</td>\n",
       "      <td>...</td>\n",
       "      <td>...</td>\n",
       "      <td>...</td>\n",
       "      <td>...</td>\n",
       "      <td>...</td>\n",
       "      <td>...</td>\n",
       "      <td>...</td>\n",
       "      <td>...</td>\n",
       "      <td>...</td>\n",
       "      <td>...</td>\n",
       "      <td>...</td>\n",
       "    </tr>\n",
       "    <tr>\n",
       "      <th>390</th>\n",
       "      <td>0.0</td>\n",
       "      <td>0.0</td>\n",
       "      <td>0.0</td>\n",
       "      <td>0.0</td>\n",
       "      <td>0.0</td>\n",
       "      <td>0.0</td>\n",
       "      <td>0.0</td>\n",
       "      <td>0.0</td>\n",
       "      <td>0.0</td>\n",
       "      <td>0.0</td>\n",
       "      <td>...</td>\n",
       "      <td>123.0</td>\n",
       "      <td>0.0</td>\n",
       "      <td>0.0</td>\n",
       "      <td>0.0</td>\n",
       "      <td>0.0</td>\n",
       "      <td>0.0</td>\n",
       "      <td>0.0</td>\n",
       "      <td>0.0</td>\n",
       "      <td>0.0</td>\n",
       "      <td>0.0</td>\n",
       "    </tr>\n",
       "    <tr>\n",
       "      <th>391</th>\n",
       "      <td>0.0</td>\n",
       "      <td>0.0</td>\n",
       "      <td>1335.0</td>\n",
       "      <td>0.0</td>\n",
       "      <td>0.0</td>\n",
       "      <td>0.0</td>\n",
       "      <td>0.0</td>\n",
       "      <td>0.0</td>\n",
       "      <td>0.0</td>\n",
       "      <td>0.0</td>\n",
       "      <td>...</td>\n",
       "      <td>0.0</td>\n",
       "      <td>0.0</td>\n",
       "      <td>0.0</td>\n",
       "      <td>0.0</td>\n",
       "      <td>0.0</td>\n",
       "      <td>0.0</td>\n",
       "      <td>0.0</td>\n",
       "      <td>0.0</td>\n",
       "      <td>0.0</td>\n",
       "      <td>0.0</td>\n",
       "    </tr>\n",
       "    <tr>\n",
       "      <th>392</th>\n",
       "      <td>0.0</td>\n",
       "      <td>0.0</td>\n",
       "      <td>2655.0</td>\n",
       "      <td>0.0</td>\n",
       "      <td>0.0</td>\n",
       "      <td>0.0</td>\n",
       "      <td>0.0</td>\n",
       "      <td>0.0</td>\n",
       "      <td>0.0</td>\n",
       "      <td>0.0</td>\n",
       "      <td>...</td>\n",
       "      <td>404.0</td>\n",
       "      <td>0.0</td>\n",
       "      <td>0.0</td>\n",
       "      <td>0.0</td>\n",
       "      <td>0.0</td>\n",
       "      <td>0.0</td>\n",
       "      <td>0.0</td>\n",
       "      <td>226.0</td>\n",
       "      <td>0.0</td>\n",
       "      <td>0.0</td>\n",
       "    </tr>\n",
       "    <tr>\n",
       "      <th>393</th>\n",
       "      <td>0.0</td>\n",
       "      <td>0.0</td>\n",
       "      <td>0.0</td>\n",
       "      <td>0.0</td>\n",
       "      <td>0.0</td>\n",
       "      <td>0.0</td>\n",
       "      <td>6557.0</td>\n",
       "      <td>0.0</td>\n",
       "      <td>0.0</td>\n",
       "      <td>0.0</td>\n",
       "      <td>...</td>\n",
       "      <td>0.0</td>\n",
       "      <td>0.0</td>\n",
       "      <td>0.0</td>\n",
       "      <td>0.0</td>\n",
       "      <td>0.0</td>\n",
       "      <td>0.0</td>\n",
       "      <td>165.0</td>\n",
       "      <td>16783.0</td>\n",
       "      <td>0.0</td>\n",
       "      <td>4821.0</td>\n",
       "    </tr>\n",
       "    <tr>\n",
       "      <th>394</th>\n",
       "      <td>0.0</td>\n",
       "      <td>0.0</td>\n",
       "      <td>2655.0</td>\n",
       "      <td>0.0</td>\n",
       "      <td>0.0</td>\n",
       "      <td>0.0</td>\n",
       "      <td>0.0</td>\n",
       "      <td>0.0</td>\n",
       "      <td>0.0</td>\n",
       "      <td>0.0</td>\n",
       "      <td>...</td>\n",
       "      <td>0.0</td>\n",
       "      <td>0.0</td>\n",
       "      <td>758.0</td>\n",
       "      <td>0.0</td>\n",
       "      <td>1160.0</td>\n",
       "      <td>0.0</td>\n",
       "      <td>0.0</td>\n",
       "      <td>0.0</td>\n",
       "      <td>0.0</td>\n",
       "      <td>0.0</td>\n",
       "    </tr>\n",
       "  </tbody>\n",
       "</table>\n",
       "<p>395 rows × 3688 columns</p>\n",
       "</div>"
      ],
      "text/plain": [
       "cust_id  3e91bc7d6a3c2a72b56445dbe8aed03a68dea3a2f53c0918084d95965ab1e723  \\\n",
       "date                                                                        \n",
       "0                                                      0.0                  \n",
       "1                                                   4845.0                  \n",
       "2                                                      0.0                  \n",
       "3                                                      0.0                  \n",
       "4                                                      0.0                  \n",
       "...                                                    ...                  \n",
       "390                                                    0.0                  \n",
       "391                                                    0.0                  \n",
       "392                                                    0.0                  \n",
       "393                                                    0.0                  \n",
       "394                                                    0.0                  \n",
       "\n",
       "cust_id  e73cf871caf6e472164b0f265392094cacd6a6139961f3b6f918389483c90823  \\\n",
       "date                                                                        \n",
       "0                                                      0.0                  \n",
       "1                                                      0.0                  \n",
       "2                                                      0.0                  \n",
       "3                                                      0.0                  \n",
       "4                                                      0.0                  \n",
       "...                                                    ...                  \n",
       "390                                                    0.0                  \n",
       "391                                                    0.0                  \n",
       "392                                                    0.0                  \n",
       "393                                                    0.0                  \n",
       "394                                                    0.0                  \n",
       "\n",
       "cust_id  dc1593c6a77feaa5bc62b4c4a4b9ffd0577ab46ed35dd2136db19834f8630184  \\\n",
       "date                                                                        \n",
       "0                                                      0.0                  \n",
       "1                                                      0.0                  \n",
       "2                                                      0.0                  \n",
       "3                                                      0.0                  \n",
       "4                                                      0.0                  \n",
       "...                                                    ...                  \n",
       "390                                                    0.0                  \n",
       "391                                                 1335.0                  \n",
       "392                                                 2655.0                  \n",
       "393                                                    0.0                  \n",
       "394                                                 2655.0                  \n",
       "\n",
       "cust_id  f191575777ee3fec216414f04677ceee4b1c94f9654e6d1d018da0e00cc15bb9  \\\n",
       "date                                                                        \n",
       "0                                                      0.0                  \n",
       "1                                                      0.0                  \n",
       "2                                                      0.0                  \n",
       "3                                                      0.0                  \n",
       "4                                                      0.0                  \n",
       "...                                                    ...                  \n",
       "390                                                    0.0                  \n",
       "391                                                    0.0                  \n",
       "392                                                    0.0                  \n",
       "393                                                    0.0                  \n",
       "394                                                    0.0                  \n",
       "\n",
       "cust_id  5e33b1703b1983340e6537bd5170cf469da569364d1f37bb326ef0ff25eb1b98  \\\n",
       "date                                                                        \n",
       "0                                                    410.0                  \n",
       "1                                                      0.0                  \n",
       "2                                                      0.0                  \n",
       "3                                                      0.0                  \n",
       "4                                                      0.0                  \n",
       "...                                                    ...                  \n",
       "390                                                    0.0                  \n",
       "391                                                    0.0                  \n",
       "392                                                    0.0                  \n",
       "393                                                    0.0                  \n",
       "394                                                    0.0                  \n",
       "\n",
       "cust_id  540956f7910f96e94ec002ac882a75be2a7212287be0ce5930dccc12d0abafa1  \\\n",
       "date                                                                        \n",
       "0                                                      0.0                  \n",
       "1                                                      0.0                  \n",
       "2                                                      0.0                  \n",
       "3                                                      0.0                  \n",
       "4                                                      0.0                  \n",
       "...                                                    ...                  \n",
       "390                                                    0.0                  \n",
       "391                                                    0.0                  \n",
       "392                                                    0.0                  \n",
       "393                                                    0.0                  \n",
       "394                                                    0.0                  \n",
       "\n",
       "cust_id  c3f4fc7e760644754257a60e4f849c79ce62dfb6dd4ab9d54aa20f1b665069b9  \\\n",
       "date                                                                        \n",
       "0                                                    161.0                  \n",
       "1                                                      0.0                  \n",
       "2                                                      0.0                  \n",
       "3                                                    319.0                  \n",
       "4                                                      0.0                  \n",
       "...                                                    ...                  \n",
       "390                                                    0.0                  \n",
       "391                                                    0.0                  \n",
       "392                                                    0.0                  \n",
       "393                                                 6557.0                  \n",
       "394                                                    0.0                  \n",
       "\n",
       "cust_id  9a3ffc47eb5a957ab15a507d641afb556c9cd7b7159b4090745bebd745203a41  \\\n",
       "date                                                                        \n",
       "0                                                  55309.0                  \n",
       "1                                                      0.0                  \n",
       "2                                                      0.0                  \n",
       "3                                                      0.0                  \n",
       "4                                                    956.0                  \n",
       "...                                                    ...                  \n",
       "390                                                    0.0                  \n",
       "391                                                    0.0                  \n",
       "392                                                    0.0                  \n",
       "393                                                    0.0                  \n",
       "394                                                    0.0                  \n",
       "\n",
       "cust_id  36243317cbcbe67c89433d99d583be51083d2210de5745e72c440998e4efcd49  \\\n",
       "date                                                                        \n",
       "0                                                    330.0                  \n",
       "1                                                  14926.0                  \n",
       "2                                                  39338.0                  \n",
       "3                                                   2714.0                  \n",
       "4                                                  12222.0                  \n",
       "...                                                    ...                  \n",
       "390                                                    0.0                  \n",
       "391                                                    0.0                  \n",
       "392                                                    0.0                  \n",
       "393                                                    0.0                  \n",
       "394                                                    0.0                  \n",
       "\n",
       "cust_id  03ce53f74b4ae2d6860bba171942cc6de335ea1eeb22a175d5cfe82fdf264e81  \\\n",
       "date                                                                        \n",
       "0                                                      0.0                  \n",
       "1                                                      0.0                  \n",
       "2                                                      0.0                  \n",
       "3                                                      0.0                  \n",
       "4                                                      0.0                  \n",
       "...                                                    ...                  \n",
       "390                                                    0.0                  \n",
       "391                                                    0.0                  \n",
       "392                                                    0.0                  \n",
       "393                                                    0.0                  \n",
       "394                                                    0.0                  \n",
       "\n",
       "cust_id  ...  \\\n",
       "date     ...   \n",
       "0        ...   \n",
       "1        ...   \n",
       "2        ...   \n",
       "3        ...   \n",
       "4        ...   \n",
       "...      ...   \n",
       "390      ...   \n",
       "391      ...   \n",
       "392      ...   \n",
       "393      ...   \n",
       "394      ...   \n",
       "\n",
       "cust_id  c9a141457cfb59b3ac1d437fa608c9504aa4f6ac9a9cdf5ebaaebdd5b314a311  \\\n",
       "date                                                                        \n",
       "0                                                      0.0                  \n",
       "1                                                      0.0                  \n",
       "2                                                      0.0                  \n",
       "3                                                      0.0                  \n",
       "4                                                      0.0                  \n",
       "...                                                    ...                  \n",
       "390                                                  123.0                  \n",
       "391                                                    0.0                  \n",
       "392                                                  404.0                  \n",
       "393                                                    0.0                  \n",
       "394                                                    0.0                  \n",
       "\n",
       "cust_id  369ade5c61774366f6cc0118b501433d5b522a99079c2f9e3dd99d7bb8ec7ee6  \\\n",
       "date                                                                        \n",
       "0                                                      0.0                  \n",
       "1                                                      0.0                  \n",
       "2                                                      0.0                  \n",
       "3                                                      0.0                  \n",
       "4                                                      0.0                  \n",
       "...                                                    ...                  \n",
       "390                                                    0.0                  \n",
       "391                                                    0.0                  \n",
       "392                                                    0.0                  \n",
       "393                                                    0.0                  \n",
       "394                                                    0.0                  \n",
       "\n",
       "cust_id  ab5a302db4251c1e6769aca004bba20d63f50b1614245a900e45da89d2ac08c6  \\\n",
       "date                                                                        \n",
       "0                                                      0.0                  \n",
       "1                                                      0.0                  \n",
       "2                                                   3446.0                  \n",
       "3                                                   4951.0                  \n",
       "4                                                      0.0                  \n",
       "...                                                    ...                  \n",
       "390                                                    0.0                  \n",
       "391                                                    0.0                  \n",
       "392                                                    0.0                  \n",
       "393                                                    0.0                  \n",
       "394                                                  758.0                  \n",
       "\n",
       "cust_id  dbcd2468cad9caaa6990ce9cd61b1f13d428835e18f2786cabab6479914d8086  \\\n",
       "date                                                                        \n",
       "0                                                      0.0                  \n",
       "1                                                      0.0                  \n",
       "2                                                      0.0                  \n",
       "3                                                      0.0                  \n",
       "4                                                      0.0                  \n",
       "...                                                    ...                  \n",
       "390                                                    0.0                  \n",
       "391                                                    0.0                  \n",
       "392                                                    0.0                  \n",
       "393                                                    0.0                  \n",
       "394                                                    0.0                  \n",
       "\n",
       "cust_id  1c23013102e1abd95105fe8b81636fbf37e707bf469c4743d570cad43c22fa6b  \\\n",
       "date                                                                        \n",
       "0                                                      0.0                  \n",
       "1                                                      0.0                  \n",
       "2                                                      0.0                  \n",
       "3                                                      0.0                  \n",
       "4                                                      0.0                  \n",
       "...                                                    ...                  \n",
       "390                                                    0.0                  \n",
       "391                                                    0.0                  \n",
       "392                                                    0.0                  \n",
       "393                                                    0.0                  \n",
       "394                                                 1160.0                  \n",
       "\n",
       "cust_id  701cc14702a42f197624ef26a56711acd08e6c8e885d969e02d911f762986737  \\\n",
       "date                                                                        \n",
       "0                                                      0.0                  \n",
       "1                                                   3130.0                  \n",
       "2                                                  39425.0                  \n",
       "3                                                   8515.0                  \n",
       "4                                                   7263.0                  \n",
       "...                                                    ...                  \n",
       "390                                                    0.0                  \n",
       "391                                                    0.0                  \n",
       "392                                                    0.0                  \n",
       "393                                                    0.0                  \n",
       "394                                                    0.0                  \n",
       "\n",
       "cust_id  840066039c99ba5225bb895ab417e77c0a2ffe853aa6b706872aac4c896f7620  \\\n",
       "date                                                                        \n",
       "0                                                      0.0                  \n",
       "1                                                      0.0                  \n",
       "2                                                      0.0                  \n",
       "3                                                      0.0                  \n",
       "4                                                      0.0                  \n",
       "...                                                    ...                  \n",
       "390                                                    0.0                  \n",
       "391                                                    0.0                  \n",
       "392                                                    0.0                  \n",
       "393                                                  165.0                  \n",
       "394                                                    0.0                  \n",
       "\n",
       "cust_id  61c021be7eaf3e34bb024a5d77715804bd161918ff3ac3dee85af7eb0dec8053  \\\n",
       "date                                                                        \n",
       "0                                                      0.0                  \n",
       "1                                                      0.0                  \n",
       "2                                                      0.0                  \n",
       "3                                                      0.0                  \n",
       "4                                                      0.0                  \n",
       "...                                                    ...                  \n",
       "390                                                    0.0                  \n",
       "391                                                    0.0                  \n",
       "392                                                  226.0                  \n",
       "393                                                16783.0                  \n",
       "394                                                    0.0                  \n",
       "\n",
       "cust_id  0d8fad045fd9208f7c8efaaf2b0ad32972c4167bfc4a16e9a0597abe4e22d39f  \\\n",
       "date                                                                        \n",
       "0                                                      0.0                  \n",
       "1                                                      0.0                  \n",
       "2                                                      0.0                  \n",
       "3                                                      0.0                  \n",
       "4                                                      0.0                  \n",
       "...                                                    ...                  \n",
       "390                                                    0.0                  \n",
       "391                                                    0.0                  \n",
       "392                                                    0.0                  \n",
       "393                                                    0.0                  \n",
       "394                                                    0.0                  \n",
       "\n",
       "cust_id  8a89be5b38f76afa6deeb419c9efd97fca86463faba234f3d798db28be3a91f6  \n",
       "date                                                                       \n",
       "0                                                      0.0                 \n",
       "1                                                      0.0                 \n",
       "2                                                      0.0                 \n",
       "3                                                      0.0                 \n",
       "4                                                      0.0                 \n",
       "...                                                    ...                 \n",
       "390                                                    0.0                 \n",
       "391                                                    0.0                 \n",
       "392                                                    0.0                 \n",
       "393                                                 4821.0                 \n",
       "394                                                    0.0                 \n",
       "\n",
       "[395 rows x 3688 columns]"
      ]
     },
     "execution_count": 106,
     "metadata": {},
     "output_type": "execute_result"
    }
   ],
   "source": [
    "##pivot\n",
    "cdtx_pivot = pd.pivot_table(cdtx_df, values='amt', index=['date'], columns=['cust_id'], aggfunc=np.sum)\n",
    "cdtx_pivot = cdtx_pivot.fillna(0)\n",
    "cdtx_pivot = cdtx_pivot[list(set(y_df.index) & set(cdtx_pivot.columns))]\n",
    "cdtx_pivot\n",
    "\n",
    "##you may use pd.resample to change frequency"
   ]
  },
  {
   "cell_type": "code",
   "execution_count": 107,
   "id": "RLcMJuVchmIY",
   "metadata": {
    "colab": {
     "base_uri": "https://localhost:8080/",
     "height": 519
    },
    "id": "RLcMJuVchmIY",
    "outputId": "412abb62-89b3-43ed-95d2-6f63b75c89b5"
   },
   "outputs": [
    {
     "data": {
      "text/html": [
       "<div>\n",
       "<style scoped>\n",
       "    .dataframe tbody tr th:only-of-type {\n",
       "        vertical-align: middle;\n",
       "    }\n",
       "\n",
       "    .dataframe tbody tr th {\n",
       "        vertical-align: top;\n",
       "    }\n",
       "\n",
       "    .dataframe thead th {\n",
       "        text-align: right;\n",
       "    }\n",
       "</style>\n",
       "<table border=\"1\" class=\"dataframe\">\n",
       "  <thead>\n",
       "    <tr style=\"text-align: right;\">\n",
       "      <th>cust_id</th>\n",
       "      <th>540956f7910f96e94ec002ac882a75be2a7212287be0ce5930dccc12d0abafa1</th>\n",
       "      <th>b8d6faf7172dc97d42400bc32aedff190f77323976f42e8efc7a1f6d06f77879</th>\n",
       "      <th>569a1787c8dfb7459f7fffbc78792c05fc282ee5f85c028ca9e71ea58b190f44</th>\n",
       "      <th>01c3f5aa308f5a92beafce898c03dbec68e60db94c656e2187594ed028f8e32c</th>\n",
       "      <th>48a2ae9415402ff9d73e1ce4487123434e1888da644b1e835e6bbd86b96b84ad</th>\n",
       "      <th>20b9a1a838214764fd514b0b1fedd59faeac162222cd18baa5f50b3131437435</th>\n",
       "      <th>9dfa9b1d77c09ee54a8ace8c06dc02a85c14a884393133552faaa0c156ca5477</th>\n",
       "      <th>f953a1a9667e28f1287d4ea54ff616c1a80be1e376a02a0fbf3dedabca5dc0fc</th>\n",
       "      <th>d858622ca6a78ae5a808a925f3915ca09b9761ba8a8afa75c9ae44d9ad4199be</th>\n",
       "      <th>b9053f1cdeabfa6a178e73490680693c67e47aaf40b2a4a1a9e6ea57afa2f595</th>\n",
       "      <th>...</th>\n",
       "      <th>fcb96d79cc73744ad8e5f5846acd4305cb6cd7a7f8882a9ddbbbcbfb94329bf9</th>\n",
       "      <th>4f37c94e344741f6b8f0f343d8832a7716d157cf4a428957e81cc0927f822a19</th>\n",
       "      <th>a9ff5199a6667dbc2607279eec4b3b672c6afa844a81f3011467954872945787</th>\n",
       "      <th>33c00ff51d88fd09732e79a5394169f38d3306256d4dcb88eee64b7de05d56c0</th>\n",
       "      <th>93fa009cdb9749a4406a34f847ec231d1755e578c90de8d0a1355544cc24016f</th>\n",
       "      <th>632da21c6943b90d2d44ad824e50e7f273766b655361d0cc8df5d31c301024f4</th>\n",
       "      <th>78c324f3f2f298f4e080807b54c328e65ca77423b3ee0bb5bc2f277edfce62a9</th>\n",
       "      <th>dfd649be74c69bfd89388f15204ac0f80b7ab42dec3a902c8c3114f415f196e8</th>\n",
       "      <th>881cabb7e6834bacf80b693ad731f186308f22c20d4768c4fecb091bb5af337a</th>\n",
       "      <th>7224e3a067b5e90c9b2a5bdbcfe81884505ab44f0566aecd3940244d1b99d817</th>\n",
       "    </tr>\n",
       "    <tr>\n",
       "      <th>tx_date</th>\n",
       "      <th></th>\n",
       "      <th></th>\n",
       "      <th></th>\n",
       "      <th></th>\n",
       "      <th></th>\n",
       "      <th></th>\n",
       "      <th></th>\n",
       "      <th></th>\n",
       "      <th></th>\n",
       "      <th></th>\n",
       "      <th></th>\n",
       "      <th></th>\n",
       "      <th></th>\n",
       "      <th></th>\n",
       "      <th></th>\n",
       "      <th></th>\n",
       "      <th></th>\n",
       "      <th></th>\n",
       "      <th></th>\n",
       "      <th></th>\n",
       "      <th></th>\n",
       "    </tr>\n",
       "  </thead>\n",
       "  <tbody>\n",
       "    <tr>\n",
       "      <th>0</th>\n",
       "      <td>0.0</td>\n",
       "      <td>0.0</td>\n",
       "      <td>0.0</td>\n",
       "      <td>0.0</td>\n",
       "      <td>0.0</td>\n",
       "      <td>0.0</td>\n",
       "      <td>0.0</td>\n",
       "      <td>696713.0</td>\n",
       "      <td>4225.0</td>\n",
       "      <td>0.0</td>\n",
       "      <td>...</td>\n",
       "      <td>10695.0</td>\n",
       "      <td>1.0</td>\n",
       "      <td>2455.0</td>\n",
       "      <td>0.0</td>\n",
       "      <td>0.0</td>\n",
       "      <td>0.0</td>\n",
       "      <td>209430.0</td>\n",
       "      <td>0.0</td>\n",
       "      <td>0.0</td>\n",
       "      <td>0.0</td>\n",
       "    </tr>\n",
       "    <tr>\n",
       "      <th>1</th>\n",
       "      <td>0.0</td>\n",
       "      <td>0.0</td>\n",
       "      <td>0.0</td>\n",
       "      <td>0.0</td>\n",
       "      <td>0.0</td>\n",
       "      <td>0.0</td>\n",
       "      <td>0.0</td>\n",
       "      <td>0.0</td>\n",
       "      <td>2496.0</td>\n",
       "      <td>0.0</td>\n",
       "      <td>...</td>\n",
       "      <td>0.0</td>\n",
       "      <td>0.0</td>\n",
       "      <td>0.0</td>\n",
       "      <td>0.0</td>\n",
       "      <td>0.0</td>\n",
       "      <td>0.0</td>\n",
       "      <td>0.0</td>\n",
       "      <td>0.0</td>\n",
       "      <td>0.0</td>\n",
       "      <td>0.0</td>\n",
       "    </tr>\n",
       "    <tr>\n",
       "      <th>2</th>\n",
       "      <td>0.0</td>\n",
       "      <td>0.0</td>\n",
       "      <td>0.0</td>\n",
       "      <td>0.0</td>\n",
       "      <td>32.0</td>\n",
       "      <td>0.0</td>\n",
       "      <td>0.0</td>\n",
       "      <td>0.0</td>\n",
       "      <td>0.0</td>\n",
       "      <td>0.0</td>\n",
       "      <td>...</td>\n",
       "      <td>0.0</td>\n",
       "      <td>2.0</td>\n",
       "      <td>13371.0</td>\n",
       "      <td>0.0</td>\n",
       "      <td>0.0</td>\n",
       "      <td>1847.0</td>\n",
       "      <td>0.0</td>\n",
       "      <td>0.0</td>\n",
       "      <td>0.0</td>\n",
       "      <td>0.0</td>\n",
       "    </tr>\n",
       "    <tr>\n",
       "      <th>3</th>\n",
       "      <td>0.0</td>\n",
       "      <td>0.0</td>\n",
       "      <td>0.0</td>\n",
       "      <td>0.0</td>\n",
       "      <td>0.0</td>\n",
       "      <td>0.0</td>\n",
       "      <td>0.0</td>\n",
       "      <td>0.0</td>\n",
       "      <td>0.0</td>\n",
       "      <td>0.0</td>\n",
       "      <td>...</td>\n",
       "      <td>0.0</td>\n",
       "      <td>0.0</td>\n",
       "      <td>0.0</td>\n",
       "      <td>0.0</td>\n",
       "      <td>0.0</td>\n",
       "      <td>0.0</td>\n",
       "      <td>0.0</td>\n",
       "      <td>0.0</td>\n",
       "      <td>0.0</td>\n",
       "      <td>0.0</td>\n",
       "    </tr>\n",
       "    <tr>\n",
       "      <th>4</th>\n",
       "      <td>0.0</td>\n",
       "      <td>0.0</td>\n",
       "      <td>0.0</td>\n",
       "      <td>0.0</td>\n",
       "      <td>0.0</td>\n",
       "      <td>0.0</td>\n",
       "      <td>0.0</td>\n",
       "      <td>0.0</td>\n",
       "      <td>0.0</td>\n",
       "      <td>0.0</td>\n",
       "      <td>...</td>\n",
       "      <td>0.0</td>\n",
       "      <td>2.0</td>\n",
       "      <td>0.0</td>\n",
       "      <td>0.0</td>\n",
       "      <td>0.0</td>\n",
       "      <td>311593.0</td>\n",
       "      <td>0.0</td>\n",
       "      <td>0.0</td>\n",
       "      <td>0.0</td>\n",
       "      <td>0.0</td>\n",
       "    </tr>\n",
       "    <tr>\n",
       "      <th>...</th>\n",
       "      <td>...</td>\n",
       "      <td>...</td>\n",
       "      <td>...</td>\n",
       "      <td>...</td>\n",
       "      <td>...</td>\n",
       "      <td>...</td>\n",
       "      <td>...</td>\n",
       "      <td>...</td>\n",
       "      <td>...</td>\n",
       "      <td>...</td>\n",
       "      <td>...</td>\n",
       "      <td>...</td>\n",
       "      <td>...</td>\n",
       "      <td>...</td>\n",
       "      <td>...</td>\n",
       "      <td>...</td>\n",
       "      <td>...</td>\n",
       "      <td>...</td>\n",
       "      <td>...</td>\n",
       "      <td>...</td>\n",
       "      <td>...</td>\n",
       "    </tr>\n",
       "    <tr>\n",
       "      <th>390</th>\n",
       "      <td>0.0</td>\n",
       "      <td>0.0</td>\n",
       "      <td>0.0</td>\n",
       "      <td>0.0</td>\n",
       "      <td>0.0</td>\n",
       "      <td>1046.0</td>\n",
       "      <td>0.0</td>\n",
       "      <td>0.0</td>\n",
       "      <td>0.0</td>\n",
       "      <td>0.0</td>\n",
       "      <td>...</td>\n",
       "      <td>7227.0</td>\n",
       "      <td>1.0</td>\n",
       "      <td>455.0</td>\n",
       "      <td>1476.0</td>\n",
       "      <td>0.0</td>\n",
       "      <td>1.0</td>\n",
       "      <td>48744.0</td>\n",
       "      <td>0.0</td>\n",
       "      <td>0.0</td>\n",
       "      <td>7507036.0</td>\n",
       "    </tr>\n",
       "    <tr>\n",
       "      <th>391</th>\n",
       "      <td>0.0</td>\n",
       "      <td>1121.0</td>\n",
       "      <td>0.0</td>\n",
       "      <td>0.0</td>\n",
       "      <td>0.0</td>\n",
       "      <td>0.0</td>\n",
       "      <td>0.0</td>\n",
       "      <td>0.0</td>\n",
       "      <td>0.0</td>\n",
       "      <td>0.0</td>\n",
       "      <td>...</td>\n",
       "      <td>52.0</td>\n",
       "      <td>0.0</td>\n",
       "      <td>0.0</td>\n",
       "      <td>1173.0</td>\n",
       "      <td>5130.0</td>\n",
       "      <td>0.0</td>\n",
       "      <td>0.0</td>\n",
       "      <td>0.0</td>\n",
       "      <td>0.0</td>\n",
       "      <td>17038981.0</td>\n",
       "    </tr>\n",
       "    <tr>\n",
       "      <th>392</th>\n",
       "      <td>0.0</td>\n",
       "      <td>0.0</td>\n",
       "      <td>0.0</td>\n",
       "      <td>0.0</td>\n",
       "      <td>0.0</td>\n",
       "      <td>0.0</td>\n",
       "      <td>0.0</td>\n",
       "      <td>0.0</td>\n",
       "      <td>0.0</td>\n",
       "      <td>0.0</td>\n",
       "      <td>...</td>\n",
       "      <td>32908.0</td>\n",
       "      <td>0.0</td>\n",
       "      <td>0.0</td>\n",
       "      <td>0.0</td>\n",
       "      <td>4162.0</td>\n",
       "      <td>1.0</td>\n",
       "      <td>0.0</td>\n",
       "      <td>0.0</td>\n",
       "      <td>0.0</td>\n",
       "      <td>19263851.0</td>\n",
       "    </tr>\n",
       "    <tr>\n",
       "      <th>393</th>\n",
       "      <td>0.0</td>\n",
       "      <td>0.0</td>\n",
       "      <td>0.0</td>\n",
       "      <td>0.0</td>\n",
       "      <td>0.0</td>\n",
       "      <td>261623.0</td>\n",
       "      <td>0.0</td>\n",
       "      <td>0.0</td>\n",
       "      <td>0.0</td>\n",
       "      <td>0.0</td>\n",
       "      <td>...</td>\n",
       "      <td>0.0</td>\n",
       "      <td>0.0</td>\n",
       "      <td>0.0</td>\n",
       "      <td>0.0</td>\n",
       "      <td>0.0</td>\n",
       "      <td>563325.0</td>\n",
       "      <td>0.0</td>\n",
       "      <td>0.0</td>\n",
       "      <td>0.0</td>\n",
       "      <td>17973680.0</td>\n",
       "    </tr>\n",
       "    <tr>\n",
       "      <th>394</th>\n",
       "      <td>0.0</td>\n",
       "      <td>0.0</td>\n",
       "      <td>0.0</td>\n",
       "      <td>0.0</td>\n",
       "      <td>0.0</td>\n",
       "      <td>0.0</td>\n",
       "      <td>0.0</td>\n",
       "      <td>0.0</td>\n",
       "      <td>0.0</td>\n",
       "      <td>0.0</td>\n",
       "      <td>...</td>\n",
       "      <td>0.0</td>\n",
       "      <td>0.0</td>\n",
       "      <td>0.0</td>\n",
       "      <td>0.0</td>\n",
       "      <td>0.0</td>\n",
       "      <td>0.0</td>\n",
       "      <td>20672.0</td>\n",
       "      <td>0.0</td>\n",
       "      <td>6574.0</td>\n",
       "      <td>4913456.0</td>\n",
       "    </tr>\n",
       "  </tbody>\n",
       "</table>\n",
       "<p>395 rows × 5762 columns</p>\n",
       "</div>"
      ],
      "text/plain": [
       "cust_id  540956f7910f96e94ec002ac882a75be2a7212287be0ce5930dccc12d0abafa1  \\\n",
       "tx_date                                                                     \n",
       "0                                                      0.0                  \n",
       "1                                                      0.0                  \n",
       "2                                                      0.0                  \n",
       "3                                                      0.0                  \n",
       "4                                                      0.0                  \n",
       "...                                                    ...                  \n",
       "390                                                    0.0                  \n",
       "391                                                    0.0                  \n",
       "392                                                    0.0                  \n",
       "393                                                    0.0                  \n",
       "394                                                    0.0                  \n",
       "\n",
       "cust_id  b8d6faf7172dc97d42400bc32aedff190f77323976f42e8efc7a1f6d06f77879  \\\n",
       "tx_date                                                                     \n",
       "0                                                      0.0                  \n",
       "1                                                      0.0                  \n",
       "2                                                      0.0                  \n",
       "3                                                      0.0                  \n",
       "4                                                      0.0                  \n",
       "...                                                    ...                  \n",
       "390                                                    0.0                  \n",
       "391                                                 1121.0                  \n",
       "392                                                    0.0                  \n",
       "393                                                    0.0                  \n",
       "394                                                    0.0                  \n",
       "\n",
       "cust_id  569a1787c8dfb7459f7fffbc78792c05fc282ee5f85c028ca9e71ea58b190f44  \\\n",
       "tx_date                                                                     \n",
       "0                                                      0.0                  \n",
       "1                                                      0.0                  \n",
       "2                                                      0.0                  \n",
       "3                                                      0.0                  \n",
       "4                                                      0.0                  \n",
       "...                                                    ...                  \n",
       "390                                                    0.0                  \n",
       "391                                                    0.0                  \n",
       "392                                                    0.0                  \n",
       "393                                                    0.0                  \n",
       "394                                                    0.0                  \n",
       "\n",
       "cust_id  01c3f5aa308f5a92beafce898c03dbec68e60db94c656e2187594ed028f8e32c  \\\n",
       "tx_date                                                                     \n",
       "0                                                      0.0                  \n",
       "1                                                      0.0                  \n",
       "2                                                      0.0                  \n",
       "3                                                      0.0                  \n",
       "4                                                      0.0                  \n",
       "...                                                    ...                  \n",
       "390                                                    0.0                  \n",
       "391                                                    0.0                  \n",
       "392                                                    0.0                  \n",
       "393                                                    0.0                  \n",
       "394                                                    0.0                  \n",
       "\n",
       "cust_id  48a2ae9415402ff9d73e1ce4487123434e1888da644b1e835e6bbd86b96b84ad  \\\n",
       "tx_date                                                                     \n",
       "0                                                      0.0                  \n",
       "1                                                      0.0                  \n",
       "2                                                     32.0                  \n",
       "3                                                      0.0                  \n",
       "4                                                      0.0                  \n",
       "...                                                    ...                  \n",
       "390                                                    0.0                  \n",
       "391                                                    0.0                  \n",
       "392                                                    0.0                  \n",
       "393                                                    0.0                  \n",
       "394                                                    0.0                  \n",
       "\n",
       "cust_id  20b9a1a838214764fd514b0b1fedd59faeac162222cd18baa5f50b3131437435  \\\n",
       "tx_date                                                                     \n",
       "0                                                      0.0                  \n",
       "1                                                      0.0                  \n",
       "2                                                      0.0                  \n",
       "3                                                      0.0                  \n",
       "4                                                      0.0                  \n",
       "...                                                    ...                  \n",
       "390                                                 1046.0                  \n",
       "391                                                    0.0                  \n",
       "392                                                    0.0                  \n",
       "393                                               261623.0                  \n",
       "394                                                    0.0                  \n",
       "\n",
       "cust_id  9dfa9b1d77c09ee54a8ace8c06dc02a85c14a884393133552faaa0c156ca5477  \\\n",
       "tx_date                                                                     \n",
       "0                                                      0.0                  \n",
       "1                                                      0.0                  \n",
       "2                                                      0.0                  \n",
       "3                                                      0.0                  \n",
       "4                                                      0.0                  \n",
       "...                                                    ...                  \n",
       "390                                                    0.0                  \n",
       "391                                                    0.0                  \n",
       "392                                                    0.0                  \n",
       "393                                                    0.0                  \n",
       "394                                                    0.0                  \n",
       "\n",
       "cust_id  f953a1a9667e28f1287d4ea54ff616c1a80be1e376a02a0fbf3dedabca5dc0fc  \\\n",
       "tx_date                                                                     \n",
       "0                                                 696713.0                  \n",
       "1                                                      0.0                  \n",
       "2                                                      0.0                  \n",
       "3                                                      0.0                  \n",
       "4                                                      0.0                  \n",
       "...                                                    ...                  \n",
       "390                                                    0.0                  \n",
       "391                                                    0.0                  \n",
       "392                                                    0.0                  \n",
       "393                                                    0.0                  \n",
       "394                                                    0.0                  \n",
       "\n",
       "cust_id  d858622ca6a78ae5a808a925f3915ca09b9761ba8a8afa75c9ae44d9ad4199be  \\\n",
       "tx_date                                                                     \n",
       "0                                                   4225.0                  \n",
       "1                                                   2496.0                  \n",
       "2                                                      0.0                  \n",
       "3                                                      0.0                  \n",
       "4                                                      0.0                  \n",
       "...                                                    ...                  \n",
       "390                                                    0.0                  \n",
       "391                                                    0.0                  \n",
       "392                                                    0.0                  \n",
       "393                                                    0.0                  \n",
       "394                                                    0.0                  \n",
       "\n",
       "cust_id  b9053f1cdeabfa6a178e73490680693c67e47aaf40b2a4a1a9e6ea57afa2f595  \\\n",
       "tx_date                                                                     \n",
       "0                                                      0.0                  \n",
       "1                                                      0.0                  \n",
       "2                                                      0.0                  \n",
       "3                                                      0.0                  \n",
       "4                                                      0.0                  \n",
       "...                                                    ...                  \n",
       "390                                                    0.0                  \n",
       "391                                                    0.0                  \n",
       "392                                                    0.0                  \n",
       "393                                                    0.0                  \n",
       "394                                                    0.0                  \n",
       "\n",
       "cust_id  ...  \\\n",
       "tx_date  ...   \n",
       "0        ...   \n",
       "1        ...   \n",
       "2        ...   \n",
       "3        ...   \n",
       "4        ...   \n",
       "...      ...   \n",
       "390      ...   \n",
       "391      ...   \n",
       "392      ...   \n",
       "393      ...   \n",
       "394      ...   \n",
       "\n",
       "cust_id  fcb96d79cc73744ad8e5f5846acd4305cb6cd7a7f8882a9ddbbbcbfb94329bf9  \\\n",
       "tx_date                                                                     \n",
       "0                                                  10695.0                  \n",
       "1                                                      0.0                  \n",
       "2                                                      0.0                  \n",
       "3                                                      0.0                  \n",
       "4                                                      0.0                  \n",
       "...                                                    ...                  \n",
       "390                                                 7227.0                  \n",
       "391                                                   52.0                  \n",
       "392                                                32908.0                  \n",
       "393                                                    0.0                  \n",
       "394                                                    0.0                  \n",
       "\n",
       "cust_id  4f37c94e344741f6b8f0f343d8832a7716d157cf4a428957e81cc0927f822a19  \\\n",
       "tx_date                                                                     \n",
       "0                                                      1.0                  \n",
       "1                                                      0.0                  \n",
       "2                                                      2.0                  \n",
       "3                                                      0.0                  \n",
       "4                                                      2.0                  \n",
       "...                                                    ...                  \n",
       "390                                                    1.0                  \n",
       "391                                                    0.0                  \n",
       "392                                                    0.0                  \n",
       "393                                                    0.0                  \n",
       "394                                                    0.0                  \n",
       "\n",
       "cust_id  a9ff5199a6667dbc2607279eec4b3b672c6afa844a81f3011467954872945787  \\\n",
       "tx_date                                                                     \n",
       "0                                                   2455.0                  \n",
       "1                                                      0.0                  \n",
       "2                                                  13371.0                  \n",
       "3                                                      0.0                  \n",
       "4                                                      0.0                  \n",
       "...                                                    ...                  \n",
       "390                                                  455.0                  \n",
       "391                                                    0.0                  \n",
       "392                                                    0.0                  \n",
       "393                                                    0.0                  \n",
       "394                                                    0.0                  \n",
       "\n",
       "cust_id  33c00ff51d88fd09732e79a5394169f38d3306256d4dcb88eee64b7de05d56c0  \\\n",
       "tx_date                                                                     \n",
       "0                                                      0.0                  \n",
       "1                                                      0.0                  \n",
       "2                                                      0.0                  \n",
       "3                                                      0.0                  \n",
       "4                                                      0.0                  \n",
       "...                                                    ...                  \n",
       "390                                                 1476.0                  \n",
       "391                                                 1173.0                  \n",
       "392                                                    0.0                  \n",
       "393                                                    0.0                  \n",
       "394                                                    0.0                  \n",
       "\n",
       "cust_id  93fa009cdb9749a4406a34f847ec231d1755e578c90de8d0a1355544cc24016f  \\\n",
       "tx_date                                                                     \n",
       "0                                                      0.0                  \n",
       "1                                                      0.0                  \n",
       "2                                                      0.0                  \n",
       "3                                                      0.0                  \n",
       "4                                                      0.0                  \n",
       "...                                                    ...                  \n",
       "390                                                    0.0                  \n",
       "391                                                 5130.0                  \n",
       "392                                                 4162.0                  \n",
       "393                                                    0.0                  \n",
       "394                                                    0.0                  \n",
       "\n",
       "cust_id  632da21c6943b90d2d44ad824e50e7f273766b655361d0cc8df5d31c301024f4  \\\n",
       "tx_date                                                                     \n",
       "0                                                      0.0                  \n",
       "1                                                      0.0                  \n",
       "2                                                   1847.0                  \n",
       "3                                                      0.0                  \n",
       "4                                                 311593.0                  \n",
       "...                                                    ...                  \n",
       "390                                                    1.0                  \n",
       "391                                                    0.0                  \n",
       "392                                                    1.0                  \n",
       "393                                               563325.0                  \n",
       "394                                                    0.0                  \n",
       "\n",
       "cust_id  78c324f3f2f298f4e080807b54c328e65ca77423b3ee0bb5bc2f277edfce62a9  \\\n",
       "tx_date                                                                     \n",
       "0                                                 209430.0                  \n",
       "1                                                      0.0                  \n",
       "2                                                      0.0                  \n",
       "3                                                      0.0                  \n",
       "4                                                      0.0                  \n",
       "...                                                    ...                  \n",
       "390                                                48744.0                  \n",
       "391                                                    0.0                  \n",
       "392                                                    0.0                  \n",
       "393                                                    0.0                  \n",
       "394                                                20672.0                  \n",
       "\n",
       "cust_id  dfd649be74c69bfd89388f15204ac0f80b7ab42dec3a902c8c3114f415f196e8  \\\n",
       "tx_date                                                                     \n",
       "0                                                      0.0                  \n",
       "1                                                      0.0                  \n",
       "2                                                      0.0                  \n",
       "3                                                      0.0                  \n",
       "4                                                      0.0                  \n",
       "...                                                    ...                  \n",
       "390                                                    0.0                  \n",
       "391                                                    0.0                  \n",
       "392                                                    0.0                  \n",
       "393                                                    0.0                  \n",
       "394                                                    0.0                  \n",
       "\n",
       "cust_id  881cabb7e6834bacf80b693ad731f186308f22c20d4768c4fecb091bb5af337a  \\\n",
       "tx_date                                                                     \n",
       "0                                                      0.0                  \n",
       "1                                                      0.0                  \n",
       "2                                                      0.0                  \n",
       "3                                                      0.0                  \n",
       "4                                                      0.0                  \n",
       "...                                                    ...                  \n",
       "390                                                    0.0                  \n",
       "391                                                    0.0                  \n",
       "392                                                    0.0                  \n",
       "393                                                    0.0                  \n",
       "394                                                 6574.0                  \n",
       "\n",
       "cust_id  7224e3a067b5e90c9b2a5bdbcfe81884505ab44f0566aecd3940244d1b99d817  \n",
       "tx_date                                                                    \n",
       "0                                                      0.0                 \n",
       "1                                                      0.0                 \n",
       "2                                                      0.0                 \n",
       "3                                                      0.0                 \n",
       "4                                                      0.0                 \n",
       "...                                                    ...                 \n",
       "390                                              7507036.0                 \n",
       "391                                             17038981.0                 \n",
       "392                                             19263851.0                 \n",
       "393                                             17973680.0                 \n",
       "394                                              4913456.0                 \n",
       "\n",
       "[395 rows x 5762 columns]"
      ]
     },
     "execution_count": 107,
     "metadata": {},
     "output_type": "execute_result"
    }
   ],
   "source": [
    "##pivot\n",
    "dp_pivot = pd.pivot_table(dp_df, values='tx_amt', index=['tx_date'], columns=['cust_id'], aggfunc=np.sum)\n",
    "dp_pivot = dp_pivot.fillna(0)\n",
    "dp_pivot = dp_pivot[list(set(y_df.index) & set(dp_pivot.columns))]\n",
    "dp_pivot\n",
    "\n",
    "##you may use pd.resample to change frequency"
   ]
  },
  {
   "cell_type": "code",
   "execution_count": 108,
   "id": "6XGdLd8sqEtF",
   "metadata": {
    "id": "6XGdLd8sqEtF"
   },
   "outputs": [],
   "source": [
    "#pivot_dic = pivot.to_dict()\n",
    "X_ts = dp_pivot.T.to_numpy()\n",
    "y_ts = np.array([y_df.loc[i,'sar_flag'].max() for i in dp_pivot.columns])"
   ]
  },
  {
   "cell_type": "code",
   "execution_count": 109,
   "id": "fKIreb-2gEPh",
   "metadata": {
    "colab": {
     "base_uri": "https://localhost:8080/",
     "height": 1000
    },
    "id": "fKIreb-2gEPh",
    "outputId": "93f626a7-cf01-4a8b-b1ae-b6b9adbd48b1"
   },
   "outputs": [
    {
     "name": "stderr",
     "output_type": "stream",
     "text": [
      "C:\\Users\\ASUS\\AppData\\Local\\Temp/ipykernel_26248/1140045340.py:5: RuntimeWarning: More than 20 figures have been opened. Figures created through the pyplot interface (`matplotlib.pyplot.figure`) are retained until explicitly closed and may consume too much memory. (To control this warning, see the rcParam `figure.max_open_warning`).\n",
      "  plt.figure(figsize=(4, 2))\n"
     ]
    },
    {
     "data": {
      "image/png": "[encoded data removed]",
      "text/plain": [
       "<Figure size 288x144 with 1 Axes>"
      ]
     },
     "metadata": {
      "needs_background": "light"
     },
     "output_type": "display_data"
    },
    {
     "data": {
      "image/png": "[encoded data removed]",
      "text/plain": [
       "<Figure size 288x144 with 1 Axes>"
      ]
     },
     "metadata": {
      "needs_background": "light"
     },
     "output_type": "display_data"
    },
    {
     "data": {
      "image/png": "[encoded data removed]",
      "text/plain": [
       "<Figure size 288x144 with 1 Axes>"
      ]
     },
     "metadata": {
      "needs_background": "light"
     },
     "output_type": "display_data"
    },
    {
     "data": {
      "image/png": "[encoded data removed]",
      "text/plain": [
       "<Figure size 288x144 with 1 Axes>"
      ]
     },
     "metadata": {
      "needs_background": "light"
     },
     "output_type": "display_data"
    },
    {
     "data": {
      "image/png": "[encoded data removed]",
      "text/plain": [
       "<Figure size 288x144 with 1 Axes>"
      ]
     },
     "metadata": {
      "needs_background": "light"
     },
     "output_type": "display_data"
    },
    {
     "data": {
      "image/png": "[encoded data removed]",
      "text/plain": [
       "<Figure size 288x144 with 1 Axes>"
      ]
     },
     "metadata": {
      "needs_background": "light"
     },
     "output_type": "display_data"
    },
    {
     "data": {
      "image/png": "[encoded data removed]",
      "text/plain": [
       "<Figure size 288x144 with 1 Axes>"
      ]
     },
     "metadata": {
      "needs_background": "light"
     },
     "output_type": "display_data"
    },
    {
     "data": {
      "image/png": "[encoded data removed]",
      "text/plain": [
       "<Figure size 288x144 with 1 Axes>"
      ]
     },
     "metadata": {
      "needs_background": "light"
     },
     "output_type": "display_data"
    },
    {
     "data": {
      "image/png": "[encoded data removed]",
      "text/plain": [
       "<Figure size 288x144 with 1 Axes>"
      ]
     },
     "metadata": {
      "needs_background": "light"
     },
     "output_type": "display_data"
    },
    {
     "data": {
      "image/png": "[encoded data removed]",
      "text/plain": [
       "<Figure size 288x144 with 1 Axes>"
      ]
     },
     "metadata": {
      "needs_background": "light"
     },
     "output_type": "display_data"
    },
    {
     "data": {
      "image/png": "[encoded data removed]",
      "text/plain": [
       "<Figure size 288x144 with 1 Axes>"
      ]
     },
     "metadata": {
      "needs_background": "light"
     },
     "output_type": "display_data"
    },
    {
     "data": {
      "image/png": "[encoded data removed]",
      "text/plain": [
       "<Figure size 288x144 with 1 Axes>"
      ]
     },
     "metadata": {
      "needs_background": "light"
     },
     "output_type": "display_data"
    },
    {
     "data": {
      "image/png": "[encoded data removed]",
      "text/plain": [
       "<Figure size 288x144 with 1 Axes>"
      ]
     },
     "metadata": {
      "needs_background": "light"
     },
     "output_type": "display_data"
    },
    {
     "data": {
      "image/png": "[encoded data removed]",
      "text/plain": [
       "<Figure size 288x144 with 1 Axes>"
      ]
     },
     "metadata": {
      "needs_background": "light"
     },
     "output_type": "display_data"
    },
    {
     "data": {
      "image/png": "[encoded data removed]",
      "text/plain": [
       "<Figure size 288x144 with 1 Axes>"
      ]
     },
     "metadata": {
      "needs_background": "light"
     },
     "output_type": "display_data"
    },
    {
     "data": {
      "image/png": "[encoded data removed]",
      "text/plain": [
       "<Figure size 288x144 with 1 Axes>"
      ]
     },
     "metadata": {
      "needs_background": "light"
     },
     "output_type": "display_data"
    },
    {
     "data": {
      "image/png": "[encoded data removed]",
      "text/plain": [
       "<Figure size 288x144 with 1 Axes>"
      ]
     },
     "metadata": {
      "needs_background": "light"
     },
     "output_type": "display_data"
    },
    {
     "data": {
      "image/png": "[encoded data removed]",
      "text/plain": [
       "<Figure size 288x144 with 1 Axes>"
      ]
     },
     "metadata": {
      "needs_background": "light"
     },
     "output_type": "display_data"
    },
    {
     "data": {
      "image/png": "[encoded data removed]",
      "text/plain": [
       "<Figure size 288x144 with 1 Axes>"
      ]
     },
     "metadata": {
      "needs_background": "light"
     },
     "output_type": "display_data"
    },
    {
     "data": {
      "image/png": "[encoded data removed]",
      "text/plain": [
       "<Figure size 288x144 with 1 Axes>"
      ]
     },
     "metadata": {
      "needs_background": "light"
     },
     "output_type": "display_data"
    },
    {
     "data": {
      "image/png": "[encoded data removed]",
      "text/plain": [
       "<Figure size 288x144 with 1 Axes>"
      ]
     },
     "metadata": {
      "needs_background": "light"
     },
     "output_type": "display_data"
    },
    {
     "data": {
      "image/png": "[encoded data removed]",
      "text/plain": [
       "<Figure size 288x144 with 1 Axes>"
      ]
     },
     "metadata": {
      "needs_background": "light"
     },
     "output_type": "display_data"
    },
    {
     "data": {
      "image/png": "[encoded data removed]",
      "text/plain": [
       "<Figure size 288x144 with 1 Axes>"
      ]
     },
     "metadata": {
      "needs_background": "light"
     },
     "output_type": "display_data"
    },
    {
     "data": {
      "image/png": "[encoded data removed]",
      "text/plain": [
       "<Figure size 288x144 with 1 Axes>"
      ]
     },
     "metadata": {
      "needs_background": "light"
     },
     "output_type": "display_data"
    },
    {
     "data": {
      "image/png": "[encoded data removed]",
      "text/plain": [
       "<Figure size 288x144 with 1 Axes>"
      ]
     },
     "metadata": {
      "needs_background": "light"
     },
     "output_type": "display_data"
    },
    {
     "data": {
      "image/png": "[encoded data removed]",
      "text/plain": [
       "<Figure size 288x144 with 1 Axes>"
      ]
     },
     "metadata": {
      "needs_background": "light"
     },
     "output_type": "display_data"
    },
    {
     "data": {
      "image/png": "[encoded data removed]",
      "text/plain": [
       "<Figure size 288x144 with 1 Axes>"
      ]
     },
     "metadata": {
      "needs_background": "light"
     },
     "output_type": "display_data"
    },
    {
     "data": {
      "image/png": "[encoded data removed]",
      "text/plain": [
       "<Figure size 288x144 with 1 Axes>"
      ]
     },
     "metadata": {
      "needs_background": "light"
     },
     "output_type": "display_data"
    }
   ],
   "source": [
    "#abnormal\n",
    "color_label = ['grey','red']\n",
    "for i in range(500):\n",
    "  if y_ts[i]==1:\n",
    "    plt.figure(figsize=(4, 2))\n",
    "    plt.plot(X_ts[i], color=color_label[y_ts[i]])"
   ]
  },
  {
   "cell_type": "code",
   "execution_count": 110,
   "id": "yjzW26WRsdoB",
   "metadata": {
    "colab": {
     "base_uri": "https://localhost:8080/",
     "height": 1000
    },
    "id": "yjzW26WRsdoB",
    "outputId": "85e3b5ed-8d75-421f-bc45-cded6431d505"
   },
   "outputs": [
    {
     "data": {
      "image/png": "[encoded data removed]",
      "text/plain": [
       "<Figure size 288x144 with 1 Axes>"
      ]
     },
     "metadata": {
      "needs_background": "light"
     },
     "output_type": "display_data"
    },
    {
     "data": {
      "image/png": "[encoded data removed]",
      "text/plain": [
       "<Figure size 288x144 with 1 Axes>"
      ]
     },
     "metadata": {
      "needs_background": "light"
     },
     "output_type": "display_data"
    },
    {
     "data": {
      "image/png": "[encoded data removed]",
      "text/plain": [
       "<Figure size 288x144 with 1 Axes>"
      ]
     },
     "metadata": {
      "needs_background": "light"
     },
     "output_type": "display_data"
    },
    {
     "data": {
      "image/png": "[encoded data removed]",
      "text/plain": [
       "<Figure size 288x144 with 1 Axes>"
      ]
     },
     "metadata": {
      "needs_background": "light"
     },
     "output_type": "display_data"
    },
    {
     "data": {
      "image/png": "[encoded data removed]",
      "text/plain": [
       "<Figure size 288x144 with 1 Axes>"
      ]
     },
     "metadata": {
      "needs_background": "light"
     },
     "output_type": "display_data"
    },
    {
     "data": {
      "image/png": "[encoded data removed]",
      "text/plain": [
       "<Figure size 288x144 with 1 Axes>"
      ]
     },
     "metadata": {
      "needs_background": "light"
     },
     "output_type": "display_data"
    },
    {
     "data": {
      "image/png": "[encoded data removed]",
      "text/plain": [
       "<Figure size 288x144 with 1 Axes>"
      ]
     },
     "metadata": {
      "needs_background": "light"
     },
     "output_type": "display_data"
    },
    {
     "data": {
      "image/png": "[encoded data removed]",
      "text/plain": [
       "<Figure size 288x144 with 1 Axes>"
      ]
     },
     "metadata": {
      "needs_background": "light"
     },
     "output_type": "display_data"
    },
    {
     "data": {
      "image/png": "[encoded data removed]",
      "text/plain": [
       "<Figure size 288x144 with 1 Axes>"
      ]
     },
     "metadata": {
      "needs_background": "light"
     },
     "output_type": "display_data"
    },
    {
     "data": {
      "image/png": "[encoded data removed]",
      "text/plain": [
       "<Figure size 288x144 with 1 Axes>"
      ]
     },
     "metadata": {
      "needs_background": "light"
     },
     "output_type": "display_data"
    }
   ],
   "source": [
    "#normal\n",
    "color_label = ['grey','red']\n",
    "for i in range(10):\n",
    "  if y_ts[i]==0:\n",
    "    plt.figure(figsize=(4, 2))\n",
    "    plt.plot(X_ts[i], color=color_label[y_ts[i]])"
   ]
  },
  {
   "cell_type": "code",
   "execution_count": 111,
   "id": "-cKnKXcpt_Uj",
   "metadata": {
    "colab": {
     "base_uri": "https://localhost:8080/"
    },
    "id": "-cKnKXcpt_Uj",
    "outputId": "b7082ae9-6001-4a98-ffaf-3e1461442b7e"
   },
   "outputs": [
    {
     "data": {
      "text/plain": [
       "0    5530\n",
       "1     232\n",
       "dtype: int64"
      ]
     },
     "execution_count": 111,
     "metadata": {},
     "output_type": "execute_result"
    }
   ],
   "source": [
    "pd.Series(y_ts).value_counts()"
   ]
  },
  {
   "cell_type": "markdown",
   "id": "fWPEjwp7f7XZ",
   "metadata": {
    "id": "fWPEjwp7f7XZ"
   },
   "source": [
    "# Autoencoder"
   ]
  },
  {
   "cell_type": "code",
   "execution_count": 112,
   "id": "CsuqxQ7wWk16",
   "metadata": {
    "id": "CsuqxQ7wWk16"
   },
   "outputs": [
    {
     "name": "stderr",
     "output_type": "stream",
     "text": [
      "C:\\Users\\ASUS\\anaconda3\\lib\\site-packages\\requests\\__init__.py:89: RequestsDependencyWarning: urllib3 (1.26.9) or chardet (3.0.4) doesn't match a supported version!\n",
      "  warnings.warn(\"urllib3 ({}) or chardet ({}) doesn't match a supported \"\n"
     ]
    }
   ],
   "source": [
    "#Coderef: https://colab.research.google.com/github/tensorflow/docs/blob/master/site/en/tutorials/generative/autoencoder.ipynb#scrollTo=sOcfXfXq6FBd\n",
    "import matplotlib.pyplot as plt\n",
    "import numpy as np\n",
    "import pandas as pd\n",
    "import tensorflow as tf\n",
    "\n",
    "from sklearn.metrics import accuracy_score, precision_score, recall_score\n",
    "from sklearn.model_selection import train_test_split\n",
    "from tensorflow.keras import layers, losses\n",
    "from tensorflow.keras.datasets import fashion_mnist\n",
    "from tensorflow.keras.models import Model"
   ]
  },
  {
   "cell_type": "code",
   "execution_count": 113,
   "id": "XLd9v3zfY_4u",
   "metadata": {
    "id": "XLd9v3zfY_4u"
   },
   "outputs": [],
   "source": [
    "# Download the dataset\n",
    "dataframe = dp_pivot.T\n",
    "raw_data = dataframe.values\n"
   ]
  },
  {
   "cell_type": "code",
   "execution_count": 114,
   "id": "kjEc3_oRZYdd",
   "metadata": {
    "id": "kjEc3_oRZYdd"
   },
   "outputs": [],
   "source": [
    "# The last element contains the labels\n",
    "labels = y_ts\n",
    "timelen = dp_pivot.shape[0]\n",
    "\n",
    "# The other data points are the electrocadriogram data\n",
    "data = raw_data\n",
    "\n",
    "train_data, test_data, train_labels, test_labels = train_test_split(\n",
    "    data, labels, test_size=0.2, random_state=21\n",
    ")"
   ]
  },
  {
   "cell_type": "code",
   "execution_count": 115,
   "id": "XKXQIazrZdsm",
   "metadata": {
    "id": "XKXQIazrZdsm"
   },
   "outputs": [],
   "source": [
    "min_val = tf.reduce_min(train_data)\n",
    "max_val = tf.reduce_max(train_data)\n",
    "\n",
    "train_data = (train_data - min_val) / (max_val - min_val)\n",
    "test_data = (test_data - min_val) / (max_val - min_val)\n",
    "\n",
    "train_data = tf.cast(train_data, tf.float32)\n",
    "test_data = tf.cast(test_data, tf.float32)"
   ]
  },
  {
   "cell_type": "code",
   "execution_count": 116,
   "id": "jdbRz9hNZt-o",
   "metadata": {
    "id": "jdbRz9hNZt-o"
   },
   "outputs": [],
   "source": [
    "train_labels = train_labels.astype(bool)\n",
    "test_labels = test_labels.astype(bool)\n",
    "\n",
    "normal_train_data = train_data[~train_labels]\n",
    "normal_test_data = test_data[~test_labels]\n",
    "\n",
    "anomalous_train_data = train_data[train_labels]\n",
    "anomalous_test_data = test_data[test_labels]"
   ]
  },
  {
   "cell_type": "code",
   "execution_count": 117,
   "id": "CoAOXQFIgJVO",
   "metadata": {
    "colab": {
     "base_uri": "https://localhost:8080/"
    },
    "id": "CoAOXQFIgJVO",
    "outputId": "b08f43f1-ca06-4f47-e63a-94a240a36cd0"
   },
   "outputs": [
    {
     "name": "stdout",
     "output_type": "stream",
     "text": [
      "(4420, 395)\n",
      "(189, 395)\n"
     ]
    }
   ],
   "source": [
    "print(normal_train_data.shape)\n",
    "print(anomalous_train_data.shape)"
   ]
  },
  {
   "cell_type": "code",
   "execution_count": 118,
   "id": "lOEBK2KDZ03Y",
   "metadata": {
    "colab": {
     "base_uri": "https://localhost:8080/",
     "height": 281
    },
    "id": "lOEBK2KDZ03Y",
    "outputId": "500d925e-a69e-4171-f12f-2a88f464d47d"
   },
   "outputs": [
    {
     "data": {
      "image/png": "[encoded data removed]",
      "text/plain": [
       "<Figure size 432x288 with 1 Axes>"
      ]
     },
     "metadata": {
      "needs_background": "light"
     },
     "output_type": "display_data"
    }
   ],
   "source": [
    "plt.grid()\n",
    "plt.plot(np.arange(timelen), normal_train_data[0])\n",
    "plt.title(\"A Normal Transaction\")\n",
    "plt.show()"
   ]
  },
  {
   "cell_type": "code",
   "execution_count": 119,
   "id": "GuHOyJcqbMRD",
   "metadata": {
    "colab": {
     "base_uri": "https://localhost:8080/",
     "height": 281
    },
    "id": "GuHOyJcqbMRD",
    "outputId": "43510769-9810-495d-de5b-a11043b7bd83"
   },
   "outputs": [
    {
     "data": {
      "image/png": "[encoded data removed]",
      "text/plain": [
       "<Figure size 432x288 with 1 Axes>"
      ]
     },
     "metadata": {
      "needs_background": "light"
     },
     "output_type": "display_data"
    }
   ],
   "source": [
    "plt.grid()\n",
    "plt.plot(np.arange(timelen), anomalous_train_data[5], color='r')\n",
    "plt.title(\"A Sar Transaction\")\n",
    "plt.show()"
   ]
  },
  {
   "cell_type": "markdown",
   "id": "sGFx0_zFdCI7",
   "metadata": {
    "id": "sGFx0_zFdCI7"
   },
   "source": [
    "### LSTM Autoencoder\n",
    "\n",
    "![Autoencoder](https://lilianweng.github.io/lil-log/assets/images/autoencoder-architecture.png)\n",
    "*Sample Autoencoder Architecture [Image Source](https://lilianweng.github.io/lil-log/2018/08/12/from-autoencoder-to-beta-vae.html)*"
   ]
  },
  {
   "cell_type": "code",
   "execution_count": 120,
   "id": "hwEhvONbZ2_Z",
   "metadata": {
    "id": "hwEhvONbZ2_Z"
   },
   "outputs": [],
   "source": [
    "class AnomalyDetector(Model):\n",
    "  def __init__(self):\n",
    "    super(AnomalyDetector, self).__init__()\n",
    "    self.encoder = tf.keras.Sequential([\n",
    "      layers.Dense(128, activation=\"relu\"),\n",
    "      layers.Dense(64, activation=\"relu\"),\n",
    "      layers.Dense(8, activation=\"relu\")])\n",
    "    \n",
    "    self.decoder = tf.keras.Sequential([\n",
    "      layers.Dense(64, activation=\"relu\"),\n",
    "      layers.Dense(128, activation=\"relu\"),\n",
    "      layers.Dense(timelen, activation=\"sigmoid\")])\n",
    "    \n",
    "  def call(self, x):\n",
    "    encoded = self.encoder(x)\n",
    "    decoded = self.decoder(encoded)\n",
    "    return decoded\n",
    "\n",
    "autoencoder = AnomalyDetector()"
   ]
  },
  {
   "cell_type": "code",
   "execution_count": 121,
   "id": "h7z_YDFdZ58G",
   "metadata": {
    "id": "h7z_YDFdZ58G"
   },
   "outputs": [],
   "source": [
    "autoencoder.compile(optimizer='adam', loss='mae')"
   ]
  },
  {
   "cell_type": "code",
   "execution_count": 122,
   "id": "q-NbUv-MZ7xX",
   "metadata": {
    "colab": {
     "base_uri": "https://localhost:8080/"
    },
    "id": "q-NbUv-MZ7xX",
    "outputId": "3b41ba3d-5097-4077-efe4-35a1612e6a1b"
   },
   "outputs": [
    {
     "name": "stdout",
     "output_type": "stream",
     "text": [
      "Epoch 1/50\n",
      "35/35 [==============================] - 1s 9ms/step - loss: 0.4035 - val_loss: 0.0808\n",
      "Epoch 2/50\n",
      "35/35 [==============================] - 0s 5ms/step - loss: 0.0223 - val_loss: 0.0204\n",
      "Epoch 3/50\n",
      "35/35 [==============================] - 0s 5ms/step - loss: 0.0204 - val_loss: 0.0204\n",
      "Epoch 4/50\n",
      "35/35 [==============================] - 0s 5ms/step - loss: 0.0204 - val_loss: 0.0204\n",
      "Epoch 5/50\n",
      "35/35 [==============================] - 0s 5ms/step - loss: 0.0196 - val_loss: 0.0144\n",
      "Epoch 6/50\n",
      "35/35 [==============================] - 0s 5ms/step - loss: 0.0056 - val_loss: 0.0013\n",
      "Epoch 7/50\n",
      "35/35 [==============================] - 0s 5ms/step - loss: 8.1443e-04 - val_loss: 5.7801e-04\n",
      "Epoch 8/50\n",
      "35/35 [==============================] - 0s 4ms/step - loss: 8.7565e-04 - val_loss: 6.5817e-04\n",
      "Epoch 9/50\n",
      "35/35 [==============================] - 0s 5ms/step - loss: 8.6251e-04 - val_loss: 5.6828e-04\n",
      "Epoch 10/50\n",
      "35/35 [==============================] - 0s 5ms/step - loss: 8.6279e-04 - val_loss: 9.4994e-04\n",
      "Epoch 11/50\n",
      "35/35 [==============================] - 0s 5ms/step - loss: 6.7599e-04 - val_loss: 5.9618e-04\n",
      "Epoch 12/50\n",
      "35/35 [==============================] - 0s 5ms/step - loss: 5.6591e-04 - val_loss: 9.4148e-04\n",
      "Epoch 13/50\n",
      "35/35 [==============================] - 0s 5ms/step - loss: 8.2673e-04 - val_loss: 8.4775e-04\n",
      "Epoch 14/50\n",
      "35/35 [==============================] - 0s 4ms/step - loss: 7.3930e-04 - val_loss: 5.1634e-04\n",
      "Epoch 15/50\n",
      "35/35 [==============================] - 0s 3ms/step - loss: 6.3319e-04 - val_loss: 7.6517e-04\n",
      "Epoch 16/50\n",
      "35/35 [==============================] - 0s 4ms/step - loss: 5.9771e-04 - val_loss: 6.6584e-04\n",
      "Epoch 17/50\n",
      "35/35 [==============================] - 0s 3ms/step - loss: 6.6048e-04 - val_loss: 5.1305e-04\n",
      "Epoch 18/50\n",
      "35/35 [==============================] - 0s 3ms/step - loss: 5.4254e-04 - val_loss: 5.1585e-04\n",
      "Epoch 19/50\n",
      "35/35 [==============================] - 0s 4ms/step - loss: 7.7528e-04 - val_loss: 7.8691e-04\n",
      "Epoch 20/50\n",
      "35/35 [==============================] - 0s 5ms/step - loss: 7.6100e-04 - val_loss: 0.0010\n",
      "Epoch 21/50\n",
      "35/35 [==============================] - 0s 6ms/step - loss: 8.8713e-04 - val_loss: 7.8877e-04\n",
      "Epoch 22/50\n",
      "35/35 [==============================] - 0s 6ms/step - loss: 7.0292e-04 - val_loss: 7.6359e-04\n",
      "Epoch 23/50\n",
      "35/35 [==============================] - 0s 4ms/step - loss: 6.6323e-04 - val_loss: 4.7990e-04\n",
      "Epoch 24/50\n",
      "35/35 [==============================] - 0s 3ms/step - loss: 5.7653e-04 - val_loss: 6.7733e-04\n",
      "Epoch 25/50\n",
      "35/35 [==============================] - 0s 3ms/step - loss: 5.9025e-04 - val_loss: 9.5226e-04\n",
      "Epoch 26/50\n",
      "35/35 [==============================] - 0s 4ms/step - loss: 8.2603e-04 - val_loss: 6.5912e-04\n",
      "Epoch 27/50\n",
      "35/35 [==============================] - 0s 4ms/step - loss: 6.5954e-04 - val_loss: 5.1979e-04\n",
      "Epoch 28/50\n",
      "35/35 [==============================] - 0s 3ms/step - loss: 5.0264e-04 - val_loss: 4.7101e-04\n",
      "Epoch 29/50\n",
      "35/35 [==============================] - 0s 3ms/step - loss: 7.6608e-04 - val_loss: 6.3565e-04\n",
      "Epoch 30/50\n",
      "35/35 [==============================] - 0s 4ms/step - loss: 7.2474e-04 - val_loss: 6.1522e-04\n",
      "Epoch 31/50\n",
      "35/35 [==============================] - 0s 4ms/step - loss: 5.4738e-04 - val_loss: 5.0260e-04\n",
      "Epoch 32/50\n",
      "35/35 [==============================] - 0s 3ms/step - loss: 7.7931e-04 - val_loss: 7.1848e-04\n",
      "Epoch 33/50\n",
      "35/35 [==============================] - 0s 3ms/step - loss: 6.7378e-04 - val_loss: 4.7441e-04\n",
      "Epoch 34/50\n",
      "35/35 [==============================] - 0s 3ms/step - loss: 7.3695e-04 - val_loss: 6.4040e-04\n",
      "Epoch 35/50\n",
      "35/35 [==============================] - 0s 5ms/step - loss: 0.0010 - val_loss: 9.7864e-04\n",
      "Epoch 36/50\n",
      "35/35 [==============================] - 0s 5ms/step - loss: 7.7619e-04 - val_loss: 4.7163e-04\n",
      "Epoch 37/50\n",
      "35/35 [==============================] - 0s 4ms/step - loss: 6.5183e-04 - val_loss: 7.2047e-04\n",
      "Epoch 38/50\n",
      "35/35 [==============================] - 0s 5ms/step - loss: 6.2517e-04 - val_loss: 4.6562e-04\n",
      "Epoch 39/50\n",
      "35/35 [==============================] - 0s 4ms/step - loss: 4.8271e-04 - val_loss: 5.1722e-04\n",
      "Epoch 40/50\n",
      "35/35 [==============================] - 0s 4ms/step - loss: 5.3293e-04 - val_loss: 4.8873e-04\n",
      "Epoch 41/50\n",
      "35/35 [==============================] - 0s 4ms/step - loss: 6.5133e-04 - val_loss: 5.0219e-04\n",
      "Epoch 42/50\n",
      "35/35 [==============================] - 0s 5ms/step - loss: 5.9267e-04 - val_loss: 5.8159e-04\n",
      "Epoch 43/50\n",
      "35/35 [==============================] - 0s 5ms/step - loss: 7.2162e-04 - val_loss: 6.0171e-04\n",
      "Epoch 44/50\n",
      "35/35 [==============================] - 0s 5ms/step - loss: 6.9997e-04 - val_loss: 6.6663e-04\n",
      "Epoch 45/50\n",
      "35/35 [==============================] - 0s 4ms/step - loss: 5.2928e-04 - val_loss: 4.5518e-04\n",
      "Epoch 46/50\n",
      "35/35 [==============================] - 0s 5ms/step - loss: 5.2759e-04 - val_loss: 4.4954e-04\n",
      "Epoch 47/50\n",
      "35/35 [==============================] - 0s 4ms/step - loss: 5.4034e-04 - val_loss: 5.2012e-04\n",
      "Epoch 48/50\n",
      "35/35 [==============================] - 0s 5ms/step - loss: 6.0257e-04 - val_loss: 6.3971e-04\n",
      "Epoch 49/50\n",
      "35/35 [==============================] - 0s 5ms/step - loss: 0.0010 - val_loss: 7.1770e-04\n",
      "Epoch 50/50\n",
      "35/35 [==============================] - 0s 4ms/step - loss: 0.0011 - val_loss: 8.8155e-04\n"
     ]
    }
   ],
   "source": [
    "history = autoencoder.fit(normal_train_data, normal_train_data, \n",
    "          epochs=50, \n",
    "          batch_size=128,\n",
    "          validation_data=(test_data, test_data),\n",
    "          shuffle=True)"
   ]
  },
  {
   "cell_type": "code",
   "execution_count": 123,
   "id": "vCDn60gFZ-kG",
   "metadata": {
    "colab": {
     "base_uri": "https://localhost:8080/",
     "height": 282
    },
    "id": "vCDn60gFZ-kG",
    "outputId": "622b7eb0-7939-4f78-a448-f81296f70845"
   },
   "outputs": [
    {
     "data": {
      "text/plain": [
       "<matplotlib.legend.Legend at 0x1cfba912e80>"
      ]
     },
     "execution_count": 123,
     "metadata": {},
     "output_type": "execute_result"
    },
    {
     "data": {
      "image/png": "[encoded data removed]",
      "text/plain": [
       "<Figure size 432x288 with 1 Axes>"
      ]
     },
     "metadata": {
      "needs_background": "light"
     },
     "output_type": "display_data"
    }
   ],
   "source": [
    "plt.plot(history.history[\"loss\"], label=\"Training Loss\")\n",
    "plt.plot(history.history[\"val_loss\"], label=\"Validation Loss\")\n",
    "plt.legend()"
   ]
  },
  {
   "cell_type": "code",
   "execution_count": 124,
   "id": "sIzS3K3iaBys",
   "metadata": {
    "colab": {
     "base_uri": "https://localhost:8080/",
     "height": 265
    },
    "id": "sIzS3K3iaBys",
    "outputId": "9e1fcab0-0a75-4e57-d38c-f6d2636b5ddd"
   },
   "outputs": [
    {
     "data": {
      "image/png": "[encoded data removed]",
      "text/plain": [
       "<Figure size 432x288 with 1 Axes>"
      ]
     },
     "metadata": {
      "needs_background": "light"
     },
     "output_type": "display_data"
    }
   ],
   "source": [
    "encoded_data = autoencoder.encoder(normal_test_data).numpy()\n",
    "decoded_data = autoencoder.decoder(encoded_data).numpy()\n",
    "\n",
    "sample=100\n",
    "plt.plot(normal_test_data[sample], 'b')\n",
    "plt.plot(decoded_data[sample], 'r')\n",
    "plt.fill_between(np.arange(timelen), decoded_data[sample], normal_test_data[sample], color='lightcoral')\n",
    "plt.legend(labels=[\"Input\", \"Reconstruction\", \"Error\"])\n",
    "plt.show()"
   ]
  },
  {
   "cell_type": "code",
   "execution_count": 125,
   "id": "Lyc54_6gaDxp",
   "metadata": {
    "colab": {
     "base_uri": "https://localhost:8080/",
     "height": 265
    },
    "id": "Lyc54_6gaDxp",
    "outputId": "975edd20-746f-41a2-828c-0f9bd152a29f"
   },
   "outputs": [
    {
     "data": {
      "image/png": "[encoded data removed]",
      "text/plain": [
       "<Figure size 432x288 with 1 Axes>"
      ]
     },
     "metadata": {
      "needs_background": "light"
     },
     "output_type": "display_data"
    }
   ],
   "source": [
    "encoded_data = autoencoder.encoder(anomalous_test_data).numpy()\n",
    "decoded_data = autoencoder.decoder(encoded_data).numpy()\n",
    "\n",
    "plt.plot(anomalous_test_data[20], 'b')\n",
    "plt.plot(decoded_data[20], 'r')\n",
    "plt.fill_between(np.arange(timelen), decoded_data[0], anomalous_test_data[0], color='lightcoral')\n",
    "plt.legend(labels=[\"Input\", \"Reconstruction\", \"Error\"])\n",
    "plt.show()"
   ]
  },
  {
   "cell_type": "code",
   "execution_count": 126,
   "id": "grA1bLqzaSZd",
   "metadata": {
    "colab": {
     "base_uri": "https://localhost:8080/",
     "height": 296
    },
    "id": "grA1bLqzaSZd",
    "outputId": "a1442b70-c007-423d-d9d1-ac127aafaa89"
   },
   "outputs": [
    {
     "data": {
      "image/png": "[encoded data removed]",
      "text/plain": [
       "<Figure size 432x288 with 1 Axes>"
      ]
     },
     "metadata": {
      "needs_background": "light"
     },
     "output_type": "display_data"
    }
   ],
   "source": [
    "reconstructions = autoencoder.predict(normal_train_data)\n",
    "train_loss = tf.keras.losses.mae(reconstructions, normal_train_data)\n",
    "\n",
    "plt.hist(train_loss[None,:], bins=50)\n",
    "plt.xlabel(\"Train loss\")\n",
    "plt.ylabel(\"No of examples\")\n",
    "plt.show()"
   ]
  },
  {
   "cell_type": "code",
   "execution_count": 127,
   "id": "a39SsapJaZY3",
   "metadata": {
    "colab": {
     "base_uri": "https://localhost:8080/"
    },
    "id": "a39SsapJaZY3",
    "outputId": "237d3585-9a0a-4e50-c7c7-34871b174ea6"
   },
   "outputs": [
    {
     "name": "stdout",
     "output_type": "stream",
     "text": [
      "Threshold:  0.0020738347\n"
     ]
    }
   ],
   "source": [
    "threshold = np.mean(train_loss) + np.std(train_loss)\n",
    "print(\"Threshold: \", threshold)"
   ]
  },
  {
   "cell_type": "code",
   "execution_count": 128,
   "id": "n91RI0woadr_",
   "metadata": {
    "colab": {
     "base_uri": "https://localhost:8080/",
     "height": 296
    },
    "id": "n91RI0woadr_",
    "outputId": "dd6df6b0-c41e-458e-fd24-53eb3b496329"
   },
   "outputs": [
    {
     "data": {
      "image/png": "[encoded data removed]",
      "text/plain": [
       "<Figure size 432x288 with 1 Axes>"
      ]
     },
     "metadata": {
      "needs_background": "light"
     },
     "output_type": "display_data"
    }
   ],
   "source": [
    "reconstructions = autoencoder.predict(anomalous_test_data)\n",
    "test_loss = tf.keras.losses.mae(reconstructions, anomalous_test_data)\n",
    "\n",
    "plt.hist(test_loss[None, :], bins=50)\n",
    "plt.xlabel(\"Test loss\")\n",
    "plt.ylabel(\"No of examples\")\n",
    "plt.show()"
   ]
  },
  {
   "cell_type": "code",
   "execution_count": 129,
   "id": "iWExW845agF-",
   "metadata": {
    "id": "iWExW845agF-"
   },
   "outputs": [],
   "source": [
    "def predict(model, data, threshold):\n",
    "  reconstructions = model(data)\n",
    "  loss = tf.keras.losses.mae(reconstructions, data)\n",
    "  return tf.math.less(loss, threshold)\n",
    "\n",
    "def print_stats(predictions, labels):\n",
    "  print(\"Accuracy = {}\".format(accuracy_score(labels, predictions)))\n",
    "  print(\"Precision = {}\".format(precision_score(labels, predictions)))\n",
    "  print(\"Recall = {}\".format(recall_score(labels, predictions)))"
   ]
  },
  {
   "cell_type": "code",
   "execution_count": 130,
   "id": "bcGCcDTNajAv",
   "metadata": {
    "colab": {
     "base_uri": "https://localhost:8080/"
    },
    "id": "bcGCcDTNajAv",
    "outputId": "b8cc2a58-85d1-48b6-c615-2a3453164574"
   },
   "outputs": [
    {
     "name": "stdout",
     "output_type": "stream",
     "text": [
      "Accuracy = 0.07285342584562012\n",
      "Precision = 0.03363636363636364\n",
      "Recall = 0.8604651162790697\n"
     ]
    }
   ],
   "source": [
    "preds = predict(autoencoder, test_data, threshold)\n",
    "print_stats(preds, test_labels)"
   ]
  },
  {
   "cell_type": "markdown",
   "id": "ZA2GaX5B6-qF",
   "metadata": {
    "id": "ZA2GaX5B6-qF"
   },
   "source": [
    "# Statistic Value"
   ]
  },
  {
   "cell_type": "code",
   "execution_count": 131,
   "id": "oz2bHkH8mdiG",
   "metadata": {
    "colab": {
     "base_uri": "https://localhost:8080/",
     "height": 238
    },
    "id": "oz2bHkH8mdiG",
    "outputId": "ae694b49-4b89-495a-e725-2cb47b0b722a"
   },
   "outputs": [
    {
     "data": {
      "text/html": [
       "<div>\n",
       "<style scoped>\n",
       "    .dataframe tbody tr th:only-of-type {\n",
       "        vertical-align: middle;\n",
       "    }\n",
       "\n",
       "    .dataframe tbody tr th {\n",
       "        vertical-align: top;\n",
       "    }\n",
       "\n",
       "    .dataframe thead th {\n",
       "        text-align: right;\n",
       "    }\n",
       "</style>\n",
       "<table border=\"1\" class=\"dataframe\">\n",
       "  <thead>\n",
       "    <tr style=\"text-align: right;\">\n",
       "      <th></th>\n",
       "      <th>count</th>\n",
       "      <th>mean</th>\n",
       "      <th>std</th>\n",
       "      <th>min</th>\n",
       "      <th>25%</th>\n",
       "      <th>50%</th>\n",
       "      <th>75%</th>\n",
       "      <th>max</th>\n",
       "    </tr>\n",
       "    <tr>\n",
       "      <th>cust_id</th>\n",
       "      <th></th>\n",
       "      <th></th>\n",
       "      <th></th>\n",
       "      <th></th>\n",
       "      <th></th>\n",
       "      <th></th>\n",
       "      <th></th>\n",
       "      <th></th>\n",
       "    </tr>\n",
       "  </thead>\n",
       "  <tbody>\n",
       "    <tr>\n",
       "      <th>0015cc01f553512007705edf855baa16f1b57a16fb107e0882c5cb0535d297a5</th>\n",
       "      <td>395.0</td>\n",
       "      <td>7185.212658</td>\n",
       "      <td>106154.546178</td>\n",
       "      <td>0.0</td>\n",
       "      <td>0.0</td>\n",
       "      <td>0.0</td>\n",
       "      <td>0.0</td>\n",
       "      <td>2084353.0</td>\n",
       "    </tr>\n",
       "    <tr>\n",
       "      <th>002d6bc6382e759c9a5b6bb2c8dda9add2f38cd87e10ca3efda9a312e97b342c</th>\n",
       "      <td>395.0</td>\n",
       "      <td>635.708861</td>\n",
       "      <td>4564.788273</td>\n",
       "      <td>0.0</td>\n",
       "      <td>0.0</td>\n",
       "      <td>0.0</td>\n",
       "      <td>0.0</td>\n",
       "      <td>58370.0</td>\n",
       "    </tr>\n",
       "    <tr>\n",
       "      <th>002f13f534d0bd9fcc1848db3ff5c7b1179d117f8de8055b7394696b948ec9b4</th>\n",
       "      <td>395.0</td>\n",
       "      <td>40890.703797</td>\n",
       "      <td>316549.081859</td>\n",
       "      <td>0.0</td>\n",
       "      <td>0.0</td>\n",
       "      <td>0.0</td>\n",
       "      <td>0.0</td>\n",
       "      <td>4479327.0</td>\n",
       "    </tr>\n",
       "    <tr>\n",
       "      <th>0031e83ddef78e57d17ac5dce088627b7745be8ff6cffcbc0a79aff9fedd93f0</th>\n",
       "      <td>395.0</td>\n",
       "      <td>82508.726582</td>\n",
       "      <td>416442.718961</td>\n",
       "      <td>0.0</td>\n",
       "      <td>0.0</td>\n",
       "      <td>0.0</td>\n",
       "      <td>0.0</td>\n",
       "      <td>5826371.0</td>\n",
       "    </tr>\n",
       "    <tr>\n",
       "      <th>0032adaf4a8731b4d6a3fdcba32f9ebdcd336490eda155b9bc5d18de6b65f381</th>\n",
       "      <td>395.0</td>\n",
       "      <td>171152.898734</td>\n",
       "      <td>557435.117722</td>\n",
       "      <td>0.0</td>\n",
       "      <td>0.0</td>\n",
       "      <td>2002.0</td>\n",
       "      <td>99120.5</td>\n",
       "      <td>6445011.0</td>\n",
       "    </tr>\n",
       "  </tbody>\n",
       "</table>\n",
       "</div>"
      ],
      "text/plain": [
       "                                                    count           mean  \\\n",
       "cust_id                                                                    \n",
       "0015cc01f553512007705edf855baa16f1b57a16fb107e0...  395.0    7185.212658   \n",
       "002d6bc6382e759c9a5b6bb2c8dda9add2f38cd87e10ca3...  395.0     635.708861   \n",
       "002f13f534d0bd9fcc1848db3ff5c7b1179d117f8de8055...  395.0   40890.703797   \n",
       "0031e83ddef78e57d17ac5dce088627b7745be8ff6cffcb...  395.0   82508.726582   \n",
       "0032adaf4a8731b4d6a3fdcba32f9ebdcd336490eda155b...  395.0  171152.898734   \n",
       "\n",
       "                                                              std  min  25%  \\\n",
       "cust_id                                                                       \n",
       "0015cc01f553512007705edf855baa16f1b57a16fb107e0...  106154.546178  0.0  0.0   \n",
       "002d6bc6382e759c9a5b6bb2c8dda9add2f38cd87e10ca3...    4564.788273  0.0  0.0   \n",
       "002f13f534d0bd9fcc1848db3ff5c7b1179d117f8de8055...  316549.081859  0.0  0.0   \n",
       "0031e83ddef78e57d17ac5dce088627b7745be8ff6cffcb...  416442.718961  0.0  0.0   \n",
       "0032adaf4a8731b4d6a3fdcba32f9ebdcd336490eda155b...  557435.117722  0.0  0.0   \n",
       "\n",
       "                                                       50%      75%        max  \n",
       "cust_id                                                                         \n",
       "0015cc01f553512007705edf855baa16f1b57a16fb107e0...     0.0      0.0  2084353.0  \n",
       "002d6bc6382e759c9a5b6bb2c8dda9add2f38cd87e10ca3...     0.0      0.0    58370.0  \n",
       "002f13f534d0bd9fcc1848db3ff5c7b1179d117f8de8055...     0.0      0.0  4479327.0  \n",
       "0031e83ddef78e57d17ac5dce088627b7745be8ff6cffcb...     0.0      0.0  5826371.0  \n",
       "0032adaf4a8731b4d6a3fdcba32f9ebdcd336490eda155b...  2002.0  99120.5  6445011.0  "
      ]
     },
     "execution_count": 131,
     "metadata": {},
     "output_type": "execute_result"
    }
   ],
   "source": [
    "from scipy.stats import skew, entropy\n",
    "from numpy import inf\n",
    "\n",
    "#basic stat of transaction\n",
    "dp_pivot = pd.pivot_table(dp_df, values='tx_amt', index=['tx_date'], columns=['cust_id'], aggfunc=np.sum)\n",
    "dp_pivot = dp_pivot.fillna(0)\n",
    "stat = dp_pivot.describe().T\n",
    "stat.head()\n"
   ]
  },
  {
   "cell_type": "code",
   "execution_count": 132,
   "id": "BPsV0ft2_GFV",
   "metadata": {
    "colab": {
     "base_uri": "https://localhost:8080/"
    },
    "id": "BPsV0ft2_GFV",
    "outputId": "81142e2f-c870-405f-a004-61f38e926e85"
   },
   "outputs": [
    {
     "data": {
      "text/plain": [
       "(6196, 8)"
      ]
     },
     "execution_count": 132,
     "metadata": {},
     "output_type": "execute_result"
    }
   ],
   "source": [
    "stat.shape"
   ]
  },
  {
   "cell_type": "code",
   "execution_count": 133,
   "id": "5Sf19krf35-H",
   "metadata": {
    "colab": {
     "base_uri": "https://localhost:8080/"
    },
    "id": "5Sf19krf35-H",
    "outputId": "25b1550f-10b5-4f6f-f394-4bd2d02d5bc8"
   },
   "outputs": [
    {
     "name": "stderr",
     "output_type": "stream",
     "text": [
      "C:\\Users\\ASUS\\anaconda3\\lib\\site-packages\\scipy\\stats\\_distn_infrastructure.py:2751: RuntimeWarning: invalid value encountered in true_divide\n",
      "  pk = 1.0*pk / np.sum(pk, axis=axis, keepdims=True)\n"
     ]
    }
   ],
   "source": [
    "#add entropy and skew\n",
    "entropy_day = pd.DataFrame(dp_pivot.apply(entropy),columns=['entropy'])\n",
    "entropy_day[entropy_day == -inf] = 0\n",
    "skew_day = pd.DataFrame(dp_pivot.apply(skew), columns=['skew'])\n",
    "stat = stat.join(entropy_day).join(skew_day)"
   ]
  },
  {
   "cell_type": "code",
   "execution_count": 134,
   "id": "-E0B-hwH_NAa",
   "metadata": {
    "colab": {
     "base_uri": "https://localhost:8080/"
    },
    "id": "-E0B-hwH_NAa",
    "outputId": "1664865f-5ed3-478a-959a-a6d8f896c064"
   },
   "outputs": [
    {
     "data": {
      "text/plain": [
       "(6196, 10)"
      ]
     },
     "execution_count": 134,
     "metadata": {},
     "output_type": "execute_result"
    }
   ],
   "source": [
    "stat.shape"
   ]
  },
  {
   "cell_type": "code",
   "execution_count": 135,
   "id": "6k2pNwvhVHFy",
   "metadata": {
    "id": "6k2pNwvhVHFy"
   },
   "outputs": [],
   "source": [
    "#add transaction others\n",
    "dp_atm = pd.pivot_table(dp_df, values='ATM', index=['cust_id'], aggfunc=[np.sum,len])\n",
    "dp_atm.columns = ['atm_sum','tx_len']\n",
    "dp_atm['atm_ratio'] = dp_atm.atm_sum/dp_atm.tx_len\n",
    "\n",
    "dp_crossbank = pd.pivot_table(dp_df, values='cross_bank', index=['cust_id'], aggfunc=[np.sum,len])\n",
    "dp_crossbank.columns = ['xbank_sum','tx_len']\n",
    "dp_crossbank['xbank_ratio'] = dp_crossbank.xbank_sum/dp_crossbank.tx_len\n",
    "\n",
    "stat = stat.join(dp_atm['atm_ratio']).fillna(0)\n",
    "stat = stat.join(dp_crossbank['xbank_ratio']).fillna(0)"
   ]
  },
  {
   "cell_type": "code",
   "execution_count": 136,
   "id": "rcXI2nhx432X",
   "metadata": {
    "id": "rcXI2nhx432X"
   },
   "outputs": [],
   "source": [
    "#add remit data\n",
    "remit_pivot = pd.pivot_table(remit_df, values='trade_amount_usd', index=['cust_id'], aggfunc=[len, np.mean, np.std, np.sum])\n",
    "remit_pivot.columns = ['remit_cnt','remit_mean','remit_std','remit_sum']\n",
    "\n",
    "#add cdtx data\n",
    "cdtx_df_stat_pivot = pd.pivot_table(cdtx_df, values='amt', index=['cust_id'], aggfunc=[len, np.mean, np.std, np.sum])\n",
    "cdtx_df_stat_pivot.columns = ['cdtx_cnt','cdtx_mean','cdtx_std','cdtx_sum']\n",
    "\n",
    "\n",
    "stat = stat.join(remit_pivot).fillna(0)\n",
    "stat = stat.join(cdtx_df_stat_pivot).fillna(0)\n",
    "stat = stat.round(3)"
   ]
  },
  {
   "cell_type": "code",
   "execution_count": 137,
   "id": "I5l71HzqU0Qu",
   "metadata": {
    "colab": {
     "base_uri": "https://localhost:8080/"
    },
    "id": "I5l71HzqU0Qu",
    "outputId": "83eafeb8-ebbb-4950-c818-ba83cec05013"
   },
   "outputs": [
    {
     "data": {
      "text/plain": [
       "2    1847519\n",
       "1     114317\n",
       "3       7982\n",
       "Name: tx_type, dtype: int64"
      ]
     },
     "execution_count": 137,
     "metadata": {},
     "output_type": "execute_result"
    }
   ],
   "source": [
    "dp_df['tx_type'].value_counts()"
   ]
  },
  {
   "cell_type": "code",
   "execution_count": 138,
   "id": "zCG5HI7uXZ5u",
   "metadata": {
    "colab": {
     "base_uri": "https://localhost:8080/",
     "height": 455
    },
    "id": "zCG5HI7uXZ5u",
    "outputId": "773993ae-68ac-4d1d-d20f-bb1245e20b39"
   },
   "outputs": [
    {
     "data": {
      "text/html": [
       "<div>\n",
       "<style scoped>\n",
       "    .dataframe tbody tr th:only-of-type {\n",
       "        vertical-align: middle;\n",
       "    }\n",
       "\n",
       "    .dataframe tbody tr th {\n",
       "        vertical-align: top;\n",
       "    }\n",
       "\n",
       "    .dataframe thead th {\n",
       "        text-align: right;\n",
       "    }\n",
       "</style>\n",
       "<table border=\"1\" class=\"dataframe\">\n",
       "  <thead>\n",
       "    <tr style=\"text-align: right;\">\n",
       "      <th></th>\n",
       "      <th>txtype_1</th>\n",
       "      <th>txtype2</th>\n",
       "      <th>txtype3</th>\n",
       "    </tr>\n",
       "    <tr>\n",
       "      <th>cust_id</th>\n",
       "      <th></th>\n",
       "      <th></th>\n",
       "      <th></th>\n",
       "    </tr>\n",
       "  </thead>\n",
       "  <tbody>\n",
       "    <tr>\n",
       "      <th>0015cc01f553512007705edf855baa16f1b57a16fb107e0882c5cb0535d297a5</th>\n",
       "      <td>0.066667</td>\n",
       "      <td>0.933333</td>\n",
       "      <td>0.0</td>\n",
       "    </tr>\n",
       "    <tr>\n",
       "      <th>002d6bc6382e759c9a5b6bb2c8dda9add2f38cd87e10ca3efda9a312e97b342c</th>\n",
       "      <td>0.000000</td>\n",
       "      <td>1.000000</td>\n",
       "      <td>0.0</td>\n",
       "    </tr>\n",
       "    <tr>\n",
       "      <th>002f13f534d0bd9fcc1848db3ff5c7b1179d117f8de8055b7394696b948ec9b4</th>\n",
       "      <td>0.217391</td>\n",
       "      <td>0.782609</td>\n",
       "      <td>0.0</td>\n",
       "    </tr>\n",
       "    <tr>\n",
       "      <th>0031e83ddef78e57d17ac5dce088627b7745be8ff6cffcbc0a79aff9fedd93f0</th>\n",
       "      <td>0.000000</td>\n",
       "      <td>1.000000</td>\n",
       "      <td>0.0</td>\n",
       "    </tr>\n",
       "    <tr>\n",
       "      <th>0032adaf4a8731b4d6a3fdcba32f9ebdcd336490eda155b9bc5d18de6b65f381</th>\n",
       "      <td>0.016452</td>\n",
       "      <td>0.983548</td>\n",
       "      <td>0.0</td>\n",
       "    </tr>\n",
       "    <tr>\n",
       "      <th>...</th>\n",
       "      <td>...</td>\n",
       "      <td>...</td>\n",
       "      <td>...</td>\n",
       "    </tr>\n",
       "    <tr>\n",
       "      <th>ffdd3f98b841d4d0ef58ad0d63abddac83ffb5babf973cae4f00fb64ba9b859a</th>\n",
       "      <td>0.058577</td>\n",
       "      <td>0.941423</td>\n",
       "      <td>0.0</td>\n",
       "    </tr>\n",
       "    <tr>\n",
       "      <th>ffe5f2bd86ecfd7d0a0f4c4b76dd5c312649be95eb8b42dd8089cffc788b4a9e</th>\n",
       "      <td>0.141956</td>\n",
       "      <td>0.858044</td>\n",
       "      <td>0.0</td>\n",
       "    </tr>\n",
       "    <tr>\n",
       "      <th>ffeb846f2294ec4397f800736dc1e14eb754da5425398d9a3bb81469b764b16f</th>\n",
       "      <td>0.039216</td>\n",
       "      <td>0.960784</td>\n",
       "      <td>0.0</td>\n",
       "    </tr>\n",
       "    <tr>\n",
       "      <th>fff322436b556032e07690f12456d9eff3588c269d6210405947733f1a9413fd</th>\n",
       "      <td>0.168421</td>\n",
       "      <td>0.831579</td>\n",
       "      <td>0.0</td>\n",
       "    </tr>\n",
       "    <tr>\n",
       "      <th>fff94defcc33daab190e702926d583f6d805294354addbad478777654a69fed9</th>\n",
       "      <td>0.047778</td>\n",
       "      <td>0.952222</td>\n",
       "      <td>0.0</td>\n",
       "    </tr>\n",
       "  </tbody>\n",
       "</table>\n",
       "<p>6196 rows × 3 columns</p>\n",
       "</div>"
      ],
      "text/plain": [
       "                                                    txtype_1   txtype2  \\\n",
       "cust_id                                                                  \n",
       "0015cc01f553512007705edf855baa16f1b57a16fb107e0...  0.066667  0.933333   \n",
       "002d6bc6382e759c9a5b6bb2c8dda9add2f38cd87e10ca3...  0.000000  1.000000   \n",
       "002f13f534d0bd9fcc1848db3ff5c7b1179d117f8de8055...  0.217391  0.782609   \n",
       "0031e83ddef78e57d17ac5dce088627b7745be8ff6cffcb...  0.000000  1.000000   \n",
       "0032adaf4a8731b4d6a3fdcba32f9ebdcd336490eda155b...  0.016452  0.983548   \n",
       "...                                                      ...       ...   \n",
       "ffdd3f98b841d4d0ef58ad0d63abddac83ffb5babf973ca...  0.058577  0.941423   \n",
       "ffe5f2bd86ecfd7d0a0f4c4b76dd5c312649be95eb8b42d...  0.141956  0.858044   \n",
       "ffeb846f2294ec4397f800736dc1e14eb754da5425398d9...  0.039216  0.960784   \n",
       "fff322436b556032e07690f12456d9eff3588c269d62104...  0.168421  0.831579   \n",
       "fff94defcc33daab190e702926d583f6d805294354addba...  0.047778  0.952222   \n",
       "\n",
       "                                                    txtype3  \n",
       "cust_id                                                      \n",
       "0015cc01f553512007705edf855baa16f1b57a16fb107e0...      0.0  \n",
       "002d6bc6382e759c9a5b6bb2c8dda9add2f38cd87e10ca3...      0.0  \n",
       "002f13f534d0bd9fcc1848db3ff5c7b1179d117f8de8055...      0.0  \n",
       "0031e83ddef78e57d17ac5dce088627b7745be8ff6cffcb...      0.0  \n",
       "0032adaf4a8731b4d6a3fdcba32f9ebdcd336490eda155b...      0.0  \n",
       "...                                                     ...  \n",
       "ffdd3f98b841d4d0ef58ad0d63abddac83ffb5babf973ca...      0.0  \n",
       "ffe5f2bd86ecfd7d0a0f4c4b76dd5c312649be95eb8b42d...      0.0  \n",
       "ffeb846f2294ec4397f800736dc1e14eb754da5425398d9...      0.0  \n",
       "fff322436b556032e07690f12456d9eff3588c269d62104...      0.0  \n",
       "fff94defcc33daab190e702926d583f6d805294354addba...      0.0  \n",
       "\n",
       "[6196 rows x 3 columns]"
      ]
     },
     "execution_count": 138,
     "metadata": {},
     "output_type": "execute_result"
    }
   ],
   "source": [
    "dp_txtype = pd.pivot_table(dp_df, values='tx_date',columns=['tx_type'], index=['cust_id'], aggfunc=[len]).fillna(0)\n",
    "dp_txtype.columns=['txtype_1','txtype2','txtype3']\n",
    "dp_txtype_ratio = dp_txtype.div(dp_txtype.sum(axis=1), axis=0)\n",
    "stat = stat.join(dp_txtype_ratio).fillna(0)\n",
    "dp_txtype_ratio"
   ]
  },
  {
   "cell_type": "code",
   "execution_count": 139,
   "id": "EttneCJ0_R1G",
   "metadata": {
    "colab": {
     "base_uri": "https://localhost:8080/"
    },
    "id": "EttneCJ0_R1G",
    "outputId": "2981b9dd-2c39-4e10-b058-a2d88aeddd31"
   },
   "outputs": [
    {
     "data": {
      "text/plain": [
       "(6196, 23)"
      ]
     },
     "execution_count": 139,
     "metadata": {},
     "output_type": "execute_result"
    }
   ],
   "source": [
    "stat.shape"
   ]
  },
  {
   "cell_type": "code",
   "execution_count": 140,
   "id": "qsPHgUGs5WDn",
   "metadata": {
    "colab": {
     "base_uri": "https://localhost:8080/",
     "height": 331
    },
    "id": "qsPHgUGs5WDn",
    "outputId": "0a555645-504a-41c7-9d3b-bf340ef8146b"
   },
   "outputs": [
    {
     "data": {
      "text/html": [
       "<div>\n",
       "<style scoped>\n",
       "    .dataframe tbody tr th:only-of-type {\n",
       "        vertical-align: middle;\n",
       "    }\n",
       "\n",
       "    .dataframe tbody tr th {\n",
       "        vertical-align: top;\n",
       "    }\n",
       "\n",
       "    .dataframe thead th {\n",
       "        text-align: right;\n",
       "    }\n",
       "</style>\n",
       "<table border=\"1\" class=\"dataframe\">\n",
       "  <thead>\n",
       "    <tr style=\"text-align: right;\">\n",
       "      <th></th>\n",
       "      <th>count</th>\n",
       "      <th>mean</th>\n",
       "      <th>std</th>\n",
       "      <th>min</th>\n",
       "      <th>25%</th>\n",
       "      <th>50%</th>\n",
       "      <th>75%</th>\n",
       "      <th>max</th>\n",
       "      <th>entropy</th>\n",
       "      <th>skew</th>\n",
       "      <th>...</th>\n",
       "      <th>remit_mean</th>\n",
       "      <th>remit_std</th>\n",
       "      <th>remit_sum</th>\n",
       "      <th>cdtx_cnt</th>\n",
       "      <th>cdtx_mean</th>\n",
       "      <th>cdtx_std</th>\n",
       "      <th>cdtx_sum</th>\n",
       "      <th>txtype_1</th>\n",
       "      <th>txtype2</th>\n",
       "      <th>txtype3</th>\n",
       "    </tr>\n",
       "    <tr>\n",
       "      <th>cust_id</th>\n",
       "      <th></th>\n",
       "      <th></th>\n",
       "      <th></th>\n",
       "      <th></th>\n",
       "      <th></th>\n",
       "      <th></th>\n",
       "      <th></th>\n",
       "      <th></th>\n",
       "      <th></th>\n",
       "      <th></th>\n",
       "      <th></th>\n",
       "      <th></th>\n",
       "      <th></th>\n",
       "      <th></th>\n",
       "      <th></th>\n",
       "      <th></th>\n",
       "      <th></th>\n",
       "      <th></th>\n",
       "      <th></th>\n",
       "      <th></th>\n",
       "      <th></th>\n",
       "    </tr>\n",
       "  </thead>\n",
       "  <tbody>\n",
       "    <tr>\n",
       "      <th>0015cc01f553512007705edf855baa16f1b57a16fb107e0882c5cb0535d297a5</th>\n",
       "      <td>395.0</td>\n",
       "      <td>7185.213</td>\n",
       "      <td>106154.546</td>\n",
       "      <td>0.0</td>\n",
       "      <td>0.0</td>\n",
       "      <td>0.0</td>\n",
       "      <td>0.0</td>\n",
       "      <td>2084353.0</td>\n",
       "      <td>1.219</td>\n",
       "      <td>19.101</td>\n",
       "      <td>...</td>\n",
       "      <td>0.0</td>\n",
       "      <td>0.000</td>\n",
       "      <td>0.0</td>\n",
       "      <td>84.0</td>\n",
       "      <td>1053.321</td>\n",
       "      <td>4346.508</td>\n",
       "      <td>88479.0</td>\n",
       "      <td>0.066667</td>\n",
       "      <td>0.933333</td>\n",
       "      <td>0.0</td>\n",
       "    </tr>\n",
       "    <tr>\n",
       "      <th>002d6bc6382e759c9a5b6bb2c8dda9add2f38cd87e10ca3efda9a312e97b342c</th>\n",
       "      <td>395.0</td>\n",
       "      <td>635.709</td>\n",
       "      <td>4564.788</td>\n",
       "      <td>0.0</td>\n",
       "      <td>0.0</td>\n",
       "      <td>0.0</td>\n",
       "      <td>0.0</td>\n",
       "      <td>58370.0</td>\n",
       "      <td>2.244</td>\n",
       "      <td>9.555</td>\n",
       "      <td>...</td>\n",
       "      <td>0.0</td>\n",
       "      <td>0.000</td>\n",
       "      <td>0.0</td>\n",
       "      <td>362.0</td>\n",
       "      <td>13090.122</td>\n",
       "      <td>27801.054</td>\n",
       "      <td>4738624.0</td>\n",
       "      <td>0.000000</td>\n",
       "      <td>1.000000</td>\n",
       "      <td>0.0</td>\n",
       "    </tr>\n",
       "    <tr>\n",
       "      <th>002f13f534d0bd9fcc1848db3ff5c7b1179d117f8de8055b7394696b948ec9b4</th>\n",
       "      <td>395.0</td>\n",
       "      <td>40890.704</td>\n",
       "      <td>316549.082</td>\n",
       "      <td>0.0</td>\n",
       "      <td>0.0</td>\n",
       "      <td>0.0</td>\n",
       "      <td>0.0</td>\n",
       "      <td>4479327.0</td>\n",
       "      <td>2.599</td>\n",
       "      <td>12.729</td>\n",
       "      <td>...</td>\n",
       "      <td>343647.0</td>\n",
       "      <td>0.000</td>\n",
       "      <td>343647.0</td>\n",
       "      <td>206.0</td>\n",
       "      <td>1985.859</td>\n",
       "      <td>4189.990</td>\n",
       "      <td>409087.0</td>\n",
       "      <td>0.217391</td>\n",
       "      <td>0.782609</td>\n",
       "      <td>0.0</td>\n",
       "    </tr>\n",
       "    <tr>\n",
       "      <th>0031e83ddef78e57d17ac5dce088627b7745be8ff6cffcbc0a79aff9fedd93f0</th>\n",
       "      <td>395.0</td>\n",
       "      <td>82508.727</td>\n",
       "      <td>416442.719</td>\n",
       "      <td>0.0</td>\n",
       "      <td>0.0</td>\n",
       "      <td>0.0</td>\n",
       "      <td>0.0</td>\n",
       "      <td>5826371.0</td>\n",
       "      <td>3.333</td>\n",
       "      <td>10.025</td>\n",
       "      <td>...</td>\n",
       "      <td>0.0</td>\n",
       "      <td>0.000</td>\n",
       "      <td>0.0</td>\n",
       "      <td>614.0</td>\n",
       "      <td>1996.305</td>\n",
       "      <td>7038.178</td>\n",
       "      <td>1225731.0</td>\n",
       "      <td>0.000000</td>\n",
       "      <td>1.000000</td>\n",
       "      <td>0.0</td>\n",
       "    </tr>\n",
       "    <tr>\n",
       "      <th>0032adaf4a8731b4d6a3fdcba32f9ebdcd336490eda155b9bc5d18de6b65f381</th>\n",
       "      <td>395.0</td>\n",
       "      <td>171152.899</td>\n",
       "      <td>557435.118</td>\n",
       "      <td>0.0</td>\n",
       "      <td>0.0</td>\n",
       "      <td>2002.0</td>\n",
       "      <td>99120.5</td>\n",
       "      <td>6445011.0</td>\n",
       "      <td>4.118</td>\n",
       "      <td>6.082</td>\n",
       "      <td>...</td>\n",
       "      <td>120400.8</td>\n",
       "      <td>231067.034</td>\n",
       "      <td>602004.0</td>\n",
       "      <td>3.0</td>\n",
       "      <td>2092.333</td>\n",
       "      <td>360.173</td>\n",
       "      <td>6277.0</td>\n",
       "      <td>0.016452</td>\n",
       "      <td>0.983548</td>\n",
       "      <td>0.0</td>\n",
       "    </tr>\n",
       "  </tbody>\n",
       "</table>\n",
       "<p>5 rows × 23 columns</p>\n",
       "</div>"
      ],
      "text/plain": [
       "                                                    count        mean  \\\n",
       "cust_id                                                                 \n",
       "0015cc01f553512007705edf855baa16f1b57a16fb107e0...  395.0    7185.213   \n",
       "002d6bc6382e759c9a5b6bb2c8dda9add2f38cd87e10ca3...  395.0     635.709   \n",
       "002f13f534d0bd9fcc1848db3ff5c7b1179d117f8de8055...  395.0   40890.704   \n",
       "0031e83ddef78e57d17ac5dce088627b7745be8ff6cffcb...  395.0   82508.727   \n",
       "0032adaf4a8731b4d6a3fdcba32f9ebdcd336490eda155b...  395.0  171152.899   \n",
       "\n",
       "                                                           std  min  25%  \\\n",
       "cust_id                                                                    \n",
       "0015cc01f553512007705edf855baa16f1b57a16fb107e0...  106154.546  0.0  0.0   \n",
       "002d6bc6382e759c9a5b6bb2c8dda9add2f38cd87e10ca3...    4564.788  0.0  0.0   \n",
       "002f13f534d0bd9fcc1848db3ff5c7b1179d117f8de8055...  316549.082  0.0  0.0   \n",
       "0031e83ddef78e57d17ac5dce088627b7745be8ff6cffcb...  416442.719  0.0  0.0   \n",
       "0032adaf4a8731b4d6a3fdcba32f9ebdcd336490eda155b...  557435.118  0.0  0.0   \n",
       "\n",
       "                                                       50%      75%  \\\n",
       "cust_id                                                               \n",
       "0015cc01f553512007705edf855baa16f1b57a16fb107e0...     0.0      0.0   \n",
       "002d6bc6382e759c9a5b6bb2c8dda9add2f38cd87e10ca3...     0.0      0.0   \n",
       "002f13f534d0bd9fcc1848db3ff5c7b1179d117f8de8055...     0.0      0.0   \n",
       "0031e83ddef78e57d17ac5dce088627b7745be8ff6cffcb...     0.0      0.0   \n",
       "0032adaf4a8731b4d6a3fdcba32f9ebdcd336490eda155b...  2002.0  99120.5   \n",
       "\n",
       "                                                          max  entropy  \\\n",
       "cust_id                                                                  \n",
       "0015cc01f553512007705edf855baa16f1b57a16fb107e0...  2084353.0    1.219   \n",
       "002d6bc6382e759c9a5b6bb2c8dda9add2f38cd87e10ca3...    58370.0    2.244   \n",
       "002f13f534d0bd9fcc1848db3ff5c7b1179d117f8de8055...  4479327.0    2.599   \n",
       "0031e83ddef78e57d17ac5dce088627b7745be8ff6cffcb...  5826371.0    3.333   \n",
       "0032adaf4a8731b4d6a3fdcba32f9ebdcd336490eda155b...  6445011.0    4.118   \n",
       "\n",
       "                                                      skew  ...  remit_mean  \\\n",
       "cust_id                                                     ...               \n",
       "0015cc01f553512007705edf855baa16f1b57a16fb107e0...  19.101  ...         0.0   \n",
       "002d6bc6382e759c9a5b6bb2c8dda9add2f38cd87e10ca3...   9.555  ...         0.0   \n",
       "002f13f534d0bd9fcc1848db3ff5c7b1179d117f8de8055...  12.729  ...    343647.0   \n",
       "0031e83ddef78e57d17ac5dce088627b7745be8ff6cffcb...  10.025  ...         0.0   \n",
       "0032adaf4a8731b4d6a3fdcba32f9ebdcd336490eda155b...   6.082  ...    120400.8   \n",
       "\n",
       "                                                     remit_std  remit_sum  \\\n",
       "cust_id                                                                     \n",
       "0015cc01f553512007705edf855baa16f1b57a16fb107e0...       0.000        0.0   \n",
       "002d6bc6382e759c9a5b6bb2c8dda9add2f38cd87e10ca3...       0.000        0.0   \n",
       "002f13f534d0bd9fcc1848db3ff5c7b1179d117f8de8055...       0.000   343647.0   \n",
       "0031e83ddef78e57d17ac5dce088627b7745be8ff6cffcb...       0.000        0.0   \n",
       "0032adaf4a8731b4d6a3fdcba32f9ebdcd336490eda155b...  231067.034   602004.0   \n",
       "\n",
       "                                                    cdtx_cnt  cdtx_mean  \\\n",
       "cust_id                                                                   \n",
       "0015cc01f553512007705edf855baa16f1b57a16fb107e0...      84.0   1053.321   \n",
       "002d6bc6382e759c9a5b6bb2c8dda9add2f38cd87e10ca3...     362.0  13090.122   \n",
       "002f13f534d0bd9fcc1848db3ff5c7b1179d117f8de8055...     206.0   1985.859   \n",
       "0031e83ddef78e57d17ac5dce088627b7745be8ff6cffcb...     614.0   1996.305   \n",
       "0032adaf4a8731b4d6a3fdcba32f9ebdcd336490eda155b...       3.0   2092.333   \n",
       "\n",
       "                                                     cdtx_std   cdtx_sum  \\\n",
       "cust_id                                                                    \n",
       "0015cc01f553512007705edf855baa16f1b57a16fb107e0...   4346.508    88479.0   \n",
       "002d6bc6382e759c9a5b6bb2c8dda9add2f38cd87e10ca3...  27801.054  4738624.0   \n",
       "002f13f534d0bd9fcc1848db3ff5c7b1179d117f8de8055...   4189.990   409087.0   \n",
       "0031e83ddef78e57d17ac5dce088627b7745be8ff6cffcb...   7038.178  1225731.0   \n",
       "0032adaf4a8731b4d6a3fdcba32f9ebdcd336490eda155b...    360.173     6277.0   \n",
       "\n",
       "                                                    txtype_1   txtype2  \\\n",
       "cust_id                                                                  \n",
       "0015cc01f553512007705edf855baa16f1b57a16fb107e0...  0.066667  0.933333   \n",
       "002d6bc6382e759c9a5b6bb2c8dda9add2f38cd87e10ca3...  0.000000  1.000000   \n",
       "002f13f534d0bd9fcc1848db3ff5c7b1179d117f8de8055...  0.217391  0.782609   \n",
       "0031e83ddef78e57d17ac5dce088627b7745be8ff6cffcb...  0.000000  1.000000   \n",
       "0032adaf4a8731b4d6a3fdcba32f9ebdcd336490eda155b...  0.016452  0.983548   \n",
       "\n",
       "                                                    txtype3  \n",
       "cust_id                                                      \n",
       "0015cc01f553512007705edf855baa16f1b57a16fb107e0...      0.0  \n",
       "002d6bc6382e759c9a5b6bb2c8dda9add2f38cd87e10ca3...      0.0  \n",
       "002f13f534d0bd9fcc1848db3ff5c7b1179d117f8de8055...      0.0  \n",
       "0031e83ddef78e57d17ac5dce088627b7745be8ff6cffcb...      0.0  \n",
       "0032adaf4a8731b4d6a3fdcba32f9ebdcd336490eda155b...      0.0  \n",
       "\n",
       "[5 rows x 23 columns]"
      ]
     },
     "execution_count": 140,
     "metadata": {},
     "output_type": "execute_result"
    }
   ],
   "source": [
    "stat.head()"
   ]
  },
  {
   "cell_type": "code",
   "execution_count": 141,
   "id": "njbF7_Nb6jyT",
   "metadata": {
    "id": "njbF7_Nb6jyT"
   },
   "outputs": [],
   "source": [
    "from sklearn.tree import DecisionTreeClassifier\n",
    "from sklearn.model_selection import train_test_split\n",
    "from sklearn.metrics import accuracy_score, precision_score, recall_score, f1_score, confusion_matrix \n",
    "from sklearn.metrics import ConfusionMatrixDisplay\n",
    "from xgboost import XGBClassifier\n",
    "\n",
    "def df_get_dummies(df,columns=[]):\n",
    "  for col in columns:\n",
    "    dummy = pd.get_dummies(df[col].fillna(0).astype(int))\n",
    "    df_dummy = pd.concat([df, dummy], axis=1)\n",
    "    df_dummy = df_dummy.drop(columns=col)\n",
    "    return df_dummy\n",
    "\n",
    "#How many alert by cust_id\n",
    "alert_cnt = pd.pivot_table(customer_df, values='alert_key', index=['cust_id'], aggfunc=[len])\n",
    "\n",
    "#clean duplicate cust_id\n",
    "customer_df_unique = customer_df.drop_duplicates(subset=['cust_id'],keep='last')\n",
    "\n",
    "dt_df = customer_df_unique[customer_df_unique.cust_id.isin(stat.index)].set_index('cust_id')\n",
    "dt_df = df_get_dummies(dt_df,['occupation_code']).join(stat)\n",
    "\n",
    "X = dt_df.drop(columns=['alert_key','sar_flag'])\n",
    "y = dt_df[\"sar_flag\"]\n",
    "\n",
    "\n",
    "X_train, X_test, y_train, y_test = train_test_split(X, y, test_size = 0.2)"
   ]
  },
  {
   "cell_type": "code",
   "execution_count": 142,
   "id": "USMONC-K5aXA",
   "metadata": {
    "colab": {
     "base_uri": "https://localhost:8080/",
     "height": 438
    },
    "id": "USMONC-K5aXA",
    "outputId": "c121193b-d250-46ed-9de2-409367377192"
   },
   "outputs": [
    {
     "name": "stdout",
     "output_type": "stream",
     "text": [
      "precision:  0.17857142857142858\n",
      "recall:  0.21739130434782608\n",
      "f1 score:  0.19607843137254902\n"
     ]
    },
    {
     "data": {
      "text/plain": [
       "<sklearn.metrics._plot.confusion_matrix.ConfusionMatrixDisplay at 0x1cfbaad3be0>"
      ]
     },
     "execution_count": 142,
     "metadata": {},
     "output_type": "execute_result"
    },
    {
     "data": {
      "image/png": "[encoded data removed]",
      "text/plain": [
       "<Figure size 432x288 with 2 Axes>"
      ]
     },
     "metadata": {
      "needs_background": "light"
     },
     "output_type": "display_data"
    }
   ],
   "source": [
    "#Decision Tree\n",
    "dtc = DecisionTreeClassifier()\n",
    "model = dtc.fit(X_train, y_train)\n",
    "\n",
    "y_predict = model.predict(X_test)\n",
    "\n",
    "print(\"precision: \", precision_score(y_test, y_predict))\n",
    "print(\"recall: \", recall_score(y_test, y_predict))\n",
    "print(\"f1 score: \", f1_score(y_test, y_predict))\n",
    "\n",
    "cm = confusion_matrix(y_test, y_predict)\n",
    "display = ConfusionMatrixDisplay(confusion_matrix = cm)\n",
    "display.plot()"
   ]
  },
  {
   "cell_type": "code",
   "execution_count": 143,
   "id": "Hip8Ur3AFz62",
   "metadata": {
    "colab": {
     "base_uri": "https://localhost:8080/",
     "height": 348
    },
    "id": "Hip8Ur3AFz62",
    "outputId": "7f22f55e-59b9-4125-c88c-98f14d12af3a"
   },
   "outputs": [
    {
     "name": "stderr",
     "output_type": "stream",
     "text": [
      "C:\\Users\\ASUS\\anaconda3\\lib\\site-packages\\xgboost\\sklearn.py:1224: UserWarning: The use of label encoder in XGBClassifier is deprecated and will be removed in a future release. To remove this warning, do the following: 1) Pass option use_label_encoder=False when constructing XGBClassifier object; and 2) Encode your labels (y) as integers starting with 0, i.e. 0, 1, 2, ..., [num_class - 1].\n",
      "  warnings.warn(label_encoder_deprecation_msg, UserWarning)\n"
     ]
    },
    {
     "name": "stdout",
     "output_type": "stream",
     "text": [
      "[23:48:33] WARNING: C:/Users/Administrator/workspace/xgboost-win64_release_1.5.1/src/learner.cc:1115: Starting in XGBoost 1.3.0, the default evaluation metric used with the objective 'binary:logistic' was changed from 'error' to 'logloss'. Explicitly set eval_metric if you'd like to restore the old behavior.\n",
      "precision:  0.38461538461538464\n",
      "recall:  0.10869565217391304\n",
      "f1 score:  0.1694915254237288\n"
     ]
    },
    {
     "data": {
      "text/plain": [
       "<sklearn.metrics._plot.confusion_matrix.ConfusionMatrixDisplay at 0x1cf92c2a160>"
      ]
     },
     "execution_count": 143,
     "metadata": {},
     "output_type": "execute_result"
    },
    {
     "data": {
      "image/png": "[encoded data removed]",
      "text/plain": [
       "<Figure size 432x288 with 2 Axes>"
      ]
     },
     "metadata": {
      "needs_background": "light"
     },
     "output_type": "display_data"
    }
   ],
   "source": [
    "#Xgboost\n",
    "xgb = XGBClassifier(n_estimators=200, learning_rate= 0.001)\n",
    "\n",
    "xgb.fit(X_train, y_train)\n",
    "\n",
    "y_predict = xgb.predict(X_test)\n",
    "\n",
    "print(\"precision: \", precision_score(y_test, y_predict))\n",
    "print(\"recall: \", recall_score(y_test, y_predict))\n",
    "print(\"f1 score: \", f1_score(y_test, y_predict))\n",
    "\n",
    "cm = confusion_matrix(y_test, y_predict)\n",
    "display = ConfusionMatrixDisplay(confusion_matrix = cm)\n",
    "display.plot()"
   ]
  },
  {
   "cell_type": "code",
   "execution_count": 144,
   "id": "Lx3ze9sKfV5s",
   "metadata": {
    "colab": {
     "base_uri": "https://localhost:8080/",
     "height": 282
    },
    "id": "Lx3ze9sKfV5s",
    "outputId": "3af8f9df-8e54-4b89-8616-eebba46a0235"
   },
   "outputs": [
    {
     "data": {
      "text/plain": [
       "[<matplotlib.lines.Line2D at 0x1cfaab8e820>]"
      ]
     },
     "execution_count": 144,
     "metadata": {},
     "output_type": "execute_result"
    },
    {
     "data": {
      "image/png": "[encoded data removed]",
      "text/plain": [
       "<Figure size 432x288 with 1 Axes>"
      ]
     },
     "metadata": {
      "needs_background": "light"
     },
     "output_type": "display_data"
    }
   ],
   "source": [
    "score = pd.DataFrame(xgb.predict_proba(X_test),columns=['nosar','sar'])\n",
    "score['Y'] = y_test.values\n",
    "score['Y_pred'] = y_predict\n",
    "score = score.sort_values('sar',ascending=False)\n",
    "plt.plot(list(score['Y'].cumsum()))"
   ]
  },
  {
   "cell_type": "code",
   "execution_count": 145,
   "id": "ZYJcgqSKQE8a",
   "metadata": {
    "colab": {
     "base_uri": "https://localhost:8080/",
     "height": 424
    },
    "id": "ZYJcgqSKQE8a",
    "outputId": "d42194dd-6653-4c50-e641-2fa8e71ce317"
   },
   "outputs": [
    {
     "data": {
      "text/html": [
       "<div>\n",
       "<style scoped>\n",
       "    .dataframe tbody tr th:only-of-type {\n",
       "        vertical-align: middle;\n",
       "    }\n",
       "\n",
       "    .dataframe tbody tr th {\n",
       "        vertical-align: top;\n",
       "    }\n",
       "\n",
       "    .dataframe thead th {\n",
       "        text-align: right;\n",
       "    }\n",
       "</style>\n",
       "<table border=\"1\" class=\"dataframe\">\n",
       "  <thead>\n",
       "    <tr style=\"text-align: right;\">\n",
       "      <th></th>\n",
       "      <th>nosar</th>\n",
       "      <th>sar</th>\n",
       "      <th>Y</th>\n",
       "      <th>Y_pred</th>\n",
       "    </tr>\n",
       "  </thead>\n",
       "  <tbody>\n",
       "    <tr>\n",
       "      <th>973</th>\n",
       "      <td>0.425217</td>\n",
       "      <td>0.574783</td>\n",
       "      <td>1</td>\n",
       "      <td>1</td>\n",
       "    </tr>\n",
       "    <tr>\n",
       "      <th>318</th>\n",
       "      <td>0.425217</td>\n",
       "      <td>0.574783</td>\n",
       "      <td>0</td>\n",
       "      <td>1</td>\n",
       "    </tr>\n",
       "    <tr>\n",
       "      <th>981</th>\n",
       "      <td>0.425217</td>\n",
       "      <td>0.574783</td>\n",
       "      <td>1</td>\n",
       "      <td>1</td>\n",
       "    </tr>\n",
       "    <tr>\n",
       "      <th>627</th>\n",
       "      <td>0.425217</td>\n",
       "      <td>0.574783</td>\n",
       "      <td>1</td>\n",
       "      <td>1</td>\n",
       "    </tr>\n",
       "    <tr>\n",
       "      <th>791</th>\n",
       "      <td>0.447347</td>\n",
       "      <td>0.552653</td>\n",
       "      <td>1</td>\n",
       "      <td>1</td>\n",
       "    </tr>\n",
       "    <tr>\n",
       "      <th>...</th>\n",
       "      <td>...</td>\n",
       "      <td>...</td>\n",
       "      <td>...</td>\n",
       "      <td>...</td>\n",
       "    </tr>\n",
       "    <tr>\n",
       "      <th>445</th>\n",
       "      <td>0.588601</td>\n",
       "      <td>0.411399</td>\n",
       "      <td>0</td>\n",
       "      <td>0</td>\n",
       "    </tr>\n",
       "    <tr>\n",
       "      <th>446</th>\n",
       "      <td>0.588601</td>\n",
       "      <td>0.411399</td>\n",
       "      <td>0</td>\n",
       "      <td>0</td>\n",
       "    </tr>\n",
       "    <tr>\n",
       "      <th>447</th>\n",
       "      <td>0.588601</td>\n",
       "      <td>0.411399</td>\n",
       "      <td>0</td>\n",
       "      <td>0</td>\n",
       "    </tr>\n",
       "    <tr>\n",
       "      <th>448</th>\n",
       "      <td>0.588601</td>\n",
       "      <td>0.411399</td>\n",
       "      <td>0</td>\n",
       "      <td>0</td>\n",
       "    </tr>\n",
       "    <tr>\n",
       "      <th>1152</th>\n",
       "      <td>0.588601</td>\n",
       "      <td>0.411399</td>\n",
       "      <td>0</td>\n",
       "      <td>0</td>\n",
       "    </tr>\n",
       "  </tbody>\n",
       "</table>\n",
       "<p>1153 rows × 4 columns</p>\n",
       "</div>"
      ],
      "text/plain": [
       "         nosar       sar  Y  Y_pred\n",
       "973   0.425217  0.574783  1       1\n",
       "318   0.425217  0.574783  0       1\n",
       "981   0.425217  0.574783  1       1\n",
       "627   0.425217  0.574783  1       1\n",
       "791   0.447347  0.552653  1       1\n",
       "...        ...       ... ..     ...\n",
       "445   0.588601  0.411399  0       0\n",
       "446   0.588601  0.411399  0       0\n",
       "447   0.588601  0.411399  0       0\n",
       "448   0.588601  0.411399  0       0\n",
       "1152  0.588601  0.411399  0       0\n",
       "\n",
       "[1153 rows x 4 columns]"
      ]
     },
     "execution_count": 145,
     "metadata": {},
     "output_type": "execute_result"
    }
   ],
   "source": [
    "score"
   ]
  },
  {
   "cell_type": "code",
   "execution_count": 146,
   "id": "PA5s7Q6cF-Ty",
   "metadata": {
    "colab": {
     "base_uri": "https://localhost:8080/"
    },
    "id": "PA5s7Q6cF-Ty",
    "outputId": "bf6c8e40-3e14-40b2-851a-5ed852307adb"
   },
   "outputs": [
    {
     "data": {
      "text/plain": [
       "OneClassSVM(gamma=0.1, nu=0.05)"
      ]
     },
     "execution_count": 146,
     "metadata": {},
     "output_type": "execute_result"
    }
   ],
   "source": [
    "#One-class SVM\n",
    "from sklearn import svm\n",
    "\n",
    "X_oc = X.join(y)\n",
    "\n",
    "X_good = X_oc[X_oc.sar_flag == 0].drop(columns=[\"sar_flag\"])\n",
    "X_sar = X_oc[X_oc.sar_flag == 1].drop(columns=[\"sar_flag\"])\n",
    "\n",
    "X_good_train, X_good_test = train_test_split(X_good,  test_size = 0.2)\n",
    "\n",
    "# fit model nu: An upper bound on the fraction of training errors and a lower bound of the fraction of support vectors. Should be in the interval (0, 1]. \n",
    "clf = svm.OneClassSVM(nu=0.05, kernel=\"rbf\", gamma=0.1)\n",
    "clf.fit(X_good_train)"
   ]
  },
  {
   "cell_type": "code",
   "execution_count": 147,
   "id": "EFg57npQG_C-",
   "metadata": {
    "colab": {
     "base_uri": "https://localhost:8080/"
    },
    "id": "EFg57npQG_C-",
    "outputId": "e2b6ea73-b386-45d3-8b34-5e7cbe541413"
   },
   "outputs": [],
   "source": [
    "y_pred_train = clf.predict(X_good_train) \n",
    "y_pred_test = clf.predict(X_good_test)   \n",
    "y_pred_outliers = clf.predict(X_sar)\n",
    "n_error_train = y_pred_train[y_pred_train == -1].size\n",
    "n_error_test = y_pred_test[y_pred_test == -1].size\n",
    "n_error_outliers = y_pred_outliers[y_pred_outliers == 1].size "
   ]
  },
  {
   "cell_type": "code",
   "execution_count": 148,
   "id": "G9U4T83TH1CV",
   "metadata": {
    "colab": {
     "base_uri": "https://localhost:8080/"
    },
    "id": "G9U4T83TH1CV",
    "outputId": "8c3255cc-db46-4f20-fc9d-91c6ba37fe0c"
   },
   "outputs": [
    {
     "name": "stdout",
     "output_type": "stream",
     "text": [
      "training_acc: 0.24423859014911886\n"
     ]
    }
   ],
   "source": [
    "print('training_acc:',1-n_error_train/len(X_good_train))"
   ]
  },
  {
   "cell_type": "code",
   "execution_count": 149,
   "id": "S82CVHQNJxht",
   "metadata": {
    "colab": {
     "base_uri": "https://localhost:8080/",
     "height": 366
    },
    "id": "S82CVHQNJxht",
    "outputId": "cd82dfaf-bf21-4960-998a-6242e964b373"
   },
   "outputs": [
    {
     "name": "stdout",
     "output_type": "stream",
     "text": [
      "accuracy_score:  0.17140718562874252\n",
      "precision:  0.17140718562874252\n",
      "recall:  1.0\n",
      "f1 score:  0.29265175718849845\n"
     ]
    },
    {
     "data": {
      "text/plain": [
       "<sklearn.metrics._plot.confusion_matrix.ConfusionMatrixDisplay at 0x1cf916ee460>"
      ]
     },
     "execution_count": 149,
     "metadata": {},
     "output_type": "execute_result"
    },
    {
     "data": {
      "image/png": "[encoded data removed]",
      "text/plain": [
       "<Figure size 432x288 with 2 Axes>"
      ]
     },
     "metadata": {
      "needs_background": "light"
     },
     "output_type": "display_data"
    }
   ],
   "source": [
    "y_predict = list(y_pred_test)+list(y_pred_outliers)\n",
    "y_predict = [1 if i == -1 else 0 for i in y_predict]\n",
    "y_test = [0]*len(X_good_test) + [1]*len(X_sar)\n",
    "\n",
    "accuracy_score\n",
    "print(\"accuracy_score: \", accuracy_score(y_test, y_predict))\n",
    "print(\"precision: \", precision_score(y_test, y_predict))\n",
    "print(\"recall: \", recall_score(y_test, y_predict))\n",
    "print(\"f1 score: \", f1_score(y_test, y_predict))\n",
    "\n",
    "cm = confusion_matrix(y_test, y_predict)\n",
    "display = ConfusionMatrixDisplay(confusion_matrix = cm)\n",
    "display.plot()"
   ]
  },
  {
   "cell_type": "code",
   "execution_count": 150,
   "id": "wq7jnkidOdRM",
   "metadata": {
    "colab": {
     "base_uri": "https://localhost:8080/",
     "height": 372
    },
    "id": "wq7jnkidOdRM",
    "outputId": "78a3175e-a040-4fe3-d8f7-e12db2879aa6"
   },
   "outputs": [
    {
     "data": {
      "text/plain": [
       "[<matplotlib.lines.Line2D at 0x1cfbab567f0>]"
      ]
     },
     "execution_count": 150,
     "metadata": {},
     "output_type": "execute_result"
    },
    {
     "data": {
      "image/png": "[encoded data removed]",
      "text/plain": [
       "<Figure size 432x288 with 1 Axes>"
      ]
     },
     "metadata": {
      "needs_background": "light"
     },
     "output_type": "display_data"
    }
   ],
   "source": [
    "score = pd.DataFrame({'score':list(clf.score_samples(X_good_test))+list(clf.score_samples(X_sar))})\n",
    "score['Y'] = y_test\n",
    "score = score.sort_values('score',ascending=False)\n",
    "plt.plot(list(score['Y'].cumsum()))"
   ]
  },
  {
   "cell_type": "markdown",
   "id": "scLwkv4_g3V0",
   "metadata": {
    "id": "scLwkv4_g3V0"
   },
   "source": [
    "# make public prediction"
   ]
  },
  {
   "cell_type": "code",
   "execution_count": 281,
   "id": "02fff288",
   "metadata": {},
   "outputs": [
    {
     "data": {
      "text/plain": [
       "(1845, 5)"
      ]
     },
     "execution_count": 281,
     "metadata": {},
     "output_type": "execute_result"
    }
   ],
   "source": [
    "dt_df_public = custinfo_df.set_index('cust_id')\n",
    "X_public = dt_df_public[dt_df_public.alert_key.isin(public_key)]\n",
    "X_public.shape"
   ]
  },
  {
   "cell_type": "code",
   "execution_count": 282,
   "id": "HWWx5HDWg5BE",
   "metadata": {
    "colab": {
     "base_uri": "https://localhost:8080/",
     "height": 206
    },
    "id": "HWWx5HDWg5BE",
    "outputId": "f2b61a75-4e38-4748-c9a7-9fb9bf74e190"
   },
   "outputs": [
    {
     "data": {
      "text/html": [
       "<div>\n",
       "<style scoped>\n",
       "    .dataframe tbody tr th:only-of-type {\n",
       "        vertical-align: middle;\n",
       "    }\n",
       "\n",
       "    .dataframe tbody tr th {\n",
       "        vertical-align: top;\n",
       "    }\n",
       "\n",
       "    .dataframe thead th {\n",
       "        text-align: right;\n",
       "    }\n",
       "</style>\n",
       "<table border=\"1\" class=\"dataframe\">\n",
       "  <thead>\n",
       "    <tr style=\"text-align: right;\">\n",
       "      <th></th>\n",
       "      <th>alert_key</th>\n",
       "      <th>probability</th>\n",
       "    </tr>\n",
       "  </thead>\n",
       "  <tbody>\n",
       "    <tr>\n",
       "      <th>0</th>\n",
       "      <td>357307</td>\n",
       "      <td>0.000017</td>\n",
       "    </tr>\n",
       "    <tr>\n",
       "      <th>1</th>\n",
       "      <td>376329</td>\n",
       "      <td>0.000324</td>\n",
       "    </tr>\n",
       "    <tr>\n",
       "      <th>2</th>\n",
       "      <td>373644</td>\n",
       "      <td>0.000372</td>\n",
       "    </tr>\n",
       "    <tr>\n",
       "      <th>3</th>\n",
       "      <td>357668</td>\n",
       "      <td>0.000489</td>\n",
       "    </tr>\n",
       "    <tr>\n",
       "      <th>4</th>\n",
       "      <td>354443</td>\n",
       "      <td>0.000526</td>\n",
       "    </tr>\n",
       "  </tbody>\n",
       "</table>\n",
       "</div>"
      ],
      "text/plain": [
       "   alert_key  probability\n",
       "0     357307     0.000017\n",
       "1     376329     0.000324\n",
       "2     373644     0.000372\n",
       "3     357668     0.000489\n",
       "4     354443     0.000526"
      ]
     },
     "execution_count": 282,
     "metadata": {},
     "output_type": "execute_result"
    }
   ],
   "source": [
    "public = pd.read_csv('./public_alert.csv')\n",
    "custinfo_df_raw = pd.read_csv(\"./public_train_x_custinfo_full_hashed.csv\")\n",
    "public_key = list(public.alert_key)\n",
    "cust_alert_dict = (custinfo_df_raw[['cust_id','alert_key']].set_index('alert_key')).to_dict()\n",
    "public.head()"
   ]
  },
  {
   "cell_type": "code",
   "execution_count": 283,
   "id": "syIt8gakvp2E",
   "metadata": {
    "colab": {
     "base_uri": "https://localhost:8080/"
    },
    "id": "syIt8gakvp2E",
    "outputId": "4bcdab2d-283a-460c-e42f-c9ceca305448"
   },
   "outputs": [
    {
     "name": "stdout",
     "output_type": "stream",
     "text": [
      "X_shape: (1845, 5)\n"
     ]
    }
   ],
   "source": [
    "print('public key len:',len(public))\n",
    "#print('cust_info intersaction:',len(alert_key_save))\n",
    "print('dp intersection:', len(list(set(dp_pivot.columns) & set(dt_df_public[dt_df_public.alert_key.isin(public_key)].index))))\n",
    "print('cdtx intersection:', len(list(set(cdtx_pivot.columns) & set(dt_df_public[dt_df_public.alert_key.isin(public_key)].index))))\n",
    "print('X_shape:',X_public.shape)"
   ]
  },
  {
   "cell_type": "code",
   "execution_count": 284,
   "id": "xqb020LgHO7D",
   "metadata": {
    "id": "xqb020LgHO7D"
   },
   "outputs": [],
   "source": [
    "keep_cust_id =list(set(dp_pivot.columns) & set(dt_df_public[dt_df_public.alert_key.isin(public_key)].index))"
   ]
  },
  {
   "cell_type": "code",
   "execution_count": 285,
   "id": "eaNEGIIoijxl",
   "metadata": {
    "id": "eaNEGIIoijxl"
   },
   "outputs": [],
   "source": [
    "dt_df_public = custinfo_df_raw.set_index('cust_id')\n",
    "dt_df_public = df_get_dummies(dt_df_public,['occupation_code']).join(stat)\n",
    "\n",
    "\n",
    "X_public = dt_df_public[dt_df_public.index.isin(keep_cust_id)]\n",
    "alert_key_save = X_public.alert_key\n",
    "X_public = X_public.drop(columns=\"alert_key\")\n",
    "X_public = X_public[X.columns]\n",
    "\n",
    "X_public = X_public.fillna(0)"
   ]
  },
  {
   "cell_type": "code",
   "execution_count": 286,
   "id": "IwmRm7soH6w_",
   "metadata": {
    "colab": {
     "base_uri": "https://localhost:8080/",
     "height": 331
    },
    "id": "IwmRm7soH6w_",
    "outputId": "109515cb-bcb7-4747-bcae-3e422f88218b",
    "scrolled": true
   },
   "outputs": [
    {
     "data": {
      "text/html": [
       "<div>\n",
       "<style scoped>\n",
       "    .dataframe tbody tr th:only-of-type {\n",
       "        vertical-align: middle;\n",
       "    }\n",
       "\n",
       "    .dataframe tbody tr th {\n",
       "        vertical-align: top;\n",
       "    }\n",
       "\n",
       "    .dataframe thead th {\n",
       "        text-align: right;\n",
       "    }\n",
       "</style>\n",
       "<table border=\"1\" class=\"dataframe\">\n",
       "  <thead>\n",
       "    <tr style=\"text-align: right;\">\n",
       "      <th></th>\n",
       "      <th>risk_rank</th>\n",
       "      <th>occupation_code</th>\n",
       "      <th>total_asset</th>\n",
       "      <th>AGE</th>\n",
       "    </tr>\n",
       "    <tr>\n",
       "      <th>cust_id</th>\n",
       "      <th></th>\n",
       "      <th></th>\n",
       "      <th></th>\n",
       "      <th></th>\n",
       "    </tr>\n",
       "  </thead>\n",
       "  <tbody>\n",
       "    <tr>\n",
       "      <th>82595ac69158ae08d34156784bdec0d9e2ca5b242b6d2a8542c040b98feb8bd1</th>\n",
       "      <td>1</td>\n",
       "      <td>19.0</td>\n",
       "      <td>1465816.0</td>\n",
       "      <td>7</td>\n",
       "    </tr>\n",
       "    <tr>\n",
       "      <th>b212d14cb35676926682b2cf849e295d948888f556c07e854c4cdad9f32f5084</th>\n",
       "      <td>1</td>\n",
       "      <td>2.0</td>\n",
       "      <td>98177.0</td>\n",
       "      <td>2</td>\n",
       "    </tr>\n",
       "    <tr>\n",
       "      <th>e5b0002791c7852644a2730abeaa893cdf14a072ef78120275815edbd596cec0</th>\n",
       "      <td>1</td>\n",
       "      <td>19.0</td>\n",
       "      <td>2052922.0</td>\n",
       "      <td>7</td>\n",
       "    </tr>\n",
       "    <tr>\n",
       "      <th>74214c478dc6519fbefe4bc31693865bdcd698ab974b6435bb8fa842a3ed4fd8</th>\n",
       "      <td>3</td>\n",
       "      <td>15.0</td>\n",
       "      <td>201906.0</td>\n",
       "      <td>5</td>\n",
       "    </tr>\n",
       "    <tr>\n",
       "      <th>0340e7611f0d82c3cb87e6194fa14bb2ccf8afbf1b341860b7e09990369f6466</th>\n",
       "      <td>1</td>\n",
       "      <td>12.0</td>\n",
       "      <td>7450.0</td>\n",
       "      <td>5</td>\n",
       "    </tr>\n",
       "  </tbody>\n",
       "</table>\n",
       "</div>"
      ],
      "text/plain": [
       "                                                    risk_rank  \\\n",
       "cust_id                                                         \n",
       "82595ac69158ae08d34156784bdec0d9e2ca5b242b6d2a8...          1   \n",
       "b212d14cb35676926682b2cf849e295d948888f556c07e8...          1   \n",
       "e5b0002791c7852644a2730abeaa893cdf14a072ef78120...          1   \n",
       "74214c478dc6519fbefe4bc31693865bdcd698ab974b643...          3   \n",
       "0340e7611f0d82c3cb87e6194fa14bb2ccf8afbf1b34186...          1   \n",
       "\n",
       "                                                    occupation_code  \\\n",
       "cust_id                                                               \n",
       "82595ac69158ae08d34156784bdec0d9e2ca5b242b6d2a8...             19.0   \n",
       "b212d14cb35676926682b2cf849e295d948888f556c07e8...              2.0   \n",
       "e5b0002791c7852644a2730abeaa893cdf14a072ef78120...             19.0   \n",
       "74214c478dc6519fbefe4bc31693865bdcd698ab974b643...             15.0   \n",
       "0340e7611f0d82c3cb87e6194fa14bb2ccf8afbf1b34186...             12.0   \n",
       "\n",
       "                                                    total_asset  AGE  \n",
       "cust_id                                                               \n",
       "82595ac69158ae08d34156784bdec0d9e2ca5b242b6d2a8...    1465816.0    7  \n",
       "b212d14cb35676926682b2cf849e295d948888f556c07e8...      98177.0    2  \n",
       "e5b0002791c7852644a2730abeaa893cdf14a072ef78120...    2052922.0    7  \n",
       "74214c478dc6519fbefe4bc31693865bdcd698ab974b643...     201906.0    5  \n",
       "0340e7611f0d82c3cb87e6194fa14bb2ccf8afbf1b34186...       7450.0    5  "
      ]
     },
     "execution_count": 286,
     "metadata": {},
     "output_type": "execute_result"
    }
   ],
   "source": [
    "X_public.head()"
   ]
  },
  {
   "cell_type": "code",
   "execution_count": 156,
   "id": "M-w8oGWEnyb5",
   "metadata": {
    "colab": {
     "base_uri": "https://localhost:8080/",
     "height": 424
    },
    "id": "M-w8oGWEnyb5",
    "outputId": "a252f0ec-c839-4b0c-e17e-1ebb895683a7"
   },
   "outputs": [
    {
     "data": {
      "text/html": [
       "<div>\n",
       "<style scoped>\n",
       "    .dataframe tbody tr th:only-of-type {\n",
       "        vertical-align: middle;\n",
       "    }\n",
       "\n",
       "    .dataframe tbody tr th {\n",
       "        vertical-align: top;\n",
       "    }\n",
       "\n",
       "    .dataframe thead th {\n",
       "        text-align: right;\n",
       "    }\n",
       "</style>\n",
       "<table border=\"1\" class=\"dataframe\">\n",
       "  <thead>\n",
       "    <tr style=\"text-align: right;\">\n",
       "      <th></th>\n",
       "      <th>nosar</th>\n",
       "      <th>sar</th>\n",
       "      <th>alert_key</th>\n",
       "    </tr>\n",
       "  </thead>\n",
       "  <tbody>\n",
       "    <tr>\n",
       "      <th>1974</th>\n",
       "      <td>0.425217</td>\n",
       "      <td>0.574783</td>\n",
       "      <td>182343</td>\n",
       "    </tr>\n",
       "    <tr>\n",
       "      <th>1971</th>\n",
       "      <td>0.425217</td>\n",
       "      <td>0.574783</td>\n",
       "      <td>179773</td>\n",
       "    </tr>\n",
       "    <tr>\n",
       "      <th>913</th>\n",
       "      <td>0.425217</td>\n",
       "      <td>0.574783</td>\n",
       "      <td>184729</td>\n",
       "    </tr>\n",
       "    <tr>\n",
       "      <th>1975</th>\n",
       "      <td>0.425217</td>\n",
       "      <td>0.574783</td>\n",
       "      <td>183247</td>\n",
       "    </tr>\n",
       "    <tr>\n",
       "      <th>1972</th>\n",
       "      <td>0.425217</td>\n",
       "      <td>0.574783</td>\n",
       "      <td>180405</td>\n",
       "    </tr>\n",
       "    <tr>\n",
       "      <th>...</th>\n",
       "      <td>...</td>\n",
       "      <td>...</td>\n",
       "      <td>...</td>\n",
       "    </tr>\n",
       "    <tr>\n",
       "      <th>3625</th>\n",
       "      <td>0.588601</td>\n",
       "      <td>0.411399</td>\n",
       "      <td>211788</td>\n",
       "    </tr>\n",
       "    <tr>\n",
       "      <th>3626</th>\n",
       "      <td>0.588601</td>\n",
       "      <td>0.411399</td>\n",
       "      <td>219663</td>\n",
       "    </tr>\n",
       "    <tr>\n",
       "      <th>3627</th>\n",
       "      <td>0.588601</td>\n",
       "      <td>0.411399</td>\n",
       "      <td>220424</td>\n",
       "    </tr>\n",
       "    <tr>\n",
       "      <th>3628</th>\n",
       "      <td>0.588601</td>\n",
       "      <td>0.411399</td>\n",
       "      <td>221011</td>\n",
       "    </tr>\n",
       "    <tr>\n",
       "      <th>7002</th>\n",
       "      <td>0.588601</td>\n",
       "      <td>0.411399</td>\n",
       "      <td>351619</td>\n",
       "    </tr>\n",
       "  </tbody>\n",
       "</table>\n",
       "<p>7003 rows × 3 columns</p>\n",
       "</div>"
      ],
      "text/plain": [
       "         nosar       sar  alert_key\n",
       "1974  0.425217  0.574783     182343\n",
       "1971  0.425217  0.574783     179773\n",
       "913   0.425217  0.574783     184729\n",
       "1975  0.425217  0.574783     183247\n",
       "1972  0.425217  0.574783     180405\n",
       "...        ...       ...        ...\n",
       "3625  0.588601  0.411399     211788\n",
       "3626  0.588601  0.411399     219663\n",
       "3627  0.588601  0.411399     220424\n",
       "3628  0.588601  0.411399     221011\n",
       "7002  0.588601  0.411399     351619\n",
       "\n",
       "[7003 rows x 3 columns]"
      ]
     },
     "execution_count": 156,
     "metadata": {},
     "output_type": "execute_result"
    }
   ],
   "source": [
    "score_public = pd.DataFrame(xgb.predict_proba(X_public),columns=['nosar','sar'])\n",
    "score_public['alert_key'] = alert_key_save.values\n",
    "score_public = score_public.drop_duplicates()\n",
    "score_public.sort_values('sar',ascending=False)"
   ]
  },
  {
   "cell_type": "code",
   "execution_count": 302,
   "id": "rNfLuXQWqElW",
   "metadata": {
    "id": "rNfLuXQWqElW"
   },
   "outputs": [],
   "source": [
    "score_public.sort_values('sar',ascending=False).to_csv('./preiction_result.csv')"
   ]
  },
  {
   "cell_type": "code",
   "execution_count": 92,
   "id": "f5quQAJ4IT4_",
   "metadata": {
    "id": "f5quQAJ4IT4_"
   },
   "outputs": [],
   "source": []
  }
 ],
 "metadata": {
  "anaconda-cloud": {},
  "colab": {
   "provenance": []
  },
  "gpuClass": "standard",
  "kernelspec": {
   "display_name": "Python 3 (ipykernel)",
   "language": "python",
   "name": "python3"
  },
  "language_info": {
   "codemirror_mode": {
    "name": "ipython",
    "version": 3
   },
   "file_extension": ".py",
   "mimetype": "text/x-python",
   "name": "python",
   "nbconvert_exporter": "python",
   "pygments_lexer": "ipython3",
   "version": "3.8.5"
  }
 },
 "nbformat": 4,
 "nbformat_minor": 5
}
