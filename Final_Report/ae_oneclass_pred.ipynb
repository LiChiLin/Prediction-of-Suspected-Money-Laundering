{
 "cells": [
  {
   "cell_type": "markdown",
   "id": "f2453c39",
   "metadata": {
    "id": "_0nfiQe3dBbH"
   },
   "source": [
    "## 問題統整\n",
    "\n",
    "1. SAR (Suspicious Activity Report) 的比例不均\n",
    "    * 洗錢 (sar = 1) 有 234 筆資料\n",
    "    * 正常 (sar = 0) 有 23672 筆資料\n",
    "\n",
    "2. ccba 中為月資料，其他為日資料，如何轉換?"
   ]
  },
  {
   "cell_type": "markdown",
   "id": "bfe5acca",
   "metadata": {
    "id": "BOsciqgrdBbS"
   },
   "source": [
    "### Load Data & Explanation"
   ]
  },
  {
   "cell_type": "code",
   "execution_count": 1,
   "id": "7eaf47fa",
   "metadata": {
    "id": "qy07BhFbdBbU"
   },
   "outputs": [],
   "source": [
    "import numpy as np\n",
    "import pandas as pd\n",
    "\n",
    "ccba_df = pd.read_csv(\"./public_train_x_ccba_full_hashed.csv\")\n",
    "cdtx_df = pd.read_csv(\"./public_train_x_cdtx0001_full_hashed.csv\")\n",
    "custinfo_df = pd.read_csv(\"./public_train_x_custinfo_full_hashed.csv\")\n",
    "dp_df = pd.read_csv(\"./public_train_x_dp_full_hashed.csv\")\n",
    "remit_df = pd.read_csv(\"./public_train_x_remit1_full_hashed.csv\")\n",
    "alert_time_0_364_df = pd.read_csv(\"./train_x_alert_date.csv\")\n",
    "alert_time_365_393_df = pd.read_csv(\"./public_x_alert_date.csv\")\n",
    "alert_time_df = pd.concat([alert_time_0_364_df, alert_time_365_393_df], axis=0)\n",
    "alert_sar_df = pd.read_csv(\"./train_y_answer.csv\")"
   ]
  },
  {
   "cell_type": "markdown",
   "id": "c057dfc4",
   "metadata": {
    "id": "R169Cbjcpxsw"
   },
   "source": []
  },
  {
   "cell_type": "markdown",
   "id": "3aea5f65",
   "metadata": {
    "id": "8tXBndjIdBbc"
   },
   "source": [
    "### Data Cleaning"
   ]
  },
  {
   "cell_type": "code",
   "execution_count": 2,
   "id": "097d740e",
   "metadata": {
    "id": "UGGZmG7qdBbd"
   },
   "outputs": [],
   "source": [
    "def columns_with_null(df):\n",
    "    cwn = []\n",
    "    for column in df.columns:\n",
    "        if df[column].isnull().values.any():\n",
    "            cwn.append(column)\n",
    "    return cwn\n",
    "\n",
    "def rows_with_null(df):\n",
    "    return df[df.isna().any(axis=1)]\n"
   ]
  },
  {
   "cell_type": "markdown",
   "id": "ffa2f23b",
   "metadata": {
    "id": "xMZbnwJndBbe"
   },
   "source": [
    "### Null values\n",
    "\n",
    "* dp_df\n",
    "    1. tx_amt(交易金額) contains 22015 null values\n",
    "    2. fiscTxId(交易代碼) contains 1043090 null values\n",
    "    3. txbranch(分行代碼) contains 1003150 null values\n",
    "    * Due to the large amount of null values, dropping them is not wise\n",
    "* custinfo_df\n",
    "    1. occupation contains 116 null values\n",
    "    * Can directly drop na values"
   ]
  },
  {
   "cell_type": "code",
   "execution_count": 3,
   "id": "47137c8a",
   "metadata": {
    "colab": {
     "base_uri": "https://localhost:8080/"
    },
    "id": "0rqPVpVAdBbg",
    "outputId": "5346435d-65ae-4c4e-c04b-0cc46def9992"
   },
   "outputs": [
    {
     "name": "stdout",
     "output_type": "stream",
     "text": [
      "[]\n",
      "[]\n",
      "[]\n",
      "[]\n",
      "[]\n"
     ]
    }
   ],
   "source": [
    "# Check null values in ccba_df\n",
    "print(columns_with_null(ccba_df))\n",
    "\n",
    "# Check null values in cdtx_df\n",
    "print(columns_with_null(cdtx_df))\n",
    "\n",
    "# Check null values in remit_df\n",
    "print(columns_with_null(remit_df))\n",
    "\n",
    "# Check null values in alert_time_0_364_df & alert_time_365_393_df\n",
    "print(columns_with_null(alert_time_df))\n",
    "\n",
    "# Check null values in alert_sar_df\n",
    "print(columns_with_null(alert_sar_df))"
   ]
  },
  {
   "cell_type": "code",
   "execution_count": 4,
   "id": "1ad39a0c",
   "metadata": {
    "colab": {
     "base_uri": "https://localhost:8080/"
    },
    "id": "KoQ5If3odBbh",
    "outputId": "5cd4a5ee-f448-4c5a-c7fd-77dcfb3eaf6c"
   },
   "outputs": [
    {
     "name": "stdout",
     "output_type": "stream",
     "text": [
      "['tx_amt', 'fiscTxId', 'txbranch']\n",
      "total: 1969818\n",
      "rows containing nulls: 1053245\n",
      "rows without nulls: 916573\n",
      "is correct: True\n"
     ]
    }
   ],
   "source": [
    "# Check null values in dp_df\n",
    "print(columns_with_null(dp_df))\n",
    "total = len(dp_df)\n",
    "dp_w_null = rows_with_null(dp_df)\n",
    "dp_wt_null = dp_df.dropna()\n",
    "print(f\"total: {total}\")\n",
    "print(f\"rows containing nulls: {len(dp_w_null)}\")\n",
    "print(f\"rows without nulls: {len(dp_wt_null)}\")\n",
    "print(f\"is correct: {total == len(dp_w_null) + len(dp_wt_null)}\")"
   ]
  },
  {
   "cell_type": "code",
   "execution_count": 5,
   "id": "98851b60",
   "metadata": {
    "colab": {
     "base_uri": "https://localhost:8080/"
    },
    "id": "-U4WHMqRdBbj",
    "outputId": "9059211e-1d6f-4a72-bdf3-b89bdf9500cb"
   },
   "outputs": [
    {
     "name": "stdout",
     "output_type": "stream",
     "text": [
      "['occupation_code']\n",
      "total: 25751\n",
      "rows containing nulls: 116\n",
      "rows without nulls: 25635\n",
      "is correct: True\n"
     ]
    }
   ],
   "source": [
    "# Check null values in custinfo_df\n",
    "\n",
    "print(columns_with_null(custinfo_df))\n",
    "total = len(custinfo_df)\n",
    "custinfo_w_null = rows_with_null(custinfo_df)\n",
    "custinfo_wt_null = custinfo_df.dropna()\n",
    "print(f\"total: {total}\")\n",
    "print(f\"rows containing nulls: {len(custinfo_w_null)}\")\n",
    "print(f\"rows without nulls: {len(custinfo_wt_null)}\")\n",
    "print(f\"is correct: {total == len(custinfo_w_null) + len(custinfo_wt_null)}\")"
   ]
  },
  {
   "cell_type": "markdown",
   "id": "93348ec2",
   "metadata": {
    "id": "n9jUc0mqdBbk"
   },
   "source": [
    "### Duplicate Values\n",
    "* cdtx_df contains 259965 duplicates\n",
    "    * Reasonable, cust can do many transactions on the same day with the same country, cur_type and amt\n",
    "* dp_df contains 89047 duplicates\n",
    "    * What is fscTxId ?\n",
    "* remit_df contains 990 duplicates\n",
    "    * Reasonable, cust can do many transactions on the same day with the same trans_no, trade_amount_usd"
   ]
  },
  {
   "cell_type": "code",
   "execution_count": 6,
   "id": "589a90ea",
   "metadata": {
    "colab": {
     "base_uri": "https://localhost:8080/"
    },
    "id": "SWrhv4Q0dBbl",
    "outputId": "317bf5c4-91bc-41da-eae8-7c0e5ee96619"
   },
   "outputs": [
    {
     "name": "stdout",
     "output_type": "stream",
     "text": [
      "0\n",
      "0\n",
      "0\n",
      "0\n"
     ]
    }
   ],
   "source": [
    "# Check duplicated values in ccba_df\n",
    "print(sum(ccba_df.duplicated()))\n",
    "print(sum(custinfo_df.duplicated()))\n",
    "print(sum(alert_time_df.duplicated()))\n",
    "print(sum(alert_sar_df.duplicated()))"
   ]
  },
  {
   "cell_type": "code",
   "execution_count": 7,
   "id": "fc699f2c",
   "metadata": {
    "colab": {
     "base_uri": "https://localhost:8080/",
     "height": 441
    },
    "id": "1lgXsqvXdBbm",
    "outputId": "bc933ad1-8814-437d-acf9-80be2e2f62f8"
   },
   "outputs": [
    {
     "name": "stdout",
     "output_type": "stream",
     "text": [
      "259965\n"
     ]
    },
    {
     "data": {
      "text/html": [
       "<div>\n",
       "<style scoped>\n",
       "    .dataframe tbody tr th:only-of-type {\n",
       "        vertical-align: middle;\n",
       "    }\n",
       "\n",
       "    .dataframe tbody tr th {\n",
       "        vertical-align: top;\n",
       "    }\n",
       "\n",
       "    .dataframe thead th {\n",
       "        text-align: right;\n",
       "    }\n",
       "</style>\n",
       "<table border=\"1\" class=\"dataframe\">\n",
       "  <thead>\n",
       "    <tr style=\"text-align: right;\">\n",
       "      <th></th>\n",
       "      <th>cust_id</th>\n",
       "      <th>date</th>\n",
       "      <th>country</th>\n",
       "      <th>cur_type</th>\n",
       "      <th>amt</th>\n",
       "    </tr>\n",
       "  </thead>\n",
       "  <tbody>\n",
       "    <tr>\n",
       "      <th>37</th>\n",
       "      <td>0174dff6a8a2038f9966d61d8450e19e3bd751e4051c2a...</td>\n",
       "      <td>78</td>\n",
       "      <td>130</td>\n",
       "      <td>47</td>\n",
       "      <td>84.0</td>\n",
       "    </tr>\n",
       "    <tr>\n",
       "      <th>42</th>\n",
       "      <td>0174dff6a8a2038f9966d61d8450e19e3bd751e4051c2a...</td>\n",
       "      <td>84</td>\n",
       "      <td>130</td>\n",
       "      <td>47</td>\n",
       "      <td>84.0</td>\n",
       "    </tr>\n",
       "    <tr>\n",
       "      <th>45</th>\n",
       "      <td>0174dff6a8a2038f9966d61d8450e19e3bd751e4051c2a...</td>\n",
       "      <td>86</td>\n",
       "      <td>130</td>\n",
       "      <td>47</td>\n",
       "      <td>84.0</td>\n",
       "    </tr>\n",
       "    <tr>\n",
       "      <th>48</th>\n",
       "      <td>0174dff6a8a2038f9966d61d8450e19e3bd751e4051c2a...</td>\n",
       "      <td>88</td>\n",
       "      <td>130</td>\n",
       "      <td>47</td>\n",
       "      <td>84.0</td>\n",
       "    </tr>\n",
       "    <tr>\n",
       "      <th>222</th>\n",
       "      <td>01c705b457297805c1c08137cb3adb164b8f393c265db2...</td>\n",
       "      <td>95</td>\n",
       "      <td>130</td>\n",
       "      <td>47</td>\n",
       "      <td>510.0</td>\n",
       "    </tr>\n",
       "    <tr>\n",
       "      <th>...</th>\n",
       "      <td>...</td>\n",
       "      <td>...</td>\n",
       "      <td>...</td>\n",
       "      <td>...</td>\n",
       "      <td>...</td>\n",
       "    </tr>\n",
       "    <tr>\n",
       "      <th>1042869</th>\n",
       "      <td>ffdd3f98b841d4d0ef58ad0d63abddac83ffb5babf973c...</td>\n",
       "      <td>323</td>\n",
       "      <td>130</td>\n",
       "      <td>47</td>\n",
       "      <td>20878.0</td>\n",
       "    </tr>\n",
       "    <tr>\n",
       "      <th>1042940</th>\n",
       "      <td>ffdd3f98b841d4d0ef58ad0d63abddac83ffb5babf973c...</td>\n",
       "      <td>382</td>\n",
       "      <td>130</td>\n",
       "      <td>47</td>\n",
       "      <td>522.0</td>\n",
       "    </tr>\n",
       "    <tr>\n",
       "      <th>1042943</th>\n",
       "      <td>ffdd3f98b841d4d0ef58ad0d63abddac83ffb5babf973c...</td>\n",
       "      <td>385</td>\n",
       "      <td>130</td>\n",
       "      <td>47</td>\n",
       "      <td>522.0</td>\n",
       "    </tr>\n",
       "    <tr>\n",
       "      <th>1042957</th>\n",
       "      <td>ffdd3f98b841d4d0ef58ad0d63abddac83ffb5babf973c...</td>\n",
       "      <td>387</td>\n",
       "      <td>130</td>\n",
       "      <td>47</td>\n",
       "      <td>1513.0</td>\n",
       "    </tr>\n",
       "    <tr>\n",
       "      <th>1042958</th>\n",
       "      <td>ffdd3f98b841d4d0ef58ad0d63abddac83ffb5babf973c...</td>\n",
       "      <td>387</td>\n",
       "      <td>130</td>\n",
       "      <td>47</td>\n",
       "      <td>1513.0</td>\n",
       "    </tr>\n",
       "  </tbody>\n",
       "</table>\n",
       "<p>259965 rows × 5 columns</p>\n",
       "</div>"
      ],
      "text/plain": [
       "                                                   cust_id  date  country  \\\n",
       "37       0174dff6a8a2038f9966d61d8450e19e3bd751e4051c2a...    78      130   \n",
       "42       0174dff6a8a2038f9966d61d8450e19e3bd751e4051c2a...    84      130   \n",
       "45       0174dff6a8a2038f9966d61d8450e19e3bd751e4051c2a...    86      130   \n",
       "48       0174dff6a8a2038f9966d61d8450e19e3bd751e4051c2a...    88      130   \n",
       "222      01c705b457297805c1c08137cb3adb164b8f393c265db2...    95      130   \n",
       "...                                                    ...   ...      ...   \n",
       "1042869  ffdd3f98b841d4d0ef58ad0d63abddac83ffb5babf973c...   323      130   \n",
       "1042940  ffdd3f98b841d4d0ef58ad0d63abddac83ffb5babf973c...   382      130   \n",
       "1042943  ffdd3f98b841d4d0ef58ad0d63abddac83ffb5babf973c...   385      130   \n",
       "1042957  ffdd3f98b841d4d0ef58ad0d63abddac83ffb5babf973c...   387      130   \n",
       "1042958  ffdd3f98b841d4d0ef58ad0d63abddac83ffb5babf973c...   387      130   \n",
       "\n",
       "         cur_type      amt  \n",
       "37             47     84.0  \n",
       "42             47     84.0  \n",
       "45             47     84.0  \n",
       "48             47     84.0  \n",
       "222            47    510.0  \n",
       "...           ...      ...  \n",
       "1042869        47  20878.0  \n",
       "1042940        47    522.0  \n",
       "1042943        47    522.0  \n",
       "1042957        47   1513.0  \n",
       "1042958        47   1513.0  \n",
       "\n",
       "[259965 rows x 5 columns]"
      ]
     },
     "execution_count": 7,
     "metadata": {},
     "output_type": "execute_result"
    }
   ],
   "source": [
    "print(sum(cdtx_df.duplicated()))\n",
    "cdtx_df.loc[cdtx_df.duplicated()]"
   ]
  },
  {
   "cell_type": "code",
   "execution_count": 8,
   "id": "18ec355a",
   "metadata": {
    "colab": {
     "base_uri": "https://localhost:8080/",
     "height": 441
    },
    "id": "EHLwr0r8dBbn",
    "outputId": "b7eb1e8c-bda1-41ec-c85d-b61158b2184e"
   },
   "outputs": [
    {
     "name": "stdout",
     "output_type": "stream",
     "text": [
      "89047\n"
     ]
    },
    {
     "data": {
      "text/html": [
       "<div>\n",
       "<style scoped>\n",
       "    .dataframe tbody tr th:only-of-type {\n",
       "        vertical-align: middle;\n",
       "    }\n",
       "\n",
       "    .dataframe tbody tr th {\n",
       "        vertical-align: top;\n",
       "    }\n",
       "\n",
       "    .dataframe thead th {\n",
       "        text-align: right;\n",
       "    }\n",
       "</style>\n",
       "<table border=\"1\" class=\"dataframe\">\n",
       "  <thead>\n",
       "    <tr style=\"text-align: right;\">\n",
       "      <th></th>\n",
       "      <th>cust_id</th>\n",
       "      <th>debit_credit</th>\n",
       "      <th>tx_date</th>\n",
       "      <th>tx_time</th>\n",
       "      <th>tx_type</th>\n",
       "      <th>tx_amt</th>\n",
       "      <th>exchg_rate</th>\n",
       "      <th>info_asset_code</th>\n",
       "      <th>fiscTxId</th>\n",
       "      <th>txbranch</th>\n",
       "      <th>cross_bank</th>\n",
       "      <th>ATM</th>\n",
       "    </tr>\n",
       "  </thead>\n",
       "  <tbody>\n",
       "    <tr>\n",
       "      <th>51</th>\n",
       "      <td>0172056578071e83399216fcd640bdc4de4583149d0fd9...</td>\n",
       "      <td>CR</td>\n",
       "      <td>218</td>\n",
       "      <td>16</td>\n",
       "      <td>2</td>\n",
       "      <td>51781.0</td>\n",
       "      <td>1.0</td>\n",
       "      <td>16</td>\n",
       "      <td>NaN</td>\n",
       "      <td>NaN</td>\n",
       "      <td>0</td>\n",
       "      <td>0</td>\n",
       "    </tr>\n",
       "    <tr>\n",
       "      <th>58</th>\n",
       "      <td>0172056578071e83399216fcd640bdc4de4583149d0fd9...</td>\n",
       "      <td>CR</td>\n",
       "      <td>249</td>\n",
       "      <td>16</td>\n",
       "      <td>2</td>\n",
       "      <td>8935.0</td>\n",
       "      <td>1.0</td>\n",
       "      <td>16</td>\n",
       "      <td>NaN</td>\n",
       "      <td>NaN</td>\n",
       "      <td>0</td>\n",
       "      <td>0</td>\n",
       "    </tr>\n",
       "    <tr>\n",
       "      <th>294</th>\n",
       "      <td>01c705b457297805c1c08137cb3adb164b8f393c265db2...</td>\n",
       "      <td>CR</td>\n",
       "      <td>120</td>\n",
       "      <td>1</td>\n",
       "      <td>2</td>\n",
       "      <td>408.0</td>\n",
       "      <td>1.0</td>\n",
       "      <td>13</td>\n",
       "      <td>4.0</td>\n",
       "      <td>279.0</td>\n",
       "      <td>1</td>\n",
       "      <td>1</td>\n",
       "    </tr>\n",
       "    <tr>\n",
       "      <th>973</th>\n",
       "      <td>01c705b457297805c1c08137cb3adb164b8f393c265db2...</td>\n",
       "      <td>CR</td>\n",
       "      <td>133</td>\n",
       "      <td>6</td>\n",
       "      <td>2</td>\n",
       "      <td>1021.0</td>\n",
       "      <td>1.0</td>\n",
       "      <td>13</td>\n",
       "      <td>4.0</td>\n",
       "      <td>279.0</td>\n",
       "      <td>1</td>\n",
       "      <td>1</td>\n",
       "    </tr>\n",
       "    <tr>\n",
       "      <th>983</th>\n",
       "      <td>01c705b457297805c1c08137cb3adb164b8f393c265db2...</td>\n",
       "      <td>CR</td>\n",
       "      <td>123</td>\n",
       "      <td>16</td>\n",
       "      <td>2</td>\n",
       "      <td>2042.0</td>\n",
       "      <td>1.0</td>\n",
       "      <td>13</td>\n",
       "      <td>4.0</td>\n",
       "      <td>279.0</td>\n",
       "      <td>1</td>\n",
       "      <td>1</td>\n",
       "    </tr>\n",
       "    <tr>\n",
       "      <th>...</th>\n",
       "      <td>...</td>\n",
       "      <td>...</td>\n",
       "      <td>...</td>\n",
       "      <td>...</td>\n",
       "      <td>...</td>\n",
       "      <td>...</td>\n",
       "      <td>...</td>\n",
       "      <td>...</td>\n",
       "      <td>...</td>\n",
       "      <td>...</td>\n",
       "      <td>...</td>\n",
       "      <td>...</td>\n",
       "    </tr>\n",
       "    <tr>\n",
       "      <th>1969786</th>\n",
       "      <td>fff94defcc33daab190e702926d583f6d805294354addb...</td>\n",
       "      <td>DB</td>\n",
       "      <td>62</td>\n",
       "      <td>17</td>\n",
       "      <td>2</td>\n",
       "      <td>1030.0</td>\n",
       "      <td>1.0</td>\n",
       "      <td>13</td>\n",
       "      <td>3.0</td>\n",
       "      <td>313.0</td>\n",
       "      <td>1</td>\n",
       "      <td>1</td>\n",
       "    </tr>\n",
       "    <tr>\n",
       "      <th>1969791</th>\n",
       "      <td>fff94defcc33daab190e702926d583f6d805294354addb...</td>\n",
       "      <td>DB</td>\n",
       "      <td>61</td>\n",
       "      <td>20</td>\n",
       "      <td>2</td>\n",
       "      <td>1030.0</td>\n",
       "      <td>1.0</td>\n",
       "      <td>13</td>\n",
       "      <td>3.0</td>\n",
       "      <td>313.0</td>\n",
       "      <td>1</td>\n",
       "      <td>1</td>\n",
       "    </tr>\n",
       "    <tr>\n",
       "      <th>1969799</th>\n",
       "      <td>fff94defcc33daab190e702926d583f6d805294354addb...</td>\n",
       "      <td>DB</td>\n",
       "      <td>73</td>\n",
       "      <td>19</td>\n",
       "      <td>2</td>\n",
       "      <td>1030.0</td>\n",
       "      <td>1.0</td>\n",
       "      <td>13</td>\n",
       "      <td>3.0</td>\n",
       "      <td>313.0</td>\n",
       "      <td>1</td>\n",
       "      <td>1</td>\n",
       "    </tr>\n",
       "    <tr>\n",
       "      <th>1969802</th>\n",
       "      <td>fff94defcc33daab190e702926d583f6d805294354addb...</td>\n",
       "      <td>DB</td>\n",
       "      <td>62</td>\n",
       "      <td>17</td>\n",
       "      <td>2</td>\n",
       "      <td>1030.0</td>\n",
       "      <td>1.0</td>\n",
       "      <td>13</td>\n",
       "      <td>3.0</td>\n",
       "      <td>313.0</td>\n",
       "      <td>1</td>\n",
       "      <td>1</td>\n",
       "    </tr>\n",
       "    <tr>\n",
       "      <th>1969816</th>\n",
       "      <td>fff94defcc33daab190e702926d583f6d805294354addb...</td>\n",
       "      <td>DB</td>\n",
       "      <td>40</td>\n",
       "      <td>18</td>\n",
       "      <td>2</td>\n",
       "      <td>1030.0</td>\n",
       "      <td>1.0</td>\n",
       "      <td>13</td>\n",
       "      <td>3.0</td>\n",
       "      <td>310.0</td>\n",
       "      <td>1</td>\n",
       "      <td>1</td>\n",
       "    </tr>\n",
       "  </tbody>\n",
       "</table>\n",
       "<p>89047 rows × 12 columns</p>\n",
       "</div>"
      ],
      "text/plain": [
       "                                                   cust_id debit_credit  \\\n",
       "51       0172056578071e83399216fcd640bdc4de4583149d0fd9...           CR   \n",
       "58       0172056578071e83399216fcd640bdc4de4583149d0fd9...           CR   \n",
       "294      01c705b457297805c1c08137cb3adb164b8f393c265db2...           CR   \n",
       "973      01c705b457297805c1c08137cb3adb164b8f393c265db2...           CR   \n",
       "983      01c705b457297805c1c08137cb3adb164b8f393c265db2...           CR   \n",
       "...                                                    ...          ...   \n",
       "1969786  fff94defcc33daab190e702926d583f6d805294354addb...           DB   \n",
       "1969791  fff94defcc33daab190e702926d583f6d805294354addb...           DB   \n",
       "1969799  fff94defcc33daab190e702926d583f6d805294354addb...           DB   \n",
       "1969802  fff94defcc33daab190e702926d583f6d805294354addb...           DB   \n",
       "1969816  fff94defcc33daab190e702926d583f6d805294354addb...           DB   \n",
       "\n",
       "         tx_date  tx_time  tx_type   tx_amt  exchg_rate  info_asset_code  \\\n",
       "51           218       16        2  51781.0         1.0               16   \n",
       "58           249       16        2   8935.0         1.0               16   \n",
       "294          120        1        2    408.0         1.0               13   \n",
       "973          133        6        2   1021.0         1.0               13   \n",
       "983          123       16        2   2042.0         1.0               13   \n",
       "...          ...      ...      ...      ...         ...              ...   \n",
       "1969786       62       17        2   1030.0         1.0               13   \n",
       "1969791       61       20        2   1030.0         1.0               13   \n",
       "1969799       73       19        2   1030.0         1.0               13   \n",
       "1969802       62       17        2   1030.0         1.0               13   \n",
       "1969816       40       18        2   1030.0         1.0               13   \n",
       "\n",
       "         fiscTxId  txbranch  cross_bank  ATM  \n",
       "51            NaN       NaN           0    0  \n",
       "58            NaN       NaN           0    0  \n",
       "294           4.0     279.0           1    1  \n",
       "973           4.0     279.0           1    1  \n",
       "983           4.0     279.0           1    1  \n",
       "...           ...       ...         ...  ...  \n",
       "1969786       3.0     313.0           1    1  \n",
       "1969791       3.0     313.0           1    1  \n",
       "1969799       3.0     313.0           1    1  \n",
       "1969802       3.0     313.0           1    1  \n",
       "1969816       3.0     310.0           1    1  \n",
       "\n",
       "[89047 rows x 12 columns]"
      ]
     },
     "execution_count": 8,
     "metadata": {},
     "output_type": "execute_result"
    }
   ],
   "source": [
    "print(sum(dp_df.duplicated()))\n",
    "dp_df.loc[dp_df.duplicated()]"
   ]
  },
  {
   "cell_type": "code",
   "execution_count": 9,
   "id": "d5312d67",
   "metadata": {
    "colab": {
     "base_uri": "https://localhost:8080/",
     "height": 441
    },
    "id": "G0ehEvGhdBbp",
    "outputId": "a3974f0d-f56b-4082-8687-4e5d440edc73"
   },
   "outputs": [
    {
     "name": "stdout",
     "output_type": "stream",
     "text": [
      "990\n"
     ]
    },
    {
     "data": {
      "text/html": [
       "<div>\n",
       "<style scoped>\n",
       "    .dataframe tbody tr th:only-of-type {\n",
       "        vertical-align: middle;\n",
       "    }\n",
       "\n",
       "    .dataframe tbody tr th {\n",
       "        vertical-align: top;\n",
       "    }\n",
       "\n",
       "    .dataframe thead th {\n",
       "        text-align: right;\n",
       "    }\n",
       "</style>\n",
       "<table border=\"1\" class=\"dataframe\">\n",
       "  <thead>\n",
       "    <tr style=\"text-align: right;\">\n",
       "      <th></th>\n",
       "      <th>cust_id</th>\n",
       "      <th>trans_date</th>\n",
       "      <th>trans_no</th>\n",
       "      <th>trade_amount_usd</th>\n",
       "    </tr>\n",
       "  </thead>\n",
       "  <tbody>\n",
       "    <tr>\n",
       "      <th>299</th>\n",
       "      <td>12c9e6d35500d2a96fc2b22a9da8e3deb6048de515a16e...</td>\n",
       "      <td>22</td>\n",
       "      <td>0</td>\n",
       "      <td>50009.0</td>\n",
       "    </tr>\n",
       "    <tr>\n",
       "      <th>2464</th>\n",
       "      <td>7b11104618d8caa65909eaac749c1a42594f3c891fe062...</td>\n",
       "      <td>256</td>\n",
       "      <td>0</td>\n",
       "      <td>27173.0</td>\n",
       "    </tr>\n",
       "    <tr>\n",
       "      <th>3146</th>\n",
       "      <td>987fa9033f6d7d6750dac714e178516755e75bd87dceda...</td>\n",
       "      <td>362</td>\n",
       "      <td>0</td>\n",
       "      <td>30547.0</td>\n",
       "    </tr>\n",
       "    <tr>\n",
       "      <th>3636</th>\n",
       "      <td>b6f594909afde36b182e825a982b1c3095c2ea2e3d3c3f...</td>\n",
       "      <td>376</td>\n",
       "      <td>0</td>\n",
       "      <td>69014.0</td>\n",
       "    </tr>\n",
       "    <tr>\n",
       "      <th>4418</th>\n",
       "      <td>e2d9fc5c344f186a981b205df0279d934abbedf2e7387c...</td>\n",
       "      <td>69</td>\n",
       "      <td>4</td>\n",
       "      <td>7941.0</td>\n",
       "    </tr>\n",
       "    <tr>\n",
       "      <th>...</th>\n",
       "      <td>...</td>\n",
       "      <td>...</td>\n",
       "      <td>...</td>\n",
       "      <td>...</td>\n",
       "    </tr>\n",
       "    <tr>\n",
       "      <th>17065</th>\n",
       "      <td>fd510d1ced78b69593ba2f863419dacb5f81b49a45fa0c...</td>\n",
       "      <td>334</td>\n",
       "      <td>4</td>\n",
       "      <td>3629.0</td>\n",
       "    </tr>\n",
       "    <tr>\n",
       "      <th>17067</th>\n",
       "      <td>fd510d1ced78b69593ba2f863419dacb5f81b49a45fa0c...</td>\n",
       "      <td>334</td>\n",
       "      <td>4</td>\n",
       "      <td>4073.0</td>\n",
       "    </tr>\n",
       "    <tr>\n",
       "      <th>17070</th>\n",
       "      <td>fd510d1ced78b69593ba2f863419dacb5f81b49a45fa0c...</td>\n",
       "      <td>334</td>\n",
       "      <td>4</td>\n",
       "      <td>4073.0</td>\n",
       "    </tr>\n",
       "    <tr>\n",
       "      <th>17071</th>\n",
       "      <td>fd510d1ced78b69593ba2f863419dacb5f81b49a45fa0c...</td>\n",
       "      <td>334</td>\n",
       "      <td>4</td>\n",
       "      <td>3629.0</td>\n",
       "    </tr>\n",
       "    <tr>\n",
       "      <th>17072</th>\n",
       "      <td>fd510d1ced78b69593ba2f863419dacb5f81b49a45fa0c...</td>\n",
       "      <td>334</td>\n",
       "      <td>4</td>\n",
       "      <td>3629.0</td>\n",
       "    </tr>\n",
       "  </tbody>\n",
       "</table>\n",
       "<p>990 rows × 4 columns</p>\n",
       "</div>"
      ],
      "text/plain": [
       "                                                 cust_id  trans_date  \\\n",
       "299    12c9e6d35500d2a96fc2b22a9da8e3deb6048de515a16e...          22   \n",
       "2464   7b11104618d8caa65909eaac749c1a42594f3c891fe062...         256   \n",
       "3146   987fa9033f6d7d6750dac714e178516755e75bd87dceda...         362   \n",
       "3636   b6f594909afde36b182e825a982b1c3095c2ea2e3d3c3f...         376   \n",
       "4418   e2d9fc5c344f186a981b205df0279d934abbedf2e7387c...          69   \n",
       "...                                                  ...         ...   \n",
       "17065  fd510d1ced78b69593ba2f863419dacb5f81b49a45fa0c...         334   \n",
       "17067  fd510d1ced78b69593ba2f863419dacb5f81b49a45fa0c...         334   \n",
       "17070  fd510d1ced78b69593ba2f863419dacb5f81b49a45fa0c...         334   \n",
       "17071  fd510d1ced78b69593ba2f863419dacb5f81b49a45fa0c...         334   \n",
       "17072  fd510d1ced78b69593ba2f863419dacb5f81b49a45fa0c...         334   \n",
       "\n",
       "       trans_no  trade_amount_usd  \n",
       "299           0           50009.0  \n",
       "2464          0           27173.0  \n",
       "3146          0           30547.0  \n",
       "3636          0           69014.0  \n",
       "4418          4            7941.0  \n",
       "...         ...               ...  \n",
       "17065         4            3629.0  \n",
       "17067         4            4073.0  \n",
       "17070         4            4073.0  \n",
       "17071         4            3629.0  \n",
       "17072         4            3629.0  \n",
       "\n",
       "[990 rows x 4 columns]"
      ]
     },
     "execution_count": 9,
     "metadata": {},
     "output_type": "execute_result"
    }
   ],
   "source": [
    "print(sum(remit_df.duplicated()))\n",
    "remit_df.loc[remit_df.duplicated()]"
   ]
  },
  {
   "cell_type": "markdown",
   "id": "862001fe",
   "metadata": {
    "id": "5xP4LVqCdBbp"
   },
   "source": [
    "# Data Exploration\n",
    "* Info of Data\n",
    "    * risk_rank: Ordinal\n",
    "    * occupation_code: Nominal\n",
    "    * total_asset: Ratio\n",
    "    * Age: Interval\n",
    "* Insights"
   ]
  },
  {
   "cell_type": "code",
   "execution_count": 10,
   "id": "3cf2ab08",
   "metadata": {
    "colab": {
     "base_uri": "https://localhost:8080/",
     "height": 424
    },
    "id": "BDJDxx1YdBbr",
    "outputId": "d6f0faf7-3174-4d07-ca11-e8413b92c76e"
   },
   "outputs": [
    {
     "data": {
      "text/html": [
       "<div>\n",
       "<style scoped>\n",
       "    .dataframe tbody tr th:only-of-type {\n",
       "        vertical-align: middle;\n",
       "    }\n",
       "\n",
       "    .dataframe tbody tr th {\n",
       "        vertical-align: top;\n",
       "    }\n",
       "\n",
       "    .dataframe thead th {\n",
       "        text-align: right;\n",
       "    }\n",
       "</style>\n",
       "<table border=\"1\" class=\"dataframe\">\n",
       "  <thead>\n",
       "    <tr style=\"text-align: right;\">\n",
       "      <th></th>\n",
       "      <th>cust_id</th>\n",
       "      <th>risk_rank</th>\n",
       "      <th>occupation_code</th>\n",
       "      <th>total_asset</th>\n",
       "      <th>AGE</th>\n",
       "      <th>alert_key</th>\n",
       "      <th>sar_flag</th>\n",
       "    </tr>\n",
       "  </thead>\n",
       "  <tbody>\n",
       "    <tr>\n",
       "      <th>0</th>\n",
       "      <td>a39fea9aec90969fe66a2b2b4d1b86368a2d38e8b8d4bf...</td>\n",
       "      <td>3</td>\n",
       "      <td>12.0</td>\n",
       "      <td>241719.0</td>\n",
       "      <td>3</td>\n",
       "      <td>171142</td>\n",
       "      <td>0</td>\n",
       "    </tr>\n",
       "    <tr>\n",
       "      <th>1</th>\n",
       "      <td>7e42b5dca9b28ee8e5545beb834361e90e6197d176b389...</td>\n",
       "      <td>3</td>\n",
       "      <td>13.0</td>\n",
       "      <td>599497.0</td>\n",
       "      <td>6</td>\n",
       "      <td>171152</td>\n",
       "      <td>0</td>\n",
       "    </tr>\n",
       "    <tr>\n",
       "      <th>2</th>\n",
       "      <td>a6cdf6302aead77112013168c6d546d2df3bcb551956d2...</td>\n",
       "      <td>1</td>\n",
       "      <td>19.0</td>\n",
       "      <td>51160.0</td>\n",
       "      <td>4</td>\n",
       "      <td>171177</td>\n",
       "      <td>0</td>\n",
       "    </tr>\n",
       "    <tr>\n",
       "      <th>3</th>\n",
       "      <td>1a3efa69705f611c7ef2384a715c8142e2ee801cfec9df...</td>\n",
       "      <td>3</td>\n",
       "      <td>9.0</td>\n",
       "      <td>3634343.0</td>\n",
       "      <td>6</td>\n",
       "      <td>171178</td>\n",
       "      <td>0</td>\n",
       "    </tr>\n",
       "    <tr>\n",
       "      <th>4</th>\n",
       "      <td>67f8cbb64dd3d447e992b1b299e0ceed3372188e47c88e...</td>\n",
       "      <td>1</td>\n",
       "      <td>17.0</td>\n",
       "      <td>4076287.0</td>\n",
       "      <td>4</td>\n",
       "      <td>171180</td>\n",
       "      <td>0</td>\n",
       "    </tr>\n",
       "    <tr>\n",
       "      <th>...</th>\n",
       "      <td>...</td>\n",
       "      <td>...</td>\n",
       "      <td>...</td>\n",
       "      <td>...</td>\n",
       "      <td>...</td>\n",
       "      <td>...</td>\n",
       "      <td>...</td>\n",
       "    </tr>\n",
       "    <tr>\n",
       "      <th>23901</th>\n",
       "      <td>b600c0720096c241f5aec16b096c6a353492eee8a5855a...</td>\n",
       "      <td>1</td>\n",
       "      <td>17.0</td>\n",
       "      <td>12207.0</td>\n",
       "      <td>2</td>\n",
       "      <td>352123</td>\n",
       "      <td>0</td>\n",
       "    </tr>\n",
       "    <tr>\n",
       "      <th>23902</th>\n",
       "      <td>06c5ea5ccda4dfd8839c0dec8646fb3071d2c02883ef8a...</td>\n",
       "      <td>1</td>\n",
       "      <td>17.0</td>\n",
       "      <td>259985.0</td>\n",
       "      <td>4</td>\n",
       "      <td>352124</td>\n",
       "      <td>0</td>\n",
       "    </tr>\n",
       "    <tr>\n",
       "      <th>23903</th>\n",
       "      <td>0c2dc5fedc3689abf5ff4be14fe8fea8d23d22068297c2...</td>\n",
       "      <td>3</td>\n",
       "      <td>19.0</td>\n",
       "      <td>928963.0</td>\n",
       "      <td>3</td>\n",
       "      <td>352125</td>\n",
       "      <td>0</td>\n",
       "    </tr>\n",
       "    <tr>\n",
       "      <th>23904</th>\n",
       "      <td>ffe5f2bd86ecfd7d0a0f4c4b76dd5c312649be95eb8b42...</td>\n",
       "      <td>3</td>\n",
       "      <td>19.0</td>\n",
       "      <td>21647.0</td>\n",
       "      <td>4</td>\n",
       "      <td>352128</td>\n",
       "      <td>0</td>\n",
       "    </tr>\n",
       "    <tr>\n",
       "      <th>23905</th>\n",
       "      <td>c49b33d1fde790ec03584672903f296e486615adfdc989...</td>\n",
       "      <td>1</td>\n",
       "      <td>19.0</td>\n",
       "      <td>3218731.0</td>\n",
       "      <td>3</td>\n",
       "      <td>352132</td>\n",
       "      <td>0</td>\n",
       "    </tr>\n",
       "  </tbody>\n",
       "</table>\n",
       "<p>23906 rows × 7 columns</p>\n",
       "</div>"
      ],
      "text/plain": [
       "                                                 cust_id  risk_rank  \\\n",
       "0      a39fea9aec90969fe66a2b2b4d1b86368a2d38e8b8d4bf...          3   \n",
       "1      7e42b5dca9b28ee8e5545beb834361e90e6197d176b389...          3   \n",
       "2      a6cdf6302aead77112013168c6d546d2df3bcb551956d2...          1   \n",
       "3      1a3efa69705f611c7ef2384a715c8142e2ee801cfec9df...          3   \n",
       "4      67f8cbb64dd3d447e992b1b299e0ceed3372188e47c88e...          1   \n",
       "...                                                  ...        ...   \n",
       "23901  b600c0720096c241f5aec16b096c6a353492eee8a5855a...          1   \n",
       "23902  06c5ea5ccda4dfd8839c0dec8646fb3071d2c02883ef8a...          1   \n",
       "23903  0c2dc5fedc3689abf5ff4be14fe8fea8d23d22068297c2...          3   \n",
       "23904  ffe5f2bd86ecfd7d0a0f4c4b76dd5c312649be95eb8b42...          3   \n",
       "23905  c49b33d1fde790ec03584672903f296e486615adfdc989...          1   \n",
       "\n",
       "       occupation_code  total_asset  AGE  alert_key  sar_flag  \n",
       "0                 12.0     241719.0    3     171142         0  \n",
       "1                 13.0     599497.0    6     171152         0  \n",
       "2                 19.0      51160.0    4     171177         0  \n",
       "3                  9.0    3634343.0    6     171178         0  \n",
       "4                 17.0    4076287.0    4     171180         0  \n",
       "...                ...          ...  ...        ...       ...  \n",
       "23901             17.0      12207.0    2     352123         0  \n",
       "23902             17.0     259985.0    4     352124         0  \n",
       "23903             19.0     928963.0    3     352125         0  \n",
       "23904             19.0      21647.0    4     352128         0  \n",
       "23905             19.0    3218731.0    3     352132         0  \n",
       "\n",
       "[23906 rows x 7 columns]"
      ]
     },
     "execution_count": 10,
     "metadata": {},
     "output_type": "execute_result"
    }
   ],
   "source": [
    "customer_df = custinfo_df.merge(alert_sar_df, how='inner',on='alert_key')\n",
    "sar_df = customer_df.loc[customer_df.loc[:, \"sar_flag\"] == 1]\n",
    "nsar_df = customer_df.loc[customer_df.loc[:, \"sar_flag\"] == 0]\n",
    "customer_df = customer_df[[\"cust_id\", \"risk_rank\", \"occupation_code\", \"total_asset\", \"AGE\", \"alert_key\", \"sar_flag\"]]\n",
    "customer_df"
   ]
  },
  {
   "cell_type": "code",
   "execution_count": 11,
   "id": "99e1fee9",
   "metadata": {
    "id": "B-y8kRFWdBbt"
   },
   "outputs": [],
   "source": [
    "import matplotlib.pyplot as plt\n",
    "import pandas as pd\n",
    "from pandas import Series\n",
    "\n",
    "def fill_missing_group(series, categories):\n",
    "    dict_obj = series.to_dict()\n",
    "    for c in categories:\n",
    "        if c not in dict_obj:\n",
    "            dict_obj[c] = 0\n",
    "    return Series(dict_obj)"
   ]
  },
  {
   "cell_type": "markdown",
   "id": "1f1129af",
   "metadata": {
    "id": "oSjhI2_IdBbt"
   },
   "source": [
    "## Risk Rank"
   ]
  },
  {
   "cell_type": "code",
   "execution_count": 12,
   "id": "32a4eda2",
   "metadata": {
    "colab": {
     "base_uri": "https://localhost:8080/",
     "height": 265
    },
    "id": "Ye7YkclcdBbt",
    "outputId": "d2ca92d9-486e-4970-95c6-54d7bdaedf2b"
   },
   "outputs": [
    {
     "data": {
      "image/png": "[encoded data removed]",
      "text/plain": [
       "<Figure size 432x288 with 1 Axes>"
      ]
     },
     "metadata": {
      "needs_background": "light"
     },
     "output_type": "display_data"
    }
   ],
   "source": [
    "categories = customer_df.groupby(\"risk_rank\").size().index\n",
    "            \n",
    "risk_rank_df = customer_df[[\"risk_rank\", \"sar_flag\"]]\n",
    "\n",
    "rrs_df = risk_rank_df.loc[risk_rank_df[\"sar_flag\"] == 1]\n",
    "rrs_series = fill_missing_group(rrs_df.groupby(\"risk_rank\").size(), categories)\n",
    "\n",
    "plt.bar(categories, rrs_series, color=\"red\")\n",
    "plt.show()"
   ]
  },
  {
   "cell_type": "code",
   "execution_count": 13,
   "id": "99689e87",
   "metadata": {
    "colab": {
     "base_uri": "https://localhost:8080/",
     "height": 265
    },
    "id": "RfQA2THPdBbu",
    "outputId": "65eaf86d-5b48-4ff1-88ba-110147f6856d"
   },
   "outputs": [
    {
     "data": {
      "image/png": "[encoded data removed]",
      "text/plain": [
       "<Figure size 432x288 with 1 Axes>"
      ]
     },
     "metadata": {
      "needs_background": "light"
     },
     "output_type": "display_data"
    }
   ],
   "source": [
    "rrns_df = risk_rank_df.loc[risk_rank_df[\"sar_flag\"] == 0]\n",
    "rrns_series = fill_missing_group(rrns_df.groupby(\"risk_rank\").size(), categories)\n",
    "\n",
    "plt.bar(categories, rrns_series, color=\"gray\")\n",
    "plt.show()"
   ]
  },
  {
   "cell_type": "code",
   "execution_count": 14,
   "id": "acd0cc6b",
   "metadata": {
    "colab": {
     "base_uri": "https://localhost:8080/",
     "height": 281
    },
    "id": "2KbnWQpTdBbu",
    "outputId": "d51a2e2e-494b-4fd5-acf8-c1b5bbef125d"
   },
   "outputs": [
    {
     "data": {
      "image/png": "[encoded data removed]",
      "text/plain": [
       "<Figure size 432x288 with 1 Axes>"
      ]
     },
     "metadata": {
      "needs_background": "light"
     },
     "output_type": "display_data"
    }
   ],
   "source": [
    "rrns_normalize_series = rrns_series * (len(rrs_df) / len(rrns_df))\n",
    "\n",
    "plt.title(\"risk rank\")\n",
    "plt.bar(categories, rrns_normalize_series, color=\"gray\", label=\"non_sar\")\n",
    "plt.bar(categories, rrs_series, bottom=rrns_normalize_series, color=\"red\", label=\"sar\")\n",
    "plt.legend()\n",
    "plt.show()"
   ]
  },
  {
   "cell_type": "markdown",
   "id": "87f5a827",
   "metadata": {
    "id": "6kXzv11SdBbu"
   },
   "source": [
    "## Occupation Code"
   ]
  },
  {
   "cell_type": "code",
   "execution_count": 15,
   "id": "73a08dde",
   "metadata": {
    "colab": {
     "base_uri": "https://localhost:8080/",
     "height": 265
    },
    "id": "r5GX3DmvdBbv",
    "outputId": "b502104f-90ce-4f06-c9ac-2911b5b76f98"
   },
   "outputs": [
    {
     "data": {
      "image/png": "[encoded data removed]",
      "text/plain": [
       "<Figure size 432x288 with 1 Axes>"
      ]
     },
     "metadata": {
      "needs_background": "light"
     },
     "output_type": "display_data"
    }
   ],
   "source": [
    "occupation_df = customer_df[[\"occupation_code\", \"sar_flag\"]]\n",
    "occ_categories = occupation_df.groupby(\"occupation_code\").size().index\n",
    "\n",
    "occs_df = occupation_df.loc[occupation_df.loc[:, \"sar_flag\"] == 1]\n",
    "occs_series = fill_missing_group(occs_df.groupby(\"occupation_code\").size(), occ_categories)\n",
    "\n",
    "plt.bar(occ_categories, occs_series, color=\"red\")\n",
    "plt.show()"
   ]
  },
  {
   "cell_type": "code",
   "execution_count": 16,
   "id": "00f11a06",
   "metadata": {
    "colab": {
     "base_uri": "https://localhost:8080/",
     "height": 265
    },
    "id": "P7blcgeVdBbv",
    "outputId": "e4f86d0a-926f-4835-d915-4d07493b5003"
   },
   "outputs": [
    {
     "data": {
      "image/png": "[encoded data removed]",
      "text/plain": [
       "<Figure size 432x288 with 1 Axes>"
      ]
     },
     "metadata": {
      "needs_background": "light"
     },
     "output_type": "display_data"
    }
   ],
   "source": [
    "occns_df = occupation_df.loc[occupation_df.loc[:, \"sar_flag\"] == 0]\n",
    "occns_series = fill_missing_group(occns_df.groupby(\"occupation_code\").size(), occ_categories)\n",
    "\n",
    "plt.bar(occ_categories, occns_series, color=\"grey\")\n",
    "plt.show()"
   ]
  },
  {
   "cell_type": "code",
   "execution_count": 17,
   "id": "41c69cc7",
   "metadata": {
    "colab": {
     "base_uri": "https://localhost:8080/",
     "height": 281
    },
    "id": "4ItSTKoXdBbw",
    "outputId": "bdc6093c-71be-4e77-ed41-50ba5fa5daa6",
    "scrolled": false
   },
   "outputs": [
    {
     "data": {
      "image/png": "[encoded data removed]",
      "text/plain": [
       "<Figure size 432x288 with 1 Axes>"
      ]
     },
     "metadata": {
      "needs_background": "light"
     },
     "output_type": "display_data"
    }
   ],
   "source": [
    "occns_normalize_series = occns_series * (len(occs_df) / len(occns_df))\n",
    "\n",
    "plt.title(\"occupation\")\n",
    "plt.bar(occ_categories, occns_normalize_series, color=\"gray\", label=\"non_sar\")\n",
    "plt.bar(occ_categories, occs_series, bottom=occns_normalize_series, color=\"red\", label=\"sar\")\n",
    "plt.legend()\n",
    "plt.show()"
   ]
  },
  {
   "cell_type": "markdown",
   "id": "29cccf2a",
   "metadata": {
    "id": "go8WxjRidBbw"
   },
   "source": [
    "## Total Asset \n",
    "\n"
   ]
  },
  {
   "cell_type": "code",
   "execution_count": 18,
   "id": "0e447c84",
   "metadata": {
    "colab": {
     "base_uri": "https://localhost:8080/",
     "height": 294
    },
    "id": "UqiBE6BRdBbx",
    "outputId": "c25800be-0d90-4ea8-ea69-ce68d3dff3b6"
   },
   "outputs": [
    {
     "data": {
      "image/png": "[encoded data removed]",
      "text/plain": [
       "<Figure size 432x288 with 1 Axes>"
      ]
     },
     "metadata": {
      "needs_background": "light"
     },
     "output_type": "display_data"
    }
   ],
   "source": [
    "ta_df = customer_df[[\"total_asset\", \"sar_flag\"]]\n",
    "tas_df = ta_df.loc[ta_df.loc[:, \"sar_flag\"] == 1]\n",
    "tans_df = ta_df.loc[ta_df.loc[:, \"sar_flag\"] == 0]\n",
    "\n",
    "tans_df = tans_df.sample(n = 240)\n",
    "\n",
    "kwargs = dict(alpha=0.5)\n",
    "plt.title(\"total asset (log)\")\n",
    "plt.hist(tas_df[\"total_asset\"], **kwargs, color = \"red\", label=\"sar\", log = True)\n",
    "plt.hist(tans_df[\"total_asset\"], **kwargs, color = \"grey\", label=\"non_sar\", log = True)\n",
    "plt.legend()\n",
    "plt.show()"
   ]
  },
  {
   "cell_type": "markdown",
   "id": "3b4acf14",
   "metadata": {
    "id": "DCfsQZyqdBby"
   },
   "source": [
    "## AGE"
   ]
  },
  {
   "cell_type": "code",
   "execution_count": 19,
   "id": "2b153cab",
   "metadata": {
    "colab": {
     "base_uri": "https://localhost:8080/",
     "height": 281
    },
    "id": "mwZ76RANdBbz",
    "outputId": "20927149-0216-4d38-d2fe-71bbd3f7627f"
   },
   "outputs": [
    {
     "data": {
      "image/png": "[encoded data removed]",
      "text/plain": [
       "<Figure size 432x288 with 1 Axes>"
      ]
     },
     "metadata": {
      "needs_background": "light"
     },
     "output_type": "display_data"
    }
   ],
   "source": [
    "a_df = customer_df[[\"AGE\", \"sar_flag\"]]\n",
    "as_df = a_df.loc[a_df.loc[:, \"sar_flag\"] == 1]\n",
    "ans_df = a_df.loc[a_df.loc[:, \"sar_flag\"] == 0]\n",
    "\n",
    "ans_df = ans_df.sample(n = 240)\n",
    "\n",
    "kwargs = dict(alpha=0.5)\n",
    "plt.title(\"AGE (log)\")\n",
    "plt.hist(as_df[\"AGE\"], **kwargs, color = \"red\", label=\"sar\", log = True)\n",
    "plt.hist(ans_df[\"AGE\"], **kwargs, color = \"grey\", label=\"non_sar\", log = True)\n",
    "plt.legend()\n",
    "plt.show()"
   ]
  },
  {
   "cell_type": "markdown",
   "id": "adb5f56b",
   "metadata": {
    "id": "rgh6xIngdBb0"
   },
   "source": [
    "# BaseLine "
   ]
  },
  {
   "cell_type": "code",
   "execution_count": 20,
   "id": "9d106d5d",
   "metadata": {
    "colab": {
     "base_uri": "https://localhost:8080/",
     "height": 348
    },
    "id": "idzOrcwpdBb0",
    "outputId": "ef297b21-f7cc-4c17-a133-807dd06c191a"
   },
   "outputs": [
    {
     "name": "stdout",
     "output_type": "stream",
     "text": [
      "precision:  0.05263157894736842\n",
      "recall:  0.019230769230769232\n",
      "f1 score:  0.028169014084507043\n"
     ]
    },
    {
     "data": {
      "text/plain": [
       "<sklearn.metrics._plot.confusion_matrix.ConfusionMatrixDisplay at 0x1d994286b80>"
      ]
     },
     "execution_count": 20,
     "metadata": {},
     "output_type": "execute_result"
    },
    {
     "data": {
      "image/png": "[encoded data removed]",
      "text/plain": [
       "<Figure size 432x288 with 2 Axes>"
      ]
     },
     "metadata": {
      "needs_background": "light"
     },
     "output_type": "display_data"
    }
   ],
   "source": [
    "\n",
    "from sklearn.tree import DecisionTreeClassifier\n",
    "from sklearn.model_selection import train_test_split\n",
    "from sklearn.metrics import accuracy_score, precision_score, recall_score, f1_score, confusion_matrix \n",
    "from sklearn.metrics import ConfusionMatrixDisplay\n",
    "\n",
    "dt_df = customer_df.copy()\n",
    "X = dt_df[[\"risk_rank\", \"occupation_code\", \"total_asset\", \"AGE\"]]\n",
    "y = dt_df[\"sar_flag\"]\n",
    "X = X.fillna(99)\n",
    "\n",
    "X_train, X_test, y_train, y_test = train_test_split(X, y, test_size = 0.2)\n",
    "\n",
    "dtc = DecisionTreeClassifier()\n",
    "model = dtc.fit(X_train, y_train)\n",
    "\n",
    "y_predict = model.predict(X_test)\n",
    "\n",
    "print(\"precision: \", precision_score(y_test, y_predict))\n",
    "print(\"recall: \", recall_score(y_test, y_predict))\n",
    "print(\"f1 score: \", f1_score(y_test, y_predict))\n",
    "\n",
    "cm = confusion_matrix(y_test, y_predict)\n",
    "display = ConfusionMatrixDisplay(confusion_matrix = cm)\n",
    "display.plot()\n"
   ]
  },
  {
   "cell_type": "markdown",
   "id": "a2f872be",
   "metadata": {
    "id": "fGMox5-rdBb1"
   },
   "source": [
    "## Initial Thoughts\n",
    "1. Many transactions on the same day seams suspicious\n",
    "\n"
   ]
  },
  {
   "cell_type": "markdown",
   "id": "b0f040aa",
   "metadata": {
    "id": "LVWcdhWUywrQ"
   },
   "source": [
    "----"
   ]
  },
  {
   "cell_type": "markdown",
   "id": "d5d678e6",
   "metadata": {
    "id": "u933fQnXy3G5"
   },
   "source": [
    "# Time Series"
   ]
  },
  {
   "cell_type": "code",
   "execution_count": 21,
   "id": "0956c156",
   "metadata": {
    "id": "AMs4cem5uXMe"
   },
   "outputs": [],
   "source": [
    "y_df = customer_df[['cust_id','sar_flag']].set_index('cust_id')"
   ]
  },
  {
   "cell_type": "code",
   "execution_count": 22,
   "id": "8988c6c7",
   "metadata": {
    "colab": {
     "base_uri": "https://localhost:8080/",
     "height": 519
    },
    "id": "OLXjck98sJwr",
    "outputId": "1306a06b-6f53-435e-faa1-9e652b43d7ca"
   },
   "outputs": [
    {
     "data": {
      "text/html": [
       "<div>\n",
       "<style scoped>\n",
       "    .dataframe tbody tr th:only-of-type {\n",
       "        vertical-align: middle;\n",
       "    }\n",
       "\n",
       "    .dataframe tbody tr th {\n",
       "        vertical-align: top;\n",
       "    }\n",
       "\n",
       "    .dataframe thead th {\n",
       "        text-align: right;\n",
       "    }\n",
       "</style>\n",
       "<table border=\"1\" class=\"dataframe\">\n",
       "  <thead>\n",
       "    <tr style=\"text-align: right;\">\n",
       "      <th>cust_id</th>\n",
       "      <th>39d049baef9f1ba93cdf7d0e9ca93490ea0047f21cb189ff8ded31a7ceeaf146</th>\n",
       "      <th>fb234ed1e30578f8359a114678d91dca92a05687bc11c9dcdfe26978427bcc5c</th>\n",
       "      <th>5d0087f9a233064c7ef6684e363043c34c107c13dea3b41552893852acab6d69</th>\n",
       "      <th>f1d981ab44c5ea936af330370154376c44fa5f15210db11a5389dd0ddb63b267</th>\n",
       "      <th>ce1e4ec38146a5d5d2548ede959037a3ff94457060717186349c4259c2ebd504</th>\n",
       "      <th>d89e77559822feccbe5daf45ce24f3707271be86a490124aaf1f6d83a11280f7</th>\n",
       "      <th>359b844e7747a01f5cb51592fcd8627e0c86ce683ce39c36a2adc6590c7da16f</th>\n",
       "      <th>9711f2a15e7352e6bbaf12b63787d1a7583c71c448738e153ba929c4c2db3ece</th>\n",
       "      <th>a3f84cead246d36d4512704a034da6a7f678eab28fbb41824f24a61cd9c1ad51</th>\n",
       "      <th>bd0bf23ae7766aefc03715e47498116ad7592e5d03e64da0170a342cd5cd6537</th>\n",
       "      <th>...</th>\n",
       "      <th>1c69375556be3274c8b7a4e21bb8f216461cbaa4b6028c11576e0adf3feb1ebb</th>\n",
       "      <th>564a02ae7c066223b17b291f63a90c93c322de2476da09a10eaec1c15ca930b3</th>\n",
       "      <th>bd865cec13bafb4192a3fc05e1fbfd1e73a244c3c54d0472d082893640d0729a</th>\n",
       "      <th>a3b64eb45f5d034996ecab4a4236ea919129adc21925823be9c9f3d1673783cb</th>\n",
       "      <th>c3f030b3ef43a839a1e5692786b40f4347b1aa035f95b0067d8c8bbd350da816</th>\n",
       "      <th>ea955ee5fce36d505ca6b00b40586092112c8ff26d8d2ad35fff53559a341ed6</th>\n",
       "      <th>eb5b1a0ced14610a9989efe8bd6bd0a558f01c8126d4cdf690e473e2350e8db7</th>\n",
       "      <th>6ac01039f033f1b2624809c08e501f57944c27081f2a389c998ea7a6e0e8a301</th>\n",
       "      <th>cace9f2c08214ac73f5cc31b23026b4db76a18baeb84aa64696cd1fe15f4a348</th>\n",
       "      <th>548b051fcc062b5ea8dbeae1000b8e647d815b4dcec3b4437a70e2658d9a4fa1</th>\n",
       "    </tr>\n",
       "    <tr>\n",
       "      <th>date</th>\n",
       "      <th></th>\n",
       "      <th></th>\n",
       "      <th></th>\n",
       "      <th></th>\n",
       "      <th></th>\n",
       "      <th></th>\n",
       "      <th></th>\n",
       "      <th></th>\n",
       "      <th></th>\n",
       "      <th></th>\n",
       "      <th></th>\n",
       "      <th></th>\n",
       "      <th></th>\n",
       "      <th></th>\n",
       "      <th></th>\n",
       "      <th></th>\n",
       "      <th></th>\n",
       "      <th></th>\n",
       "      <th></th>\n",
       "      <th></th>\n",
       "      <th></th>\n",
       "    </tr>\n",
       "  </thead>\n",
       "  <tbody>\n",
       "    <tr>\n",
       "      <th>0</th>\n",
       "      <td>175.0</td>\n",
       "      <td>0.0</td>\n",
       "      <td>0.0</td>\n",
       "      <td>0.0</td>\n",
       "      <td>378.0</td>\n",
       "      <td>4618.0</td>\n",
       "      <td>0.0</td>\n",
       "      <td>0.0</td>\n",
       "      <td>511.0</td>\n",
       "      <td>0.0</td>\n",
       "      <td>...</td>\n",
       "      <td>0.0</td>\n",
       "      <td>0.0</td>\n",
       "      <td>50955.0</td>\n",
       "      <td>0.0</td>\n",
       "      <td>272.0</td>\n",
       "      <td>0.0</td>\n",
       "      <td>0.0</td>\n",
       "      <td>0.0</td>\n",
       "      <td>0.0</td>\n",
       "      <td>0.0</td>\n",
       "    </tr>\n",
       "    <tr>\n",
       "      <th>1</th>\n",
       "      <td>0.0</td>\n",
       "      <td>0.0</td>\n",
       "      <td>0.0</td>\n",
       "      <td>0.0</td>\n",
       "      <td>344.0</td>\n",
       "      <td>0.0</td>\n",
       "      <td>0.0</td>\n",
       "      <td>0.0</td>\n",
       "      <td>1207.0</td>\n",
       "      <td>0.0</td>\n",
       "      <td>...</td>\n",
       "      <td>0.0</td>\n",
       "      <td>0.0</td>\n",
       "      <td>20314.0</td>\n",
       "      <td>579.0</td>\n",
       "      <td>306.0</td>\n",
       "      <td>92.0</td>\n",
       "      <td>0.0</td>\n",
       "      <td>0.0</td>\n",
       "      <td>0.0</td>\n",
       "      <td>30.0</td>\n",
       "    </tr>\n",
       "    <tr>\n",
       "      <th>2</th>\n",
       "      <td>0.0</td>\n",
       "      <td>0.0</td>\n",
       "      <td>0.0</td>\n",
       "      <td>0.0</td>\n",
       "      <td>15579.0</td>\n",
       "      <td>19703.0</td>\n",
       "      <td>0.0</td>\n",
       "      <td>0.0</td>\n",
       "      <td>2211.0</td>\n",
       "      <td>0.0</td>\n",
       "      <td>...</td>\n",
       "      <td>0.0</td>\n",
       "      <td>0.0</td>\n",
       "      <td>21775.0</td>\n",
       "      <td>0.0</td>\n",
       "      <td>0.0</td>\n",
       "      <td>0.0</td>\n",
       "      <td>0.0</td>\n",
       "      <td>0.0</td>\n",
       "      <td>0.0</td>\n",
       "      <td>26612.0</td>\n",
       "    </tr>\n",
       "    <tr>\n",
       "      <th>3</th>\n",
       "      <td>0.0</td>\n",
       "      <td>0.0</td>\n",
       "      <td>2731.0</td>\n",
       "      <td>0.0</td>\n",
       "      <td>1673.0</td>\n",
       "      <td>0.0</td>\n",
       "      <td>413.0</td>\n",
       "      <td>0.0</td>\n",
       "      <td>1567.0</td>\n",
       "      <td>0.0</td>\n",
       "      <td>...</td>\n",
       "      <td>0.0</td>\n",
       "      <td>421.0</td>\n",
       "      <td>12055.0</td>\n",
       "      <td>0.0</td>\n",
       "      <td>337.0</td>\n",
       "      <td>0.0</td>\n",
       "      <td>0.0</td>\n",
       "      <td>0.0</td>\n",
       "      <td>0.0</td>\n",
       "      <td>36467.0</td>\n",
       "    </tr>\n",
       "    <tr>\n",
       "      <th>4</th>\n",
       "      <td>0.0</td>\n",
       "      <td>0.0</td>\n",
       "      <td>0.0</td>\n",
       "      <td>0.0</td>\n",
       "      <td>595.0</td>\n",
       "      <td>27758.0</td>\n",
       "      <td>0.0</td>\n",
       "      <td>0.0</td>\n",
       "      <td>1411.0</td>\n",
       "      <td>0.0</td>\n",
       "      <td>...</td>\n",
       "      <td>0.0</td>\n",
       "      <td>0.0</td>\n",
       "      <td>6372.0</td>\n",
       "      <td>0.0</td>\n",
       "      <td>672.0</td>\n",
       "      <td>0.0</td>\n",
       "      <td>0.0</td>\n",
       "      <td>0.0</td>\n",
       "      <td>0.0</td>\n",
       "      <td>4219.0</td>\n",
       "    </tr>\n",
       "    <tr>\n",
       "      <th>...</th>\n",
       "      <td>...</td>\n",
       "      <td>...</td>\n",
       "      <td>...</td>\n",
       "      <td>...</td>\n",
       "      <td>...</td>\n",
       "      <td>...</td>\n",
       "      <td>...</td>\n",
       "      <td>...</td>\n",
       "      <td>...</td>\n",
       "      <td>...</td>\n",
       "      <td>...</td>\n",
       "      <td>...</td>\n",
       "      <td>...</td>\n",
       "      <td>...</td>\n",
       "      <td>...</td>\n",
       "      <td>...</td>\n",
       "      <td>...</td>\n",
       "      <td>...</td>\n",
       "      <td>...</td>\n",
       "      <td>...</td>\n",
       "      <td>...</td>\n",
       "    </tr>\n",
       "    <tr>\n",
       "      <th>390</th>\n",
       "      <td>0.0</td>\n",
       "      <td>0.0</td>\n",
       "      <td>0.0</td>\n",
       "      <td>0.0</td>\n",
       "      <td>370.0</td>\n",
       "      <td>3260.0</td>\n",
       "      <td>0.0</td>\n",
       "      <td>0.0</td>\n",
       "      <td>3212.0</td>\n",
       "      <td>0.0</td>\n",
       "      <td>...</td>\n",
       "      <td>22545.0</td>\n",
       "      <td>0.0</td>\n",
       "      <td>24793.0</td>\n",
       "      <td>0.0</td>\n",
       "      <td>0.0</td>\n",
       "      <td>0.0</td>\n",
       "      <td>1422.0</td>\n",
       "      <td>0.0</td>\n",
       "      <td>0.0</td>\n",
       "      <td>0.0</td>\n",
       "    </tr>\n",
       "    <tr>\n",
       "      <th>391</th>\n",
       "      <td>0.0</td>\n",
       "      <td>15.0</td>\n",
       "      <td>0.0</td>\n",
       "      <td>411.0</td>\n",
       "      <td>27098.0</td>\n",
       "      <td>43241.0</td>\n",
       "      <td>0.0</td>\n",
       "      <td>0.0</td>\n",
       "      <td>895.0</td>\n",
       "      <td>0.0</td>\n",
       "      <td>...</td>\n",
       "      <td>15030.0</td>\n",
       "      <td>497.0</td>\n",
       "      <td>45980.0</td>\n",
       "      <td>0.0</td>\n",
       "      <td>0.0</td>\n",
       "      <td>0.0</td>\n",
       "      <td>1024.0</td>\n",
       "      <td>0.0</td>\n",
       "      <td>0.0</td>\n",
       "      <td>0.0</td>\n",
       "    </tr>\n",
       "    <tr>\n",
       "      <th>392</th>\n",
       "      <td>0.0</td>\n",
       "      <td>0.0</td>\n",
       "      <td>0.0</td>\n",
       "      <td>339.0</td>\n",
       "      <td>419.0</td>\n",
       "      <td>9532.0</td>\n",
       "      <td>1519.0</td>\n",
       "      <td>0.0</td>\n",
       "      <td>693.0</td>\n",
       "      <td>0.0</td>\n",
       "      <td>...</td>\n",
       "      <td>0.0</td>\n",
       "      <td>0.0</td>\n",
       "      <td>17778.0</td>\n",
       "      <td>0.0</td>\n",
       "      <td>0.0</td>\n",
       "      <td>0.0</td>\n",
       "      <td>0.0</td>\n",
       "      <td>0.0</td>\n",
       "      <td>0.0</td>\n",
       "      <td>0.0</td>\n",
       "    </tr>\n",
       "    <tr>\n",
       "      <th>393</th>\n",
       "      <td>92.0</td>\n",
       "      <td>0.0</td>\n",
       "      <td>0.0</td>\n",
       "      <td>0.0</td>\n",
       "      <td>876.0</td>\n",
       "      <td>6087.0</td>\n",
       "      <td>718.0</td>\n",
       "      <td>0.0</td>\n",
       "      <td>6677.0</td>\n",
       "      <td>0.0</td>\n",
       "      <td>...</td>\n",
       "      <td>0.0</td>\n",
       "      <td>0.0</td>\n",
       "      <td>26189.0</td>\n",
       "      <td>0.0</td>\n",
       "      <td>0.0</td>\n",
       "      <td>0.0</td>\n",
       "      <td>0.0</td>\n",
       "      <td>0.0</td>\n",
       "      <td>0.0</td>\n",
       "      <td>0.0</td>\n",
       "    </tr>\n",
       "    <tr>\n",
       "      <th>394</th>\n",
       "      <td>0.0</td>\n",
       "      <td>295.0</td>\n",
       "      <td>0.0</td>\n",
       "      <td>0.0</td>\n",
       "      <td>1313.0</td>\n",
       "      <td>2151.0</td>\n",
       "      <td>1080.0</td>\n",
       "      <td>0.0</td>\n",
       "      <td>2447.0</td>\n",
       "      <td>0.0</td>\n",
       "      <td>...</td>\n",
       "      <td>0.0</td>\n",
       "      <td>1442.0</td>\n",
       "      <td>17911.0</td>\n",
       "      <td>0.0</td>\n",
       "      <td>0.0</td>\n",
       "      <td>0.0</td>\n",
       "      <td>373.0</td>\n",
       "      <td>0.0</td>\n",
       "      <td>0.0</td>\n",
       "      <td>508.0</td>\n",
       "    </tr>\n",
       "  </tbody>\n",
       "</table>\n",
       "<p>395 rows × 3688 columns</p>\n",
       "</div>"
      ],
      "text/plain": [
       "cust_id  39d049baef9f1ba93cdf7d0e9ca93490ea0047f21cb189ff8ded31a7ceeaf146  \\\n",
       "date                                                                        \n",
       "0                                                    175.0                  \n",
       "1                                                      0.0                  \n",
       "2                                                      0.0                  \n",
       "3                                                      0.0                  \n",
       "4                                                      0.0                  \n",
       "...                                                    ...                  \n",
       "390                                                    0.0                  \n",
       "391                                                    0.0                  \n",
       "392                                                    0.0                  \n",
       "393                                                   92.0                  \n",
       "394                                                    0.0                  \n",
       "\n",
       "cust_id  fb234ed1e30578f8359a114678d91dca92a05687bc11c9dcdfe26978427bcc5c  \\\n",
       "date                                                                        \n",
       "0                                                      0.0                  \n",
       "1                                                      0.0                  \n",
       "2                                                      0.0                  \n",
       "3                                                      0.0                  \n",
       "4                                                      0.0                  \n",
       "...                                                    ...                  \n",
       "390                                                    0.0                  \n",
       "391                                                   15.0                  \n",
       "392                                                    0.0                  \n",
       "393                                                    0.0                  \n",
       "394                                                  295.0                  \n",
       "\n",
       "cust_id  5d0087f9a233064c7ef6684e363043c34c107c13dea3b41552893852acab6d69  \\\n",
       "date                                                                        \n",
       "0                                                      0.0                  \n",
       "1                                                      0.0                  \n",
       "2                                                      0.0                  \n",
       "3                                                   2731.0                  \n",
       "4                                                      0.0                  \n",
       "...                                                    ...                  \n",
       "390                                                    0.0                  \n",
       "391                                                    0.0                  \n",
       "392                                                    0.0                  \n",
       "393                                                    0.0                  \n",
       "394                                                    0.0                  \n",
       "\n",
       "cust_id  f1d981ab44c5ea936af330370154376c44fa5f15210db11a5389dd0ddb63b267  \\\n",
       "date                                                                        \n",
       "0                                                      0.0                  \n",
       "1                                                      0.0                  \n",
       "2                                                      0.0                  \n",
       "3                                                      0.0                  \n",
       "4                                                      0.0                  \n",
       "...                                                    ...                  \n",
       "390                                                    0.0                  \n",
       "391                                                  411.0                  \n",
       "392                                                  339.0                  \n",
       "393                                                    0.0                  \n",
       "394                                                    0.0                  \n",
       "\n",
       "cust_id  ce1e4ec38146a5d5d2548ede959037a3ff94457060717186349c4259c2ebd504  \\\n",
       "date                                                                        \n",
       "0                                                    378.0                  \n",
       "1                                                    344.0                  \n",
       "2                                                  15579.0                  \n",
       "3                                                   1673.0                  \n",
       "4                                                    595.0                  \n",
       "...                                                    ...                  \n",
       "390                                                  370.0                  \n",
       "391                                                27098.0                  \n",
       "392                                                  419.0                  \n",
       "393                                                  876.0                  \n",
       "394                                                 1313.0                  \n",
       "\n",
       "cust_id  d89e77559822feccbe5daf45ce24f3707271be86a490124aaf1f6d83a11280f7  \\\n",
       "date                                                                        \n",
       "0                                                   4618.0                  \n",
       "1                                                      0.0                  \n",
       "2                                                  19703.0                  \n",
       "3                                                      0.0                  \n",
       "4                                                  27758.0                  \n",
       "...                                                    ...                  \n",
       "390                                                 3260.0                  \n",
       "391                                                43241.0                  \n",
       "392                                                 9532.0                  \n",
       "393                                                 6087.0                  \n",
       "394                                                 2151.0                  \n",
       "\n",
       "cust_id  359b844e7747a01f5cb51592fcd8627e0c86ce683ce39c36a2adc6590c7da16f  \\\n",
       "date                                                                        \n",
       "0                                                      0.0                  \n",
       "1                                                      0.0                  \n",
       "2                                                      0.0                  \n",
       "3                                                    413.0                  \n",
       "4                                                      0.0                  \n",
       "...                                                    ...                  \n",
       "390                                                    0.0                  \n",
       "391                                                    0.0                  \n",
       "392                                                 1519.0                  \n",
       "393                                                  718.0                  \n",
       "394                                                 1080.0                  \n",
       "\n",
       "cust_id  9711f2a15e7352e6bbaf12b63787d1a7583c71c448738e153ba929c4c2db3ece  \\\n",
       "date                                                                        \n",
       "0                                                      0.0                  \n",
       "1                                                      0.0                  \n",
       "2                                                      0.0                  \n",
       "3                                                      0.0                  \n",
       "4                                                      0.0                  \n",
       "...                                                    ...                  \n",
       "390                                                    0.0                  \n",
       "391                                                    0.0                  \n",
       "392                                                    0.0                  \n",
       "393                                                    0.0                  \n",
       "394                                                    0.0                  \n",
       "\n",
       "cust_id  a3f84cead246d36d4512704a034da6a7f678eab28fbb41824f24a61cd9c1ad51  \\\n",
       "date                                                                        \n",
       "0                                                    511.0                  \n",
       "1                                                   1207.0                  \n",
       "2                                                   2211.0                  \n",
       "3                                                   1567.0                  \n",
       "4                                                   1411.0                  \n",
       "...                                                    ...                  \n",
       "390                                                 3212.0                  \n",
       "391                                                  895.0                  \n",
       "392                                                  693.0                  \n",
       "393                                                 6677.0                  \n",
       "394                                                 2447.0                  \n",
       "\n",
       "cust_id  bd0bf23ae7766aefc03715e47498116ad7592e5d03e64da0170a342cd5cd6537  \\\n",
       "date                                                                        \n",
       "0                                                      0.0                  \n",
       "1                                                      0.0                  \n",
       "2                                                      0.0                  \n",
       "3                                                      0.0                  \n",
       "4                                                      0.0                  \n",
       "...                                                    ...                  \n",
       "390                                                    0.0                  \n",
       "391                                                    0.0                  \n",
       "392                                                    0.0                  \n",
       "393                                                    0.0                  \n",
       "394                                                    0.0                  \n",
       "\n",
       "cust_id  ...  \\\n",
       "date     ...   \n",
       "0        ...   \n",
       "1        ...   \n",
       "2        ...   \n",
       "3        ...   \n",
       "4        ...   \n",
       "...      ...   \n",
       "390      ...   \n",
       "391      ...   \n",
       "392      ...   \n",
       "393      ...   \n",
       "394      ...   \n",
       "\n",
       "cust_id  1c69375556be3274c8b7a4e21bb8f216461cbaa4b6028c11576e0adf3feb1ebb  \\\n",
       "date                                                                        \n",
       "0                                                      0.0                  \n",
       "1                                                      0.0                  \n",
       "2                                                      0.0                  \n",
       "3                                                      0.0                  \n",
       "4                                                      0.0                  \n",
       "...                                                    ...                  \n",
       "390                                                22545.0                  \n",
       "391                                                15030.0                  \n",
       "392                                                    0.0                  \n",
       "393                                                    0.0                  \n",
       "394                                                    0.0                  \n",
       "\n",
       "cust_id  564a02ae7c066223b17b291f63a90c93c322de2476da09a10eaec1c15ca930b3  \\\n",
       "date                                                                        \n",
       "0                                                      0.0                  \n",
       "1                                                      0.0                  \n",
       "2                                                      0.0                  \n",
       "3                                                    421.0                  \n",
       "4                                                      0.0                  \n",
       "...                                                    ...                  \n",
       "390                                                    0.0                  \n",
       "391                                                  497.0                  \n",
       "392                                                    0.0                  \n",
       "393                                                    0.0                  \n",
       "394                                                 1442.0                  \n",
       "\n",
       "cust_id  bd865cec13bafb4192a3fc05e1fbfd1e73a244c3c54d0472d082893640d0729a  \\\n",
       "date                                                                        \n",
       "0                                                  50955.0                  \n",
       "1                                                  20314.0                  \n",
       "2                                                  21775.0                  \n",
       "3                                                  12055.0                  \n",
       "4                                                   6372.0                  \n",
       "...                                                    ...                  \n",
       "390                                                24793.0                  \n",
       "391                                                45980.0                  \n",
       "392                                                17778.0                  \n",
       "393                                                26189.0                  \n",
       "394                                                17911.0                  \n",
       "\n",
       "cust_id  a3b64eb45f5d034996ecab4a4236ea919129adc21925823be9c9f3d1673783cb  \\\n",
       "date                                                                        \n",
       "0                                                      0.0                  \n",
       "1                                                    579.0                  \n",
       "2                                                      0.0                  \n",
       "3                                                      0.0                  \n",
       "4                                                      0.0                  \n",
       "...                                                    ...                  \n",
       "390                                                    0.0                  \n",
       "391                                                    0.0                  \n",
       "392                                                    0.0                  \n",
       "393                                                    0.0                  \n",
       "394                                                    0.0                  \n",
       "\n",
       "cust_id  c3f030b3ef43a839a1e5692786b40f4347b1aa035f95b0067d8c8bbd350da816  \\\n",
       "date                                                                        \n",
       "0                                                    272.0                  \n",
       "1                                                    306.0                  \n",
       "2                                                      0.0                  \n",
       "3                                                    337.0                  \n",
       "4                                                    672.0                  \n",
       "...                                                    ...                  \n",
       "390                                                    0.0                  \n",
       "391                                                    0.0                  \n",
       "392                                                    0.0                  \n",
       "393                                                    0.0                  \n",
       "394                                                    0.0                  \n",
       "\n",
       "cust_id  ea955ee5fce36d505ca6b00b40586092112c8ff26d8d2ad35fff53559a341ed6  \\\n",
       "date                                                                        \n",
       "0                                                      0.0                  \n",
       "1                                                     92.0                  \n",
       "2                                                      0.0                  \n",
       "3                                                      0.0                  \n",
       "4                                                      0.0                  \n",
       "...                                                    ...                  \n",
       "390                                                    0.0                  \n",
       "391                                                    0.0                  \n",
       "392                                                    0.0                  \n",
       "393                                                    0.0                  \n",
       "394                                                    0.0                  \n",
       "\n",
       "cust_id  eb5b1a0ced14610a9989efe8bd6bd0a558f01c8126d4cdf690e473e2350e8db7  \\\n",
       "date                                                                        \n",
       "0                                                      0.0                  \n",
       "1                                                      0.0                  \n",
       "2                                                      0.0                  \n",
       "3                                                      0.0                  \n",
       "4                                                      0.0                  \n",
       "...                                                    ...                  \n",
       "390                                                 1422.0                  \n",
       "391                                                 1024.0                  \n",
       "392                                                    0.0                  \n",
       "393                                                    0.0                  \n",
       "394                                                  373.0                  \n",
       "\n",
       "cust_id  6ac01039f033f1b2624809c08e501f57944c27081f2a389c998ea7a6e0e8a301  \\\n",
       "date                                                                        \n",
       "0                                                      0.0                  \n",
       "1                                                      0.0                  \n",
       "2                                                      0.0                  \n",
       "3                                                      0.0                  \n",
       "4                                                      0.0                  \n",
       "...                                                    ...                  \n",
       "390                                                    0.0                  \n",
       "391                                                    0.0                  \n",
       "392                                                    0.0                  \n",
       "393                                                    0.0                  \n",
       "394                                                    0.0                  \n",
       "\n",
       "cust_id  cace9f2c08214ac73f5cc31b23026b4db76a18baeb84aa64696cd1fe15f4a348  \\\n",
       "date                                                                        \n",
       "0                                                      0.0                  \n",
       "1                                                      0.0                  \n",
       "2                                                      0.0                  \n",
       "3                                                      0.0                  \n",
       "4                                                      0.0                  \n",
       "...                                                    ...                  \n",
       "390                                                    0.0                  \n",
       "391                                                    0.0                  \n",
       "392                                                    0.0                  \n",
       "393                                                    0.0                  \n",
       "394                                                    0.0                  \n",
       "\n",
       "cust_id  548b051fcc062b5ea8dbeae1000b8e647d815b4dcec3b4437a70e2658d9a4fa1  \n",
       "date                                                                       \n",
       "0                                                      0.0                 \n",
       "1                                                     30.0                 \n",
       "2                                                  26612.0                 \n",
       "3                                                  36467.0                 \n",
       "4                                                   4219.0                 \n",
       "...                                                    ...                 \n",
       "390                                                    0.0                 \n",
       "391                                                    0.0                 \n",
       "392                                                    0.0                 \n",
       "393                                                    0.0                 \n",
       "394                                                  508.0                 \n",
       "\n",
       "[395 rows x 3688 columns]"
      ]
     },
     "execution_count": 22,
     "metadata": {},
     "output_type": "execute_result"
    }
   ],
   "source": [
    "##pivot\n",
    "cdtx_pivot = pd.pivot_table(cdtx_df, values='amt', index=['date'], columns=['cust_id'], aggfunc=np.sum)\n",
    "cdtx_pivot = cdtx_pivot.fillna(0)\n",
    "cdtx_pivot = cdtx_pivot[list(set(y_df.index) & set(cdtx_pivot.columns))]\n",
    "cdtx_pivot\n",
    "\n",
    "##you may use pd.resample to change frequency"
   ]
  },
  {
   "cell_type": "code",
   "execution_count": 23,
   "id": "8b56faa8",
   "metadata": {
    "colab": {
     "base_uri": "https://localhost:8080/",
     "height": 519
    },
    "id": "RLcMJuVchmIY",
    "outputId": "3a3fe6b4-6b8b-4ea8-b59b-c75eff1e8dbe",
    "scrolled": true
   },
   "outputs": [
    {
     "data": {
      "text/html": [
       "<div>\n",
       "<style scoped>\n",
       "    .dataframe tbody tr th:only-of-type {\n",
       "        vertical-align: middle;\n",
       "    }\n",
       "\n",
       "    .dataframe tbody tr th {\n",
       "        vertical-align: top;\n",
       "    }\n",
       "\n",
       "    .dataframe thead th {\n",
       "        text-align: right;\n",
       "    }\n",
       "</style>\n",
       "<table border=\"1\" class=\"dataframe\">\n",
       "  <thead>\n",
       "    <tr style=\"text-align: right;\">\n",
       "      <th>cust_id</th>\n",
       "      <th>65c3ba8b8e412d0006881b3208a4dddee7c2b17f24cb6f2990530eb3d5a21407</th>\n",
       "      <th>39d049baef9f1ba93cdf7d0e9ca93490ea0047f21cb189ff8ded31a7ceeaf146</th>\n",
       "      <th>ce1e4ec38146a5d5d2548ede959037a3ff94457060717186349c4259c2ebd504</th>\n",
       "      <th>bd0bf23ae7766aefc03715e47498116ad7592e5d03e64da0170a342cd5cd6537</th>\n",
       "      <th>2812b1ea6f9efe33b3db4b3ba2c4b71b03e5f60878416b506d3b33ccdce9d5cb</th>\n",
       "      <th>b7c76effe9ac9e8cb949d2e4e67af4df92ae71709d8c15fa933325b16bc58c4c</th>\n",
       "      <th>d9cddb6c06d1fb01a9900a42d9eb2ad9e4ce2e9d2820384f1bb74f46412f2e75</th>\n",
       "      <th>c283452f1f3709ca013be332c926000decc8afba5d5ec2b5c51ac1858bbd5a66</th>\n",
       "      <th>e14f542b5ab44714ed4844b9042aa9a4f2ab869bcd20116ae1db729c44e41c9d</th>\n",
       "      <th>ad14ebf5eb2143f8fcf763ca02a913b5d69a928431d89d5ec2d51ee486d8fa36</th>\n",
       "      <th>...</th>\n",
       "      <th>e5b641cb0e5cc8de9d9fe78d0151dfb524abe3f78c0967aff572af56ef358252</th>\n",
       "      <th>7d327b677b9c3c8976ba7df631e92a9ff22240aef25af91584748ce2491b9d32</th>\n",
       "      <th>2e22a879a21e0d062b1173d3a33824b11a63ffcbe4b4fc150eaa31b70f53c7ff</th>\n",
       "      <th>9f69b7e19dcff28135ff1cae1449c0ef56255ebe85782eb65334c2620739e9ca</th>\n",
       "      <th>8d9a99ba0148eada513b476d60057d20507c89442881a05d770cb4c0bb1fd4d6</th>\n",
       "      <th>2b6a1a3d307787dbf4b9d7426394004486f94ac328784f676f913e18680d5200</th>\n",
       "      <th>c3f030b3ef43a839a1e5692786b40f4347b1aa035f95b0067d8c8bbd350da816</th>\n",
       "      <th>ea955ee5fce36d505ca6b00b40586092112c8ff26d8d2ad35fff53559a341ed6</th>\n",
       "      <th>d3decd8fad115274fba55bfdeadaaa877acf90d9bb24eb0125436f214148f178</th>\n",
       "      <th>2b1cdd7ab34c635baa33f930ef6067d1dc3b6bb4f6f8aa10ee17a0cabbb0546d</th>\n",
       "    </tr>\n",
       "    <tr>\n",
       "      <th>tx_date</th>\n",
       "      <th></th>\n",
       "      <th></th>\n",
       "      <th></th>\n",
       "      <th></th>\n",
       "      <th></th>\n",
       "      <th></th>\n",
       "      <th></th>\n",
       "      <th></th>\n",
       "      <th></th>\n",
       "      <th></th>\n",
       "      <th></th>\n",
       "      <th></th>\n",
       "      <th></th>\n",
       "      <th></th>\n",
       "      <th></th>\n",
       "      <th></th>\n",
       "      <th></th>\n",
       "      <th></th>\n",
       "      <th></th>\n",
       "      <th></th>\n",
       "      <th></th>\n",
       "    </tr>\n",
       "  </thead>\n",
       "  <tbody>\n",
       "    <tr>\n",
       "      <th>0</th>\n",
       "      <td>4705.0</td>\n",
       "      <td>0.0</td>\n",
       "      <td>978761.0</td>\n",
       "      <td>0.0</td>\n",
       "      <td>241597.0</td>\n",
       "      <td>0.0</td>\n",
       "      <td>0.0</td>\n",
       "      <td>0.0</td>\n",
       "      <td>0.0</td>\n",
       "      <td>0.0</td>\n",
       "      <td>...</td>\n",
       "      <td>5092.0</td>\n",
       "      <td>2881190.0</td>\n",
       "      <td>0.0</td>\n",
       "      <td>351027.0</td>\n",
       "      <td>0.0</td>\n",
       "      <td>0.0</td>\n",
       "      <td>63341.0</td>\n",
       "      <td>0.0</td>\n",
       "      <td>0.0</td>\n",
       "      <td>0.0</td>\n",
       "    </tr>\n",
       "    <tr>\n",
       "      <th>1</th>\n",
       "      <td>0.0</td>\n",
       "      <td>0.0</td>\n",
       "      <td>164745.0</td>\n",
       "      <td>0.0</td>\n",
       "      <td>0.0</td>\n",
       "      <td>0.0</td>\n",
       "      <td>0.0</td>\n",
       "      <td>0.0</td>\n",
       "      <td>20789.0</td>\n",
       "      <td>0.0</td>\n",
       "      <td>...</td>\n",
       "      <td>0.0</td>\n",
       "      <td>719.0</td>\n",
       "      <td>0.0</td>\n",
       "      <td>0.0</td>\n",
       "      <td>0.0</td>\n",
       "      <td>0.0</td>\n",
       "      <td>0.0</td>\n",
       "      <td>0.0</td>\n",
       "      <td>0.0</td>\n",
       "      <td>0.0</td>\n",
       "    </tr>\n",
       "    <tr>\n",
       "      <th>2</th>\n",
       "      <td>0.0</td>\n",
       "      <td>0.0</td>\n",
       "      <td>0.0</td>\n",
       "      <td>0.0</td>\n",
       "      <td>0.0</td>\n",
       "      <td>0.0</td>\n",
       "      <td>0.0</td>\n",
       "      <td>0.0</td>\n",
       "      <td>0.0</td>\n",
       "      <td>0.0</td>\n",
       "      <td>...</td>\n",
       "      <td>0.0</td>\n",
       "      <td>0.0</td>\n",
       "      <td>0.0</td>\n",
       "      <td>0.0</td>\n",
       "      <td>0.0</td>\n",
       "      <td>0.0</td>\n",
       "      <td>0.0</td>\n",
       "      <td>0.0</td>\n",
       "      <td>0.0</td>\n",
       "      <td>0.0</td>\n",
       "    </tr>\n",
       "    <tr>\n",
       "      <th>3</th>\n",
       "      <td>10497.0</td>\n",
       "      <td>0.0</td>\n",
       "      <td>208406.0</td>\n",
       "      <td>0.0</td>\n",
       "      <td>0.0</td>\n",
       "      <td>0.0</td>\n",
       "      <td>0.0</td>\n",
       "      <td>0.0</td>\n",
       "      <td>0.0</td>\n",
       "      <td>0.0</td>\n",
       "      <td>...</td>\n",
       "      <td>0.0</td>\n",
       "      <td>0.0</td>\n",
       "      <td>0.0</td>\n",
       "      <td>0.0</td>\n",
       "      <td>0.0</td>\n",
       "      <td>0.0</td>\n",
       "      <td>48875.0</td>\n",
       "      <td>0.0</td>\n",
       "      <td>0.0</td>\n",
       "      <td>0.0</td>\n",
       "    </tr>\n",
       "    <tr>\n",
       "      <th>4</th>\n",
       "      <td>0.0</td>\n",
       "      <td>0.0</td>\n",
       "      <td>0.0</td>\n",
       "      <td>0.0</td>\n",
       "      <td>0.0</td>\n",
       "      <td>0.0</td>\n",
       "      <td>0.0</td>\n",
       "      <td>0.0</td>\n",
       "      <td>0.0</td>\n",
       "      <td>0.0</td>\n",
       "      <td>...</td>\n",
       "      <td>0.0</td>\n",
       "      <td>0.0</td>\n",
       "      <td>0.0</td>\n",
       "      <td>0.0</td>\n",
       "      <td>0.0</td>\n",
       "      <td>0.0</td>\n",
       "      <td>0.0</td>\n",
       "      <td>0.0</td>\n",
       "      <td>0.0</td>\n",
       "      <td>0.0</td>\n",
       "    </tr>\n",
       "    <tr>\n",
       "      <th>...</th>\n",
       "      <td>...</td>\n",
       "      <td>...</td>\n",
       "      <td>...</td>\n",
       "      <td>...</td>\n",
       "      <td>...</td>\n",
       "      <td>...</td>\n",
       "      <td>...</td>\n",
       "      <td>...</td>\n",
       "      <td>...</td>\n",
       "      <td>...</td>\n",
       "      <td>...</td>\n",
       "      <td>...</td>\n",
       "      <td>...</td>\n",
       "      <td>...</td>\n",
       "      <td>...</td>\n",
       "      <td>...</td>\n",
       "      <td>...</td>\n",
       "      <td>...</td>\n",
       "      <td>...</td>\n",
       "      <td>...</td>\n",
       "      <td>...</td>\n",
       "    </tr>\n",
       "    <tr>\n",
       "      <th>390</th>\n",
       "      <td>0.0</td>\n",
       "      <td>22561.0</td>\n",
       "      <td>278432.0</td>\n",
       "      <td>0.0</td>\n",
       "      <td>88132.0</td>\n",
       "      <td>0.0</td>\n",
       "      <td>0.0</td>\n",
       "      <td>0.0</td>\n",
       "      <td>2709573.0</td>\n",
       "      <td>0.0</td>\n",
       "      <td>...</td>\n",
       "      <td>0.0</td>\n",
       "      <td>0.0</td>\n",
       "      <td>0.0</td>\n",
       "      <td>0.0</td>\n",
       "      <td>0.0</td>\n",
       "      <td>0.0</td>\n",
       "      <td>0.0</td>\n",
       "      <td>0.0</td>\n",
       "      <td>0.0</td>\n",
       "      <td>164186.0</td>\n",
       "    </tr>\n",
       "    <tr>\n",
       "      <th>391</th>\n",
       "      <td>0.0</td>\n",
       "      <td>10102.0</td>\n",
       "      <td>0.0</td>\n",
       "      <td>0.0</td>\n",
       "      <td>314022.0</td>\n",
       "      <td>0.0</td>\n",
       "      <td>0.0</td>\n",
       "      <td>0.0</td>\n",
       "      <td>36957.0</td>\n",
       "      <td>0.0</td>\n",
       "      <td>...</td>\n",
       "      <td>0.0</td>\n",
       "      <td>844943.0</td>\n",
       "      <td>0.0</td>\n",
       "      <td>0.0</td>\n",
       "      <td>0.0</td>\n",
       "      <td>0.0</td>\n",
       "      <td>0.0</td>\n",
       "      <td>0.0</td>\n",
       "      <td>0.0</td>\n",
       "      <td>70080.0</td>\n",
       "    </tr>\n",
       "    <tr>\n",
       "      <th>392</th>\n",
       "      <td>0.0</td>\n",
       "      <td>11259.0</td>\n",
       "      <td>0.0</td>\n",
       "      <td>0.0</td>\n",
       "      <td>265208.0</td>\n",
       "      <td>0.0</td>\n",
       "      <td>0.0</td>\n",
       "      <td>0.0</td>\n",
       "      <td>49943.0</td>\n",
       "      <td>0.0</td>\n",
       "      <td>...</td>\n",
       "      <td>0.0</td>\n",
       "      <td>0.0</td>\n",
       "      <td>0.0</td>\n",
       "      <td>0.0</td>\n",
       "      <td>0.0</td>\n",
       "      <td>0.0</td>\n",
       "      <td>0.0</td>\n",
       "      <td>0.0</td>\n",
       "      <td>0.0</td>\n",
       "      <td>0.0</td>\n",
       "    </tr>\n",
       "    <tr>\n",
       "      <th>393</th>\n",
       "      <td>0.0</td>\n",
       "      <td>0.0</td>\n",
       "      <td>0.0</td>\n",
       "      <td>0.0</td>\n",
       "      <td>0.0</td>\n",
       "      <td>0.0</td>\n",
       "      <td>0.0</td>\n",
       "      <td>0.0</td>\n",
       "      <td>5706.0</td>\n",
       "      <td>0.0</td>\n",
       "      <td>...</td>\n",
       "      <td>0.0</td>\n",
       "      <td>931590.0</td>\n",
       "      <td>0.0</td>\n",
       "      <td>0.0</td>\n",
       "      <td>0.0</td>\n",
       "      <td>0.0</td>\n",
       "      <td>0.0</td>\n",
       "      <td>0.0</td>\n",
       "      <td>699.0</td>\n",
       "      <td>89606.0</td>\n",
       "    </tr>\n",
       "    <tr>\n",
       "      <th>394</th>\n",
       "      <td>0.0</td>\n",
       "      <td>20204.0</td>\n",
       "      <td>0.0</td>\n",
       "      <td>0.0</td>\n",
       "      <td>0.0</td>\n",
       "      <td>0.0</td>\n",
       "      <td>0.0</td>\n",
       "      <td>0.0</td>\n",
       "      <td>38594.0</td>\n",
       "      <td>0.0</td>\n",
       "      <td>...</td>\n",
       "      <td>0.0</td>\n",
       "      <td>1.0</td>\n",
       "      <td>0.0</td>\n",
       "      <td>0.0</td>\n",
       "      <td>0.0</td>\n",
       "      <td>0.0</td>\n",
       "      <td>0.0</td>\n",
       "      <td>0.0</td>\n",
       "      <td>0.0</td>\n",
       "      <td>0.0</td>\n",
       "    </tr>\n",
       "  </tbody>\n",
       "</table>\n",
       "<p>395 rows × 5762 columns</p>\n",
       "</div>"
      ],
      "text/plain": [
       "cust_id  65c3ba8b8e412d0006881b3208a4dddee7c2b17f24cb6f2990530eb3d5a21407  \\\n",
       "tx_date                                                                     \n",
       "0                                                   4705.0                  \n",
       "1                                                      0.0                  \n",
       "2                                                      0.0                  \n",
       "3                                                  10497.0                  \n",
       "4                                                      0.0                  \n",
       "...                                                    ...                  \n",
       "390                                                    0.0                  \n",
       "391                                                    0.0                  \n",
       "392                                                    0.0                  \n",
       "393                                                    0.0                  \n",
       "394                                                    0.0                  \n",
       "\n",
       "cust_id  39d049baef9f1ba93cdf7d0e9ca93490ea0047f21cb189ff8ded31a7ceeaf146  \\\n",
       "tx_date                                                                     \n",
       "0                                                      0.0                  \n",
       "1                                                      0.0                  \n",
       "2                                                      0.0                  \n",
       "3                                                      0.0                  \n",
       "4                                                      0.0                  \n",
       "...                                                    ...                  \n",
       "390                                                22561.0                  \n",
       "391                                                10102.0                  \n",
       "392                                                11259.0                  \n",
       "393                                                    0.0                  \n",
       "394                                                20204.0                  \n",
       "\n",
       "cust_id  ce1e4ec38146a5d5d2548ede959037a3ff94457060717186349c4259c2ebd504  \\\n",
       "tx_date                                                                     \n",
       "0                                                 978761.0                  \n",
       "1                                                 164745.0                  \n",
       "2                                                      0.0                  \n",
       "3                                                 208406.0                  \n",
       "4                                                      0.0                  \n",
       "...                                                    ...                  \n",
       "390                                               278432.0                  \n",
       "391                                                    0.0                  \n",
       "392                                                    0.0                  \n",
       "393                                                    0.0                  \n",
       "394                                                    0.0                  \n",
       "\n",
       "cust_id  bd0bf23ae7766aefc03715e47498116ad7592e5d03e64da0170a342cd5cd6537  \\\n",
       "tx_date                                                                     \n",
       "0                                                      0.0                  \n",
       "1                                                      0.0                  \n",
       "2                                                      0.0                  \n",
       "3                                                      0.0                  \n",
       "4                                                      0.0                  \n",
       "...                                                    ...                  \n",
       "390                                                    0.0                  \n",
       "391                                                    0.0                  \n",
       "392                                                    0.0                  \n",
       "393                                                    0.0                  \n",
       "394                                                    0.0                  \n",
       "\n",
       "cust_id  2812b1ea6f9efe33b3db4b3ba2c4b71b03e5f60878416b506d3b33ccdce9d5cb  \\\n",
       "tx_date                                                                     \n",
       "0                                                 241597.0                  \n",
       "1                                                      0.0                  \n",
       "2                                                      0.0                  \n",
       "3                                                      0.0                  \n",
       "4                                                      0.0                  \n",
       "...                                                    ...                  \n",
       "390                                                88132.0                  \n",
       "391                                               314022.0                  \n",
       "392                                               265208.0                  \n",
       "393                                                    0.0                  \n",
       "394                                                    0.0                  \n",
       "\n",
       "cust_id  b7c76effe9ac9e8cb949d2e4e67af4df92ae71709d8c15fa933325b16bc58c4c  \\\n",
       "tx_date                                                                     \n",
       "0                                                      0.0                  \n",
       "1                                                      0.0                  \n",
       "2                                                      0.0                  \n",
       "3                                                      0.0                  \n",
       "4                                                      0.0                  \n",
       "...                                                    ...                  \n",
       "390                                                    0.0                  \n",
       "391                                                    0.0                  \n",
       "392                                                    0.0                  \n",
       "393                                                    0.0                  \n",
       "394                                                    0.0                  \n",
       "\n",
       "cust_id  d9cddb6c06d1fb01a9900a42d9eb2ad9e4ce2e9d2820384f1bb74f46412f2e75  \\\n",
       "tx_date                                                                     \n",
       "0                                                      0.0                  \n",
       "1                                                      0.0                  \n",
       "2                                                      0.0                  \n",
       "3                                                      0.0                  \n",
       "4                                                      0.0                  \n",
       "...                                                    ...                  \n",
       "390                                                    0.0                  \n",
       "391                                                    0.0                  \n",
       "392                                                    0.0                  \n",
       "393                                                    0.0                  \n",
       "394                                                    0.0                  \n",
       "\n",
       "cust_id  c283452f1f3709ca013be332c926000decc8afba5d5ec2b5c51ac1858bbd5a66  \\\n",
       "tx_date                                                                     \n",
       "0                                                      0.0                  \n",
       "1                                                      0.0                  \n",
       "2                                                      0.0                  \n",
       "3                                                      0.0                  \n",
       "4                                                      0.0                  \n",
       "...                                                    ...                  \n",
       "390                                                    0.0                  \n",
       "391                                                    0.0                  \n",
       "392                                                    0.0                  \n",
       "393                                                    0.0                  \n",
       "394                                                    0.0                  \n",
       "\n",
       "cust_id  e14f542b5ab44714ed4844b9042aa9a4f2ab869bcd20116ae1db729c44e41c9d  \\\n",
       "tx_date                                                                     \n",
       "0                                                      0.0                  \n",
       "1                                                  20789.0                  \n",
       "2                                                      0.0                  \n",
       "3                                                      0.0                  \n",
       "4                                                      0.0                  \n",
       "...                                                    ...                  \n",
       "390                                              2709573.0                  \n",
       "391                                                36957.0                  \n",
       "392                                                49943.0                  \n",
       "393                                                 5706.0                  \n",
       "394                                                38594.0                  \n",
       "\n",
       "cust_id  ad14ebf5eb2143f8fcf763ca02a913b5d69a928431d89d5ec2d51ee486d8fa36  \\\n",
       "tx_date                                                                     \n",
       "0                                                      0.0                  \n",
       "1                                                      0.0                  \n",
       "2                                                      0.0                  \n",
       "3                                                      0.0                  \n",
       "4                                                      0.0                  \n",
       "...                                                    ...                  \n",
       "390                                                    0.0                  \n",
       "391                                                    0.0                  \n",
       "392                                                    0.0                  \n",
       "393                                                    0.0                  \n",
       "394                                                    0.0                  \n",
       "\n",
       "cust_id  ...  \\\n",
       "tx_date  ...   \n",
       "0        ...   \n",
       "1        ...   \n",
       "2        ...   \n",
       "3        ...   \n",
       "4        ...   \n",
       "...      ...   \n",
       "390      ...   \n",
       "391      ...   \n",
       "392      ...   \n",
       "393      ...   \n",
       "394      ...   \n",
       "\n",
       "cust_id  e5b641cb0e5cc8de9d9fe78d0151dfb524abe3f78c0967aff572af56ef358252  \\\n",
       "tx_date                                                                     \n",
       "0                                                   5092.0                  \n",
       "1                                                      0.0                  \n",
       "2                                                      0.0                  \n",
       "3                                                      0.0                  \n",
       "4                                                      0.0                  \n",
       "...                                                    ...                  \n",
       "390                                                    0.0                  \n",
       "391                                                    0.0                  \n",
       "392                                                    0.0                  \n",
       "393                                                    0.0                  \n",
       "394                                                    0.0                  \n",
       "\n",
       "cust_id  7d327b677b9c3c8976ba7df631e92a9ff22240aef25af91584748ce2491b9d32  \\\n",
       "tx_date                                                                     \n",
       "0                                                2881190.0                  \n",
       "1                                                    719.0                  \n",
       "2                                                      0.0                  \n",
       "3                                                      0.0                  \n",
       "4                                                      0.0                  \n",
       "...                                                    ...                  \n",
       "390                                                    0.0                  \n",
       "391                                               844943.0                  \n",
       "392                                                    0.0                  \n",
       "393                                               931590.0                  \n",
       "394                                                    1.0                  \n",
       "\n",
       "cust_id  2e22a879a21e0d062b1173d3a33824b11a63ffcbe4b4fc150eaa31b70f53c7ff  \\\n",
       "tx_date                                                                     \n",
       "0                                                      0.0                  \n",
       "1                                                      0.0                  \n",
       "2                                                      0.0                  \n",
       "3                                                      0.0                  \n",
       "4                                                      0.0                  \n",
       "...                                                    ...                  \n",
       "390                                                    0.0                  \n",
       "391                                                    0.0                  \n",
       "392                                                    0.0                  \n",
       "393                                                    0.0                  \n",
       "394                                                    0.0                  \n",
       "\n",
       "cust_id  9f69b7e19dcff28135ff1cae1449c0ef56255ebe85782eb65334c2620739e9ca  \\\n",
       "tx_date                                                                     \n",
       "0                                                 351027.0                  \n",
       "1                                                      0.0                  \n",
       "2                                                      0.0                  \n",
       "3                                                      0.0                  \n",
       "4                                                      0.0                  \n",
       "...                                                    ...                  \n",
       "390                                                    0.0                  \n",
       "391                                                    0.0                  \n",
       "392                                                    0.0                  \n",
       "393                                                    0.0                  \n",
       "394                                                    0.0                  \n",
       "\n",
       "cust_id  8d9a99ba0148eada513b476d60057d20507c89442881a05d770cb4c0bb1fd4d6  \\\n",
       "tx_date                                                                     \n",
       "0                                                      0.0                  \n",
       "1                                                      0.0                  \n",
       "2                                                      0.0                  \n",
       "3                                                      0.0                  \n",
       "4                                                      0.0                  \n",
       "...                                                    ...                  \n",
       "390                                                    0.0                  \n",
       "391                                                    0.0                  \n",
       "392                                                    0.0                  \n",
       "393                                                    0.0                  \n",
       "394                                                    0.0                  \n",
       "\n",
       "cust_id  2b6a1a3d307787dbf4b9d7426394004486f94ac328784f676f913e18680d5200  \\\n",
       "tx_date                                                                     \n",
       "0                                                      0.0                  \n",
       "1                                                      0.0                  \n",
       "2                                                      0.0                  \n",
       "3                                                      0.0                  \n",
       "4                                                      0.0                  \n",
       "...                                                    ...                  \n",
       "390                                                    0.0                  \n",
       "391                                                    0.0                  \n",
       "392                                                    0.0                  \n",
       "393                                                    0.0                  \n",
       "394                                                    0.0                  \n",
       "\n",
       "cust_id  c3f030b3ef43a839a1e5692786b40f4347b1aa035f95b0067d8c8bbd350da816  \\\n",
       "tx_date                                                                     \n",
       "0                                                  63341.0                  \n",
       "1                                                      0.0                  \n",
       "2                                                      0.0                  \n",
       "3                                                  48875.0                  \n",
       "4                                                      0.0                  \n",
       "...                                                    ...                  \n",
       "390                                                    0.0                  \n",
       "391                                                    0.0                  \n",
       "392                                                    0.0                  \n",
       "393                                                    0.0                  \n",
       "394                                                    0.0                  \n",
       "\n",
       "cust_id  ea955ee5fce36d505ca6b00b40586092112c8ff26d8d2ad35fff53559a341ed6  \\\n",
       "tx_date                                                                     \n",
       "0                                                      0.0                  \n",
       "1                                                      0.0                  \n",
       "2                                                      0.0                  \n",
       "3                                                      0.0                  \n",
       "4                                                      0.0                  \n",
       "...                                                    ...                  \n",
       "390                                                    0.0                  \n",
       "391                                                    0.0                  \n",
       "392                                                    0.0                  \n",
       "393                                                    0.0                  \n",
       "394                                                    0.0                  \n",
       "\n",
       "cust_id  d3decd8fad115274fba55bfdeadaaa877acf90d9bb24eb0125436f214148f178  \\\n",
       "tx_date                                                                     \n",
       "0                                                      0.0                  \n",
       "1                                                      0.0                  \n",
       "2                                                      0.0                  \n",
       "3                                                      0.0                  \n",
       "4                                                      0.0                  \n",
       "...                                                    ...                  \n",
       "390                                                    0.0                  \n",
       "391                                                    0.0                  \n",
       "392                                                    0.0                  \n",
       "393                                                  699.0                  \n",
       "394                                                    0.0                  \n",
       "\n",
       "cust_id  2b1cdd7ab34c635baa33f930ef6067d1dc3b6bb4f6f8aa10ee17a0cabbb0546d  \n",
       "tx_date                                                                    \n",
       "0                                                      0.0                 \n",
       "1                                                      0.0                 \n",
       "2                                                      0.0                 \n",
       "3                                                      0.0                 \n",
       "4                                                      0.0                 \n",
       "...                                                    ...                 \n",
       "390                                               164186.0                 \n",
       "391                                                70080.0                 \n",
       "392                                                    0.0                 \n",
       "393                                                89606.0                 \n",
       "394                                                    0.0                 \n",
       "\n",
       "[395 rows x 5762 columns]"
      ]
     },
     "execution_count": 23,
     "metadata": {},
     "output_type": "execute_result"
    }
   ],
   "source": [
    "##pivot\n",
    "dp_pivot = pd.pivot_table(dp_df, values='tx_amt', index=['tx_date'], columns=['cust_id'], aggfunc=np.sum)\n",
    "dp_pivot = dp_pivot.fillna(0)\n",
    "dp_pivot = dp_pivot[list(set(y_df.index) & set(dp_pivot.columns))]\n",
    "dp_pivot\n",
    "\n",
    "##you may use pd.resample to change frequency"
   ]
  },
  {
   "cell_type": "code",
   "execution_count": 24,
   "id": "7258ebc3",
   "metadata": {},
   "outputs": [
    {
     "data": {
      "text/html": [
       "<div>\n",
       "<style scoped>\n",
       "    .dataframe tbody tr th:only-of-type {\n",
       "        vertical-align: middle;\n",
       "    }\n",
       "\n",
       "    .dataframe tbody tr th {\n",
       "        vertical-align: top;\n",
       "    }\n",
       "\n",
       "    .dataframe thead th {\n",
       "        text-align: right;\n",
       "    }\n",
       "</style>\n",
       "<table border=\"1\" class=\"dataframe\">\n",
       "  <thead>\n",
       "    <tr style=\"text-align: right;\">\n",
       "      <th></th>\n",
       "      <th>sar_flag</th>\n",
       "    </tr>\n",
       "    <tr>\n",
       "      <th>cust_id</th>\n",
       "      <th></th>\n",
       "    </tr>\n",
       "  </thead>\n",
       "  <tbody>\n",
       "    <tr>\n",
       "      <th>a39fea9aec90969fe66a2b2b4d1b86368a2d38e8b8d4bfeb016d17b16f37a8d8</th>\n",
       "      <td>0</td>\n",
       "    </tr>\n",
       "    <tr>\n",
       "      <th>7e42b5dca9b28ee8e5545beb834361e90e6197d176b389718e6c99b10041c816</th>\n",
       "      <td>0</td>\n",
       "    </tr>\n",
       "    <tr>\n",
       "      <th>a6cdf6302aead77112013168c6d546d2df3bcb551956d22c96cf97652e581602</th>\n",
       "      <td>0</td>\n",
       "    </tr>\n",
       "    <tr>\n",
       "      <th>1a3efa69705f611c7ef2384a715c8142e2ee801cfec9df4eb21131c33fc247a7</th>\n",
       "      <td>0</td>\n",
       "    </tr>\n",
       "    <tr>\n",
       "      <th>67f8cbb64dd3d447e992b1b299e0ceed3372188e47c88e213b16abaedf6af700</th>\n",
       "      <td>0</td>\n",
       "    </tr>\n",
       "    <tr>\n",
       "      <th>...</th>\n",
       "      <td>...</td>\n",
       "    </tr>\n",
       "    <tr>\n",
       "      <th>b600c0720096c241f5aec16b096c6a353492eee8a5855aa7f79d81390811d914</th>\n",
       "      <td>0</td>\n",
       "    </tr>\n",
       "    <tr>\n",
       "      <th>06c5ea5ccda4dfd8839c0dec8646fb3071d2c02883ef8a9f715aaa74f38d2419</th>\n",
       "      <td>0</td>\n",
       "    </tr>\n",
       "    <tr>\n",
       "      <th>0c2dc5fedc3689abf5ff4be14fe8fea8d23d22068297c24bb3cbd245eaf8aa16</th>\n",
       "      <td>0</td>\n",
       "    </tr>\n",
       "    <tr>\n",
       "      <th>ffe5f2bd86ecfd7d0a0f4c4b76dd5c312649be95eb8b42dd8089cffc788b4a9e</th>\n",
       "      <td>0</td>\n",
       "    </tr>\n",
       "    <tr>\n",
       "      <th>c49b33d1fde790ec03584672903f296e486615adfdc98913197eb7af4c76638c</th>\n",
       "      <td>0</td>\n",
       "    </tr>\n",
       "  </tbody>\n",
       "</table>\n",
       "<p>23906 rows × 1 columns</p>\n",
       "</div>"
      ],
      "text/plain": [
       "                                                    sar_flag\n",
       "cust_id                                                     \n",
       "a39fea9aec90969fe66a2b2b4d1b86368a2d38e8b8d4bfe...         0\n",
       "7e42b5dca9b28ee8e5545beb834361e90e6197d176b3897...         0\n",
       "a6cdf6302aead77112013168c6d546d2df3bcb551956d22...         0\n",
       "1a3efa69705f611c7ef2384a715c8142e2ee801cfec9df4...         0\n",
       "67f8cbb64dd3d447e992b1b299e0ceed3372188e47c88e2...         0\n",
       "...                                                      ...\n",
       "b600c0720096c241f5aec16b096c6a353492eee8a5855aa...         0\n",
       "06c5ea5ccda4dfd8839c0dec8646fb3071d2c02883ef8a9...         0\n",
       "0c2dc5fedc3689abf5ff4be14fe8fea8d23d22068297c24...         0\n",
       "ffe5f2bd86ecfd7d0a0f4c4b76dd5c312649be95eb8b42d...         0\n",
       "c49b33d1fde790ec03584672903f296e486615adfdc9891...         0\n",
       "\n",
       "[23906 rows x 1 columns]"
      ]
     },
     "execution_count": 24,
     "metadata": {},
     "output_type": "execute_result"
    }
   ],
   "source": [
    "y_df"
   ]
  },
  {
   "cell_type": "code",
   "execution_count": 25,
   "id": "c198bd9b",
   "metadata": {
    "id": "6XGdLd8sqEtF"
   },
   "outputs": [],
   "source": [
    "#pivot_dic = pivot.to_dict()\n",
    "X_ts = dp_pivot.T.to_numpy()\n",
    "y_ts = np.array([y_df.loc[i,'sar_flag'].max() for i in dp_pivot.columns])"
   ]
  },
  {
   "cell_type": "code",
   "execution_count": 26,
   "id": "51b013f0",
   "metadata": {
    "colab": {
     "base_uri": "https://localhost:8080/",
     "height": 1000
    },
    "id": "fKIreb-2gEPh",
    "outputId": "3912ac68-4165-4496-a159-dc053ed9f4ad"
   },
   "outputs": [
    {
     "data": {
      "image/png": "[encoded data removed]",
      "text/plain": [
       "<Figure size 288x144 with 1 Axes>"
      ]
     },
     "metadata": {
      "needs_background": "light"
     },
     "output_type": "display_data"
    },
    {
     "data": {
      "image/png": "[encoded data removed]",
      "text/plain": [
       "<Figure size 288x144 with 1 Axes>"
      ]
     },
     "metadata": {
      "needs_background": "light"
     },
     "output_type": "display_data"
    },
    {
     "data": {
      "image/png": "[encoded data removed]",
      "text/plain": [
       "<Figure size 288x144 with 1 Axes>"
      ]
     },
     "metadata": {
      "needs_background": "light"
     },
     "output_type": "display_data"
    },
    {
     "data": {
      "image/png": "[encoded data removed]",
      "text/plain": [
       "<Figure size 288x144 with 1 Axes>"
      ]
     },
     "metadata": {
      "needs_background": "light"
     },
     "output_type": "display_data"
    },
    {
     "data": {
      "image/png": "[encoded data removed]",
      "text/plain": [
       "<Figure size 288x144 with 1 Axes>"
      ]
     },
     "metadata": {
      "needs_background": "light"
     },
     "output_type": "display_data"
    },
    {
     "data": {
      "image/png": "[encoded data removed]",
      "text/plain": [
       "<Figure size 288x144 with 1 Axes>"
      ]
     },
     "metadata": {
      "needs_background": "light"
     },
     "output_type": "display_data"
    },
    {
     "data": {
      "image/png": "[encoded data removed]",
      "text/plain": [
       "<Figure size 288x144 with 1 Axes>"
      ]
     },
     "metadata": {
      "needs_background": "light"
     },
     "output_type": "display_data"
    },
    {
     "data": {
      "image/png": "[encoded data removed]",
      "text/plain": [
       "<Figure size 288x144 with 1 Axes>"
      ]
     },
     "metadata": {
      "needs_background": "light"
     },
     "output_type": "display_data"
    },
    {
     "data": {
      "image/png": "[encoded data removed]",
      "text/plain": [
       "<Figure size 288x144 with 1 Axes>"
      ]
     },
     "metadata": {
      "needs_background": "light"
     },
     "output_type": "display_data"
    },
    {
     "data": {
      "image/png": "[encoded data removed]",
      "text/plain": [
       "<Figure size 288x144 with 1 Axes>"
      ]
     },
     "metadata": {
      "needs_background": "light"
     },
     "output_type": "display_data"
    },
    {
     "data": {
      "image/png": "[encoded data removed]",
      "text/plain": [
       "<Figure size 288x144 with 1 Axes>"
      ]
     },
     "metadata": {
      "needs_background": "light"
     },
     "output_type": "display_data"
    },
    {
     "data": {
      "image/png": "[encoded data removed]",
      "text/plain": [
       "<Figure size 288x144 with 1 Axes>"
      ]
     },
     "metadata": {
      "needs_background": "light"
     },
     "output_type": "display_data"
    },
    {
     "data": {
      "image/png": "[encoded data removed]",
      "text/plain": [
       "<Figure size 288x144 with 1 Axes>"
      ]
     },
     "metadata": {
      "needs_background": "light"
     },
     "output_type": "display_data"
    },
    {
     "data": {
      "image/png": "[encoded data removed]",
      "text/plain": [
       "<Figure size 288x144 with 1 Axes>"
      ]
     },
     "metadata": {
      "needs_background": "light"
     },
     "output_type": "display_data"
    },
    {
     "data": {
      "image/png": "[encoded data removed]",
      "text/plain": [
       "<Figure size 288x144 with 1 Axes>"
      ]
     },
     "metadata": {
      "needs_background": "light"
     },
     "output_type": "display_data"
    },
    {
     "data": {
      "image/png": "[encoded data removed]",
      "text/plain": [
       "<Figure size 288x144 with 1 Axes>"
      ]
     },
     "metadata": {
      "needs_background": "light"
     },
     "output_type": "display_data"
    },
    {
     "data": {
      "image/png": "[encoded data removed]",
      "text/plain": [
       "<Figure size 288x144 with 1 Axes>"
      ]
     },
     "metadata": {
      "needs_background": "light"
     },
     "output_type": "display_data"
    },
    {
     "data": {
      "image/png": "[encoded data removed]",
      "text/plain": [
       "<Figure size 288x144 with 1 Axes>"
      ]
     },
     "metadata": {
      "needs_background": "light"
     },
     "output_type": "display_data"
    },
    {
     "data": {
      "image/png": "[encoded data removed]",
      "text/plain": [
       "<Figure size 288x144 with 1 Axes>"
      ]
     },
     "metadata": {
      "needs_background": "light"
     },
     "output_type": "display_data"
    },
    {
     "data": {
      "image/png": "[encoded data removed]",
      "text/plain": [
       "<Figure size 288x144 with 1 Axes>"
      ]
     },
     "metadata": {
      "needs_background": "light"
     },
     "output_type": "display_data"
    }
   ],
   "source": [
    "#abnormal\n",
    "color_label = ['grey','red']\n",
    "for i in range(500):\n",
    "  if y_ts[i]==1:\n",
    "    plt.figure(figsize=(4, 2))\n",
    "    plt.plot(X_ts[i], color=color_label[y_ts[i]])"
   ]
  },
  {
   "cell_type": "code",
   "execution_count": 27,
   "id": "842a0367",
   "metadata": {
    "colab": {
     "base_uri": "https://localhost:8080/",
     "height": 1000
    },
    "id": "yjzW26WRsdoB",
    "outputId": "0f1dace3-8be3-4429-ef2c-d9dd9092908b"
   },
   "outputs": [
    {
     "data": {
      "image/png": "[encoded data removed]",
      "text/plain": [
       "<Figure size 288x144 with 1 Axes>"
      ]
     },
     "metadata": {
      "needs_background": "light"
     },
     "output_type": "display_data"
    },
    {
     "data": {
      "image/png": "[encoded data removed]",
      "text/plain": [
       "<Figure size 288x144 with 1 Axes>"
      ]
     },
     "metadata": {
      "needs_background": "light"
     },
     "output_type": "display_data"
    },
    {
     "data": {
      "image/png": "[encoded data removed]",
      "text/plain": [
       "<Figure size 288x144 with 1 Axes>"
      ]
     },
     "metadata": {
      "needs_background": "light"
     },
     "output_type": "display_data"
    },
    {
     "data": {
      "image/png": "[encoded data removed]",
      "text/plain": [
       "<Figure size 288x144 with 1 Axes>"
      ]
     },
     "metadata": {
      "needs_background": "light"
     },
     "output_type": "display_data"
    },
    {
     "data": {
      "image/png": "[encoded data removed]",
      "text/plain": [
       "<Figure size 288x144 with 1 Axes>"
      ]
     },
     "metadata": {
      "needs_background": "light"
     },
     "output_type": "display_data"
    },
    {
     "data": {
      "image/png": "[encoded data removed]",
      "text/plain": [
       "<Figure size 288x144 with 1 Axes>"
      ]
     },
     "metadata": {
      "needs_background": "light"
     },
     "output_type": "display_data"
    },
    {
     "data": {
      "image/png": "[encoded data removed]",
      "text/plain": [
       "<Figure size 288x144 with 1 Axes>"
      ]
     },
     "metadata": {
      "needs_background": "light"
     },
     "output_type": "display_data"
    },
    {
     "data": {
      "image/png": "[encoded data removed]",
      "text/plain": [
       "<Figure size 288x144 with 1 Axes>"
      ]
     },
     "metadata": {
      "needs_background": "light"
     },
     "output_type": "display_data"
    },
    {
     "data": {
      "image/png": "[encoded data removed]",
      "text/plain": [
       "<Figure size 288x144 with 1 Axes>"
      ]
     },
     "metadata": {
      "needs_background": "light"
     },
     "output_type": "display_data"
    },
    {
     "data": {
      "image/png": "[encoded data removed]",
      "text/plain": [
       "<Figure size 288x144 with 1 Axes>"
      ]
     },
     "metadata": {
      "needs_background": "light"
     },
     "output_type": "display_data"
    }
   ],
   "source": [
    "#normal\n",
    "color_label = ['grey','red']\n",
    "for i in range(10):\n",
    "  if y_ts[i]==0:\n",
    "    plt.figure(figsize=(4, 2))\n",
    "    plt.plot(X_ts[i], color=color_label[y_ts[i]])"
   ]
  },
  {
   "cell_type": "code",
   "execution_count": 28,
   "id": "36113ec3",
   "metadata": {
    "colab": {
     "base_uri": "https://localhost:8080/"
    },
    "id": "-cKnKXcpt_Uj",
    "outputId": "b77ed6c8-6ce6-4a54-ce5d-a42db2afa337"
   },
   "outputs": [
    {
     "data": {
      "text/plain": [
       "0    5530\n",
       "1     232\n",
       "dtype: int64"
      ]
     },
     "execution_count": 28,
     "metadata": {},
     "output_type": "execute_result"
    }
   ],
   "source": [
    "pd.Series(y_ts).value_counts()"
   ]
  },
  {
   "cell_type": "markdown",
   "id": "f3c6fead",
   "metadata": {
    "id": "fWPEjwp7f7XZ"
   },
   "source": [
    "# Autoencoder"
   ]
  },
  {
   "cell_type": "code",
   "execution_count": 29,
   "id": "309ede45",
   "metadata": {
    "id": "CsuqxQ7wWk16"
   },
   "outputs": [
    {
     "name": "stderr",
     "output_type": "stream",
     "text": [
      "C:\\Users\\ASUS\\anaconda3\\lib\\site-packages\\requests\\__init__.py:89: RequestsDependencyWarning: urllib3 (1.26.9) or chardet (3.0.4) doesn't match a supported version!\n",
      "  warnings.warn(\"urllib3 ({}) or chardet ({}) doesn't match a supported \"\n"
     ]
    }
   ],
   "source": [
    "#Coderef: https://colab.research.google.com/github/tensorflow/docs/blob/master/site/en/tutorials/generative/autoencoder.ipynb#scrollTo=sOcfXfXq6FBd\n",
    "import matplotlib.pyplot as plt\n",
    "import numpy as np\n",
    "import pandas as pd\n",
    "import tensorflow as tf\n",
    "\n",
    "from sklearn.metrics import accuracy_score, precision_score, recall_score\n",
    "from sklearn.model_selection import train_test_split\n",
    "from tensorflow.keras import layers, losses\n",
    "from tensorflow.keras.datasets import fashion_mnist\n",
    "from tensorflow.keras.models import Model"
   ]
  },
  {
   "cell_type": "code",
   "execution_count": 30,
   "id": "d0537409",
   "metadata": {
    "id": "XLd9v3zfY_4u"
   },
   "outputs": [],
   "source": [
    "# Download the dataset\n",
    "dataframe = dp_pivot.T\n",
    "raw_data = dataframe.values\n"
   ]
  },
  {
   "cell_type": "code",
   "execution_count": 31,
   "id": "ec6756d0",
   "metadata": {
    "id": "kjEc3_oRZYdd"
   },
   "outputs": [],
   "source": [
    "# The last element contains the labels\n",
    "labels = y_ts\n",
    "len=dp_pivot.shape[0]\n",
    "\n",
    "# The other data points are the electrocadriogram data\n",
    "data = raw_data\n",
    "\n",
    "train_data, test_data, train_labels, test_labels = train_test_split(\n",
    "    data, labels, test_size=0.2, random_state=21\n",
    ")"
   ]
  },
  {
   "cell_type": "code",
   "execution_count": 32,
   "id": "7bd10084",
   "metadata": {
    "id": "XKXQIazrZdsm"
   },
   "outputs": [],
   "source": [
    "min_val = tf.reduce_min(train_data)\n",
    "max_val = tf.reduce_max(train_data)\n",
    "\n",
    "train_data = (train_data - min_val) / (max_val - min_val)\n",
    "test_data = (test_data - min_val) / (max_val - min_val)\n",
    "\n",
    "train_data = tf.cast(train_data, tf.float32)\n",
    "test_data = tf.cast(test_data, tf.float32)"
   ]
  },
  {
   "cell_type": "code",
   "execution_count": 33,
   "id": "899acb9b",
   "metadata": {
    "id": "jdbRz9hNZt-o"
   },
   "outputs": [],
   "source": [
    "train_labels = train_labels.astype(bool)\n",
    "test_labels = test_labels.astype(bool)\n",
    "\n",
    "normal_train_data = train_data[~train_labels]\n",
    "normal_test_data = test_data[~test_labels]\n",
    "\n",
    "anomalous_train_data = train_data[train_labels]\n",
    "anomalous_test_data = test_data[test_labels]"
   ]
  },
  {
   "cell_type": "code",
   "execution_count": 34,
   "id": "dbe11eab",
   "metadata": {
    "colab": {
     "base_uri": "https://localhost:8080/"
    },
    "id": "CoAOXQFIgJVO",
    "outputId": "73d6c4b2-31dc-4cb8-fd98-d1fc12c0aed5"
   },
   "outputs": [
    {
     "name": "stdout",
     "output_type": "stream",
     "text": [
      "(4434, 395)\n",
      "(175, 395)\n"
     ]
    }
   ],
   "source": [
    "print(normal_train_data.shape)\n",
    "print(anomalous_train_data.shape)"
   ]
  },
  {
   "cell_type": "code",
   "execution_count": 35,
   "id": "8a4876ea",
   "metadata": {
    "colab": {
     "base_uri": "https://localhost:8080/",
     "height": 281
    },
    "id": "lOEBK2KDZ03Y",
    "outputId": "e90e80fc-e981-4afb-86a0-5ea6a5f32c75"
   },
   "outputs": [
    {
     "data": {
      "image/png": "[encoded data removed]",
      "text/plain": [
       "<Figure size 432x288 with 1 Axes>"
      ]
     },
     "metadata": {
      "needs_background": "light"
     },
     "output_type": "display_data"
    }
   ],
   "source": [
    "plt.grid()\n",
    "plt.plot(np.arange(len), normal_train_data[100])\n",
    "plt.title(\"A Normal Transaction\")\n",
    "plt.show()"
   ]
  },
  {
   "cell_type": "code",
   "execution_count": 36,
   "id": "eb948b2e",
   "metadata": {
    "colab": {
     "base_uri": "https://localhost:8080/",
     "height": 281
    },
    "id": "GuHOyJcqbMRD",
    "outputId": "baaaad5f-53ae-4931-bd5b-adfcd8e7328f"
   },
   "outputs": [
    {
     "data": {
      "image/png": "[encoded data removed]",
      "text/plain": [
       "<Figure size 432x288 with 1 Axes>"
      ]
     },
     "metadata": {
      "needs_background": "light"
     },
     "output_type": "display_data"
    }
   ],
   "source": [
    "plt.grid()\n",
    "plt.plot(np.arange(len), anomalous_train_data[5], color='r')\n",
    "plt.title(\"A Sar Transaction\")\n",
    "plt.show()"
   ]
  },
  {
   "cell_type": "markdown",
   "id": "073e65d7",
   "metadata": {
    "id": "sGFx0_zFdCI7"
   },
   "source": [
    "### LSTM Autoencoder\n",
    "\n",
    "![Autoencoder](https://lilianweng.github.io/lil-log/assets/images/autoencoder-architecture.png)\n",
    "*Sample Autoencoder Architecture [Image Source](https://lilianweng.github.io/lil-log/2018/08/12/from-autoencoder-to-beta-vae.html)*"
   ]
  },
  {
   "cell_type": "code",
   "execution_count": 37,
   "id": "c85e3fa1",
   "metadata": {
    "id": "hwEhvONbZ2_Z"
   },
   "outputs": [],
   "source": [
    "class AnomalyDetector(Model):\n",
    "  def __init__(self):\n",
    "    super(AnomalyDetector, self).__init__()\n",
    "    self.encoder = tf.keras.Sequential([\n",
    "      layers.Dense(128, activation=\"relu\"),\n",
    "      layers.Dense(64, activation=\"relu\"),\n",
    "      layers.Dense(8, activation=\"relu\")])\n",
    "    \n",
    "    self.decoder = tf.keras.Sequential([\n",
    "      layers.Dense(64, activation=\"relu\"),\n",
    "      layers.Dense(128, activation=\"relu\"),\n",
    "      layers.Dense(len, activation=\"sigmoid\")])\n",
    "    \n",
    "  def call(self, x):\n",
    "    encoded = self.encoder(x)\n",
    "    decoded = self.decoder(encoded)\n",
    "    return decoded\n",
    "\n",
    "autoencoder = AnomalyDetector()"
   ]
  },
  {
   "cell_type": "code",
   "execution_count": 38,
   "id": "d24cc6a9",
   "metadata": {
    "id": "h7z_YDFdZ58G"
   },
   "outputs": [],
   "source": [
    "autoencoder.compile(optimizer='adam', loss='mae')"
   ]
  },
  {
   "cell_type": "code",
   "execution_count": 39,
   "id": "42c10c70",
   "metadata": {
    "colab": {
     "base_uri": "https://localhost:8080/"
    },
    "id": "q-NbUv-MZ7xX",
    "outputId": "ddd9f970-8e5f-42ae-ace6-78b8ba687517"
   },
   "outputs": [
    {
     "name": "stdout",
     "output_type": "stream",
     "text": [
      "Epoch 1/50\n",
      "35/35 [==============================] - 1s 7ms/step - loss: 0.4513 - val_loss: 0.2574\n",
      "Epoch 2/50\n",
      "35/35 [==============================] - 0s 3ms/step - loss: 0.0427 - val_loss: 0.0055\n",
      "Epoch 3/50\n",
      "35/35 [==============================] - 0s 3ms/step - loss: 0.0055 - val_loss: 0.0056\n",
      "Epoch 4/50\n",
      "35/35 [==============================] - 0s 3ms/step - loss: 0.0055 - val_loss: 0.0056\n",
      "Epoch 5/50\n",
      "35/35 [==============================] - 0s 3ms/step - loss: 0.0055 - val_loss: 0.0056\n",
      "Epoch 6/50\n",
      "35/35 [==============================] - 0s 3ms/step - loss: 0.0055 - val_loss: 0.0055\n",
      "Epoch 7/50\n",
      "35/35 [==============================] - 0s 3ms/step - loss: 0.0055 - val_loss: 0.0053\n",
      "Epoch 8/50\n",
      "35/35 [==============================] - 0s 3ms/step - loss: 0.0039 - val_loss: 0.0020\n",
      "Epoch 9/50\n",
      "35/35 [==============================] - 0s 3ms/step - loss: 0.0010 - val_loss: 5.6443e-04\n",
      "Epoch 10/50\n",
      "35/35 [==============================] - 0s 5ms/step - loss: 4.2240e-04 - val_loss: 3.7563e-04\n",
      "Epoch 11/50\n",
      "35/35 [==============================] - 0s 4ms/step - loss: 4.4880e-04 - val_loss: 4.6218e-04\n",
      "Epoch 12/50\n",
      "35/35 [==============================] - 0s 4ms/step - loss: 5.0198e-04 - val_loss: 6.1303e-04\n",
      "Epoch 13/50\n",
      "35/35 [==============================] - 0s 4ms/step - loss: 4.1281e-04 - val_loss: 5.2801e-04\n",
      "Epoch 14/50\n",
      "35/35 [==============================] - 0s 4ms/step - loss: 4.0363e-04 - val_loss: 4.6671e-04\n",
      "Epoch 15/50\n",
      "35/35 [==============================] - 0s 4ms/step - loss: 3.9549e-04 - val_loss: 3.5743e-04\n",
      "Epoch 16/50\n",
      "35/35 [==============================] - 0s 4ms/step - loss: 3.1987e-04 - val_loss: 3.7147e-04\n",
      "Epoch 17/50\n",
      "35/35 [==============================] - 0s 4ms/step - loss: 3.1023e-04 - val_loss: 3.4727e-04\n",
      "Epoch 18/50\n",
      "35/35 [==============================] - 0s 4ms/step - loss: 3.1549e-04 - val_loss: 4.1016e-04\n",
      "Epoch 19/50\n",
      "35/35 [==============================] - 0s 4ms/step - loss: 3.2763e-04 - val_loss: 3.6308e-04\n",
      "Epoch 20/50\n",
      "35/35 [==============================] - 0s 4ms/step - loss: 3.7374e-04 - val_loss: 3.7741e-04\n",
      "Epoch 21/50\n",
      "35/35 [==============================] - 0s 4ms/step - loss: 4.2222e-04 - val_loss: 3.4730e-04\n",
      "Epoch 22/50\n",
      "35/35 [==============================] - 0s 5ms/step - loss: 3.8069e-04 - val_loss: 4.3722e-04\n",
      "Epoch 23/50\n",
      "35/35 [==============================] - 0s 5ms/step - loss: 3.9854e-04 - val_loss: 5.3336e-04\n",
      "Epoch 24/50\n",
      "35/35 [==============================] - 0s 5ms/step - loss: 4.1221e-04 - val_loss: 5.0893e-04\n",
      "Epoch 25/50\n",
      "35/35 [==============================] - 0s 4ms/step - loss: 4.1570e-04 - val_loss: 3.5156e-04\n",
      "Epoch 26/50\n",
      "35/35 [==============================] - 0s 4ms/step - loss: 3.1282e-04 - val_loss: 3.6990e-04\n",
      "Epoch 27/50\n",
      "35/35 [==============================] - 0s 5ms/step - loss: 3.1988e-04 - val_loss: 3.4272e-04\n",
      "Epoch 28/50\n",
      "35/35 [==============================] - 0s 5ms/step - loss: 3.0931e-04 - val_loss: 3.7639e-04\n",
      "Epoch 29/50\n",
      "35/35 [==============================] - 0s 5ms/step - loss: 3.1847e-04 - val_loss: 4.0172e-04\n",
      "Epoch 30/50\n",
      "35/35 [==============================] - 0s 5ms/step - loss: 3.1228e-04 - val_loss: 3.6197e-04\n",
      "Epoch 31/50\n",
      "35/35 [==============================] - 0s 4ms/step - loss: 3.5674e-04 - val_loss: 3.5588e-04\n",
      "Epoch 32/50\n",
      "35/35 [==============================] - 0s 4ms/step - loss: 3.0763e-04 - val_loss: 3.3432e-04\n",
      "Epoch 33/50\n",
      "35/35 [==============================] - 0s 4ms/step - loss: 3.1091e-04 - val_loss: 3.5402e-04\n",
      "Epoch 34/50\n",
      "35/35 [==============================] - 0s 3ms/step - loss: 3.5488e-04 - val_loss: 3.5403e-04\n",
      "Epoch 35/50\n",
      "35/35 [==============================] - 0s 3ms/step - loss: 3.6564e-04 - val_loss: 3.8325e-04\n",
      "Epoch 36/50\n",
      "35/35 [==============================] - 0s 4ms/step - loss: 3.1283e-04 - val_loss: 4.2184e-04\n",
      "Epoch 37/50\n",
      "35/35 [==============================] - 0s 3ms/step - loss: 3.2490e-04 - val_loss: 4.1982e-04\n",
      "Epoch 38/50\n",
      "35/35 [==============================] - 0s 3ms/step - loss: 3.1840e-04 - val_loss: 3.4516e-04\n",
      "Epoch 39/50\n",
      "35/35 [==============================] - 0s 3ms/step - loss: 3.0774e-04 - val_loss: 4.5173e-04\n",
      "Epoch 40/50\n",
      "35/35 [==============================] - 0s 3ms/step - loss: 4.1457e-04 - val_loss: 5.7725e-04\n",
      "Epoch 41/50\n",
      "35/35 [==============================] - 0s 3ms/step - loss: 4.0187e-04 - val_loss: 4.8610e-04\n",
      "Epoch 42/50\n",
      "35/35 [==============================] - 0s 3ms/step - loss: 3.9954e-04 - val_loss: 3.7549e-04\n",
      "Epoch 43/50\n",
      "35/35 [==============================] - 0s 3ms/step - loss: 3.0994e-04 - val_loss: 3.4596e-04\n",
      "Epoch 44/50\n",
      "35/35 [==============================] - 0s 4ms/step - loss: 3.1684e-04 - val_loss: 3.5893e-04\n",
      "Epoch 45/50\n",
      "35/35 [==============================] - 0s 4ms/step - loss: 2.9872e-04 - val_loss: 3.7526e-04\n",
      "Epoch 46/50\n",
      "35/35 [==============================] - 0s 3ms/step - loss: 3.1936e-04 - val_loss: 3.5854e-04\n",
      "Epoch 47/50\n",
      "35/35 [==============================] - 0s 3ms/step - loss: 3.0562e-04 - val_loss: 4.0527e-04\n",
      "Epoch 48/50\n",
      "35/35 [==============================] - 0s 3ms/step - loss: 3.2866e-04 - val_loss: 3.8431e-04\n",
      "Epoch 49/50\n",
      "35/35 [==============================] - 0s 3ms/step - loss: 4.0749e-04 - val_loss: 3.6308e-04\n",
      "Epoch 50/50\n",
      "35/35 [==============================] - 0s 3ms/step - loss: 3.1433e-04 - val_loss: 3.3277e-04\n"
     ]
    }
   ],
   "source": [
    "history = autoencoder.fit(normal_train_data, normal_train_data, \n",
    "          epochs=50, \n",
    "          batch_size=128,\n",
    "          validation_data=(test_data, test_data),\n",
    "          shuffle=True)"
   ]
  },
  {
   "cell_type": "code",
   "execution_count": 40,
   "id": "7690093f",
   "metadata": {
    "colab": {
     "base_uri": "https://localhost:8080/",
     "height": 282
    },
    "id": "vCDn60gFZ-kG",
    "outputId": "910b017c-75bb-4565-e92a-5a35ce2b08b4",
    "scrolled": true
   },
   "outputs": [
    {
     "data": {
      "text/plain": [
       "<matplotlib.legend.Legend at 0x1d9d420c580>"
      ]
     },
     "execution_count": 40,
     "metadata": {},
     "output_type": "execute_result"
    },
    {
     "data": {
      "image/png": "[encoded data removed]",
      "text/plain": [
       "<Figure size 432x288 with 1 Axes>"
      ]
     },
     "metadata": {
      "needs_background": "light"
     },
     "output_type": "display_data"
    }
   ],
   "source": [
    "plt.plot(history.history[\"loss\"], label=\"Training Loss\")\n",
    "plt.plot(history.history[\"val_loss\"], label=\"Validation Loss\")\n",
    "plt.legend()"
   ]
  },
  {
   "cell_type": "code",
   "execution_count": 41,
   "id": "41de801e",
   "metadata": {
    "colab": {
     "base_uri": "https://localhost:8080/",
     "height": 265
    },
    "id": "sIzS3K3iaBys",
    "outputId": "6c774ccf-f77c-4125-e79b-e9f782b76177"
   },
   "outputs": [
    {
     "data": {
      "image/png": "[encoded data removed]",
      "text/plain": [
       "<Figure size 432x288 with 1 Axes>"
      ]
     },
     "metadata": {
      "needs_background": "light"
     },
     "output_type": "display_data"
    }
   ],
   "source": [
    "encoded_data = autoencoder.encoder(normal_test_data).numpy()\n",
    "decoded_data = autoencoder.decoder(encoded_data).numpy()\n",
    "\n",
    "sample=100\n",
    "plt.plot(normal_test_data[sample], 'b')\n",
    "plt.plot(decoded_data[sample], 'r')\n",
    "plt.fill_between(np.arange(len), decoded_data[sample], normal_test_data[sample], color='lightcoral')\n",
    "plt.legend(labels=[\"Input\", \"Reconstruction\", \"Error\"])\n",
    "plt.show()"
   ]
  },
  {
   "cell_type": "code",
   "execution_count": 42,
   "id": "830a9b23",
   "metadata": {
    "colab": {
     "base_uri": "https://localhost:8080/",
     "height": 265
    },
    "id": "Lyc54_6gaDxp",
    "outputId": "b987d34a-dfb7-4cbc-f38c-f6b38319bacb"
   },
   "outputs": [
    {
     "data": {
      "image/png": "[encoded data removed]",
      "text/plain": [
       "<Figure size 432x288 with 1 Axes>"
      ]
     },
     "metadata": {
      "needs_background": "light"
     },
     "output_type": "display_data"
    }
   ],
   "source": [
    "encoded_data = autoencoder.encoder(anomalous_test_data).numpy()\n",
    "decoded_data = autoencoder.decoder(encoded_data).numpy()\n",
    "\n",
    "plt.plot(anomalous_test_data[0], 'b')\n",
    "plt.plot(decoded_data[0], 'r')\n",
    "plt.fill_between(np.arange(len), decoded_data[0], anomalous_test_data[0], color='lightcoral')\n",
    "plt.legend(labels=[\"Input\", \"Reconstruction\", \"Error\"])\n",
    "plt.show()"
   ]
  },
  {
   "cell_type": "code",
   "execution_count": 43,
   "id": "76308721",
   "metadata": {
    "colab": {
     "base_uri": "https://localhost:8080/",
     "height": 296
    },
    "id": "grA1bLqzaSZd",
    "outputId": "b517132e-b22d-4aac-8e06-fedd69e10172"
   },
   "outputs": [
    {
     "data": {
      "image/png": "[encoded data removed]",
      "text/plain": [
       "<Figure size 432x288 with 1 Axes>"
      ]
     },
     "metadata": {
      "needs_background": "light"
     },
     "output_type": "display_data"
    }
   ],
   "source": [
    "reconstructions = autoencoder.predict(normal_train_data)\n",
    "train_loss = tf.keras.losses.mae(reconstructions, normal_train_data)\n",
    "\n",
    "plt.hist(train_loss[None,:], bins=50)\n",
    "plt.xlabel(\"Train loss\")\n",
    "plt.ylabel(\"No of examples\")\n",
    "plt.show()"
   ]
  },
  {
   "cell_type": "code",
   "execution_count": 44,
   "id": "c5270d8c",
   "metadata": {
    "colab": {
     "base_uri": "https://localhost:8080/"
    },
    "id": "a39SsapJaZY3",
    "outputId": "3d795d4e-2c9e-47a9-8a9c-a4208bd5b5e7"
   },
   "outputs": [
    {
     "name": "stdout",
     "output_type": "stream",
     "text": [
      "Threshold:  0.001025558\n"
     ]
    }
   ],
   "source": [
    "threshold = np.mean(train_loss) + np.std(train_loss)\n",
    "print(\"Threshold: \", threshold)"
   ]
  },
  {
   "cell_type": "code",
   "execution_count": 45,
   "id": "0bc7d66e",
   "metadata": {
    "colab": {
     "base_uri": "https://localhost:8080/",
     "height": 296
    },
    "id": "n91RI0woadr_",
    "outputId": "f7f939c9-48ad-4616-e7e3-491a2c20bfc9"
   },
   "outputs": [
    {
     "data": {
      "image/png": "[encoded data removed]",
      "text/plain": [
       "<Figure size 432x288 with 1 Axes>"
      ]
     },
     "metadata": {
      "needs_background": "light"
     },
     "output_type": "display_data"
    }
   ],
   "source": [
    "reconstructions = autoencoder.predict(anomalous_test_data)\n",
    "test_loss = tf.keras.losses.mae(reconstructions, anomalous_test_data)\n",
    "\n",
    "plt.hist(test_loss[None, :], bins=50)\n",
    "plt.xlabel(\"Test loss\")\n",
    "plt.ylabel(\"No of examples\")\n",
    "plt.show()"
   ]
  },
  {
   "cell_type": "code",
   "execution_count": 46,
   "id": "6a9e7cab",
   "metadata": {
    "id": "iWExW845agF-"
   },
   "outputs": [],
   "source": [
    "def predict(model, data, threshold):\n",
    "  reconstructions = model(data)\n",
    "  loss = tf.keras.losses.mae(reconstructions, data)\n",
    "  return tf.math.less(loss, threshold)\n",
    "\n",
    "def print_stats(predictions, labels):\n",
    "  print(\"Accuracy = {}\".format(accuracy_score(labels, predictions)))\n",
    "  print(\"Precision = {}\".format(precision_score(labels, predictions)))\n",
    "  print(\"Recall = {}\".format(recall_score(labels, predictions)))"
   ]
  },
  {
   "cell_type": "code",
   "execution_count": 47,
   "id": "a8443a9b",
   "metadata": {
    "colab": {
     "base_uri": "https://localhost:8080/"
    },
    "id": "bcGCcDTNajAv",
    "outputId": "2288b4d4-064e-436a-c29f-76986f5c42af"
   },
   "outputs": [
    {
     "name": "stdout",
     "output_type": "stream",
     "text": [
      "Accuracy = 0.09193408499566348\n",
      "Precision = 0.037383177570093455\n",
      "Recall = 0.7017543859649122\n"
     ]
    }
   ],
   "source": [
    "preds = predict(autoencoder, test_data, threshold)\n",
    "print_stats(preds, test_labels)"
   ]
  },
  {
   "cell_type": "markdown",
   "id": "ca4fbe1d",
   "metadata": {
    "id": "ZA2GaX5B6-qF"
   },
   "source": [
    "# Statistic Value"
   ]
  },
  {
   "cell_type": "code",
   "execution_count": 48,
   "id": "7ed1ebbf",
   "metadata": {
    "colab": {
     "base_uri": "https://localhost:8080/",
     "height": 238
    },
    "id": "oz2bHkH8mdiG",
    "outputId": "271bfca8-21f7-4eca-e1e0-1231c3b9d21e"
   },
   "outputs": [
    {
     "data": {
      "text/html": [
       "<div>\n",
       "<style scoped>\n",
       "    .dataframe tbody tr th:only-of-type {\n",
       "        vertical-align: middle;\n",
       "    }\n",
       "\n",
       "    .dataframe tbody tr th {\n",
       "        vertical-align: top;\n",
       "    }\n",
       "\n",
       "    .dataframe thead th {\n",
       "        text-align: right;\n",
       "    }\n",
       "</style>\n",
       "<table border=\"1\" class=\"dataframe\">\n",
       "  <thead>\n",
       "    <tr style=\"text-align: right;\">\n",
       "      <th></th>\n",
       "      <th>count</th>\n",
       "      <th>mean</th>\n",
       "      <th>std</th>\n",
       "      <th>min</th>\n",
       "      <th>25%</th>\n",
       "      <th>50%</th>\n",
       "      <th>75%</th>\n",
       "      <th>max</th>\n",
       "    </tr>\n",
       "    <tr>\n",
       "      <th>cust_id</th>\n",
       "      <th></th>\n",
       "      <th></th>\n",
       "      <th></th>\n",
       "      <th></th>\n",
       "      <th></th>\n",
       "      <th></th>\n",
       "      <th></th>\n",
       "      <th></th>\n",
       "    </tr>\n",
       "  </thead>\n",
       "  <tbody>\n",
       "    <tr>\n",
       "      <th>0015cc01f553512007705edf855baa16f1b57a16fb107e0882c5cb0535d297a5</th>\n",
       "      <td>395.0</td>\n",
       "      <td>7185.212658</td>\n",
       "      <td>106154.546178</td>\n",
       "      <td>0.0</td>\n",
       "      <td>0.0</td>\n",
       "      <td>0.0</td>\n",
       "      <td>0.0</td>\n",
       "      <td>2084353.0</td>\n",
       "    </tr>\n",
       "    <tr>\n",
       "      <th>002d6bc6382e759c9a5b6bb2c8dda9add2f38cd87e10ca3efda9a312e97b342c</th>\n",
       "      <td>395.0</td>\n",
       "      <td>635.708861</td>\n",
       "      <td>4564.788273</td>\n",
       "      <td>0.0</td>\n",
       "      <td>0.0</td>\n",
       "      <td>0.0</td>\n",
       "      <td>0.0</td>\n",
       "      <td>58370.0</td>\n",
       "    </tr>\n",
       "    <tr>\n",
       "      <th>002f13f534d0bd9fcc1848db3ff5c7b1179d117f8de8055b7394696b948ec9b4</th>\n",
       "      <td>395.0</td>\n",
       "      <td>40890.703797</td>\n",
       "      <td>316549.081859</td>\n",
       "      <td>0.0</td>\n",
       "      <td>0.0</td>\n",
       "      <td>0.0</td>\n",
       "      <td>0.0</td>\n",
       "      <td>4479327.0</td>\n",
       "    </tr>\n",
       "    <tr>\n",
       "      <th>0031e83ddef78e57d17ac5dce088627b7745be8ff6cffcbc0a79aff9fedd93f0</th>\n",
       "      <td>395.0</td>\n",
       "      <td>82508.726582</td>\n",
       "      <td>416442.718961</td>\n",
       "      <td>0.0</td>\n",
       "      <td>0.0</td>\n",
       "      <td>0.0</td>\n",
       "      <td>0.0</td>\n",
       "      <td>5826371.0</td>\n",
       "    </tr>\n",
       "    <tr>\n",
       "      <th>0032adaf4a8731b4d6a3fdcba32f9ebdcd336490eda155b9bc5d18de6b65f381</th>\n",
       "      <td>395.0</td>\n",
       "      <td>171152.898734</td>\n",
       "      <td>557435.117722</td>\n",
       "      <td>0.0</td>\n",
       "      <td>0.0</td>\n",
       "      <td>2002.0</td>\n",
       "      <td>99120.5</td>\n",
       "      <td>6445011.0</td>\n",
       "    </tr>\n",
       "  </tbody>\n",
       "</table>\n",
       "</div>"
      ],
      "text/plain": [
       "                                                    count           mean  \\\n",
       "cust_id                                                                    \n",
       "0015cc01f553512007705edf855baa16f1b57a16fb107e0...  395.0    7185.212658   \n",
       "002d6bc6382e759c9a5b6bb2c8dda9add2f38cd87e10ca3...  395.0     635.708861   \n",
       "002f13f534d0bd9fcc1848db3ff5c7b1179d117f8de8055...  395.0   40890.703797   \n",
       "0031e83ddef78e57d17ac5dce088627b7745be8ff6cffcb...  395.0   82508.726582   \n",
       "0032adaf4a8731b4d6a3fdcba32f9ebdcd336490eda155b...  395.0  171152.898734   \n",
       "\n",
       "                                                              std  min  25%  \\\n",
       "cust_id                                                                       \n",
       "0015cc01f553512007705edf855baa16f1b57a16fb107e0...  106154.546178  0.0  0.0   \n",
       "002d6bc6382e759c9a5b6bb2c8dda9add2f38cd87e10ca3...    4564.788273  0.0  0.0   \n",
       "002f13f534d0bd9fcc1848db3ff5c7b1179d117f8de8055...  316549.081859  0.0  0.0   \n",
       "0031e83ddef78e57d17ac5dce088627b7745be8ff6cffcb...  416442.718961  0.0  0.0   \n",
       "0032adaf4a8731b4d6a3fdcba32f9ebdcd336490eda155b...  557435.117722  0.0  0.0   \n",
       "\n",
       "                                                       50%      75%        max  \n",
       "cust_id                                                                         \n",
       "0015cc01f553512007705edf855baa16f1b57a16fb107e0...     0.0      0.0  2084353.0  \n",
       "002d6bc6382e759c9a5b6bb2c8dda9add2f38cd87e10ca3...     0.0      0.0    58370.0  \n",
       "002f13f534d0bd9fcc1848db3ff5c7b1179d117f8de8055...     0.0      0.0  4479327.0  \n",
       "0031e83ddef78e57d17ac5dce088627b7745be8ff6cffcb...     0.0      0.0  5826371.0  \n",
       "0032adaf4a8731b4d6a3fdcba32f9ebdcd336490eda155b...  2002.0  99120.5  6445011.0  "
      ]
     },
     "execution_count": 48,
     "metadata": {},
     "output_type": "execute_result"
    }
   ],
   "source": [
    "from scipy.stats import skew, entropy\n",
    "from numpy import inf\n",
    "\n",
    "#basic stat of transaction\n",
    "dp_pivot = pd.pivot_table(dp_df, values='tx_amt', index=['tx_date'], columns=['cust_id'], aggfunc=np.sum)\n",
    "dp_pivot = dp_pivot.fillna(0)\n",
    "stat = dp_pivot.describe().T\n",
    "stat.head()\n"
   ]
  },
  {
   "cell_type": "code",
   "execution_count": 49,
   "id": "0fc324db",
   "metadata": {
    "colab": {
     "base_uri": "https://localhost:8080/"
    },
    "id": "BPsV0ft2_GFV",
    "outputId": "14662315-0023-4def-8630-998979bd0aca"
   },
   "outputs": [
    {
     "data": {
      "text/plain": [
       "(6196, 8)"
      ]
     },
     "execution_count": 49,
     "metadata": {},
     "output_type": "execute_result"
    }
   ],
   "source": [
    "stat.shape"
   ]
  },
  {
   "cell_type": "code",
   "execution_count": 50,
   "id": "f291eb91",
   "metadata": {
    "colab": {
     "base_uri": "https://localhost:8080/"
    },
    "id": "5Sf19krf35-H",
    "outputId": "e99816c5-01d4-4b34-c471-aecf974f9247"
   },
   "outputs": [
    {
     "name": "stderr",
     "output_type": "stream",
     "text": [
      "C:\\Users\\ASUS\\anaconda3\\lib\\site-packages\\scipy\\stats\\_distn_infrastructure.py:2751: RuntimeWarning: invalid value encountered in true_divide\n",
      "  pk = 1.0*pk / np.sum(pk, axis=axis, keepdims=True)\n"
     ]
    }
   ],
   "source": [
    "#add entropy and skew\n",
    "entropy_day = pd.DataFrame(dp_pivot.apply(entropy),columns=['entropy'])\n",
    "entropy_day[entropy_day == -inf] = 0\n",
    "skew_day = pd.DataFrame(dp_pivot.apply(skew), columns=['skew'])\n",
    "stat = stat.join(entropy_day).join(skew_day)"
   ]
  },
  {
   "cell_type": "code",
   "execution_count": 51,
   "id": "d021f20f",
   "metadata": {
    "colab": {
     "base_uri": "https://localhost:8080/"
    },
    "id": "-E0B-hwH_NAa",
    "outputId": "9f6115c5-7ce4-4121-9801-1d332a037aae",
    "scrolled": true
   },
   "outputs": [
    {
     "data": {
      "text/plain": [
       "(6196, 10)"
      ]
     },
     "execution_count": 51,
     "metadata": {},
     "output_type": "execute_result"
    }
   ],
   "source": [
    "stat.shape"
   ]
  },
  {
   "cell_type": "code",
   "execution_count": 54,
   "id": "57d477e5",
   "metadata": {},
   "outputs": [
    {
     "data": {
      "text/html": [
       "<div>\n",
       "<style scoped>\n",
       "    .dataframe tbody tr th:only-of-type {\n",
       "        vertical-align: middle;\n",
       "    }\n",
       "\n",
       "    .dataframe tbody tr th {\n",
       "        vertical-align: top;\n",
       "    }\n",
       "\n",
       "    .dataframe thead th {\n",
       "        text-align: right;\n",
       "    }\n",
       "</style>\n",
       "<table border=\"1\" class=\"dataframe\">\n",
       "  <thead>\n",
       "    <tr style=\"text-align: right;\">\n",
       "      <th></th>\n",
       "      <th>cust_id</th>\n",
       "      <th>trans_date</th>\n",
       "      <th>trans_no</th>\n",
       "      <th>trade_amount_usd</th>\n",
       "    </tr>\n",
       "  </thead>\n",
       "  <tbody>\n",
       "    <tr>\n",
       "      <th>0</th>\n",
       "      <td>01b1735c3dbf0a35c1c989bb45434ce4326b365b73db06...</td>\n",
       "      <td>148</td>\n",
       "      <td>0</td>\n",
       "      <td>100528.0</td>\n",
       "    </tr>\n",
       "    <tr>\n",
       "      <th>1</th>\n",
       "      <td>01b1735c3dbf0a35c1c989bb45434ce4326b365b73db06...</td>\n",
       "      <td>165</td>\n",
       "      <td>0</td>\n",
       "      <td>100528.0</td>\n",
       "    </tr>\n",
       "    <tr>\n",
       "      <th>2</th>\n",
       "      <td>01b1735c3dbf0a35c1c989bb45434ce4326b365b73db06...</td>\n",
       "      <td>231</td>\n",
       "      <td>0</td>\n",
       "      <td>89479.0</td>\n",
       "    </tr>\n",
       "    <tr>\n",
       "      <th>3</th>\n",
       "      <td>01b1735c3dbf0a35c1c989bb45434ce4326b365b73db06...</td>\n",
       "      <td>291</td>\n",
       "      <td>0</td>\n",
       "      <td>100528.0</td>\n",
       "    </tr>\n",
       "    <tr>\n",
       "      <th>4</th>\n",
       "      <td>01b1735c3dbf0a35c1c989bb45434ce4326b365b73db06...</td>\n",
       "      <td>389</td>\n",
       "      <td>0</td>\n",
       "      <td>30158.0</td>\n",
       "    </tr>\n",
       "    <tr>\n",
       "      <th>...</th>\n",
       "      <td>...</td>\n",
       "      <td>...</td>\n",
       "      <td>...</td>\n",
       "      <td>...</td>\n",
       "    </tr>\n",
       "    <tr>\n",
       "      <th>17162</th>\n",
       "      <td>ff6c1217b5e039fda46bf4dfba2d54291154a1db54c677...</td>\n",
       "      <td>244</td>\n",
       "      <td>0</td>\n",
       "      <td>33788.0</td>\n",
       "    </tr>\n",
       "    <tr>\n",
       "      <th>17163</th>\n",
       "      <td>ff6c1217b5e039fda46bf4dfba2d54291154a1db54c677...</td>\n",
       "      <td>284</td>\n",
       "      <td>4</td>\n",
       "      <td>91318.0</td>\n",
       "    </tr>\n",
       "    <tr>\n",
       "      <th>17164</th>\n",
       "      <td>ff6c1217b5e039fda46bf4dfba2d54291154a1db54c677...</td>\n",
       "      <td>298</td>\n",
       "      <td>0</td>\n",
       "      <td>83201.0</td>\n",
       "    </tr>\n",
       "    <tr>\n",
       "      <th>17165</th>\n",
       "      <td>ff6c1217b5e039fda46bf4dfba2d54291154a1db54c677...</td>\n",
       "      <td>316</td>\n",
       "      <td>0</td>\n",
       "      <td>99233.0</td>\n",
       "    </tr>\n",
       "    <tr>\n",
       "      <th>17166</th>\n",
       "      <td>ff6c1217b5e039fda46bf4dfba2d54291154a1db54c677...</td>\n",
       "      <td>386</td>\n",
       "      <td>0</td>\n",
       "      <td>88236.0</td>\n",
       "    </tr>\n",
       "  </tbody>\n",
       "</table>\n",
       "<p>17167 rows × 4 columns</p>\n",
       "</div>"
      ],
      "text/plain": [
       "                                                 cust_id  trans_date  \\\n",
       "0      01b1735c3dbf0a35c1c989bb45434ce4326b365b73db06...         148   \n",
       "1      01b1735c3dbf0a35c1c989bb45434ce4326b365b73db06...         165   \n",
       "2      01b1735c3dbf0a35c1c989bb45434ce4326b365b73db06...         231   \n",
       "3      01b1735c3dbf0a35c1c989bb45434ce4326b365b73db06...         291   \n",
       "4      01b1735c3dbf0a35c1c989bb45434ce4326b365b73db06...         389   \n",
       "...                                                  ...         ...   \n",
       "17162  ff6c1217b5e039fda46bf4dfba2d54291154a1db54c677...         244   \n",
       "17163  ff6c1217b5e039fda46bf4dfba2d54291154a1db54c677...         284   \n",
       "17164  ff6c1217b5e039fda46bf4dfba2d54291154a1db54c677...         298   \n",
       "17165  ff6c1217b5e039fda46bf4dfba2d54291154a1db54c677...         316   \n",
       "17166  ff6c1217b5e039fda46bf4dfba2d54291154a1db54c677...         386   \n",
       "\n",
       "       trans_no  trade_amount_usd  \n",
       "0             0          100528.0  \n",
       "1             0          100528.0  \n",
       "2             0           89479.0  \n",
       "3             0          100528.0  \n",
       "4             0           30158.0  \n",
       "...         ...               ...  \n",
       "17162         0           33788.0  \n",
       "17163         4           91318.0  \n",
       "17164         0           83201.0  \n",
       "17165         0           99233.0  \n",
       "17166         0           88236.0  \n",
       "\n",
       "[17167 rows x 4 columns]"
      ]
     },
     "execution_count": 54,
     "metadata": {},
     "output_type": "execute_result"
    }
   ],
   "source": [
    "remit_df"
   ]
  },
  {
   "cell_type": "code",
   "execution_count": 55,
   "id": "3edf7e90",
   "metadata": {
    "id": "rcXI2nhx432X"
   },
   "outputs": [],
   "source": [
    "# #add remit data\n",
    "# remit_pivot = pd.pivot_table(remit_df, values='trade_amount_usd', index=['cust_id'], aggfunc=[len, np.mean, np.std, np.sum])\n",
    "# remit_pivot.columns = ['remit_cnt','remit_mean','remit_std','remit_sum']\n",
    "\n",
    "# #add cdtx data\n",
    "# cdtx_df_stat_pivot = pd.pivot_table(cdtx_df, values='amt', index=['cust_id'], aggfunc=[len, np.mean, np.std, np.sum])\n",
    "# cdtx_df_stat_pivot.columns = ['cdtx_cnt','cdtx_mean','cdtx_std','cdtx_sum']\n",
    "\n",
    "# stat = stat.join(remit_pivot).fillna(0)\n",
    "# stat = stat.join(cdtx_df_stat_pivot).fillna(0)\n",
    "# stat = stat.round(3)"
   ]
  },
  {
   "cell_type": "code",
   "execution_count": 56,
   "id": "6901ee9c",
   "metadata": {
    "colab": {
     "base_uri": "https://localhost:8080/"
    },
    "id": "EttneCJ0_R1G",
    "outputId": "48828bdf-1b67-4484-fce0-53041210567f"
   },
   "outputs": [
    {
     "data": {
      "text/plain": [
       "(6196, 10)"
      ]
     },
     "execution_count": 56,
     "metadata": {},
     "output_type": "execute_result"
    }
   ],
   "source": [
    "stat.shape"
   ]
  },
  {
   "cell_type": "code",
   "execution_count": 57,
   "id": "24ee42b5",
   "metadata": {
    "colab": {
     "base_uri": "https://localhost:8080/",
     "height": 302
    },
    "id": "qsPHgUGs5WDn",
    "outputId": "13bc13f3-f1eb-451f-ad7a-b8d91dbc823e"
   },
   "outputs": [
    {
     "data": {
      "text/html": [
       "<div>\n",
       "<style scoped>\n",
       "    .dataframe tbody tr th:only-of-type {\n",
       "        vertical-align: middle;\n",
       "    }\n",
       "\n",
       "    .dataframe tbody tr th {\n",
       "        vertical-align: top;\n",
       "    }\n",
       "\n",
       "    .dataframe thead th {\n",
       "        text-align: right;\n",
       "    }\n",
       "</style>\n",
       "<table border=\"1\" class=\"dataframe\">\n",
       "  <thead>\n",
       "    <tr style=\"text-align: right;\">\n",
       "      <th></th>\n",
       "      <th>count</th>\n",
       "      <th>mean</th>\n",
       "      <th>std</th>\n",
       "      <th>min</th>\n",
       "      <th>25%</th>\n",
       "      <th>50%</th>\n",
       "      <th>75%</th>\n",
       "      <th>max</th>\n",
       "      <th>entropy</th>\n",
       "      <th>skew</th>\n",
       "    </tr>\n",
       "    <tr>\n",
       "      <th>cust_id</th>\n",
       "      <th></th>\n",
       "      <th></th>\n",
       "      <th></th>\n",
       "      <th></th>\n",
       "      <th></th>\n",
       "      <th></th>\n",
       "      <th></th>\n",
       "      <th></th>\n",
       "      <th></th>\n",
       "      <th></th>\n",
       "    </tr>\n",
       "  </thead>\n",
       "  <tbody>\n",
       "    <tr>\n",
       "      <th>0015cc01f553512007705edf855baa16f1b57a16fb107e0882c5cb0535d297a5</th>\n",
       "      <td>395.0</td>\n",
       "      <td>7185.212658</td>\n",
       "      <td>106154.546178</td>\n",
       "      <td>0.0</td>\n",
       "      <td>0.0</td>\n",
       "      <td>0.0</td>\n",
       "      <td>0.0</td>\n",
       "      <td>2084353.0</td>\n",
       "      <td>1.219469</td>\n",
       "      <td>19.100760</td>\n",
       "    </tr>\n",
       "    <tr>\n",
       "      <th>002d6bc6382e759c9a5b6bb2c8dda9add2f38cd87e10ca3efda9a312e97b342c</th>\n",
       "      <td>395.0</td>\n",
       "      <td>635.708861</td>\n",
       "      <td>4564.788273</td>\n",
       "      <td>0.0</td>\n",
       "      <td>0.0</td>\n",
       "      <td>0.0</td>\n",
       "      <td>0.0</td>\n",
       "      <td>58370.0</td>\n",
       "      <td>2.244040</td>\n",
       "      <td>9.555415</td>\n",
       "    </tr>\n",
       "    <tr>\n",
       "      <th>002f13f534d0bd9fcc1848db3ff5c7b1179d117f8de8055b7394696b948ec9b4</th>\n",
       "      <td>395.0</td>\n",
       "      <td>40890.703797</td>\n",
       "      <td>316549.081859</td>\n",
       "      <td>0.0</td>\n",
       "      <td>0.0</td>\n",
       "      <td>0.0</td>\n",
       "      <td>0.0</td>\n",
       "      <td>4479327.0</td>\n",
       "      <td>2.599460</td>\n",
       "      <td>12.728959</td>\n",
       "    </tr>\n",
       "    <tr>\n",
       "      <th>0031e83ddef78e57d17ac5dce088627b7745be8ff6cffcbc0a79aff9fedd93f0</th>\n",
       "      <td>395.0</td>\n",
       "      <td>82508.726582</td>\n",
       "      <td>416442.718961</td>\n",
       "      <td>0.0</td>\n",
       "      <td>0.0</td>\n",
       "      <td>0.0</td>\n",
       "      <td>0.0</td>\n",
       "      <td>5826371.0</td>\n",
       "      <td>3.332620</td>\n",
       "      <td>10.024504</td>\n",
       "    </tr>\n",
       "    <tr>\n",
       "      <th>0032adaf4a8731b4d6a3fdcba32f9ebdcd336490eda155b9bc5d18de6b65f381</th>\n",
       "      <td>395.0</td>\n",
       "      <td>171152.898734</td>\n",
       "      <td>557435.117722</td>\n",
       "      <td>0.0</td>\n",
       "      <td>0.0</td>\n",
       "      <td>2002.0</td>\n",
       "      <td>99120.5</td>\n",
       "      <td>6445011.0</td>\n",
       "      <td>4.118233</td>\n",
       "      <td>6.081807</td>\n",
       "    </tr>\n",
       "  </tbody>\n",
       "</table>\n",
       "</div>"
      ],
      "text/plain": [
       "                                                    count           mean  \\\n",
       "cust_id                                                                    \n",
       "0015cc01f553512007705edf855baa16f1b57a16fb107e0...  395.0    7185.212658   \n",
       "002d6bc6382e759c9a5b6bb2c8dda9add2f38cd87e10ca3...  395.0     635.708861   \n",
       "002f13f534d0bd9fcc1848db3ff5c7b1179d117f8de8055...  395.0   40890.703797   \n",
       "0031e83ddef78e57d17ac5dce088627b7745be8ff6cffcb...  395.0   82508.726582   \n",
       "0032adaf4a8731b4d6a3fdcba32f9ebdcd336490eda155b...  395.0  171152.898734   \n",
       "\n",
       "                                                              std  min  25%  \\\n",
       "cust_id                                                                       \n",
       "0015cc01f553512007705edf855baa16f1b57a16fb107e0...  106154.546178  0.0  0.0   \n",
       "002d6bc6382e759c9a5b6bb2c8dda9add2f38cd87e10ca3...    4564.788273  0.0  0.0   \n",
       "002f13f534d0bd9fcc1848db3ff5c7b1179d117f8de8055...  316549.081859  0.0  0.0   \n",
       "0031e83ddef78e57d17ac5dce088627b7745be8ff6cffcb...  416442.718961  0.0  0.0   \n",
       "0032adaf4a8731b4d6a3fdcba32f9ebdcd336490eda155b...  557435.117722  0.0  0.0   \n",
       "\n",
       "                                                       50%      75%  \\\n",
       "cust_id                                                               \n",
       "0015cc01f553512007705edf855baa16f1b57a16fb107e0...     0.0      0.0   \n",
       "002d6bc6382e759c9a5b6bb2c8dda9add2f38cd87e10ca3...     0.0      0.0   \n",
       "002f13f534d0bd9fcc1848db3ff5c7b1179d117f8de8055...     0.0      0.0   \n",
       "0031e83ddef78e57d17ac5dce088627b7745be8ff6cffcb...     0.0      0.0   \n",
       "0032adaf4a8731b4d6a3fdcba32f9ebdcd336490eda155b...  2002.0  99120.5   \n",
       "\n",
       "                                                          max   entropy  \\\n",
       "cust_id                                                                   \n",
       "0015cc01f553512007705edf855baa16f1b57a16fb107e0...  2084353.0  1.219469   \n",
       "002d6bc6382e759c9a5b6bb2c8dda9add2f38cd87e10ca3...    58370.0  2.244040   \n",
       "002f13f534d0bd9fcc1848db3ff5c7b1179d117f8de8055...  4479327.0  2.599460   \n",
       "0031e83ddef78e57d17ac5dce088627b7745be8ff6cffcb...  5826371.0  3.332620   \n",
       "0032adaf4a8731b4d6a3fdcba32f9ebdcd336490eda155b...  6445011.0  4.118233   \n",
       "\n",
       "                                                         skew  \n",
       "cust_id                                                        \n",
       "0015cc01f553512007705edf855baa16f1b57a16fb107e0...  19.100760  \n",
       "002d6bc6382e759c9a5b6bb2c8dda9add2f38cd87e10ca3...   9.555415  \n",
       "002f13f534d0bd9fcc1848db3ff5c7b1179d117f8de8055...  12.728959  \n",
       "0031e83ddef78e57d17ac5dce088627b7745be8ff6cffcb...  10.024504  \n",
       "0032adaf4a8731b4d6a3fdcba32f9ebdcd336490eda155b...   6.081807  "
      ]
     },
     "execution_count": 57,
     "metadata": {},
     "output_type": "execute_result"
    }
   ],
   "source": [
    "stat.head()"
   ]
  },
  {
   "cell_type": "code",
   "execution_count": 59,
   "id": "a3d78e84",
   "metadata": {
    "id": "njbF7_Nb6jyT"
   },
   "outputs": [],
   "source": [
    "from sklearn.tree import DecisionTreeClassifier\n",
    "from sklearn.model_selection import train_test_split\n",
    "from sklearn.metrics import accuracy_score, precision_score, recall_score, f1_score, confusion_matrix \n",
    "from sklearn.metrics import ConfusionMatrixDisplay\n",
    "from xgboost import XGBClassifier\n",
    "\n",
    "def df_get_dummies(df,columns=[]):\n",
    "  for col in columns:\n",
    "    dummy = pd.get_dummies(df[col].fillna(0).astype(int))\n",
    "    df_dummy = pd.concat([df, dummy], axis=1)\n",
    "    df_dummy = df_dummy.drop(columns=col)\n",
    "    return df_dummy\n",
    "\n",
    "# #How many alert by cust_id\n",
    "# alert_cnt = pd.pivot_table(customer_df, values='alert_key', index=['cust_id'], aggfunc=[len])\n",
    "\n",
    "#clean duplicate cust_id\n",
    "customer_df_unique = customer_df.drop_duplicates(subset=['cust_id'],keep='last')\n",
    "\n",
    "dt_df = customer_df_unique[customer_df_unique.cust_id.isin(stat.index)].set_index('cust_id')\n",
    "dt_df = df_get_dummies(dt_df,['occupation_code']).join(stat)\n",
    "\n",
    "X = dt_df.drop(columns=['alert_key','sar_flag'])\n",
    "y = dt_df[\"sar_flag\"]\n",
    "\n",
    "\n",
    "X = X.fillna(0)\n",
    "X_train, X_test, y_train, y_test = train_test_split(X, y, test_size = 0.2)"
   ]
  },
  {
   "cell_type": "code",
   "execution_count": 77,
   "id": "028cbf5a",
   "metadata": {
    "colab": {
     "base_uri": "https://localhost:8080/",
     "height": 438
    },
    "id": "USMONC-K5aXA",
    "outputId": "b39b5c41-e0af-4a2f-d98b-e4c17fa3919f"
   },
   "outputs": [
    {
     "name": "stdout",
     "output_type": "stream",
     "text": [
      "precision:  0.04477611940298507\n",
      "recall:  0.09090909090909091\n",
      "f1 score:  0.06\n"
     ]
    },
    {
     "data": {
      "text/plain": [
       "<sklearn.metrics._plot.confusion_matrix.ConfusionMatrixDisplay at 0x1d9d41f1d60>"
      ]
     },
     "execution_count": 77,
     "metadata": {},
     "output_type": "execute_result"
    },
    {
     "data": {
      "image/png": "[encoded data removed]",
      "text/plain": [
       "<Figure size 432x288 with 2 Axes>"
      ]
     },
     "metadata": {
      "needs_background": "light"
     },
     "output_type": "display_data"
    }
   ],
   "source": [
    "#Decision Tree\n",
    "dtc = DecisionTreeClassifier()\n",
    "model = dtc.fit(X_train, y_train)\n",
    "\n",
    "y_predict = model.predict(X_test)\n",
    "\n",
    "print(\"precision: \", precision_score(y_test, y_predict))\n",
    "print(\"recall: \", recall_score(y_test, y_predict))\n",
    "print(\"f1 score: \", f1_score(y_test, y_predict))\n",
    "\n",
    "cm = confusion_matrix(y_test, y_predict)\n",
    "display = ConfusionMatrixDisplay(confusion_matrix = cm)\n",
    "display.plot()"
   ]
  },
  {
   "cell_type": "code",
   "execution_count": 81,
   "id": "8b67f07d",
   "metadata": {
    "colab": {
     "base_uri": "https://localhost:8080/",
     "height": 348
    },
    "id": "Hip8Ur3AFz62",
    "outputId": "2863e252-1f17-417b-9c04-d1caa73c7333",
    "scrolled": true
   },
   "outputs": [
    {
     "name": "stderr",
     "output_type": "stream",
     "text": [
      "C:\\Users\\ASUS\\anaconda3\\lib\\site-packages\\xgboost\\sklearn.py:1224: UserWarning: The use of label encoder in XGBClassifier is deprecated and will be removed in a future release. To remove this warning, do the following: 1) Pass option use_label_encoder=False when constructing XGBClassifier object; and 2) Encode your labels (y) as integers starting with 0, i.e. 0, 1, 2, ..., [num_class - 1].\n",
      "  warnings.warn(label_encoder_deprecation_msg, UserWarning)\n"
     ]
    },
    {
     "name": "stdout",
     "output_type": "stream",
     "text": [
      "[16:15:12] WARNING: C:/Users/Administrator/workspace/xgboost-win64_release_1.5.1/src/learner.cc:1115: Starting in XGBoost 1.3.0, the default evaluation metric used with the objective 'binary:logistic' was changed from 'error' to 'logloss'. Explicitly set eval_metric if you'd like to restore the old behavior.\n",
      "precision:  0.0\n",
      "recall:  0.0\n",
      "f1 score:  0.0\n"
     ]
    },
    {
     "data": {
      "text/plain": [
       "<sklearn.metrics._plot.confusion_matrix.ConfusionMatrixDisplay at 0x1d9d399c520>"
      ]
     },
     "execution_count": 81,
     "metadata": {},
     "output_type": "execute_result"
    },
    {
     "data": {
      "image/png": "[encoded data removed]",
      "text/plain": [
       "<Figure size 432x288 with 2 Axes>"
      ]
     },
     "metadata": {
      "needs_background": "light"
     },
     "output_type": "display_data"
    }
   ],
   "source": [
    "#Xgboost\n",
    "xgb = XGBClassifier(n_estimators=100, learning_rate= 0.001)\n",
    "\n",
    "xgb.fit(X_train, y_train)\n",
    "\n",
    "y_predict = xgb.predict(X_test)\n",
    "\n",
    "print(\"precision: \", precision_score(y_test, y_predict))\n",
    "print(\"recall: \", recall_score(y_test, y_predict))\n",
    "print(\"f1 score: \", f1_score(y_test, y_predict))\n",
    "\n",
    "cm = confusion_matrix(y_test, y_predict)\n",
    "display = ConfusionMatrixDisplay(confusion_matrix = cm)\n",
    "display.plot()"
   ]
  },
  {
   "cell_type": "code",
   "execution_count": 83,
   "id": "fcabfed5",
   "metadata": {},
   "outputs": [
    {
     "name": "stdout",
     "output_type": "stream",
     "text": [
      "0.047227678285391206\n"
     ]
    },
    {
     "name": "stderr",
     "output_type": "stream",
     "text": [
      "C:\\Users\\ASUS\\anaconda3\\lib\\site-packages\\sklearn\\linear_model\\_ridge.py:147: LinAlgWarning: Ill-conditioned matrix (rcond=2.30065e-19): result may not be accurate.\n",
      "  return linalg.solve(A, Xy, sym_pos=True,\n"
     ]
    }
   ],
   "source": [
    "#Ridge\n",
    "from sklearn.linear_model import Ridge\n",
    "clf = Ridge(alpha=1.0)\n",
    "\n",
    "clf.fit(X_train, y_train)\n",
    "\n",
    "y_predict = clf.predict(X_test)\n",
    "\n",
    "# print(\"precision: \", precision_score(y_test, y_predict))\n",
    "# print(\"recall: \", recall_score(y_test, y_predict))\n",
    "# print(\"f1 score: \", f1_score(y_test, y_predict))\n",
    "\n",
    "# cm = confusion_matrix(y_test, y_predict)\n",
    "# display = ConfusionMatrixDisplay(confusion_matrix = cm)\n",
    "# display.plot()\n",
    "print(clf.score(X_train, y_train, sample_weight=None))"
   ]
  },
  {
   "cell_type": "code",
   "execution_count": 457,
   "id": "ac4f73c2",
   "metadata": {
    "colab": {
     "base_uri": "https://localhost:8080/",
     "height": 282
    },
    "id": "Lx3ze9sKfV5s",
    "outputId": "9533bead-85ff-4e9b-f5e9-4dde33cd32e8"
   },
   "outputs": [
    {
     "data": {
      "text/plain": [
       "[<matplotlib.lines.Line2D at 0x7ff2dddae820>]"
      ]
     },
     "execution_count": 457,
     "metadata": {},
     "output_type": "execute_result"
    },
    {
     "data": {
      "image/png": "[encoded data removed]",
      "text/plain": [
       "<Figure size 432x288 with 1 Axes>"
      ]
     },
     "metadata": {
      "needs_background": "light"
     },
     "output_type": "display_data"
    }
   ],
   "source": [
    "score = pd.DataFrame(xgb.predict_proba(X_test),columns=['nosar','sar'])\n",
    "score['Y'] = y_test.values\n",
    "score['Y_pred'] = y_predict\n",
    "score = score.sort_values('sar',ascending=False)\n",
    "plt.plot(list(score['Y'].cumsum()))"
   ]
  },
  {
   "cell_type": "code",
   "execution_count": 458,
   "id": "54f03b30",
   "metadata": {
    "colab": {
     "base_uri": "https://localhost:8080/"
    },
    "id": "PA5s7Q6cF-Ty",
    "outputId": "c7376dc4-65ad-4af7-adfa-527e080b063e"
   },
   "outputs": [
    {
     "name": "stderr",
     "output_type": "stream",
     "text": [
      "/usr/local/lib/python3.8/dist-packages/sklearn/utils/validation.py:1688: FutureWarning: Feature names only support names that are all strings. Got feature names with dtypes: ['int', 'str']. An error will be raised in 1.2.\n",
      "  warnings.warn(\n"
     ]
    },
    {
     "data": {
      "text/plain": [
       "OneClassSVM(gamma=0.1, nu=0.05)"
      ]
     },
     "execution_count": 458,
     "metadata": {},
     "output_type": "execute_result"
    }
   ],
   "source": [
    "#One-class SVM\n",
    "from sklearn import svm\n",
    "\n",
    "X_oc = X.join(y)\n",
    "\n",
    "X_good = X_oc[X_oc.sar_flag == 0].drop(columns=[\"sar_flag\"])\n",
    "X_sar = X_oc[X_oc.sar_flag == 1].drop(columns=[\"sar_flag\"])\n",
    "\n",
    "X_good_train, X_good_test = train_test_split(X_good,  test_size = 0.2)\n",
    "\n",
    "# fit model nu: An upper bound on the fraction of training errors and a lower bound of the fraction of support vectors. Should be in the interval (0, 1]. \n",
    "clf = svm.OneClassSVM(nu=0.05, kernel=\"rbf\", gamma=0.1)\n",
    "clf.fit(X_good_train)"
   ]
  },
  {
   "cell_type": "code",
   "execution_count": 400,
   "id": "e83eb576",
   "metadata": {
    "colab": {
     "base_uri": "https://localhost:8080/"
    },
    "id": "EFg57npQG_C-",
    "outputId": "807e60a1-e4c6-42d2-8815-fafe1b657a6c"
   },
   "outputs": [
    {
     "name": "stderr",
     "output_type": "stream",
     "text": [
      "/usr/local/lib/python3.8/dist-packages/sklearn/utils/validation.py:1688: FutureWarning: Feature names only support names that are all strings. Got feature names with dtypes: ['int', 'str']. An error will be raised in 1.2.\n",
      "  warnings.warn(\n",
      "/usr/local/lib/python3.8/dist-packages/sklearn/utils/validation.py:1688: FutureWarning: Feature names only support names that are all strings. Got feature names with dtypes: ['int', 'str']. An error will be raised in 1.2.\n",
      "  warnings.warn(\n",
      "/usr/local/lib/python3.8/dist-packages/sklearn/utils/validation.py:1688: FutureWarning: Feature names only support names that are all strings. Got feature names with dtypes: ['int', 'str']. An error will be raised in 1.2.\n",
      "  warnings.warn(\n"
     ]
    }
   ],
   "source": [
    "y_pred_train = clf.predict(X_good_train) \n",
    "y_pred_test = clf.predict(X_good_test)   \n",
    "y_pred_outliers = clf.predict(X_sar)\n",
    "n_error_train = y_pred_train[y_pred_train == -1].size\n",
    "n_error_test = y_pred_test[y_pred_test == -1].size\n",
    "n_error_outliers = y_pred_outliers[y_pred_outliers == 1].size "
   ]
  },
  {
   "cell_type": "code",
   "execution_count": 401,
   "id": "e8f55b52",
   "metadata": {
    "colab": {
     "base_uri": "https://localhost:8080/"
    },
    "id": "G9U4T83TH1CV",
    "outputId": "73353f3f-9070-4e6d-9b9c-a5d49a1f651a"
   },
   "outputs": [
    {
     "name": "stdout",
     "output_type": "stream",
     "text": [
      "training_acc: 0.2645729778581112\n"
     ]
    }
   ],
   "source": [
    "print('training_acc:',1-n_error_train/len(X_good_train))"
   ]
  },
  {
   "cell_type": "code",
   "execution_count": 403,
   "id": "de3eebfe",
   "metadata": {
    "colab": {
     "base_uri": "https://localhost:8080/",
     "height": 366
    },
    "id": "S82CVHQNJxht",
    "outputId": "68754fd4-858a-4b5a-f3b6-e96cd0f68845"
   },
   "outputs": [
    {
     "name": "stdout",
     "output_type": "stream",
     "text": [
      "accuracy_score:  0.1721556886227545\n",
      "precision:  0.17153558052434456\n",
      "recall:  1.0\n",
      "f1 score:  0.2928388746803069\n"
     ]
    },
    {
     "data": {
      "text/plain": [
       "<sklearn.metrics._plot.confusion_matrix.ConfusionMatrixDisplay at 0x7ff2e0343100>"
      ]
     },
     "execution_count": 403,
     "metadata": {},
     "output_type": "execute_result"
    },
    {
     "data": {
      "image/png": "[encoded data removed]",
      "text/plain": [
       "<Figure size 432x288 with 2 Axes>"
      ]
     },
     "metadata": {
      "needs_background": "light"
     },
     "output_type": "display_data"
    }
   ],
   "source": [
    "y_predict = list(y_pred_test)+list(y_pred_outliers)\n",
    "y_predict = [1 if i == -1 else 0 for i in y_predict]\n",
    "y_test = [0]*len(X_good_test) + [1]*len(X_sar)\n",
    "\n",
    "accuracy_score\n",
    "print(\"accuracy_score: \", accuracy_score(y_test, y_predict))\n",
    "print(\"precision: \", precision_score(y_test, y_predict))\n",
    "print(\"recall: \", recall_score(y_test, y_predict))\n",
    "print(\"f1 score: \", f1_score(y_test, y_predict))\n",
    "\n",
    "cm = confusion_matrix(y_test, y_predict)\n",
    "display = ConfusionMatrixDisplay(confusion_matrix = cm)\n",
    "display.plot()"
   ]
  },
  {
   "cell_type": "code",
   "execution_count": 405,
   "id": "700877c6",
   "metadata": {
    "colab": {
     "base_uri": "https://localhost:8080/",
     "height": 372
    },
    "id": "wq7jnkidOdRM",
    "outputId": "000987aa-6504-4304-e316-df29ea40a418"
   },
   "outputs": [
    {
     "name": "stderr",
     "output_type": "stream",
     "text": [
      "/usr/local/lib/python3.8/dist-packages/sklearn/utils/validation.py:1688: FutureWarning: Feature names only support names that are all strings. Got feature names with dtypes: ['int', 'str']. An error will be raised in 1.2.\n",
      "  warnings.warn(\n",
      "/usr/local/lib/python3.8/dist-packages/sklearn/utils/validation.py:1688: FutureWarning: Feature names only support names that are all strings. Got feature names with dtypes: ['int', 'str']. An error will be raised in 1.2.\n",
      "  warnings.warn(\n"
     ]
    },
    {
     "data": {
      "text/plain": [
       "[<matplotlib.lines.Line2D at 0x7ff2e0318520>]"
      ]
     },
     "execution_count": 405,
     "metadata": {},
     "output_type": "execute_result"
    },
    {
     "data": {
      "image/png": "[encoded data removed]",
      "text/plain": [
       "<Figure size 432x288 with 1 Axes>"
      ]
     },
     "metadata": {
      "needs_background": "light"
     },
     "output_type": "display_data"
    }
   ],
   "source": [
    "score = pd.DataFrame({'score':list(clf.score_samples(X_good_test))+list(clf.score_samples(X_sar))})\n",
    "score['Y'] = y_test\n",
    "score = score.sort_values('score',ascending=False)\n",
    "plt.plot(list(score['Y'].cumsum()))"
   ]
  },
  {
   "cell_type": "markdown",
   "id": "171ed3e0",
   "metadata": {
    "id": "scLwkv4_g3V0"
   },
   "source": [
    "# make public prediction"
   ]
  },
  {
   "cell_type": "code",
   "execution_count": 436,
   "id": "89e24e18",
   "metadata": {
    "colab": {
     "base_uri": "https://localhost:8080/",
     "height": 206
    },
    "id": "HWWx5HDWg5BE",
    "outputId": "ffc12684-1228-4521-ca8d-c42a794eebc6"
   },
   "outputs": [
    {
     "data": {
      "text/html": [
       "\n",
       "  <div id=\"df-e454b3de-8976-4c3e-84ea-ee0d125b1f64\">\n",
       "    <div class=\"colab-df-container\">\n",
       "      <div>\n",
       "<style scoped>\n",
       "    .dataframe tbody tr th:only-of-type {\n",
       "        vertical-align: middle;\n",
       "    }\n",
       "\n",
       "    .dataframe tbody tr th {\n",
       "        vertical-align: top;\n",
       "    }\n",
       "\n",
       "    .dataframe thead th {\n",
       "        text-align: right;\n",
       "    }\n",
       "</style>\n",
       "<table border=\"1\" class=\"dataframe\">\n",
       "  <thead>\n",
       "    <tr style=\"text-align: right;\">\n",
       "      <th></th>\n",
       "      <th>alert_key</th>\n",
       "      <th>probability</th>\n",
       "    </tr>\n",
       "  </thead>\n",
       "  <tbody>\n",
       "    <tr>\n",
       "      <th>0</th>\n",
       "      <td>357307</td>\n",
       "      <td>0.000017</td>\n",
       "    </tr>\n",
       "    <tr>\n",
       "      <th>1</th>\n",
       "      <td>376329</td>\n",
       "      <td>0.000324</td>\n",
       "    </tr>\n",
       "    <tr>\n",
       "      <th>2</th>\n",
       "      <td>373644</td>\n",
       "      <td>0.000372</td>\n",
       "    </tr>\n",
       "    <tr>\n",
       "      <th>3</th>\n",
       "      <td>357668</td>\n",
       "      <td>0.000489</td>\n",
       "    </tr>\n",
       "    <tr>\n",
       "      <th>4</th>\n",
       "      <td>354443</td>\n",
       "      <td>0.000526</td>\n",
       "    </tr>\n",
       "  </tbody>\n",
       "</table>\n",
       "</div>\n",
       "      <button class=\"colab-df-convert\" onclick=\"convertToInteractive('df-e454b3de-8976-4c3e-84ea-ee0d125b1f64')\"\n",
       "              title=\"Convert this dataframe to an interactive table.\"\n",
       "              style=\"display:none;\">\n",
       "        \n",
       "  <svg xmlns=\"http://www.w3.org/2000/svg\" height=\"24px\"viewBox=\"0 0 24 24\"\n",
       "       width=\"24px\">\n",
       "    <path d=\"M0 0h24v24H0V0z\" fill=\"none\"/>\n",
       "    <path d=\"M18.56 5.44l.94 2.06.94-2.06 2.06-.94-2.06-.94-.94-2.06-.94 2.06-2.06.94zm-11 1L8.5 8.5l.94-2.06 2.06-.94-2.06-.94L8.5 2.5l-.94 2.06-2.06.94zm10 10l.94 2.06.94-2.06 2.06-.94-2.06-.94-.94-2.06-.94 2.06-2.06.94z\"/><path d=\"M17.41 7.96l-1.37-1.37c-.4-.4-.92-.59-1.43-.59-.52 0-1.04.2-1.43.59L10.3 9.45l-7.72 7.72c-.78.78-.78 2.05 0 2.83L4 21.41c.39.39.9.59 1.41.59.51 0 1.02-.2 1.41-.59l7.78-7.78 2.81-2.81c.8-.78.8-2.07 0-2.86zM5.41 20L4 18.59l7.72-7.72 1.47 1.35L5.41 20z\"/>\n",
       "  </svg>\n",
       "      </button>\n",
       "      \n",
       "  <style>\n",
       "    .colab-df-container {\n",
       "      display:flex;\n",
       "      flex-wrap:wrap;\n",
       "      gap: 12px;\n",
       "    }\n",
       "\n",
       "    .colab-df-convert {\n",
       "      background-color: #E8F0FE;\n",
       "      border: none;\n",
       "      border-radius: 50%;\n",
       "      cursor: pointer;\n",
       "      display: none;\n",
       "      fill: #1967D2;\n",
       "      height: 32px;\n",
       "      padding: 0 0 0 0;\n",
       "      width: 32px;\n",
       "    }\n",
       "\n",
       "    .colab-df-convert:hover {\n",
       "      background-color: #E2EBFA;\n",
       "      box-shadow: 0px 1px 2px rgba(60, 64, 67, 0.3), 0px 1px 3px 1px rgba(60, 64, 67, 0.15);\n",
       "      fill: #174EA6;\n",
       "    }\n",
       "\n",
       "    [theme=dark] .colab-df-convert {\n",
       "      background-color: #3B4455;\n",
       "      fill: #D2E3FC;\n",
       "    }\n",
       "\n",
       "    [theme=dark] .colab-df-convert:hover {\n",
       "      background-color: #434B5C;\n",
       "      box-shadow: 0px 1px 3px 1px rgba(0, 0, 0, 0.15);\n",
       "      filter: drop-shadow(0px 1px 2px rgba(0, 0, 0, 0.3));\n",
       "      fill: #FFFFFF;\n",
       "    }\n",
       "  </style>\n",
       "\n",
       "      <script>\n",
       "        const buttonEl =\n",
       "          document.querySelector('#df-e454b3de-8976-4c3e-84ea-ee0d125b1f64 button.colab-df-convert');\n",
       "        buttonEl.style.display =\n",
       "          google.colab.kernel.accessAllowed ? 'block' : 'none';\n",
       "\n",
       "        async function convertToInteractive(key) {\n",
       "          const element = document.querySelector('#df-e454b3de-8976-4c3e-84ea-ee0d125b1f64');\n",
       "          const dataTable =\n",
       "            await google.colab.kernel.invokeFunction('convertToInteractive',\n",
       "                                                     [key], {});\n",
       "          if (!dataTable) return;\n",
       "\n",
       "          const docLinkHtml = 'Like what you see? Visit the ' +\n",
       "            '<a target=\"_blank\" href=https://colab.research.google.com/notebooks/data_table.ipynb>data table notebook</a>'\n",
       "            + ' to learn more about interactive tables.';\n",
       "          element.innerHTML = '';\n",
       "          dataTable['output_type'] = 'display_data';\n",
       "          await google.colab.output.renderOutput(dataTable, element);\n",
       "          const docLink = document.createElement('div');\n",
       "          docLink.innerHTML = docLinkHtml;\n",
       "          element.appendChild(docLink);\n",
       "        }\n",
       "      </script>\n",
       "    </div>\n",
       "  </div>\n",
       "  "
      ],
      "text/plain": [
       "   alert_key  probability\n",
       "0     357307     0.000017\n",
       "1     376329     0.000324\n",
       "2     373644     0.000372\n",
       "3     357668     0.000489\n",
       "4     354443     0.000526"
      ]
     },
     "execution_count": 436,
     "metadata": {},
     "output_type": "execute_result"
    }
   ],
   "source": [
    "public = pd.read_csv('./public_alert.csv')\n",
    "custinfo_df_raw = pd.read_csv(\"./public_train_x_custinfo_full_hashed.csv\")\n",
    "public_key = list(public.alert_key)\n",
    "cust_alert_dict = (custinfo_df[['cust_id','alert_key']].set_index('alert_key')).to_dict()\n",
    "public.head()"
   ]
  },
  {
   "cell_type": "code",
   "execution_count": 408,
   "id": "26387187",
   "metadata": {
    "collapsed": true,
    "id": "tegeZcFG7kAI"
   },
   "outputs": [],
   "source": [
    "customer_df_unique = customer_df.drop_duplicates(subset=['cust_id'],keep='last')\n",
    "\n",
    "dt_df = customer_df_unique[customer_df_unique.cust_id.isin(stat.index)].set_index('cust_id')\n",
    "dt_df = df_get_dummies(dt_df,['occupation_code']).join(stat)\n",
    "\n",
    "X = dt_df.drop(columns=['alert_key','sar_flag'])\n",
    "y = dt_df[\"sar_flag\"]"
   ]
  },
  {
   "cell_type": "code",
   "execution_count": 431,
   "id": "f43345e5",
   "metadata": {
    "collapsed": true,
    "id": "eaNEGIIoijxl"
   },
   "outputs": [],
   "source": [
    "dt_df_public = custinfo_df_raw.set_index('cust_id')\n",
    "dt_df_public = df_get_dummies(dt_df_public,['occupation_code']).join(stat)\n",
    "\n",
    "X_public = dt_df_public[dt_df_public.alert_key.isin(public_key)]\n",
    "alert_key_save = X_public.alert_key\n",
    "X_public = X_public.drop(columns=\"alert_key\")\n",
    "X_public = X_public[X.columns]\n",
    "\n",
    "X_public = X_public.fillna(0)"
   ]
  },
  {
   "cell_type": "code",
   "execution_count": 432,
   "id": "ac9f5fb2",
   "metadata": {
    "colab": {
     "base_uri": "https://localhost:8080/"
    },
    "id": "syIt8gakvp2E",
    "outputId": "2c5b745d-9102-42d6-8c61-57e81878f754"
   },
   "outputs": [
    {
     "name": "stdout",
     "output_type": "stream",
     "text": [
      "public key len: 3850\n",
      "cust_info intersaction: 1845\n",
      "dp intersaction: 706\n",
      "cdtx intersaction: 167\n",
      "X_shape: (1845, 36)\n"
     ]
    }
   ],
   "source": [
    "print('public key len:',len(public))\n",
    "print('cust_info intersaction:',len(alert_key_save))\n",
    "print('dp intersaction:', len(list(set(dp_pivot.columns) & set(dt_df_public[dt_df_public.alert_key.isin(public_key)].index))))\n",
    "print('cdtx intersaction:', len(list(set(cdtx_pivot.columns) & set(dt_df_public[dt_df_public.alert_key.isin(public_key)].index))))\n",
    "print('X_shape:',X_public.shape)"
   ]
  },
  {
   "cell_type": "code",
   "execution_count": 438,
   "id": "9aaf83f9",
   "metadata": {
    "colab": {
     "base_uri": "https://localhost:8080/",
     "height": 424
    },
    "id": "M-w8oGWEnyb5",
    "outputId": "15e58686-2d48-47be-8b45-4135ab18d765"
   },
   "outputs": [
    {
     "data": {
      "text/html": [
       "\n",
       "  <div id=\"df-4b60fe91-0d3b-480c-9086-fb83838ebd00\">\n",
       "    <div class=\"colab-df-container\">\n",
       "      <div>\n",
       "<style scoped>\n",
       "    .dataframe tbody tr th:only-of-type {\n",
       "        vertical-align: middle;\n",
       "    }\n",
       "\n",
       "    .dataframe tbody tr th {\n",
       "        vertical-align: top;\n",
       "    }\n",
       "\n",
       "    .dataframe thead th {\n",
       "        text-align: right;\n",
       "    }\n",
       "</style>\n",
       "<table border=\"1\" class=\"dataframe\">\n",
       "  <thead>\n",
       "    <tr style=\"text-align: right;\">\n",
       "      <th></th>\n",
       "      <th>nosar</th>\n",
       "      <th>sar</th>\n",
       "      <th>alert_key</th>\n",
       "    </tr>\n",
       "  </thead>\n",
       "  <tbody>\n",
       "    <tr>\n",
       "      <th>1311</th>\n",
       "      <td>0.476648</td>\n",
       "      <td>0.523352</td>\n",
       "      <td>354569</td>\n",
       "    </tr>\n",
       "    <tr>\n",
       "      <th>233</th>\n",
       "      <td>0.476648</td>\n",
       "      <td>0.523352</td>\n",
       "      <td>362851</td>\n",
       "    </tr>\n",
       "    <tr>\n",
       "      <th>713</th>\n",
       "      <td>0.476648</td>\n",
       "      <td>0.523352</td>\n",
       "      <td>364687</td>\n",
       "    </tr>\n",
       "    <tr>\n",
       "      <th>712</th>\n",
       "      <td>0.476648</td>\n",
       "      <td>0.523352</td>\n",
       "      <td>364314</td>\n",
       "    </tr>\n",
       "    <tr>\n",
       "      <th>711</th>\n",
       "      <td>0.476648</td>\n",
       "      <td>0.523352</td>\n",
       "      <td>363764</td>\n",
       "    </tr>\n",
       "    <tr>\n",
       "      <th>...</th>\n",
       "      <td>...</td>\n",
       "      <td>...</td>\n",
       "      <td>...</td>\n",
       "    </tr>\n",
       "    <tr>\n",
       "      <th>884</th>\n",
       "      <td>0.545411</td>\n",
       "      <td>0.454589</td>\n",
       "      <td>360077</td>\n",
       "    </tr>\n",
       "    <tr>\n",
       "      <th>883</th>\n",
       "      <td>0.545411</td>\n",
       "      <td>0.454589</td>\n",
       "      <td>356420</td>\n",
       "    </tr>\n",
       "    <tr>\n",
       "      <th>882</th>\n",
       "      <td>0.545411</td>\n",
       "      <td>0.454589</td>\n",
       "      <td>360789</td>\n",
       "    </tr>\n",
       "    <tr>\n",
       "      <th>881</th>\n",
       "      <td>0.545411</td>\n",
       "      <td>0.454589</td>\n",
       "      <td>364693</td>\n",
       "    </tr>\n",
       "    <tr>\n",
       "      <th>1844</th>\n",
       "      <td>0.545411</td>\n",
       "      <td>0.454589</td>\n",
       "      <td>357715</td>\n",
       "    </tr>\n",
       "  </tbody>\n",
       "</table>\n",
       "<p>1845 rows × 3 columns</p>\n",
       "</div>\n",
       "      <button class=\"colab-df-convert\" onclick=\"convertToInteractive('df-4b60fe91-0d3b-480c-9086-fb83838ebd00')\"\n",
       "              title=\"Convert this dataframe to an interactive table.\"\n",
       "              style=\"display:none;\">\n",
       "        \n",
       "  <svg xmlns=\"http://www.w3.org/2000/svg\" height=\"24px\"viewBox=\"0 0 24 24\"\n",
       "       width=\"24px\">\n",
       "    <path d=\"M0 0h24v24H0V0z\" fill=\"none\"/>\n",
       "    <path d=\"M18.56 5.44l.94 2.06.94-2.06 2.06-.94-2.06-.94-.94-2.06-.94 2.06-2.06.94zm-11 1L8.5 8.5l.94-2.06 2.06-.94-2.06-.94L8.5 2.5l-.94 2.06-2.06.94zm10 10l.94 2.06.94-2.06 2.06-.94-2.06-.94-.94-2.06-.94 2.06-2.06.94z\"/><path d=\"M17.41 7.96l-1.37-1.37c-.4-.4-.92-.59-1.43-.59-.52 0-1.04.2-1.43.59L10.3 9.45l-7.72 7.72c-.78.78-.78 2.05 0 2.83L4 21.41c.39.39.9.59 1.41.59.51 0 1.02-.2 1.41-.59l7.78-7.78 2.81-2.81c.8-.78.8-2.07 0-2.86zM5.41 20L4 18.59l7.72-7.72 1.47 1.35L5.41 20z\"/>\n",
       "  </svg>\n",
       "      </button>\n",
       "      \n",
       "  <style>\n",
       "    .colab-df-container {\n",
       "      display:flex;\n",
       "      flex-wrap:wrap;\n",
       "      gap: 12px;\n",
       "    }\n",
       "\n",
       "    .colab-df-convert {\n",
       "      background-color: #E8F0FE;\n",
       "      border: none;\n",
       "      border-radius: 50%;\n",
       "      cursor: pointer;\n",
       "      display: none;\n",
       "      fill: #1967D2;\n",
       "      height: 32px;\n",
       "      padding: 0 0 0 0;\n",
       "      width: 32px;\n",
       "    }\n",
       "\n",
       "    .colab-df-convert:hover {\n",
       "      background-color: #E2EBFA;\n",
       "      box-shadow: 0px 1px 2px rgba(60, 64, 67, 0.3), 0px 1px 3px 1px rgba(60, 64, 67, 0.15);\n",
       "      fill: #174EA6;\n",
       "    }\n",
       "\n",
       "    [theme=dark] .colab-df-convert {\n",
       "      background-color: #3B4455;\n",
       "      fill: #D2E3FC;\n",
       "    }\n",
       "\n",
       "    [theme=dark] .colab-df-convert:hover {\n",
       "      background-color: #434B5C;\n",
       "      box-shadow: 0px 1px 3px 1px rgba(0, 0, 0, 0.15);\n",
       "      filter: drop-shadow(0px 1px 2px rgba(0, 0, 0, 0.3));\n",
       "      fill: #FFFFFF;\n",
       "    }\n",
       "  </style>\n",
       "\n",
       "      <script>\n",
       "        const buttonEl =\n",
       "          document.querySelector('#df-4b60fe91-0d3b-480c-9086-fb83838ebd00 button.colab-df-convert');\n",
       "        buttonEl.style.display =\n",
       "          google.colab.kernel.accessAllowed ? 'block' : 'none';\n",
       "\n",
       "        async function convertToInteractive(key) {\n",
       "          const element = document.querySelector('#df-4b60fe91-0d3b-480c-9086-fb83838ebd00');\n",
       "          const dataTable =\n",
       "            await google.colab.kernel.invokeFunction('convertToInteractive',\n",
       "                                                     [key], {});\n",
       "          if (!dataTable) return;\n",
       "\n",
       "          const docLinkHtml = 'Like what you see? Visit the ' +\n",
       "            '<a target=\"_blank\" href=https://colab.research.google.com/notebooks/data_table.ipynb>data table notebook</a>'\n",
       "            + ' to learn more about interactive tables.';\n",
       "          element.innerHTML = '';\n",
       "          dataTable['output_type'] = 'display_data';\n",
       "          await google.colab.output.renderOutput(dataTable, element);\n",
       "          const docLink = document.createElement('div');\n",
       "          docLink.innerHTML = docLinkHtml;\n",
       "          element.appendChild(docLink);\n",
       "        }\n",
       "      </script>\n",
       "    </div>\n",
       "  </div>\n",
       "  "
      ],
      "text/plain": [
       "         nosar       sar  alert_key\n",
       "1311  0.476648  0.523352     354569\n",
       "233   0.476648  0.523352     362851\n",
       "713   0.476648  0.523352     364687\n",
       "712   0.476648  0.523352     364314\n",
       "711   0.476648  0.523352     363764\n",
       "...        ...       ...        ...\n",
       "884   0.545411  0.454589     360077\n",
       "883   0.545411  0.454589     356420\n",
       "882   0.545411  0.454589     360789\n",
       "881   0.545411  0.454589     364693\n",
       "1844  0.545411  0.454589     357715\n",
       "\n",
       "[1845 rows x 3 columns]"
      ]
     },
     "execution_count": 438,
     "metadata": {},
     "output_type": "execute_result"
    }
   ],
   "source": [
    "score_public = pd.DataFrame(xgb.predict_proba(X_public),columns=['nosar','sar'])\n",
    "score_public['alert_key'] = alert_key_save.values\n",
    "score_public = score_public.drop_duplicates()\n",
    "score_public.sort_values('sar',ascending=False)"
   ]
  },
  {
   "cell_type": "code",
   "execution_count": 244,
   "id": "d8e3c2c3",
   "metadata": {
    "collapsed": true,
    "id": "rNfLuXQWqElW"
   },
   "outputs": [],
   "source": [
    "score.to_csv('./preiction_result.csv')"
   ]
  }
 ],
 "metadata": {
  "anaconda-cloud": {},
  "colab": {
   "provenance": []
  },
  "gpuClass": "standard",
  "kernelspec": {
   "display_name": "Python 3 (ipykernel)",
   "language": "python",
   "name": "python3"
  },
  "language_info": {
   "codemirror_mode": {
    "name": "ipython",
    "version": 3
   },
   "file_extension": ".py",
   "mimetype": "text/x-python",
   "name": "python",
   "nbconvert_exporter": "python",
   "pygments_lexer": "ipython3",
   "version": "3.8.5"
  }
 },
 "nbformat": 4,
 "nbformat_minor": 5
}
